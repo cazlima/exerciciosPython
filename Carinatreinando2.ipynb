{
  "cells": [
    {
      "cell_type": "markdown",
      "metadata": {
        "id": "view-in-github",
        "colab_type": "text"
      },
      "source": [
        "<a href=\"https://colab.research.google.com/github/cazlima/exerciciosPython/blob/main/Carinatreinando2.ipynb\" target=\"_parent\"><img src=\"https://colab.research.google.com/assets/colab-badge.svg\" alt=\"Open In Colab\"/></a>"
      ]
    },
    {
      "cell_type": "markdown",
      "source": [
        "# Aula 9\n",
        "## Exercicio Proposto - Resolucao"
      ],
      "metadata": {
        "id": "QKvikIcYATsv"
      }
    },
    {
      "cell_type": "code",
      "execution_count": null,
      "metadata": {
        "id": "hVuuOt-p89RD"
      },
      "outputs": [],
      "source": [
        "#megasena\n",
        "import random\n",
        "\n"
      ]
    },
    {
      "cell_type": "code",
      "execution_count": null,
      "metadata": {
        "colab": {
          "base_uri": "https://localhost:8080/"
        },
        "id": "GiLnUtEZFY91",
        "outputId": "5f4feff6-3790-4527-e1a2-d84e4f5dfea7"
      },
      "outputs": [
        {
          "output_type": "stream",
          "name": "stdout",
          "text": [
            "221749\n",
            "eu acertei um numero 84328 vezes\n",
            "eu acertei dois numeros 21010 vezes\n",
            "eu acertei tres numeros 2245 vezes\n",
            "eu acertei quatro numeros 82 vezes\n",
            "eu acertei cinco numeros 1 vezes\n",
            "eu acertei seis numeros 0 vezes\n",
            "214211\n",
            "eu acertei um numero 81394 vezes\n",
            "eu acertei dois numeros 20316 vezes\n",
            "eu acertei tres numeros 2149 vezes\n",
            "eu acertei quatro numeros 96 vezes\n",
            "eu acertei cinco numeros 1 vezes\n",
            "eu acertei seis numeros 0 vezes\n",
            "22160\n",
            "eu acertei um numero 8333 vezes\n",
            "eu acertei dois numeros 2132 vezes\n",
            "eu acertei tres numeros 218 vezes\n",
            "eu acertei quatro numeros 8 vezes\n",
            "eu acertei cinco numeros 1 vezes\n",
            "eu acertei seis numeros 0 vezes\n",
            "391147\n",
            "eu acertei um numero 147597 vezes\n",
            "eu acertei dois numeros 37346 vezes\n",
            "eu acertei tres numeros 3946 vezes\n",
            "eu acertei quatro numeros 198 vezes\n",
            "eu acertei cinco numeros 1 vezes\n",
            "eu acertei seis numeros 0 vezes\n",
            "12011\n",
            "eu acertei um numero 4570 vezes\n",
            "eu acertei dois numeros 1099 vezes\n",
            "eu acertei tres numeros 113 vezes\n",
            "eu acertei quatro numeros 4 vezes\n",
            "eu acertei cinco numeros 1 vezes\n",
            "eu acertei seis numeros 0 vezes\n",
            "53415\n",
            "eu acertei um numero 20398 vezes\n",
            "eu acertei dois numeros 5051 vezes\n",
            "eu acertei tres numeros 486 vezes\n",
            "eu acertei quatro numeros 23 vezes\n",
            "eu acertei cinco numeros 1 vezes\n",
            "eu acertei seis numeros 0 vezes\n",
            "53365\n",
            "eu acertei um numero 20322 vezes\n",
            "eu acertei dois numeros 4956 vezes\n",
            "eu acertei tres numeros 522 vezes\n",
            "eu acertei quatro numeros 20 vezes\n",
            "eu acertei cinco numeros 1 vezes\n",
            "eu acertei seis numeros 0 vezes\n",
            "947760\n",
            "eu acertei um numero 358593 vezes\n",
            "eu acertei dois numeros 90063 vezes\n",
            "eu acertei tres numeros 9540 vezes\n",
            "eu acertei quatro numeros 377 vezes\n",
            "eu acertei cinco numeros 1 vezes\n",
            "eu acertei seis numeros 0 vezes\n",
            "7144\n",
            "eu acertei um numero 2804 vezes\n",
            "eu acertei dois numeros 691 vezes\n",
            "eu acertei tres numeros 80 vezes\n",
            "eu acertei quatro numeros 3 vezes\n",
            "eu acertei cinco numeros 1 vezes\n",
            "eu acertei seis numeros 0 vezes\n",
            "282061\n",
            "eu acertei um numero 106555 vezes\n",
            "eu acertei dois numeros 26861 vezes\n",
            "eu acertei tres numeros 2729 vezes\n",
            "eu acertei quatro numeros 130 vezes\n",
            "eu acertei cinco numeros 1 vezes\n",
            "eu acertei seis numeros 0 vezes\n",
            "220502.3\n",
            "180307\n",
            "eu acertei um numero 68159 vezes\n",
            "eu acertei dois numeros 16967 vezes\n",
            "eu acertei tres numeros 1797 vezes\n",
            "eu acertei quatro numeros 68 vezes\n",
            "eu acertei cinco numeros 1 vezes\n",
            "eu acertei seis numeros 0 vezes\n",
            "260584\n",
            "eu acertei um numero 98685 vezes\n",
            "eu acertei dois numeros 25095 vezes\n",
            "eu acertei tres numeros 2555 vezes\n",
            "eu acertei quatro numeros 109 vezes\n",
            "eu acertei cinco numeros 1 vezes\n",
            "eu acertei seis numeros 0 vezes\n",
            "68595\n",
            "eu acertei um numero 26144 vezes\n",
            "eu acertei dois numeros 6446 vezes\n",
            "eu acertei tres numeros 671 vezes\n",
            "eu acertei quatro numeros 29 vezes\n",
            "eu acertei cinco numeros 1 vezes\n",
            "eu acertei seis numeros 0 vezes\n",
            "13726\n",
            "eu acertei um numero 5190 vezes\n",
            "eu acertei dois numeros 1324 vezes\n",
            "eu acertei tres numeros 143 vezes\n",
            "eu acertei quatro numeros 6 vezes\n",
            "eu acertei cinco numeros 1 vezes\n",
            "eu acertei seis numeros 0 vezes\n",
            "142242\n",
            "eu acertei um numero 54004 vezes\n",
            "eu acertei dois numeros 13482 vezes\n",
            "eu acertei tres numeros 1365 vezes\n",
            "eu acertei quatro numeros 60 vezes\n",
            "eu acertei cinco numeros 1 vezes\n",
            "eu acertei seis numeros 0 vezes\n",
            "5083\n",
            "eu acertei um numero 1958 vezes\n",
            "eu acertei dois numeros 477 vezes\n",
            "eu acertei tres numeros 46 vezes\n",
            "eu acertei quatro numeros 4 vezes\n",
            "eu acertei cinco numeros 1 vezes\n",
            "eu acertei seis numeros 0 vezes\n",
            "17866\n",
            "eu acertei um numero 6812 vezes\n",
            "eu acertei dois numeros 1695 vezes\n",
            "eu acertei tres numeros 174 vezes\n",
            "eu acertei quatro numeros 6 vezes\n",
            "eu acertei cinco numeros 1 vezes\n",
            "eu acertei seis numeros 0 vezes\n",
            "117447\n",
            "eu acertei um numero 44213 vezes\n",
            "eu acertei dois numeros 11315 vezes\n",
            "eu acertei tres numeros 1174 vezes\n",
            "eu acertei quatro numeros 56 vezes\n",
            "eu acertei cinco numeros 1 vezes\n",
            "eu acertei seis numeros 0 vezes\n",
            "38075\n",
            "eu acertei um numero 14552 vezes\n",
            "eu acertei dois numeros 3632 vezes\n",
            "eu acertei tres numeros 379 vezes\n",
            "eu acertei quatro numeros 23 vezes\n",
            "eu acertei cinco numeros 1 vezes\n",
            "eu acertei seis numeros 1 vezes\n",
            "6563\n",
            "eu acertei um numero 2509 vezes\n",
            "eu acertei dois numeros 678 vezes\n",
            "eu acertei tres numeros 63 vezes\n",
            "eu acertei quatro numeros 1 vezes\n",
            "eu acertei cinco numeros 1 vezes\n",
            "eu acertei seis numeros 0 vezes\n",
            "85048.8\n",
            "184224\n",
            "eu acertei um numero 69752 vezes\n",
            "eu acertei dois numeros 17588 vezes\n",
            "eu acertei tres numeros 1769 vezes\n",
            "eu acertei quatro numeros 68 vezes\n",
            "eu acertei cinco numeros 1 vezes\n",
            "eu acertei seis numeros 0 vezes\n",
            "268973\n",
            "eu acertei um numero 101852 vezes\n",
            "eu acertei dois numeros 25655 vezes\n",
            "eu acertei tres numeros 2603 vezes\n",
            "eu acertei quatro numeros 116 vezes\n",
            "eu acertei cinco numeros 1 vezes\n",
            "eu acertei seis numeros 0 vezes\n",
            "83754\n",
            "eu acertei um numero 31753 vezes\n",
            "eu acertei dois numeros 7955 vezes\n",
            "eu acertei tres numeros 830 vezes\n",
            "eu acertei quatro numeros 41 vezes\n",
            "eu acertei cinco numeros 1 vezes\n",
            "eu acertei seis numeros 0 vezes\n",
            "294155\n",
            "eu acertei um numero 111112 vezes\n",
            "eu acertei dois numeros 27662 vezes\n",
            "eu acertei tres numeros 2977 vezes\n",
            "eu acertei quatro numeros 120 vezes\n",
            "eu acertei cinco numeros 1 vezes\n",
            "eu acertei seis numeros 0 vezes\n",
            "7548\n",
            "eu acertei um numero 2885 vezes\n",
            "eu acertei dois numeros 730 vezes\n",
            "eu acertei tres numeros 60 vezes\n",
            "eu acertei quatro numeros 3 vezes\n",
            "eu acertei cinco numeros 1 vezes\n",
            "eu acertei seis numeros 0 vezes\n",
            "98491\n",
            "eu acertei um numero 37359 vezes\n",
            "eu acertei dois numeros 9497 vezes\n",
            "eu acertei tres numeros 943 vezes\n",
            "eu acertei quatro numeros 40 vezes\n",
            "eu acertei cinco numeros 1 vezes\n",
            "eu acertei seis numeros 0 vezes\n",
            "111897\n",
            "eu acertei um numero 42398 vezes\n",
            "eu acertei dois numeros 10557 vezes\n",
            "eu acertei tres numeros 1103 vezes\n",
            "eu acertei quatro numeros 51 vezes\n",
            "eu acertei cinco numeros 1 vezes\n",
            "eu acertei seis numeros 0 vezes\n",
            "72969\n",
            "eu acertei um numero 27709 vezes\n",
            "eu acertei dois numeros 6953 vezes\n",
            "eu acertei tres numeros 718 vezes\n",
            "eu acertei quatro numeros 39 vezes\n",
            "eu acertei cinco numeros 1 vezes\n",
            "eu acertei seis numeros 0 vezes\n",
            "168459\n",
            "eu acertei um numero 63687 vezes\n",
            "eu acertei dois numeros 15999 vezes\n",
            "eu acertei tres numeros 1658 vezes\n",
            "eu acertei quatro numeros 79 vezes\n",
            "eu acertei cinco numeros 1 vezes\n",
            "eu acertei seis numeros 0 vezes\n",
            "416648\n",
            "eu acertei um numero 158202 vezes\n",
            "eu acertei dois numeros 39214 vezes\n",
            "eu acertei tres numeros 4256 vezes\n",
            "eu acertei quatro numeros 151 vezes\n",
            "eu acertei cinco numeros 1 vezes\n",
            "eu acertei seis numeros 0 vezes\n",
            "170711.8\n",
            "37489\n",
            "eu acertei um numero 14256 vezes\n",
            "eu acertei dois numeros 3570 vezes\n",
            "eu acertei tres numeros 409 vezes\n",
            "eu acertei quatro numeros 12 vezes\n",
            "eu acertei cinco numeros 1 vezes\n",
            "eu acertei seis numeros 0 vezes\n",
            "62684\n",
            "eu acertei um numero 23721 vezes\n",
            "eu acertei dois numeros 5950 vezes\n",
            "eu acertei tres numeros 626 vezes\n",
            "eu acertei quatro numeros 28 vezes\n",
            "eu acertei cinco numeros 1 vezes\n",
            "eu acertei seis numeros 0 vezes\n",
            "54247\n",
            "eu acertei um numero 20449 vezes\n",
            "eu acertei dois numeros 5217 vezes\n",
            "eu acertei tres numeros 557 vezes\n",
            "eu acertei quatro numeros 27 vezes\n",
            "eu acertei cinco numeros 1 vezes\n",
            "eu acertei seis numeros 0 vezes\n",
            "214838\n",
            "eu acertei um numero 80912 vezes\n",
            "eu acertei dois numeros 20718 vezes\n",
            "eu acertei tres numeros 2098 vezes\n",
            "eu acertei quatro numeros 88 vezes\n",
            "eu acertei cinco numeros 1 vezes\n",
            "eu acertei seis numeros 0 vezes\n",
            "135965\n",
            "eu acertei um numero 51571 vezes\n",
            "eu acertei dois numeros 12903 vezes\n",
            "eu acertei tres numeros 1327 vezes\n",
            "eu acertei quatro numeros 70 vezes\n",
            "eu acertei cinco numeros 1 vezes\n",
            "eu acertei seis numeros 0 vezes\n",
            "102907\n",
            "eu acertei um numero 39169 vezes\n",
            "eu acertei dois numeros 9725 vezes\n",
            "eu acertei tres numeros 947 vezes\n",
            "eu acertei quatro numeros 47 vezes\n",
            "eu acertei cinco numeros 1 vezes\n",
            "eu acertei seis numeros 0 vezes\n",
            "43621\n",
            "eu acertei um numero 16438 vezes\n",
            "eu acertei dois numeros 4149 vezes\n",
            "eu acertei tres numeros 438 vezes\n",
            "eu acertei quatro numeros 23 vezes\n",
            "eu acertei cinco numeros 1 vezes\n",
            "eu acertei seis numeros 0 vezes\n",
            "6996\n",
            "eu acertei um numero 2657 vezes\n",
            "eu acertei dois numeros 693 vezes\n",
            "eu acertei tres numeros 71 vezes\n",
            "eu acertei quatro numeros 1 vezes\n",
            "eu acertei cinco numeros 1 vezes\n",
            "eu acertei seis numeros 0 vezes\n",
            "14541\n",
            "eu acertei um numero 5445 vezes\n",
            "eu acertei dois numeros 1397 vezes\n",
            "eu acertei tres numeros 141 vezes\n",
            "eu acertei quatro numeros 2 vezes\n",
            "eu acertei cinco numeros 1 vezes\n",
            "eu acertei seis numeros 0 vezes\n",
            "192257\n",
            "eu acertei um numero 73023 vezes\n",
            "eu acertei dois numeros 18281 vezes\n",
            "eu acertei tres numeros 1896 vezes\n",
            "eu acertei quatro numeros 83 vezes\n",
            "eu acertei cinco numeros 1 vezes\n",
            "eu acertei seis numeros 0 vezes\n",
            "86554.5\n",
            "242486\n",
            "eu acertei um numero 92097 vezes\n",
            "eu acertei dois numeros 22948 vezes\n",
            "eu acertei tres numeros 2452 vezes\n",
            "eu acertei quatro numeros 114 vezes\n",
            "eu acertei cinco numeros 1 vezes\n",
            "eu acertei seis numeros 0 vezes\n",
            "100938\n",
            "eu acertei um numero 38498 vezes\n",
            "eu acertei dois numeros 9514 vezes\n",
            "eu acertei tres numeros 950 vezes\n",
            "eu acertei quatro numeros 34 vezes\n",
            "eu acertei cinco numeros 1 vezes\n",
            "eu acertei seis numeros 0 vezes\n",
            "31049\n",
            "eu acertei um numero 11859 vezes\n",
            "eu acertei dois numeros 2934 vezes\n",
            "eu acertei tres numeros 314 vezes\n",
            "eu acertei quatro numeros 14 vezes\n",
            "eu acertei cinco numeros 1 vezes\n",
            "eu acertei seis numeros 0 vezes\n",
            "56085\n",
            "eu acertei um numero 21322 vezes\n",
            "eu acertei dois numeros 5370 vezes\n",
            "eu acertei tres numeros 518 vezes\n",
            "eu acertei quatro numeros 23 vezes\n",
            "eu acertei cinco numeros 1 vezes\n",
            "eu acertei seis numeros 0 vezes\n",
            "96922\n",
            "eu acertei um numero 36855 vezes\n",
            "eu acertei dois numeros 9209 vezes\n",
            "eu acertei tres numeros 901 vezes\n",
            "eu acertei quatro numeros 58 vezes\n",
            "eu acertei cinco numeros 1 vezes\n",
            "eu acertei seis numeros 0 vezes\n",
            "177659\n",
            "eu acertei um numero 67252 vezes\n",
            "eu acertei dois numeros 17068 vezes\n",
            "eu acertei tres numeros 1729 vezes\n",
            "eu acertei quatro numeros 107 vezes\n",
            "eu acertei cinco numeros 1 vezes\n",
            "eu acertei seis numeros 0 vezes\n",
            "414614\n",
            "eu acertei um numero 156908 vezes\n",
            "eu acertei dois numeros 39347 vezes\n",
            "eu acertei tres numeros 4068 vezes\n",
            "eu acertei quatro numeros 169 vezes\n",
            "eu acertei cinco numeros 1 vezes\n",
            "eu acertei seis numeros 0 vezes\n",
            "103674\n",
            "eu acertei um numero 39471 vezes\n",
            "eu acertei dois numeros 9690 vezes\n",
            "eu acertei tres numeros 1003 vezes\n",
            "eu acertei quatro numeros 53 vezes\n",
            "eu acertei cinco numeros 1 vezes\n",
            "eu acertei seis numeros 0 vezes\n",
            "207286\n",
            "eu acertei um numero 78649 vezes\n",
            "eu acertei dois numeros 19547 vezes\n",
            "eu acertei tres numeros 2096 vezes\n",
            "eu acertei quatro numeros 76 vezes\n",
            "eu acertei cinco numeros 1 vezes\n",
            "eu acertei seis numeros 0 vezes\n",
            "124729\n",
            "eu acertei um numero 47281 vezes\n",
            "eu acertei dois numeros 11915 vezes\n",
            "eu acertei tres numeros 1248 vezes\n",
            "eu acertei quatro numeros 49 vezes\n",
            "eu acertei cinco numeros 1 vezes\n",
            "eu acertei seis numeros 0 vezes\n",
            "155544.2\n",
            "54898\n",
            "eu acertei um numero 20766 vezes\n",
            "eu acertei dois numeros 5207 vezes\n",
            "eu acertei tres numeros 523 vezes\n",
            "eu acertei quatro numeros 26 vezes\n",
            "eu acertei cinco numeros 1 vezes\n",
            "eu acertei seis numeros 0 vezes\n",
            "103081\n",
            "eu acertei um numero 39156 vezes\n",
            "eu acertei dois numeros 9850 vezes\n",
            "eu acertei tres numeros 1046 vezes\n",
            "eu acertei quatro numeros 54 vezes\n",
            "eu acertei cinco numeros 1 vezes\n",
            "eu acertei seis numeros 0 vezes\n",
            "271082\n",
            "eu acertei um numero 102596 vezes\n",
            "eu acertei dois numeros 25692 vezes\n",
            "eu acertei tres numeros 2698 vezes\n",
            "eu acertei quatro numeros 122 vezes\n",
            "eu acertei cinco numeros 1 vezes\n",
            "eu acertei seis numeros 0 vezes\n",
            "8613\n",
            "eu acertei um numero 3271 vezes\n",
            "eu acertei dois numeros 793 vezes\n",
            "eu acertei tres numeros 100 vezes\n",
            "eu acertei quatro numeros 4 vezes\n",
            "eu acertei cinco numeros 1 vezes\n",
            "eu acertei seis numeros 0 vezes\n",
            "222372\n",
            "eu acertei um numero 84246 vezes\n",
            "eu acertei dois numeros 21344 vezes\n",
            "eu acertei tres numeros 2215 vezes\n",
            "eu acertei quatro numeros 92 vezes\n",
            "eu acertei cinco numeros 1 vezes\n",
            "eu acertei seis numeros 0 vezes\n",
            "75549\n",
            "eu acertei um numero 28688 vezes\n",
            "eu acertei dois numeros 7203 vezes\n",
            "eu acertei tres numeros 744 vezes\n",
            "eu acertei quatro numeros 40 vezes\n",
            "eu acertei cinco numeros 1 vezes\n",
            "eu acertei seis numeros 0 vezes\n",
            "56862\n",
            "eu acertei um numero 21698 vezes\n",
            "eu acertei dois numeros 5260 vezes\n",
            "eu acertei tres numeros 546 vezes\n",
            "eu acertei quatro numeros 24 vezes\n",
            "eu acertei cinco numeros 1 vezes\n",
            "eu acertei seis numeros 0 vezes\n",
            "28108\n",
            "eu acertei um numero 10636 vezes\n",
            "eu acertei dois numeros 2737 vezes\n",
            "eu acertei tres numeros 273 vezes\n",
            "eu acertei quatro numeros 15 vezes\n",
            "eu acertei cinco numeros 1 vezes\n",
            "eu acertei seis numeros 0 vezes\n",
            "568871\n",
            "eu acertei um numero 215579 vezes\n",
            "eu acertei dois numeros 53829 vezes\n",
            "eu acertei tres numeros 5611 vezes\n",
            "eu acertei quatro numeros 244 vezes\n",
            "eu acertei cinco numeros 1 vezes\n",
            "eu acertei seis numeros 0 vezes\n",
            "1238\n",
            "eu acertei um numero 432 vezes\n",
            "eu acertei dois numeros 118 vezes\n",
            "eu acertei tres numeros 12 vezes\n",
            "eu acertei quatro numeros 1 vezes\n",
            "eu acertei cinco numeros 1 vezes\n",
            "eu acertei seis numeros 0 vezes\n",
            "139067.4\n",
            "1 loop, best of 5: 15.8 s per loop\n"
          ]
        }
      ],
      "source": [
        "%%timeit\n",
        "lista=[]\n",
        "\n",
        "for n in range (10):\n",
        "\n",
        "  zero=0\n",
        "  um=0\n",
        "  dois=0\n",
        "  tres=0\n",
        "  quatro=0\n",
        "  cinco=0\n",
        "  seis=0\n",
        "\n",
        "  for i in range (2500000): \n",
        "\n",
        "    minha=set(random.sample(range(1,61),6))\n",
        "\n",
        "    sorteio=set(random.sample(range(1,61),6))\n",
        "\n",
        "    acertos=minha.intersection(sorteio)\n",
        "\n",
        "    num_acer=len(acertos)\n",
        "\n",
        "    if num_acer == 0:\n",
        "        zero+=1\n",
        "    elif num_acer == 1:\n",
        "        um+=1\n",
        "    elif  num_acer == 2:\n",
        "        dois+=1\n",
        "    elif  num_acer == 3:\n",
        "        tres+=1\n",
        "    elif  num_acer == 4:\n",
        "        quatro+=1\n",
        "    elif  num_acer == 5:\n",
        "        cinco+=1\n",
        "        print(i)\n",
        "        lista.append(i)\n",
        "        break\n",
        "    else:\n",
        "        seis+=1\n",
        "\n",
        "  print(f'eu acertei um numero {um} vezes')\n",
        "  print(f'eu acertei dois numeros {dois} vezes')\n",
        "  print(f'eu acertei tres numeros {tres} vezes')\n",
        "  print(f'eu acertei quatro numeros {quatro} vezes')\n",
        "  print(f'eu acertei cinco numeros {cinco} vezes')\n",
        "  print(f'eu acertei seis numeros {seis} vezes')\n",
        "summ=sum(lista)\n",
        "den=len(lista)\n",
        "media=summ/den\n",
        "print(media)\n"
      ]
    },
    {
      "cell_type": "code",
      "execution_count": null,
      "metadata": {
        "id": "Wr90ylW8H9Wb"
      },
      "outputs": [],
      "source": [
        "print(round(media))"
      ]
    },
    {
      "cell_type": "code",
      "source": [
        "%reset"
      ],
      "metadata": {
        "id": "OIpsGZ_EE269"
      },
      "execution_count": null,
      "outputs": []
    },
    {
      "cell_type": "code",
      "source": [
        "%whos"
      ],
      "metadata": {
        "id": "_h4NGgfFFHI6"
      },
      "execution_count": null,
      "outputs": []
    },
    {
      "cell_type": "code",
      "execution_count": null,
      "metadata": {
        "id": "nUWJKVkXNaOR",
        "colab": {
          "base_uri": "https://localhost:8080/",
          "height": 371
        },
        "outputId": "18894f79-f912-4dd1-b8ef-1be263c7072b"
      },
      "outputs": [
        {
          "output_type": "error",
          "ename": "KeyboardInterrupt",
          "evalue": "ignored",
          "traceback": [
            "\u001b[0;31m---------------------------------------------------------------------------\u001b[0m",
            "\u001b[0;31mKeyboardInterrupt\u001b[0m                         Traceback (most recent call last)",
            "\u001b[0;32m<ipython-input-5-356fbfd64b36>\u001b[0m in \u001b[0;36m<module>\u001b[0;34m()\u001b[0m\n\u001b[1;32m     15\u001b[0m   \u001b[0;32mfor\u001b[0m \u001b[0mi\u001b[0m \u001b[0;32min\u001b[0m \u001b[0mrange\u001b[0m \u001b[0;34m(\u001b[0m\u001b[0;36m2500000\u001b[0m\u001b[0;34m)\u001b[0m\u001b[0;34m:\u001b[0m\u001b[0;34m\u001b[0m\u001b[0;34m\u001b[0m\u001b[0m\n\u001b[1;32m     16\u001b[0m \u001b[0;34m\u001b[0m\u001b[0m\n\u001b[0;32m---> 17\u001b[0;31m     \u001b[0mminha\u001b[0m\u001b[0;34m=\u001b[0m\u001b[0mset\u001b[0m\u001b[0;34m(\u001b[0m\u001b[0mrandom\u001b[0m\u001b[0;34m.\u001b[0m\u001b[0msample\u001b[0m\u001b[0;34m(\u001b[0m\u001b[0mrange\u001b[0m\u001b[0;34m(\u001b[0m\u001b[0;36m1\u001b[0m\u001b[0;34m,\u001b[0m\u001b[0;36m61\u001b[0m\u001b[0;34m)\u001b[0m\u001b[0;34m,\u001b[0m\u001b[0;36m6\u001b[0m\u001b[0;34m)\u001b[0m\u001b[0;34m)\u001b[0m\u001b[0;34m\u001b[0m\u001b[0;34m\u001b[0m\u001b[0m\n\u001b[0m\u001b[1;32m     18\u001b[0m \u001b[0;34m\u001b[0m\u001b[0m\n\u001b[1;32m     19\u001b[0m     \u001b[0msorteio\u001b[0m\u001b[0;34m=\u001b[0m\u001b[0mset\u001b[0m\u001b[0;34m(\u001b[0m\u001b[0mrandom\u001b[0m\u001b[0;34m.\u001b[0m\u001b[0msample\u001b[0m\u001b[0;34m(\u001b[0m\u001b[0mrange\u001b[0m\u001b[0;34m(\u001b[0m\u001b[0;36m1\u001b[0m\u001b[0;34m,\u001b[0m\u001b[0;36m61\u001b[0m\u001b[0;34m)\u001b[0m\u001b[0;34m,\u001b[0m\u001b[0;36m6\u001b[0m\u001b[0;34m)\u001b[0m\u001b[0;34m)\u001b[0m\u001b[0;34m\u001b[0m\u001b[0;34m\u001b[0m\u001b[0m\n",
            "\u001b[0;32m/usr/lib/python3.7/random.py\u001b[0m in \u001b[0;36msample\u001b[0;34m(self, population, k)\u001b[0m\n\u001b[1;32m    328\u001b[0m             \u001b[0mpool\u001b[0m \u001b[0;34m=\u001b[0m \u001b[0mlist\u001b[0m\u001b[0;34m(\u001b[0m\u001b[0mpopulation\u001b[0m\u001b[0;34m)\u001b[0m\u001b[0;34m\u001b[0m\u001b[0;34m\u001b[0m\u001b[0m\n\u001b[1;32m    329\u001b[0m             \u001b[0;32mfor\u001b[0m \u001b[0mi\u001b[0m \u001b[0;32min\u001b[0m \u001b[0mrange\u001b[0m\u001b[0;34m(\u001b[0m\u001b[0mk\u001b[0m\u001b[0;34m)\u001b[0m\u001b[0;34m:\u001b[0m         \u001b[0;31m# invariant:  non-selected at [0,n-i)\u001b[0m\u001b[0;34m\u001b[0m\u001b[0;34m\u001b[0m\u001b[0m\n\u001b[0;32m--> 330\u001b[0;31m                 \u001b[0mj\u001b[0m \u001b[0;34m=\u001b[0m \u001b[0mrandbelow\u001b[0m\u001b[0;34m(\u001b[0m\u001b[0mn\u001b[0m\u001b[0;34m-\u001b[0m\u001b[0mi\u001b[0m\u001b[0;34m)\u001b[0m\u001b[0;34m\u001b[0m\u001b[0;34m\u001b[0m\u001b[0m\n\u001b[0m\u001b[1;32m    331\u001b[0m                 \u001b[0mresult\u001b[0m\u001b[0;34m[\u001b[0m\u001b[0mi\u001b[0m\u001b[0;34m]\u001b[0m \u001b[0;34m=\u001b[0m \u001b[0mpool\u001b[0m\u001b[0;34m[\u001b[0m\u001b[0mj\u001b[0m\u001b[0;34m]\u001b[0m\u001b[0;34m\u001b[0m\u001b[0;34m\u001b[0m\u001b[0m\n\u001b[1;32m    332\u001b[0m                 \u001b[0mpool\u001b[0m\u001b[0;34m[\u001b[0m\u001b[0mj\u001b[0m\u001b[0;34m]\u001b[0m \u001b[0;34m=\u001b[0m \u001b[0mpool\u001b[0m\u001b[0;34m[\u001b[0m\u001b[0mn\u001b[0m\u001b[0;34m-\u001b[0m\u001b[0mi\u001b[0m\u001b[0;34m-\u001b[0m\u001b[0;36m1\u001b[0m\u001b[0;34m]\u001b[0m   \u001b[0;31m# move non-selected item into vacancy\u001b[0m\u001b[0;34m\u001b[0m\u001b[0;34m\u001b[0m\u001b[0m\n",
            "\u001b[0;31mKeyboardInterrupt\u001b[0m: "
          ]
        }
      ],
      "source": [
        "\n",
        "\n",
        "lista=[]\n",
        "\n",
        "for n in range (1000):\n",
        "\n",
        "  zero=0\n",
        "  um=0\n",
        "  dois=0\n",
        "  tres=0\n",
        "  quatro=0\n",
        "  cinco=0\n",
        "  seis=0\n",
        "\n",
        "  for i in range (2500000): \n",
        "\n",
        "    minha=set(random.sample(range(1,61),6))\n",
        "\n",
        "    sorteio=set(random.sample(range(1,61),6))\n",
        "\n",
        "    acertos=minha.intersection(sorteio)\n",
        "\n",
        "    num_acer=len(acertos)\n",
        "\n",
        "    if num_acer == 0:\n",
        "        zero+=1\n",
        "    elif num_acer == 1:\n",
        "        um+=1\n",
        "    elif  num_acer == 2:\n",
        "        dois+=1\n",
        "    elif  num_acer == 3:\n",
        "        tres+=1\n",
        "    elif  num_acer == 4:\n",
        "        quatro+=1\n",
        "    elif  num_acer == 5:\n",
        "        cinco+=1\n",
        "        lista.append(i)\n",
        "        break\n",
        "    else:\n",
        "        seis+=1\n",
        "\n",
        "summ=sum(lista)\n",
        "den=len(lista)\n",
        "media=round(summ/den)\n",
        "print(f'Para acertar a quina preciso jogar em media {media} vezes')"
      ]
    },
    {
      "cell_type": "markdown",
      "source": [
        "esse resultado 32075 eh pq eu rodei pra n=1 antes de salvar. quando rodei pra n=1000 deiem torno de 150000vezes que preciso jogar na megasena. nao rodo novamente pq levou uns bons 40 minutos :)"
      ],
      "metadata": {
        "id": "raISl4ODJjpu"
      }
    },
    {
      "cell_type": "code",
      "source": [
        "%reset\n"
      ],
      "metadata": {
        "id": "6lTC_QhQH84p"
      },
      "execution_count": null,
      "outputs": []
    },
    {
      "cell_type": "markdown",
      "source": [
        "# Aula 10"
      ],
      "metadata": {
        "id": "Htf8RSJMrJyw"
      }
    },
    {
      "cell_type": "code",
      "source": [
        "import random\n",
        "\n",
        "total=251\n",
        "preco=4\n",
        "album=10\n",
        "\n",
        "completo=[0]*total\n",
        "#parar=[False]*total\n",
        "num_pacotes=0\n",
        "\n",
        "\n",
        "while True:\n",
        "\n",
        "  pacote=set(random.sample(range(total),4))\n",
        "  num_pacotes+=1\n",
        "\n",
        "  for fig in pacote:\n",
        "    completo[fig]+=1\n",
        "    \n",
        "  if all(fig > 0 for fig in completo):\n",
        "    break\n",
        "\n",
        " # parar=[]\n",
        " # for fig in completo:\n",
        " #   parar.append(fig>0)\n",
        " #   if completo[fig]>0:\n",
        " #     parar[fig]=True\n",
        " \n",
        " # if all(parar):\n",
        " #   break\n",
        "\n",
        "print(completo)\n",
        "print('##')\n",
        "print(f'Foi preciso comparar {num_pacotes} pacotinhos para completar o album')\n",
        "gasto=album+(preco*num_pacotes)\n",
        "print('##')\n",
        "print(f'O gasto total foi {gasto} reais')\n"
      ],
      "metadata": {
        "colab": {
          "base_uri": "https://localhost:8080/"
        },
        "id": "bvixEMhWrMId",
        "outputId": "3bda1195-dc97-4edc-e0b2-096383626b6b"
      },
      "execution_count": null,
      "outputs": [
        {
          "output_type": "stream",
          "name": "stdout",
          "text": [
            "[4, 5, 6, 4, 5, 3, 5, 6, 6, 4, 3, 3, 3, 5, 10, 9, 5, 5, 6, 6, 3, 4, 7, 7, 7, 8, 9, 4, 1, 7, 11, 3, 5, 4, 8, 4, 10, 7, 3, 8, 3, 3, 4, 5, 4, 11, 5, 4, 12, 6, 7, 12, 3, 2, 7, 1, 5, 5, 5, 6, 6, 6, 11, 7, 4, 5, 4, 8, 8, 2, 6, 9, 6, 4, 8, 7, 1, 8, 2, 1, 7, 2, 2, 3, 4, 5, 7, 7, 7, 7, 8, 5, 7, 4, 4, 8, 5, 11, 6, 6, 10, 4, 6, 4, 1, 4, 3, 6, 8, 6, 5, 6, 8, 6, 9, 7, 3, 4, 4, 3, 2, 8, 3, 3, 3, 2, 5, 7, 6, 5, 5, 5, 3, 7, 4, 8, 5, 8, 6, 4, 11, 4, 6, 8, 3, 9, 7, 6, 4, 4, 6, 2, 8, 7, 6, 4, 2, 7, 2, 8, 2, 9, 1, 5, 5, 5, 2, 3, 4, 4, 5, 3, 5, 7, 4, 7, 11, 3, 6, 3, 5, 6, 9, 3, 5, 10, 7, 6, 6, 4, 5, 4, 4, 11, 4, 3, 4, 3, 11, 8, 7, 6, 5, 5, 4, 3, 9, 3, 9, 4, 5, 7, 5, 6, 9, 6, 5, 7, 3, 4, 4, 5, 5, 6, 1, 2, 10, 6, 10, 7, 2, 2, 6, 1, 7, 7, 7, 5, 3, 3, 8, 10, 5, 5, 3, 8, 5, 9, 4, 4, 7]\n",
            "##\n",
            "Foi preciso comparar 343 pacotinhos para completar o album\n",
            "##\n",
            "O gasto total foi 1382 reais\n"
          ]
        }
      ]
    },
    {
      "cell_type": "code",
      "source": [
        "trin=[0, 1, 0]\n",
        "parar=[]\n",
        "for i in trin:\n",
        "  parar.append(i>0)\n",
        "print(parar)"
      ],
      "metadata": {
        "colab": {
          "base_uri": "https://localhost:8080/"
        },
        "id": "8YxaOVVn0WfG",
        "outputId": "6c1d2981-4101-4cb5-8257-569718930d87"
      },
      "execution_count": null,
      "outputs": [
        {
          "output_type": "stream",
          "name": "stdout",
          "text": [
            "[False, True, False]\n"
          ]
        }
      ]
    },
    {
      "cell_type": "code",
      "source": [
        "import random\n",
        "\n",
        "total=251\n",
        "preco=4\n",
        "album=10\n",
        "\n",
        "pcts=[]\n",
        "precos=[]\n",
        "test=[]\n",
        "test2=[]\n",
        "test3=0\n",
        "test4=0\n",
        "test5=0\n",
        "\n",
        "for n in range (1001):\n",
        "\n",
        "  num_pacotes=0\n",
        "  completo=[0]*total\n",
        "  a=0\n",
        "\n",
        "  while True:\n",
        "\n",
        "    pacote=set(random.sample(range(total),4))\n",
        "    num_pacotes+=1\n",
        "\n",
        "    for fig in pacote:\n",
        "      completo[fig]+=1\n",
        "\n",
        "    if all(fig > 0 for fig in completo):\n",
        "      break\n",
        "\n",
        "  gasto=album+(preco*num_pacotes)\n",
        "  pcts.append(num_pacotes)\n",
        "  precos.append(gasto)\n",
        "  \n",
        "\n",
        "  for i in completo:\n",
        "    if completo[i]>a:\n",
        "      a=completo[i]\n",
        "  test.append(a)\n",
        "  test2.append(completo.count(1))\n",
        "\n",
        "pcts_medio=round(sum(pcts)/1000)\n",
        "preco_medio=round(sum(precos)/1000)\n",
        "test_medio=round(sum(test)/1000)\n",
        "test2_medio=round(sum(test2)/1000)\n",
        "\n",
        "for preco in precos:\n",
        "  if preco>3000:\n",
        "    test3 +=1\n",
        "  elif preco<1500:\n",
        "    test4 +=1\n",
        "  elif preco>preco_medio:\n",
        "    test5 +=1\n",
        "\n",
        "test3=test3/10\n",
        "test4=test4/10\n",
        "test5=test5/10\n",
        "\n",
        "\n",
        "\n",
        "print(f'Eh preciso comprar {pcts_medio} pacotinhos para completar o album')\n",
        "print('##')\n",
        "print(f'O gasto medio para completar eh de {preco_medio} reais')\n",
        "\n",
        "print(f'A figurinda mais repetida foi repetida em media {test_medio} vezes')\n",
        "print(f'Em media, {test2_medio} figurinhas nao se repetem ao completar o album')\n",
        "print(f'A probabilidade de se gastar mais de R$3000 para completar o album eh de {test3}%')\n",
        "print(f'A probabilidade de se gastar menos de R$1500 para completar o album eh de {test4}%')\n",
        "print(f'A probabilidade de se gastar mais do que a media para completar o album eh de {test5}%')"
      ],
      "metadata": {
        "colab": {
          "base_uri": "https://localhost:8080/"
        },
        "outputId": "e6911481-d937-460b-f56d-b1f6a0f24b52",
        "id": "UCYnHl674A6Z"
      },
      "execution_count": null,
      "outputs": [
        {
          "output_type": "stream",
          "name": "stdout",
          "text": [
            "Eh preciso comprar 381 pacotinhos para completar o album\n",
            "##\n",
            "O gasto medio para completar eh de 1533 reais\n",
            "A figurinda mais repetida foi repetida em media 11 vezes\n",
            "Em media, 6 figurinhas nao se repetem ao completar o album\n",
            "A probabilidade de se gastar mais de R$3000 para completar o album eh de 0.3%\n",
            "A probabilidade de se gastar menos de R$1500 para completar o album eh de 52.2%\n",
            "A probabilidade de se gastar mais do que a media para completar o album eh de 43.5%\n"
          ]
        }
      ]
    },
    {
      "cell_type": "code",
      "source": [
        "# para 1 ou dois amigos\n",
        "\n",
        "import random\n",
        "\n",
        "total=251\n",
        "preco=4\n",
        "album=10\n",
        "\n",
        "pcts=[]\n",
        "precos=[]\n",
        "test=[]\n",
        "test2=[]\n",
        "test3=0\n",
        "test4=0\n",
        "test5=0\n",
        "\n",
        "for n in range (1001):\n",
        "\n",
        "  num_pacotes=0\n",
        "  completo=[0]*total\n",
        "  a=0\n",
        "\n",
        "  while True:\n",
        "\n",
        "    pacote=set(random.sample(range(total),4))\n",
        "    num_pacotes+=1\n",
        "\n",
        "    for fig in pacote:\n",
        "      completo[fig]+=1\n",
        "\n",
        "    if all(fig > 2 for fig in completo):\n",
        "      break\n",
        "\n",
        "  gasto=(album+(preco*num_pacotes))/3\n",
        "  pcts.append(num_pacotes)\n",
        "  precos.append(gasto)\n",
        "  \n",
        "\n",
        "  for i in completo:\n",
        "    if completo[i]>a:\n",
        "      a=completo[i]\n",
        "  test.append(a)\n",
        "  test2.append(completo.count(1))\n",
        "\n",
        "pcts_medio=round(sum(pcts)/1000)\n",
        "preco_medio=round(sum(precos)/1000)\n",
        "test_medio=round(sum(test)/1000)\n",
        "test2_medio=round(sum(test2)/1000)\n",
        "\n",
        "for preco in precos:\n",
        "  if preco>3000:\n",
        "    test3 +=1\n",
        "  elif preco<1500:\n",
        "    test4 +=1\n",
        "  elif preco>preco_medio:\n",
        "    test5 +=1\n",
        "\n",
        "test3=test3/10\n",
        "test4=test4/10\n",
        "test5=test5/10\n",
        "\n",
        "\n",
        "\n",
        "print(f'Eh preciso comprar {pcts_medio} pacotinhos para completar o album')\n",
        "print('##')\n",
        "print(f'O gasto medio para completar eh de {preco_medio} reais')\n",
        "\n",
        "print(f'A figurinda mais repetida foi repetida em media {test_medio} vezes')\n",
        "print(f'Em media, {test2_medio} figurinhas nao se repetem ao completar o album')\n",
        "print(f'A probabilidade de se gastar mais de R$3000 para completar o album eh de {test3}%')\n",
        "print(f'A probabilidade de se gastar menos de R$1500 para completar o album eh de {test4}%')\n",
        "print(f'A probabilidade de se gastar mais do que a media para completar o album eh de {test5}%')"
      ],
      "metadata": {
        "colab": {
          "base_uri": "https://localhost:8080/"
        },
        "outputId": "940a74ef-fbe4-4567-a44b-99fd1d7188d8",
        "id": "f85dIhi7eT6J"
      },
      "execution_count": null,
      "outputs": [
        {
          "output_type": "stream",
          "name": "stdout",
          "text": [
            "Eh preciso comprar 646 pacotinhos para completar o album\n",
            "##\n",
            "O gasto medio para completar eh de 864 reais\n",
            "A figurinda mais repetida foi repetida em media 16 vezes\n",
            "Em media, 0 figurinhas nao se repetem ao completar o album\n",
            "A probabilidade de se gastar mais de R$3000 para completar o album eh de 0.0%\n",
            "A probabilidade de se gastar menos de R$1500 para completar o album eh de 100.1%\n",
            "A probabilidade de se gastar mais do que a media para completar o album eh de 0.0%\n"
          ]
        }
      ]
    },
    {
      "cell_type": "code",
      "source": [
        "import random\n",
        "\n",
        "total=251\n",
        "preco=4\n",
        "album=10\n",
        "\n",
        "pcts=[]\n",
        "precos=[]\n",
        "\n",
        "for n in range (1001):\n",
        "\n",
        "  num_pacotes=0\n",
        "  completo=[0]*total\n",
        "  a=0\n",
        "  contagem=0\n",
        "\n",
        "  while True:\n",
        "\n",
        "    pacote=set(random.sample(range(total),4))\n",
        "    num_pacotes+=1\n",
        "\n",
        "    for fig in pacote:\n",
        "      completo[fig]+=1\n",
        "      if completo[fig]==1:\n",
        "        contagem+=1\n",
        "\n",
        "    if contagem>188:\n",
        "      break\n",
        "\n",
        "  gasto=album+(preco*num_pacotes)\n",
        "  pcts.append(num_pacotes)\n",
        "  precos.append(gasto)\n",
        "  \n",
        "\n",
        "  for i in completo:\n",
        "    if completo[i]>a:\n",
        "      a=completo[i]\n",
        "  test.append(a)\n",
        "  test2.append(completo.count(1))\n",
        "\n",
        "pcts_medio=round(sum(pcts)/1000)\n",
        "preco_medio=round(sum(precos)/1000)\n",
        "\n",
        "\n",
        "print(f'Eh preciso comprar {pcts_medio} pacotinhos para completar 75% do album')\n",
        "print('##')\n",
        "print(f'O gasto medio para completar eh de {preco_medio} reais')"
      ],
      "metadata": {
        "colab": {
          "base_uri": "https://localhost:8080/"
        },
        "id": "21IZnQUPjA7i",
        "outputId": "47a81551-0564-40a1-d52b-083380bac0c4"
      },
      "execution_count": null,
      "outputs": [
        {
          "output_type": "stream",
          "name": "stdout",
          "text": [
            "Eh preciso comprar 87 pacotinhos para completar 75% do album\n",
            "##\n",
            "O gasto medio para completar eh de 359 reais\n"
          ]
        }
      ]
    },
    {
      "cell_type": "code",
      "source": [
        "a=0\n",
        "test=[a]\n",
        "for i in completo:\n",
        "  if completo[i]>a:\n",
        "    a=completo[i]\n",
        "    test.append(a)\n",
        "\n",
        "print(a)\n",
        "print(test)\n"
      ],
      "metadata": {
        "colab": {
          "base_uri": "https://localhost:8080/"
        },
        "id": "w2Pbyk24NkjC",
        "outputId": "d2103266-4f4e-4964-fb3c-3335071e71d6"
      },
      "execution_count": null,
      "outputs": [
        {
          "output_type": "stream",
          "name": "stdout",
          "text": [
            "8\n",
            "[0, 5, 7, 8]\n"
          ]
        }
      ]
    },
    {
      "cell_type": "code",
      "source": [
        "completo.count(1)"
      ],
      "metadata": {
        "colab": {
          "base_uri": "https://localhost:8080/"
        },
        "id": "mEun9Xd5PZyS",
        "outputId": "a9db23bc-2c46-468e-cbf8-35c1a93cd2b0"
      },
      "execution_count": null,
      "outputs": [
        {
          "output_type": "execute_result",
          "data": {
            "text/plain": [
              "11"
            ]
          },
          "metadata": {},
          "execution_count": 109
        }
      ]
    },
    {
      "cell_type": "code",
      "source": [
        "print(precos)"
      ],
      "metadata": {
        "colab": {
          "base_uri": "https://localhost:8080/"
        },
        "id": "Uw7dFS_0m8vp",
        "outputId": "daa12360-b592-4993-85e2-0d7e6592eabb"
      },
      "execution_count": null,
      "outputs": [
        {
          "output_type": "stream",
          "name": "stdout",
          "text": [
            "[1442, 1346, 1574, 1070, 2902, 1170, 2310, 1498, 1462, 1346, 1530, 1050, 1466, 1478, 1794, 1414, 1678, 1498, 1322, 1478, 1354, 2750, 1242, 1454, 1650, 1486, 1290, 1878, 1062, 1734, 1562, 1394, 1518, 1422, 1662, 1610, 1294, 1738, 1374, 1138, 1570, 1910, 1958, 1502, 1366, 1902, 1238, 1826, 1438, 1230, 1094, 2250, 1250, 1186, 1226, 1402, 1370, 1410, 1286, 1346, 2170, 1598, 1934, 1850, 1926, 2082, 1346, 1358, 1794, 1634, 1082, 1270, 1814, 1742, 1658, 1610, 1546, 1570, 1198, 1250, 1250, 1714, 1718, 1590, 1622, 1710, 1430, 1166, 1478, 1834, 1298, 1558, 1162, 1406, 1286, 1226, 1266, 1510, 1198, 1466, 1354, 1606, 1366, 1490, 1286, 2634, 1570, 1526, 1666, 1442, 2354, 1290, 1774, 1830, 1778, 1038, 1278, 1906, 2254, 1622, 1498, 1730, 1070, 1290, 1282, 1298, 1442, 1214, 1670, 1170, 1302, 1750, 1570, 1342, 1410, 1950, 1754, 1470, 1506, 1494, 1858, 1534, 1366, 1410, 1482, 950, 1510, 1182, 1338, 1162, 1202, 1618, 1446, 1042, 1574, 1426, 1774, 1210, 1078, 1270, 2218, 1658, 1210, 1370, 1294, 1530, 1450, 1746, 1962, 1526, 2110, 1758, 1486, 1490, 1526, 1498, 1174, 1506, 1510, 1726, 1514, 1470, 1854, 1774, 1262, 1974, 1310, 1606, 1498, 1466, 1502, 2066, 1122, 1714, 1982, 1318, 1138, 1890, 1278, 1402, 1226, 1482, 1334, 1330, 1410, 1658, 1134, 1290, 1650, 1874, 1734, 1810, 1874, 1546, 1030, 1246, 1422, 1398, 1530, 1306, 2234, 1242, 2026, 1002, 1762, 1106, 1654, 1090, 1510, 1322, 2358, 1646, 2094, 1286, 1174, 1366, 1618, 1462, 1402, 1250, 2162, 1258, 1710, 2026, 1846, 1318, 1342, 1894, 1534, 1878, 1538, 1338, 2094, 1646, 1022, 1462, 1330, 1350, 2118, 1466, 1170, 1902, 1266, 1710, 1570, 1858, 1370, 1342, 1490, 1294, 1418, 1518, 2126, 1150, 2950, 1594, 1270, 1166, 1566, 1414, 1454, 1762, 2250, 1302, 1298, 1378, 1098, 1490, 1414, 1238, 1990, 1302, 1514, 1590, 1230, 1354, 1386, 1702, 1466, 1930, 2866, 1146, 1918, 1614, 1310, 1698, 1594, 1694, 1554, 1270, 1302, 1182, 1778, 1446, 1214, 998, 2134, 1418, 1054, 1318, 1146, 2018, 1630, 1398, 1626, 1674, 2378, 1498, 1194, 1118, 1078, 1822, 2174, 1486, 1234, 1394, 1578, 1334, 1382, 1286, 2170, 1498, 1918, 1458, 1654, 1366, 1762, 1238, 1614, 1946, 1474, 1198, 1510, 1442, 1402, 1718, 1214, 1906, 1358, 2566, 1694, 1294, 1826, 1270, 1594, 1406, 1810, 1670, 1274, 1306, 1666, 1210, 1150, 1506, 1778, 1202, 1478, 1602, 1722, 1674, 1314, 1802, 1438, 1366, 1274, 2158, 1290, 1178, 1342, 1434, 1470, 1650, 1538, 1542, 1342, 2006, 1830, 3130, 1474, 1622, 1302, 1630, 2038, 2390, 1434, 1662, 1582, 1206, 1502, 1402, 2034, 1094, 1542, 1318, 1486, 1694, 1694, 1366, 1426, 1454, 1474, 1354, 1534, 1246, 1330, 1346, 1478, 1298, 1710, 1038, 1486, 1618, 1294, 2550, 1322, 1542, 1306, 2034, 2206, 1222, 1554, 1562, 1666, 1254, 1382, 1190, 1238, 1142, 1750, 1262, 1218, 1706, 1634, 1718, 2454, 1378, 1358, 1462, 1450, 1438, 2082, 854, 1802, 1298, 1342, 1810, 2458, 2146, 1362, 1898, 1466, 1566, 1498, 1734, 1442, 1578, 1418, 1842, 1738, 1834, 1630, 1394, 950, 1470, 1978, 1830, 1346, 1694, 1746, 1462, 1302, 1226, 1330, 1182, 1554, 1590, 1366, 1290, 1106, 1414, 1574, 1662, 1322, 1450, 1342, 1794, 1278, 1266, 1566, 1650, 1678, 1530, 1966, 1674, 1426, 2786, 1362, 1670, 1250, 1554, 1518, 1822, 1310, 2170, 1870, 1778, 1966, 1534, 1258, 1522, 1050, 1810, 2022, 1378, 946, 1158, 1354, 2886, 1306, 1502, 2118, 1738, 1474, 1438, 1306, 1254, 1278, 1490, 1214, 1334, 1154, 1206, 2902, 1306, 1470, 1750, 1274, 1542, 1466, 1750, 1446, 1358, 1430, 1166, 1406, 1074, 1134, 2286, 1290, 1498, 1346, 1962, 1546, 1606, 1466, 1398, 1498, 1214, 978, 1670, 1418, 1066, 1366, 1818, 1434, 1446, 1986, 1670, 1566, 1522, 1314, 1294, 1594, 1862, 1482, 1542, 1622, 1762, 2290, 1382, 1518, 1498, 1562, 1170, 1306, 1090, 1582, 1534, 1370, 1902, 1330, 1158, 1214, 1574, 1746, 2158, 1270, 2130, 1762, 2754, 1810, 1422, 1646, 1658, 974, 1518, 1254, 1326, 1950, 1266, 994, 1578, 1234, 1458, 2002, 2014, 1682, 1162, 1326, 1090, 1586, 914, 1190, 1590, 1334, 1730, 1594, 1338, 1714, 1770, 1682, 1470, 1082, 1534, 1934, 1766, 1542, 1550, 1502, 1538, 1490, 1406, 1242, 1202, 1638, 1590, 2534, 1642, 1410, 1814, 1410, 1450, 1078, 2122, 1534, 1894, 1778, 1250, 1182, 1470, 1798, 1390, 2130, 1662, 2098, 1186, 2074, 1634, 1230, 1146, 1578, 1434, 1566, 1382, 1302, 1442, 1242, 1846, 1338, 1426, 1286, 1758, 1738, 1294, 1326, 2014, 1566, 1342, 1698, 1442, 1194, 1538, 1454, 1974, 1610, 1402, 1302, 1522, 1482, 1410, 1582, 1154, 1194, 1610, 1758, 1950, 1206, 1466, 1242, 2206, 1874, 1574, 1662, 1402, 1350, 2034, 1386, 1314, 2298, 1382, 1258, 1926, 2218, 2382, 1118, 2082, 1254, 1010, 1498, 1750, 1082, 1850, 1182, 1318, 1690, 1662, 1378, 1550, 2022, 1818, 2014, 1238, 1438, 1670, 1318, 1222, 1482, 1678, 1678, 1342, 1414, 1462, 1350, 1446, 1602, 1678, 1582, 1418, 1782, 1186, 1502, 1434, 1798, 1118, 1642, 1306, 1382, 1998, 2042, 1446, 2426, 1850, 1958, 1206, 1834, 1422, 1474, 1314, 1538, 1586, 2018, 1426, 1802, 1702, 1270, 1362, 1410, 1318, 1278, 1206, 1846, 1550, 1198, 1446, 1334, 1626, 2242, 1174, 1566, 1186, 1510, 1226, 1314, 1198, 1642, 1214, 1830, 1654, 1990, 1198, 1462, 1838, 1822, 1446, 1254, 1954, 1654, 1426, 1882, 1414, 1086, 1194, 1854, 1462, 1298, 1702, 1430, 1342, 1730, 1538, 1206, 1410, 1246, 1466, 1238, 2234, 1258, 1334, 1454, 1814, 1386, 1242, 1786, 1578, 1266, 1070, 2234, 1354, 1310, 1866, 1698, 1434, 1542, 1518, 1386, 1294, 1502, 1166, 1290, 1646, 1150, 2818, 1890, 1806, 2234, 1714, 1394, 1234, 1166, 1694, 1386, 1374, 1402, 1546, 1738, 1218, 1290, 1582, 1166, 1402, 1806, 1446, 1274, 1406, 1346, 1722, 1302, 1646, 1470, 1946, 1558, 1474, 1302, 1402, 1394, 1286, 1062, 1650, 1126, 1258, 1046, 1318, 1334, 1134, 1534, 2154, 998, 1426, 1686, 1594, 1702, 1526, 1766, 1622, 1366, 1310, 1314, 1386, 2226, 1490, 1626, 1346, 1322, 1370, 2062, 1358, 1750, 1158, 1262, 1186, 2314, 1514, 1422, 1310, 1386, 1690, 1626, 1246, 1874, 1238, 1250, 1634, 1366, 2078, 1478, 1674, 1758, 1294, 1206, 1290, 2122, 1634, 1338, 1474, 1814, 2554, 1174, 2054, 1650, 2162, 2050, 1846, 1266, 1146, 1366, 1478, 1490, 1406, 1694, 1306, 1502, 1290, 1874, 1710, 1246, 1270, 1122, 1490, 1482, 1190, 1602]\n"
          ]
        }
      ]
    },
    {
      "cell_type": "markdown",
      "source": [
        "# Live\n",
        "## Live notes"
      ],
      "metadata": {
        "id": "b5UXirCnMhdi"
      }
    },
    {
      "cell_type": "code",
      "source": [
        "frutas = ['ban', 'mac', 'abc']\n",
        "\n",
        "for i, fruta in enumerate(frutas):\n",
        "  print(f'fruta numero {i+1}:',fruta)"
      ],
      "metadata": {
        "colab": {
          "base_uri": "https://localhost:8080/"
        },
        "id": "4cfM-uKzLdF2",
        "outputId": "31d94b4e-d22e-4501-d4fc-483afad240e8"
      },
      "execution_count": null,
      "outputs": [
        {
          "output_type": "stream",
          "name": "stdout",
          "text": [
            "fruta numero 1: ban\n",
            "fruta numero 2: mac\n",
            "fruta numero 3: abc\n"
          ]
        }
      ]
    },
    {
      "cell_type": "markdown",
      "source": [
        "# Aula 11 Numpy"
      ],
      "metadata": {
        "id": "01Lnb_dCAIkF"
      }
    },
    {
      "cell_type": "code",
      "source": [
        "listaa=[1, 2, 3, 4]\n",
        "\n",
        "import numpy as np\n",
        "vetor= np.array(listaa)\n",
        "print(vetor)\n",
        "\n",
        "matrix= np.array([ [2,4], [5,6] ])\n",
        "print(matrix)"
      ],
      "metadata": {
        "id": "1ZzG-hKyaXZT",
        "colab": {
          "base_uri": "https://localhost:8080/"
        },
        "outputId": "0fbec5ae-9324-4fb9-9183-90898b6445d7"
      },
      "execution_count": null,
      "outputs": [
        {
          "output_type": "stream",
          "name": "stdout",
          "text": [
            "[1 2 3 4]\n",
            "[[2 4]\n",
            " [5 6]]\n"
          ]
        }
      ]
    },
    {
      "cell_type": "code",
      "source": [
        "np.array([0]*5)\n",
        "np.zeros(5)\n",
        "\n",
        "print([0]*5)\n",
        "print(np.array([0]*5))\n",
        "print(np.zeros(5))\n",
        "\n",
        "print(np.zeros(5,dtype=int))\n",
        "\n"
      ],
      "metadata": {
        "id": "C2_ovhoelNJR",
        "colab": {
          "base_uri": "https://localhost:8080/"
        },
        "outputId": "39ce01a9-44ac-436d-f913-1de1dcbe644a"
      },
      "execution_count": null,
      "outputs": [
        {
          "output_type": "stream",
          "name": "stdout",
          "text": [
            "[0, 0, 0, 0, 0]\n",
            "[0 0 0 0 0]\n",
            "[0. 0. 0. 0. 0.]\n",
            "[0 0 0 0 0]\n"
          ]
        }
      ]
    },
    {
      "cell_type": "code",
      "source": [
        "c=np.ones(5)\n",
        "type(c[1])\n"
      ],
      "metadata": {
        "id": "X1HozTmJl1Yz",
        "colab": {
          "base_uri": "https://localhost:8080/"
        },
        "outputId": "4ae9d0f1-425b-4d94-ee61-e43f4e85aff7"
      },
      "execution_count": null,
      "outputs": [
        {
          "output_type": "execute_result",
          "data": {
            "text/plain": [
              "numpy.float64"
            ]
          },
          "metadata": {},
          "execution_count": 51
        }
      ]
    },
    {
      "cell_type": "code",
      "source": [
        "print(np.eye(3))\n",
        "d=np.array([[1, 2, 3],[1,2,3],[1,2,3] ])\n",
        "print(d)\n",
        "\n",
        "e=np.eye(3).dot(d)\n",
        "print(e)"
      ],
      "metadata": {
        "id": "CCbgWS2kmUqv",
        "colab": {
          "base_uri": "https://localhost:8080/"
        },
        "outputId": "6eed420e-a18e-48f9-d588-2fdb1ef1bf3e"
      },
      "execution_count": null,
      "outputs": [
        {
          "output_type": "stream",
          "name": "stdout",
          "text": [
            "[[1. 0. 0.]\n",
            " [0. 1. 0.]\n",
            " [0. 0. 1.]]\n",
            "[[1 2 3]\n",
            " [1 2 3]\n",
            " [1 2 3]]\n",
            "[[1. 2. 3.]\n",
            " [1. 2. 3.]\n",
            " [1. 2. 3.]]\n"
          ]
        }
      ]
    },
    {
      "cell_type": "code",
      "source": [
        "np.eye(3) @ d"
      ],
      "metadata": {
        "id": "O4ljtamEniYb",
        "colab": {
          "base_uri": "https://localhost:8080/"
        },
        "outputId": "01a3dafd-6d72-43b2-b841-8bf6b866df8a"
      },
      "execution_count": null,
      "outputs": [
        {
          "output_type": "execute_result",
          "data": {
            "text/plain": [
              "array([[1., 2., 3.],\n",
              "       [1., 2., 3.],\n",
              "       [1., 2., 3.]])"
            ]
          },
          "metadata": {},
          "execution_count": 53
        }
      ]
    },
    {
      "cell_type": "code",
      "source": [
        "print(vetor)\n",
        "matrix1=vetor.reshape(2,2)\n",
        "print(matrix1)"
      ],
      "metadata": {
        "id": "N7nHlee8nNRZ",
        "colab": {
          "base_uri": "https://localhost:8080/"
        },
        "outputId": "c096eba5-fa47-4786-8011-f316ede809ff"
      },
      "execution_count": null,
      "outputs": [
        {
          "output_type": "stream",
          "name": "stdout",
          "text": [
            "[1 2 3 4]\n",
            "[[1 2]\n",
            " [3 4]]\n"
          ]
        }
      ]
    },
    {
      "cell_type": "code",
      "source": [
        "g=5.5\n",
        "print(np.ceil(g))\n",
        "print(np.floor(g))"
      ],
      "metadata": {
        "id": "Jn-zZEnmIFLQ",
        "colab": {
          "base_uri": "https://localhost:8080/"
        },
        "outputId": "459be757-67a2-488b-b419-49c1522b0285"
      },
      "execution_count": null,
      "outputs": [
        {
          "output_type": "stream",
          "name": "stdout",
          "text": [
            "6.0\n",
            "5.0\n"
          ]
        }
      ]
    },
    {
      "cell_type": "code",
      "source": [
        "h=np.linalg.inv(matrix)\n",
        "print(h)"
      ],
      "metadata": {
        "colab": {
          "base_uri": "https://localhost:8080/"
        },
        "id": "ztqzAJ5IcJ2E",
        "outputId": "90c268eb-b485-4e66-9b09-1bcc8d23af87"
      },
      "execution_count": null,
      "outputs": [
        {
          "output_type": "stream",
          "name": "stdout",
          "text": [
            "[[-0.75   0.5  ]\n",
            " [ 0.625 -0.25 ]]\n"
          ]
        }
      ]
    },
    {
      "cell_type": "code",
      "source": [
        "h @ matrix\n",
        "# h.dot(matrix)"
      ],
      "metadata": {
        "colab": {
          "base_uri": "https://localhost:8080/"
        },
        "id": "rZsMJjfnd6TC",
        "outputId": "cabd1f6d-0c96-46be-971e-da3ad5402e8d"
      },
      "execution_count": null,
      "outputs": [
        {
          "output_type": "execute_result",
          "data": {
            "text/plain": [
              "array([[ 1.00000000e+00, -2.22044605e-16],\n",
              "       [-5.55111512e-17,  1.00000000e+00]])"
            ]
          },
          "metadata": {},
          "execution_count": 73
        }
      ]
    },
    {
      "cell_type": "code",
      "source": [
        "matrix.transpose()"
      ],
      "metadata": {
        "colab": {
          "base_uri": "https://localhost:8080/"
        },
        "id": "0DL2heKDfKX7",
        "outputId": "0865453a-926b-440f-85d9-09e75a43cc09"
      },
      "execution_count": null,
      "outputs": [
        {
          "output_type": "execute_result",
          "data": {
            "text/plain": [
              "array([[2, 5],\n",
              "       [4, 6]])"
            ]
          },
          "metadata": {},
          "execution_count": 70
        }
      ]
    },
    {
      "cell_type": "markdown",
      "source": [
        "## Exercicio Proposto"
      ],
      "metadata": {
        "id": "bUqRuJb-gA5U"
      }
    },
    {
      "cell_type": "code",
      "source": [
        "X=np.array([[1, 12], [3,10], [2,11]])\n",
        "y=np.array([[5], [4], [7]])\n",
        "m=np.transpose(X)\n",
        "n=m @ X\n",
        "o=np.linalg.inv(n)\n",
        "p=o @ m\n",
        "b=p @ y\n",
        "\n",
        "print('A matrix resultante eh:')\n",
        "print(b)"
      ],
      "metadata": {
        "colab": {
          "base_uri": "https://localhost:8080/"
        },
        "id": "GoZpgb7YgEz6",
        "outputId": "4932cd10-aa6a-4602-da5f-db7d22ef6bd7"
      },
      "execution_count": null,
      "outputs": [
        {
          "output_type": "stream",
          "name": "stdout",
          "text": [
            "A matrix resultante eh:\n",
            "[[-0.01282051]\n",
            " [ 0.48717949]]\n"
          ]
        }
      ]
    }
  ],
  "metadata": {
    "colab": {
      "name": "Carinatreinando2.ipynb",
      "provenance": [],
      "authorship_tag": "ABX9TyOpj6ESSqcNVj2JxRx3+KfG",
      "include_colab_link": true
    },
    "kernelspec": {
      "display_name": "Python 3",
      "name": "python3"
    },
    "language_info": {
      "name": "python"
    }
  },
  "nbformat": 4,
  "nbformat_minor": 0
}