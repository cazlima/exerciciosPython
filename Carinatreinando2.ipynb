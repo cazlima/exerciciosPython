{
  "cells": [
    {
      "cell_type": "markdown",
      "metadata": {
        "id": "view-in-github",
        "colab_type": "text"
      },
      "source": [
        "<a href=\"https://colab.research.google.com/github/cazlima/exerciciosPython/blob/main/Carinatreinando2.ipynb\" target=\"_parent\"><img src=\"https://colab.research.google.com/assets/colab-badge.svg\" alt=\"Open In Colab\"/></a>"
      ]
    },
    {
      "cell_type": "code",
      "execution_count": 4,
      "metadata": {
        "id": "hVuuOt-p89RD"
      },
      "outputs": [],
      "source": [
        "#megasena\n",
        "import random\n",
        "\n"
      ]
    },
    {
      "cell_type": "code",
      "execution_count": null,
      "metadata": {
        "colab": {
          "base_uri": "https://localhost:8080/"
        },
        "id": "GiLnUtEZFY91",
        "outputId": "75eadb49-5a43-44b4-f914-5edc452c36f7"
      },
      "outputs": [
        {
          "output_type": "stream",
          "name": "stdout",
          "text": [
            "23856\n",
            "eu acertei um numero 9026 vezes\n",
            "eu acertei dois numeros 2228 vezes\n",
            "eu acertei tres numeros 255 vezes\n",
            "eu acertei quatro numeros 11 vezes\n",
            "eu acertei cinco numeros 1 vezes\n",
            "eu acertei seis numeros 0 vezes\n",
            "116260\n",
            "eu acertei um numero 44092 vezes\n",
            "eu acertei dois numeros 10983 vezes\n",
            "eu acertei tres numeros 1177 vezes\n",
            "eu acertei quatro numeros 60 vezes\n",
            "eu acertei cinco numeros 1 vezes\n",
            "eu acertei seis numeros 0 vezes\n",
            "12413\n",
            "eu acertei um numero 4713 vezes\n",
            "eu acertei dois numeros 1102 vezes\n",
            "eu acertei tres numeros 128 vezes\n",
            "eu acertei quatro numeros 7 vezes\n",
            "eu acertei cinco numeros 1 vezes\n",
            "eu acertei seis numeros 0 vezes\n",
            "47159\n",
            "eu acertei um numero 17840 vezes\n",
            "eu acertei dois numeros 4420 vezes\n",
            "eu acertei tres numeros 484 vezes\n",
            "eu acertei quatro numeros 25 vezes\n",
            "eu acertei cinco numeros 1 vezes\n",
            "eu acertei seis numeros 0 vezes\n",
            "65681\n",
            "eu acertei um numero 24978 vezes\n",
            "eu acertei dois numeros 6239 vezes\n",
            "eu acertei tres numeros 617 vezes\n",
            "eu acertei quatro numeros 31 vezes\n",
            "eu acertei cinco numeros 1 vezes\n",
            "eu acertei seis numeros 0 vezes\n",
            "66790\n",
            "eu acertei um numero 25266 vezes\n",
            "eu acertei dois numeros 6342 vezes\n",
            "eu acertei tres numeros 645 vezes\n",
            "eu acertei quatro numeros 33 vezes\n",
            "eu acertei cinco numeros 1 vezes\n",
            "eu acertei seis numeros 0 vezes\n",
            "20392\n",
            "eu acertei um numero 7682 vezes\n",
            "eu acertei dois numeros 1909 vezes\n",
            "eu acertei tres numeros 217 vezes\n",
            "eu acertei quatro numeros 5 vezes\n",
            "eu acertei cinco numeros 1 vezes\n",
            "eu acertei seis numeros 0 vezes\n",
            "25995\n",
            "eu acertei um numero 9948 vezes\n",
            "eu acertei dois numeros 2434 vezes\n",
            "eu acertei tres numeros 263 vezes\n",
            "eu acertei quatro numeros 14 vezes\n",
            "eu acertei cinco numeros 1 vezes\n",
            "eu acertei seis numeros 0 vezes\n",
            "167020\n",
            "eu acertei um numero 62923 vezes\n",
            "eu acertei dois numeros 16046 vezes\n",
            "eu acertei tres numeros 1624 vezes\n",
            "eu acertei quatro numeros 61 vezes\n",
            "eu acertei cinco numeros 1 vezes\n",
            "eu acertei seis numeros 0 vezes\n",
            "13727\n",
            "eu acertei um numero 5174 vezes\n",
            "eu acertei dois numeros 1298 vezes\n",
            "eu acertei tres numeros 147 vezes\n",
            "eu acertei quatro numeros 3 vezes\n",
            "eu acertei cinco numeros 1 vezes\n",
            "eu acertei seis numeros 0 vezes\n",
            "55929.3\n"
          ]
        }
      ],
      "source": [
        "%%timeit\n",
        "lista=[]\n",
        "\n",
        "for n in range (10):\n",
        "\n",
        "  zero=0\n",
        "  um=0\n",
        "  dois=0\n",
        "  tres=0\n",
        "  quatro=0\n",
        "  cinco=0\n",
        "  seis=0\n",
        "\n",
        "  for i in range (2500000): \n",
        "\n",
        "    minha=set(random.sample(range(1,61),6))\n",
        "\n",
        "    sorteio=set(random.sample(range(1,61),6))\n",
        "\n",
        "    acertos=minha.intersection(sorteio)\n",
        "\n",
        "    num_acer=len(acertos)\n",
        "\n",
        "    if num_acer == 0:\n",
        "        zero+=1\n",
        "    elif num_acer == 1:\n",
        "        um+=1\n",
        "    elif  num_acer == 2:\n",
        "        dois+=1\n",
        "    elif  num_acer == 3:\n",
        "        tres+=1\n",
        "    elif  num_acer == 4:\n",
        "        quatro+=1\n",
        "    elif  num_acer == 5:\n",
        "        cinco+=1\n",
        "        print(i)\n",
        "        lista.append(i)\n",
        "        break\n",
        "    else:\n",
        "        seis+=1\n",
        "\n",
        "  print(f'eu acertei um numero {um} vezes')\n",
        "  print(f'eu acertei dois numeros {dois} vezes')\n",
        "  print(f'eu acertei tres numeros {tres} vezes')\n",
        "  print(f'eu acertei quatro numeros {quatro} vezes')\n",
        "  print(f'eu acertei cinco numeros {cinco} vezes')\n",
        "  print(f'eu acertei seis numeros {seis} vezes')\n",
        "summ=sum(lista)\n",
        "den=len(lista)\n",
        "media=summ/den\n",
        "print(media)\n"
      ]
    },
    {
      "cell_type": "code",
      "execution_count": 10,
      "metadata": {
        "colab": {
          "base_uri": "https://localhost:8080/"
        },
        "id": "Wr90ylW8H9Wb",
        "outputId": "887ebf8b-885e-4e22-a061-db57f3c0ff54"
      },
      "outputs": [
        {
          "output_type": "stream",
          "name": "stdout",
          "text": [
            "178863\n"
          ]
        }
      ],
      "source": [
        "print(round(media))"
      ]
    },
    {
      "cell_type": "code",
      "source": [
        "%reset"
      ],
      "metadata": {
        "colab": {
          "base_uri": "https://localhost:8080/"
        },
        "id": "OIpsGZ_EE269",
        "outputId": "d8348adc-7228-45cc-8ae7-9556f5ab7ba6"
      },
      "execution_count": 3,
      "outputs": [
        {
          "name": "stdout",
          "output_type": "stream",
          "text": [
            "Once deleted, variables cannot be recovered. Proceed (y/[n])? y\n"
          ]
        }
      ]
    },
    {
      "cell_type": "code",
      "source": [
        "%whos"
      ],
      "metadata": {
        "colab": {
          "base_uri": "https://localhost:8080/"
        },
        "id": "_h4NGgfFFHI6",
        "outputId": "e13af8b0-cf77-4aee-98b3-7af45797aef7"
      },
      "execution_count": 9,
      "outputs": [
        {
          "output_type": "stream",
          "name": "stdout",
          "text": [
            "Variable   Type      Data/Info\n",
            "------------------------------\n",
            "acertos    set       {39, 41, 50, 51, 28}\n",
            "cinco      int       1\n",
            "den        int       10\n",
            "dois       int       7027\n",
            "i          int       74245\n",
            "lista      list      n=10\n",
            "media      float     178863.1\n",
            "minha      set       {39, 41, 50, 51, 59, 28}\n",
            "n          int       9\n",
            "num_acer   int       5\n",
            "quatro     int       31\n",
            "random     module    <module 'random' from '/u<...>lib/python3.7/random.py'>\n",
            "seis       int       0\n",
            "sorteio    set       {39, 41, 11, 50, 51, 28}\n",
            "summ       int       1788631\n",
            "tres       int       696\n",
            "um         int       28008\n",
            "zero       int       38483\n"
          ]
        }
      ]
    },
    {
      "cell_type": "code",
      "execution_count": 11,
      "metadata": {
        "colab": {
          "base_uri": "https://localhost:8080/",
          "height": 487
        },
        "id": "nUWJKVkXNaOR",
        "outputId": "6f2e32f3-237a-4380-e732-bcdc940ddf26"
      },
      "outputs": [
        {
          "output_type": "error",
          "ename": "KeyboardInterrupt",
          "evalue": "ignored",
          "traceback": [
            "\u001b[0;31m---------------------------------------------------------------------------\u001b[0m",
            "\u001b[0;31mKeyboardInterrupt\u001b[0m                         Traceback (most recent call last)",
            "\u001b[0;32m<ipython-input-11-83b5be70c603>\u001b[0m in \u001b[0;36m<module>\u001b[0;34m()\u001b[0m\n\u001b[0;32m----> 1\u001b[0;31m \u001b[0mget_ipython\u001b[0m\u001b[0;34m(\u001b[0m\u001b[0;34m)\u001b[0m\u001b[0;34m.\u001b[0m\u001b[0mrun_cell_magic\u001b[0m\u001b[0;34m(\u001b[0m\u001b[0;34m'timeit'\u001b[0m\u001b[0;34m,\u001b[0m \u001b[0;34m''\u001b[0m\u001b[0;34m,\u001b[0m \u001b[0;34m\"\\nlista=[]\\n\\nfor n in range (1000):\\n\\n  zero=0\\n  um=0\\n  dois=0\\n  tres=0\\n  quatro=0\\n  cinco=0\\n  seis=0\\n\\n  for i in range (2500000): \\n\\n    minha=set(random.sample(range(1,61),6))\\n\\n    sorteio=set(random.sample(range(1,61),6))\\n\\n    acertos=minha.intersection(sorteio)\\n\\n    num_acer=len(acertos)\\n\\n    if num_acer == 0:\\n        zero+=1\\n    elif num_acer == 1:\\n        um+=1\\n    elif  num_acer == 2:\\n        dois+=1\\n    elif  num_acer == 3:\\n        tres+=1\\n    elif  num_acer == 4:\\n        quatro+=1\\n    elif  num_acer == 5:\\n        cinco+=1\\n        lista.append(i)\\n        break\\n    else:\\n        seis+=1\\n\\nsumm=sum(lista)\\nden=len(lista)\\nmedia=round(summ/den)\\nprint(f'Para acertar a quina preciso jogar em media {media} vezes')\"\u001b[0m\u001b[0;34m)\u001b[0m\u001b[0;34m\u001b[0m\u001b[0;34m\u001b[0m\u001b[0m\n\u001b[0m",
            "\u001b[0;32m/usr/local/lib/python3.7/dist-packages/IPython/core/interactiveshell.py\u001b[0m in \u001b[0;36mrun_cell_magic\u001b[0;34m(self, magic_name, line, cell)\u001b[0m\n\u001b[1;32m   2115\u001b[0m             \u001b[0mmagic_arg_s\u001b[0m \u001b[0;34m=\u001b[0m \u001b[0mself\u001b[0m\u001b[0;34m.\u001b[0m\u001b[0mvar_expand\u001b[0m\u001b[0;34m(\u001b[0m\u001b[0mline\u001b[0m\u001b[0;34m,\u001b[0m \u001b[0mstack_depth\u001b[0m\u001b[0;34m)\u001b[0m\u001b[0;34m\u001b[0m\u001b[0;34m\u001b[0m\u001b[0m\n\u001b[1;32m   2116\u001b[0m             \u001b[0;32mwith\u001b[0m \u001b[0mself\u001b[0m\u001b[0;34m.\u001b[0m\u001b[0mbuiltin_trap\u001b[0m\u001b[0;34m:\u001b[0m\u001b[0;34m\u001b[0m\u001b[0;34m\u001b[0m\u001b[0m\n\u001b[0;32m-> 2117\u001b[0;31m                 \u001b[0mresult\u001b[0m \u001b[0;34m=\u001b[0m \u001b[0mfn\u001b[0m\u001b[0;34m(\u001b[0m\u001b[0mmagic_arg_s\u001b[0m\u001b[0;34m,\u001b[0m \u001b[0mcell\u001b[0m\u001b[0;34m)\u001b[0m\u001b[0;34m\u001b[0m\u001b[0;34m\u001b[0m\u001b[0m\n\u001b[0m\u001b[1;32m   2118\u001b[0m             \u001b[0;32mreturn\u001b[0m \u001b[0mresult\u001b[0m\u001b[0;34m\u001b[0m\u001b[0;34m\u001b[0m\u001b[0m\n\u001b[1;32m   2119\u001b[0m \u001b[0;34m\u001b[0m\u001b[0m\n",
            "\u001b[0;32m<decorator-gen-52>\u001b[0m in \u001b[0;36mtimeit\u001b[0;34m(self, line, cell)\u001b[0m\n",
            "\u001b[0;32m/usr/local/lib/python3.7/dist-packages/IPython/core/magic.py\u001b[0m in \u001b[0;36m<lambda>\u001b[0;34m(f, *a, **k)\u001b[0m\n\u001b[1;32m    186\u001b[0m     \u001b[0;31m# but it's overkill for just that one bit of state.\u001b[0m\u001b[0;34m\u001b[0m\u001b[0;34m\u001b[0m\u001b[0;34m\u001b[0m\u001b[0m\n\u001b[1;32m    187\u001b[0m     \u001b[0;32mdef\u001b[0m \u001b[0mmagic_deco\u001b[0m\u001b[0;34m(\u001b[0m\u001b[0marg\u001b[0m\u001b[0;34m)\u001b[0m\u001b[0;34m:\u001b[0m\u001b[0;34m\u001b[0m\u001b[0;34m\u001b[0m\u001b[0m\n\u001b[0;32m--> 188\u001b[0;31m         \u001b[0mcall\u001b[0m \u001b[0;34m=\u001b[0m \u001b[0;32mlambda\u001b[0m \u001b[0mf\u001b[0m\u001b[0;34m,\u001b[0m \u001b[0;34m*\u001b[0m\u001b[0ma\u001b[0m\u001b[0;34m,\u001b[0m \u001b[0;34m**\u001b[0m\u001b[0mk\u001b[0m\u001b[0;34m:\u001b[0m \u001b[0mf\u001b[0m\u001b[0;34m(\u001b[0m\u001b[0;34m*\u001b[0m\u001b[0ma\u001b[0m\u001b[0;34m,\u001b[0m \u001b[0;34m**\u001b[0m\u001b[0mk\u001b[0m\u001b[0;34m)\u001b[0m\u001b[0;34m\u001b[0m\u001b[0;34m\u001b[0m\u001b[0m\n\u001b[0m\u001b[1;32m    189\u001b[0m \u001b[0;34m\u001b[0m\u001b[0m\n\u001b[1;32m    190\u001b[0m         \u001b[0;32mif\u001b[0m \u001b[0mcallable\u001b[0m\u001b[0;34m(\u001b[0m\u001b[0marg\u001b[0m\u001b[0;34m)\u001b[0m\u001b[0;34m:\u001b[0m\u001b[0;34m\u001b[0m\u001b[0;34m\u001b[0m\u001b[0m\n",
            "\u001b[0;32m/usr/local/lib/python3.7/dist-packages/IPython/core/magics/execution.py\u001b[0m in \u001b[0;36mtimeit\u001b[0;34m(self, line, cell)\u001b[0m\n\u001b[1;32m   1055\u001b[0m             \u001b[0mnumber\u001b[0m \u001b[0;34m=\u001b[0m \u001b[0;36m1\u001b[0m\u001b[0;34m\u001b[0m\u001b[0;34m\u001b[0m\u001b[0m\n\u001b[1;32m   1056\u001b[0m             \u001b[0;32mfor\u001b[0m \u001b[0m_\u001b[0m \u001b[0;32min\u001b[0m \u001b[0mrange\u001b[0m\u001b[0;34m(\u001b[0m\u001b[0;36m1\u001b[0m\u001b[0;34m,\u001b[0m \u001b[0;36m10\u001b[0m\u001b[0;34m)\u001b[0m\u001b[0;34m:\u001b[0m\u001b[0;34m\u001b[0m\u001b[0;34m\u001b[0m\u001b[0m\n\u001b[0;32m-> 1057\u001b[0;31m                 \u001b[0mtime_number\u001b[0m \u001b[0;34m=\u001b[0m \u001b[0mtimer\u001b[0m\u001b[0;34m.\u001b[0m\u001b[0mtimeit\u001b[0m\u001b[0;34m(\u001b[0m\u001b[0mnumber\u001b[0m\u001b[0;34m)\u001b[0m\u001b[0;34m\u001b[0m\u001b[0;34m\u001b[0m\u001b[0m\n\u001b[0m\u001b[1;32m   1058\u001b[0m                 \u001b[0mworst_tuning\u001b[0m \u001b[0;34m=\u001b[0m \u001b[0mmax\u001b[0m\u001b[0;34m(\u001b[0m\u001b[0mworst_tuning\u001b[0m\u001b[0;34m,\u001b[0m \u001b[0mtime_number\u001b[0m \u001b[0;34m/\u001b[0m \u001b[0mnumber\u001b[0m\u001b[0;34m)\u001b[0m\u001b[0;34m\u001b[0m\u001b[0;34m\u001b[0m\u001b[0m\n\u001b[1;32m   1059\u001b[0m                 \u001b[0;32mif\u001b[0m \u001b[0mtime_number\u001b[0m \u001b[0;34m>=\u001b[0m \u001b[0;36m0.2\u001b[0m\u001b[0;34m:\u001b[0m\u001b[0;34m\u001b[0m\u001b[0;34m\u001b[0m\u001b[0m\n",
            "\u001b[0;32m/usr/local/lib/python3.7/dist-packages/IPython/core/magics/execution.py\u001b[0m in \u001b[0;36mtimeit\u001b[0;34m(self, number)\u001b[0m\n\u001b[1;32m    137\u001b[0m         \u001b[0mgc\u001b[0m\u001b[0;34m.\u001b[0m\u001b[0mdisable\u001b[0m\u001b[0;34m(\u001b[0m\u001b[0;34m)\u001b[0m\u001b[0;34m\u001b[0m\u001b[0;34m\u001b[0m\u001b[0m\n\u001b[1;32m    138\u001b[0m         \u001b[0;32mtry\u001b[0m\u001b[0;34m:\u001b[0m\u001b[0;34m\u001b[0m\u001b[0;34m\u001b[0m\u001b[0m\n\u001b[0;32m--> 139\u001b[0;31m             \u001b[0mtiming\u001b[0m \u001b[0;34m=\u001b[0m \u001b[0mself\u001b[0m\u001b[0;34m.\u001b[0m\u001b[0minner\u001b[0m\u001b[0;34m(\u001b[0m\u001b[0mit\u001b[0m\u001b[0;34m,\u001b[0m \u001b[0mself\u001b[0m\u001b[0;34m.\u001b[0m\u001b[0mtimer\u001b[0m\u001b[0;34m)\u001b[0m\u001b[0;34m\u001b[0m\u001b[0;34m\u001b[0m\u001b[0m\n\u001b[0m\u001b[1;32m    140\u001b[0m         \u001b[0;32mfinally\u001b[0m\u001b[0;34m:\u001b[0m\u001b[0;34m\u001b[0m\u001b[0;34m\u001b[0m\u001b[0m\n\u001b[1;32m    141\u001b[0m             \u001b[0;32mif\u001b[0m \u001b[0mgcold\u001b[0m\u001b[0;34m:\u001b[0m\u001b[0;34m\u001b[0m\u001b[0;34m\u001b[0m\u001b[0m\n",
            "\u001b[0;32m<magic-timeit>\u001b[0m in \u001b[0;36minner\u001b[0;34m(_it, _timer)\u001b[0m\n",
            "\u001b[0;32m/usr/lib/python3.7/random.py\u001b[0m in \u001b[0;36msample\u001b[0;34m(self, population, k)\u001b[0m\n\u001b[1;32m    328\u001b[0m             \u001b[0mpool\u001b[0m \u001b[0;34m=\u001b[0m \u001b[0mlist\u001b[0m\u001b[0;34m(\u001b[0m\u001b[0mpopulation\u001b[0m\u001b[0;34m)\u001b[0m\u001b[0;34m\u001b[0m\u001b[0;34m\u001b[0m\u001b[0m\n\u001b[1;32m    329\u001b[0m             \u001b[0;32mfor\u001b[0m \u001b[0mi\u001b[0m \u001b[0;32min\u001b[0m \u001b[0mrange\u001b[0m\u001b[0;34m(\u001b[0m\u001b[0mk\u001b[0m\u001b[0;34m)\u001b[0m\u001b[0;34m:\u001b[0m         \u001b[0;31m# invariant:  non-selected at [0,n-i)\u001b[0m\u001b[0;34m\u001b[0m\u001b[0;34m\u001b[0m\u001b[0m\n\u001b[0;32m--> 330\u001b[0;31m                 \u001b[0mj\u001b[0m \u001b[0;34m=\u001b[0m \u001b[0mrandbelow\u001b[0m\u001b[0;34m(\u001b[0m\u001b[0mn\u001b[0m\u001b[0;34m-\u001b[0m\u001b[0mi\u001b[0m\u001b[0;34m)\u001b[0m\u001b[0;34m\u001b[0m\u001b[0;34m\u001b[0m\u001b[0m\n\u001b[0m\u001b[1;32m    331\u001b[0m                 \u001b[0mresult\u001b[0m\u001b[0;34m[\u001b[0m\u001b[0mi\u001b[0m\u001b[0;34m]\u001b[0m \u001b[0;34m=\u001b[0m \u001b[0mpool\u001b[0m\u001b[0;34m[\u001b[0m\u001b[0mj\u001b[0m\u001b[0;34m]\u001b[0m\u001b[0;34m\u001b[0m\u001b[0;34m\u001b[0m\u001b[0m\n\u001b[1;32m    332\u001b[0m                 \u001b[0mpool\u001b[0m\u001b[0;34m[\u001b[0m\u001b[0mj\u001b[0m\u001b[0;34m]\u001b[0m \u001b[0;34m=\u001b[0m \u001b[0mpool\u001b[0m\u001b[0;34m[\u001b[0m\u001b[0mn\u001b[0m\u001b[0;34m-\u001b[0m\u001b[0mi\u001b[0m\u001b[0;34m-\u001b[0m\u001b[0;36m1\u001b[0m\u001b[0;34m]\u001b[0m   \u001b[0;31m# move non-selected item into vacancy\u001b[0m\u001b[0;34m\u001b[0m\u001b[0;34m\u001b[0m\u001b[0m\n",
            "\u001b[0;32m/usr/lib/python3.7/random.py\u001b[0m in \u001b[0;36m_randbelow\u001b[0;34m(self, n, int, maxsize, type, Method, BuiltinMethod)\u001b[0m\n\u001b[1;32m    226\u001b[0m         \u001b[0;34m\"Return a random int in the range [0,n).  Raises ValueError if n==0.\"\u001b[0m\u001b[0;34m\u001b[0m\u001b[0;34m\u001b[0m\u001b[0m\n\u001b[1;32m    227\u001b[0m \u001b[0;34m\u001b[0m\u001b[0m\n\u001b[0;32m--> 228\u001b[0;31m         \u001b[0mrandom\u001b[0m \u001b[0;34m=\u001b[0m \u001b[0mself\u001b[0m\u001b[0;34m.\u001b[0m\u001b[0mrandom\u001b[0m\u001b[0;34m\u001b[0m\u001b[0;34m\u001b[0m\u001b[0m\n\u001b[0m\u001b[1;32m    229\u001b[0m         \u001b[0mgetrandbits\u001b[0m \u001b[0;34m=\u001b[0m \u001b[0mself\u001b[0m\u001b[0;34m.\u001b[0m\u001b[0mgetrandbits\u001b[0m\u001b[0;34m\u001b[0m\u001b[0;34m\u001b[0m\u001b[0m\n\u001b[1;32m    230\u001b[0m         \u001b[0;31m# Only call self.getrandbits if the original random() builtin method\u001b[0m\u001b[0;34m\u001b[0m\u001b[0;34m\u001b[0m\u001b[0;34m\u001b[0m\u001b[0m\n",
            "\u001b[0;31mKeyboardInterrupt\u001b[0m: "
          ]
        }
      ],
      "source": [
        "\n",
        "\n",
        "lista=[]\n",
        "\n",
        "for n in range (1000):\n",
        "\n",
        "  zero=0\n",
        "  um=0\n",
        "  dois=0\n",
        "  tres=0\n",
        "  quatro=0\n",
        "  cinco=0\n",
        "  seis=0\n",
        "\n",
        "  for i in range (2500000): \n",
        "\n",
        "    minha=set(random.sample(range(1,61),6))\n",
        "\n",
        "    sorteio=set(random.sample(range(1,61),6))\n",
        "\n",
        "    acertos=minha.intersection(sorteio)\n",
        "\n",
        "    num_acer=len(acertos)\n",
        "\n",
        "    if num_acer == 0:\n",
        "        zero+=1\n",
        "    elif num_acer == 1:\n",
        "        um+=1\n",
        "    elif  num_acer == 2:\n",
        "        dois+=1\n",
        "    elif  num_acer == 3:\n",
        "        tres+=1\n",
        "    elif  num_acer == 4:\n",
        "        quatro+=1\n",
        "    elif  num_acer == 5:\n",
        "        cinco+=1\n",
        "        lista.append(i)\n",
        "        break\n",
        "    else:\n",
        "        seis+=1\n",
        "\n",
        "summ=sum(lista)\n",
        "den=len(lista)\n",
        "media=round(summ/den)\n",
        "print(f'Para acertar a quina preciso jogar em media {media} vezes')"
      ]
    }
  ],
  "metadata": {
    "colab": {
      "name": "Carinatreinando2.ipynb",
      "provenance": [],
      "authorship_tag": "ABX9TyOO3LFZ/Lu0QAFV0PLBb+EQ",
      "include_colab_link": true
    },
    "kernelspec": {
      "display_name": "Python 3",
      "name": "python3"
    },
    "language_info": {
      "name": "python"
    }
  },
  "nbformat": 4,
  "nbformat_minor": 0
}