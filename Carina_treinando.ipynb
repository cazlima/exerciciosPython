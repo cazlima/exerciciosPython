{
  "nbformat": 4,
  "nbformat_minor": 0,
  "metadata": {
    "colab": {
      "name": "Carina treinando.ipynb",
      "provenance": [],
      "collapsed_sections": [],
      "toc_visible": true,
      "authorship_tag": "ABX9TyPuMj7Vdkh0+3rV2vZaQoKx",
      "include_colab_link": true
    },
    "kernelspec": {
      "name": "python3",
      "display_name": "Python 3"
    },
    "language_info": {
      "name": "python"
    }
  },
  "cells": [
    {
      "cell_type": "markdown",
      "metadata": {
        "id": "view-in-github",
        "colab_type": "text"
      },
      "source": [
        "<a href=\"https://colab.research.google.com/github/cazlima/exerciciosPython/blob/main/Carina_treinando.ipynb\" target=\"_parent\"><img src=\"https://colab.research.google.com/assets/colab-badge.svg\" alt=\"Open In Colab\"/></a>"
      ]
    },
    {
      "cell_type": "code",
      "execution_count": null,
      "metadata": {
        "colab": {
          "base_uri": "https://localhost:8080/"
        },
        "id": "ArFHQbvMyUUP",
        "outputId": "f3aa8498-5c92-49e4-d3ed-31b5e8ec31db"
      },
      "outputs": [
        {
          "output_type": "stream",
          "name": "stdout",
          "text": [
            "hello\n"
          ]
        }
      ],
      "source": [
        "print('hello')"
      ]
    },
    {
      "cell_type": "code",
      "source": [
        "# titulo"
      ],
      "metadata": {
        "id": "ylPWuf95yzNI"
      },
      "execution_count": null,
      "outputs": []
    },
    {
      "cell_type": "markdown",
      "source": [
        "# Titulo\n",
        "## Subtitulo\n"
      ],
      "metadata": {
        "id": "wYdy29B3y2Hj"
      }
    },
    {
      "cell_type": "markdown",
      "source": [
        ""
      ],
      "metadata": {
        "id": "vDSycMflzEnw"
      }
    },
    {
      "cell_type": "code",
      "source": [
        "print('Seja bem vindo!\\n ao data science \\n\\n de hoje!!!')"
      ],
      "metadata": {
        "colab": {
          "base_uri": "https://localhost:8080/"
        },
        "id": "czFTBwhEzGvp",
        "outputId": "c64525db-25b1-43ae-c705-bc2d490ec4e0"
      },
      "execution_count": null,
      "outputs": [
        {
          "output_type": "stream",
          "name": "stdout",
          "text": [
            "Seja bem vindo!\n",
            " ao data science \n",
            "\n",
            " de hoje!!!\n"
          ]
        }
      ]
    },
    {
      "cell_type": "code",
      "source": [
        "meu_nome = 'Carina'\n",
        "meu_namo = 'Jean'\n",
        "idade = 32\n",
        "idade_dele = 29\n",
        "sobrenome = 'Lima'\n",
        "print(meu_nome)\n",
        "print('Meu namo eh', meu_namo)"
      ],
      "metadata": {
        "colab": {
          "base_uri": "https://localhost:8080/"
        },
        "id": "PvjifIJ9zYia",
        "outputId": "8ee9c919-58ec-4c69-dd73-87caa6f1b46e"
      },
      "execution_count": null,
      "outputs": [
        {
          "output_type": "stream",
          "name": "stdout",
          "text": [
            "Carina\n",
            "Meu namo eh Jean\n"
          ]
        }
      ]
    },
    {
      "cell_type": "code",
      "source": [
        "idade - idade_dele"
      ],
      "metadata": {
        "colab": {
          "base_uri": "https://localhost:8080/"
        },
        "id": "qYGz-MdL0XCP",
        "outputId": "85ebaac4-c7e8-4999-c921-e03e7dda7a57"
      },
      "execution_count": null,
      "outputs": [
        {
          "output_type": "execute_result",
          "data": {
            "text/plain": [
              "3"
            ]
          },
          "metadata": {},
          "execution_count": 8
        }
      ]
    },
    {
      "cell_type": "code",
      "source": [
        "import builtins\n",
        "a = 3\n",
        "b = 2\n",
        "print(a+b)\n",
        "print(a-b)\n",
        "print(a*b)\n",
        "print(a/b)\n",
        "print(a//b)\n",
        "print(a%b) \n",
        "print(a ** b)\n"
      ],
      "metadata": {
        "colab": {
          "base_uri": "https://localhost:8080/"
        },
        "id": "CQsF07CF0d3-",
        "outputId": "08b14d49-32d8-48ab-be42-c60c9fb3a05f"
      },
      "execution_count": null,
      "outputs": [
        {
          "output_type": "stream",
          "name": "stdout",
          "text": [
            "5\n",
            "1\n",
            "6\n",
            "1.5\n",
            "1\n",
            "1\n",
            "9\n"
          ]
        }
      ]
    },
    {
      "cell_type": "markdown",
      "source": [
        ""
      ],
      "metadata": {
        "id": "--6VX2YhC3hs"
      }
    },
    {
      "cell_type": "code",
      "source": [
        "b-a"
      ],
      "metadata": {
        "colab": {
          "base_uri": "https://localhost:8080/"
        },
        "id": "P5DvvBx91QU5",
        "outputId": "13fcdd57-7fbd-4ac9-8a65-d7a7efc67c00"
      },
      "execution_count": null,
      "outputs": [
        {
          "output_type": "execute_result",
          "data": {
            "text/plain": [
              "-1"
            ]
          },
          "metadata": {},
          "execution_count": 11
        }
      ]
    },
    {
      "cell_type": "code",
      "source": [
        "abs(b-a)"
      ],
      "metadata": {
        "colab": {
          "base_uri": "https://localhost:8080/"
        },
        "id": "iVu-nbKG1TGu",
        "outputId": "df4af1bd-b070-4a7e-e276-684305eb8800"
      },
      "execution_count": null,
      "outputs": [
        {
          "output_type": "execute_result",
          "data": {
            "text/plain": [
              "1"
            ]
          },
          "metadata": {},
          "execution_count": 12
        }
      ]
    },
    {
      "cell_type": "code",
      "source": [
        "print(max(a,b))\n",
        "print(min(a,b))"
      ],
      "metadata": {
        "colab": {
          "base_uri": "https://localhost:8080/"
        },
        "id": "gHh7HMfB1Xi_",
        "outputId": "362a111b-5169-4860-8079-711e587cc038"
      },
      "execution_count": null,
      "outputs": [
        {
          "output_type": "stream",
          "name": "stdout",
          "text": [
            "3\n",
            "2\n"
          ]
        }
      ]
    },
    {
      "cell_type": "markdown",
      "source": [
        "\n",
        "◾ Exercício Proposto\n",
        "Faça um programa que receba como entrada a área e o perímetro de uma residência. A partir de tais valores, calcule o custo para colocar piso no chão dessa casa e o custo para pintar as paredes dessa casa. Faça as suposições necessárias."
      ],
      "metadata": {
        "id": "HeRXnsRcC6QN"
      }
    },
    {
      "cell_type": "code",
      "source": [
        "area=float(input('Entre com a area da casa:'))\n",
        "perimetro=float(input('Entre com o perimetro da casa:'))\n",
        "altura=float(input('Entre com a altura da casa:'))"
      ],
      "metadata": {
        "colab": {
          "base_uri": "https://localhost:8080/"
        },
        "id": "ogB0SDyyDC-z",
        "outputId": "605415ae-e6f3-46f8-e753-ea003ae053ef"
      },
      "execution_count": null,
      "outputs": [
        {
          "name": "stdout",
          "output_type": "stream",
          "text": [
            "Entre com a area da casa:35\n",
            "Entre com o perimetro da casa:27\n",
            "Entre com a altura da casa:4\n"
          ]
        }
      ]
    },
    {
      "cell_type": "code",
      "source": [
        "# x*y=area x+x+y+y=perimetro \n",
        "# piso no chao = $4 por m2 .. $4*area +10%\n",
        "# pintar as paredes = $5 por m2 +10%\n",
        "pisoporm2 = 4\n",
        "custo_piso = pisoporm2*area*1.1\n",
        "pintarporm2 = 5\n",
        "custo_pintar = pintarporm2*perimetro*altura*1.1\n",
        "print('O custo de colocar pisa no chao dessa casa eh',custo_piso)\n",
        "print('O custo para pintar as paredes dessa casa eh',custo_pintar)\n",
        "print(round(custo_piso))\n",
        "print(round(custo_pintar))"
      ],
      "metadata": {
        "colab": {
          "base_uri": "https://localhost:8080/"
        },
        "id": "Vvcb-1i2DcZk",
        "outputId": "e71441fa-1ed6-4c1a-f3ca-70f5c07fc73d"
      },
      "execution_count": null,
      "outputs": [
        {
          "output_type": "stream",
          "name": "stdout",
          "text": [
            "O custo de colocar pisa no chao dessa casa eh 154.0\n",
            "O custo para pintar as paredes dessa casa eh 594.0\n",
            "154\n",
            "594\n"
          ]
        }
      ]
    },
    {
      "cell_type": "code",
      "source": [
        "listaG = ['A', 35, ['Alice', 'Johnny', [35, [0,1,'F'], 29], 1987], ['Python', 'para', 'DS'] ]\n",
        "listaG[2]\n",
        "listaG[2][2]\n",
        "listaG[2][2][1]\n",
        "listaG[2][2][1][2]"
      ],
      "metadata": {
        "id": "3FlWu0GEjp9q",
        "colab": {
          "base_uri": "https://localhost:8080/",
          "height": 36
        },
        "outputId": "1476337d-68ca-4e3e-e3c7-2062968634a6"
      },
      "execution_count": null,
      "outputs": [
        {
          "output_type": "execute_result",
          "data": {
            "text/plain": [
              "'F'"
            ],
            "application/vnd.google.colaboratory.intrinsic+json": {
              "type": "string"
            }
          },
          "metadata": {},
          "execution_count": 5
        }
      ]
    },
    {
      "cell_type": "code",
      "source": [
        "id = input()\n",
        "print(id)\n",
        "\n",
        "nome = 'Carina'\n",
        "idade = 30\n",
        "print(f'Meu nome e ',{nome},'e minha idade e ',{idade})"
      ],
      "metadata": {
        "colab": {
          "base_uri": "https://localhost:8080/"
        },
        "id": "EYF78xGCvDYY",
        "outputId": "23c9c068-22b7-4d8a-f28f-6e40f5784fc8"
      },
      "execution_count": null,
      "outputs": [
        {
          "output_type": "stream",
          "name": "stdout",
          "text": [
            "30\n",
            "30\n",
            "Meu nome e  {'Carina'} e minha idade e  {30}\n"
          ]
        }
      ]
    },
    {
      "cell_type": "code",
      "source": [
        "Nomes=['joao', 'alice', 'ricardo', 'andre']\n",
        "email=['joao@flai.com.br', 'alice@gmail.com.br', 'ricardo@hotmail.com.br', 'andre@hotmail.com.br']\n",
        "n_nomes = len(Nomes)\n",
        "n_emails = len(email)\n",
        "print(f'O numero de alunos eh ',n_nomes)\n",
        "print(f'Seu nomes sao:')\n",
        "print(Nomes)\n",
        "print(f'O numero de emails eh ',n_emails)\n",
        "print(f'Seus emails sao:')\n",
        "print(email)\n"
      ],
      "metadata": {
        "colab": {
          "base_uri": "https://localhost:8080/"
        },
        "id": "YQ1BBsdFwol4",
        "outputId": "114b4541-69c2-4a68-9bc1-0e6f0ec0e06e"
      },
      "execution_count": null,
      "outputs": [
        {
          "output_type": "stream",
          "name": "stdout",
          "text": [
            "O numero de alunos eh  4\n",
            "Seu nomes sao:\n",
            "['joao', 'alice', 'ricardo', 'andre']\n",
            "O numero de emails eh  4\n",
            "Seus emails sao:\n",
            "['joao@flai.com.br', 'alice@gmail.com.br', 'ricardo@hotmail.com.br', 'andre@hotmail.com.br']\n"
          ]
        }
      ]
    },
    {
      "cell_type": "code",
      "source": [
        "combo1=email[0].split('@')\n",
        "combo2=email[1].split('@')\n",
        "combo3=email[2].split('@')\n",
        "combo4=email[3].split('@')\n",
        "\n",
        "print(f'Os nomes dos alunos sao {combo1[0]},{combo2[0]}, {combo3[0]} e {combo4[0]} ')\n",
        "Names=[combo1[0],combo2[0], combo3[0], combo4[0]]\n",
        "print(Names)\n",
        "print(f'Os servidores dos alunos sao {combo1[1]}, {combo2[1]}, {combo3[1]} e {combo4[1]} ')\n",
        "Servs=[combo1[1],combo2[1], combo3[1], combo4[1]]\n",
        "print(Servs)"
      ],
      "metadata": {
        "colab": {
          "base_uri": "https://localhost:8080/"
        },
        "id": "9qzjiEx1NPca",
        "outputId": "3220bb30-29b3-43bf-b8d8-a200a04947d4"
      },
      "execution_count": null,
      "outputs": [
        {
          "output_type": "stream",
          "name": "stdout",
          "text": [
            "Os nomes dos alunos sao joao,alice, ricardo e andre \n",
            "['joao', 'alice', 'ricardo', 'andre']\n",
            "Os servidores dos alunos sao flai.com.br, gmail.com.br, hotmail.com.br e outlook.com.br \n",
            "['flai.com.br', 'gmail.com.br', 'hotmail.com.br', 'outlook.com.br']\n"
          ]
        }
      ]
    },
    {
      "cell_type": "code",
      "source": [
        "usuarios=[]\n",
        "for i in range(0,4):\n",
        "  usuarios.append(email[i].split('@')[0])\n",
        "\n",
        "servidores=[]\n",
        "servidores.append(email[0].split('@')[1].split('.')[0])\n",
        "servidores.append(email[1].split('@')[1].split('.')[0])\n",
        "servidores.append(email[2].split('@')[1].split('.')[0])\n",
        "servidores.append(email[3].split('@')[1].split('.')[0])\n",
        "\n",
        "print(f'Os nomes dos alunos sao {usuarios[0]},{usuarios[1]}, {usuarios[2]} e {usuarios[3]} ')\n",
        "print(usuarios)\n",
        "print(f'Os servidores dos alunos sao {servidores[0]},{servidores[1]}, {servidores[2]} e {servidores[3]} ')\n",
        "print(servidores)\n",
        "\n",
        "print('Numero de emails da Flai:',servidores.count('flai'))\n",
        "print('Numero de emails da Hotmail:',servidores.count('hotmail'))\n",
        "print('Numero de emails da Gmail:',servidores.count('gmail'))\n"
      ],
      "metadata": {
        "colab": {
          "base_uri": "https://localhost:8080/"
        },
        "id": "Fo6CxjSpPABg",
        "outputId": "e8d860e0-b81c-4416-e3dd-a4903a341676"
      },
      "execution_count": null,
      "outputs": [
        {
          "output_type": "stream",
          "name": "stdout",
          "text": [
            "Os nomes dos alunos sao joao,alice, ricardo e andre \n",
            "['joao', 'alice', 'ricardo', 'andre']\n",
            "Os servidores dos alunos sao flai,gmail, hotmail e hotmail \n",
            "['flai', 'gmail', 'hotmail', 'hotmail']\n",
            "Numero de emails da Flai: 1\n",
            "Numero de emails da Hotmail: 2\n",
            "Numero de emails da Gmail: 1\n"
          ]
        }
      ]
    },
    {
      "cell_type": "code",
      "source": [
        "n_nomes!=n_emails\n",
        "type(Nomes[1])\n",
        "\n",
        "print(any([True, False]))\n",
        "\n",
        "all([True, False])"
      ],
      "metadata": {
        "colab": {
          "base_uri": "https://localhost:8080/"
        },
        "id": "O0RXC1wgz2SG",
        "outputId": "44e21640-7792-4d4e-f95a-cc1557783619"
      },
      "execution_count": null,
      "outputs": [
        {
          "output_type": "stream",
          "name": "stdout",
          "text": [
            "True\n"
          ]
        },
        {
          "output_type": "execute_result",
          "data": {
            "text/plain": [
              "False"
            ]
          },
          "metadata": {},
          "execution_count": 29
        }
      ]
    },
    {
      "cell_type": "code",
      "source": [
        "name = input('Digite seu nome:')\n",
        "idade = int(input('Digite sua idade:'))\n",
        "renda = int(input('Digite sua renda mensal:'))\n",
        "empregado = int(input('Se tiver empregado, digite 1, se nao estiver, digite 0:'))\n",
        "\n"
      ],
      "metadata": {
        "colab": {
          "base_uri": "https://localhost:8080/"
        },
        "id": "Yi4jAZkY01xB",
        "outputId": "92b4102f-667a-40f8-f47a-04f794f3f369"
      },
      "execution_count": null,
      "outputs": [
        {
          "name": "stdout",
          "output_type": "stream",
          "text": [
            "Digite seu nome:Cinderela\n",
            "Digite sua idade:40\n",
            "Digite sua renda mensal:1400\n",
            "Se tiver empregado, digite 1, se nao estiver, digite 0:1\n"
          ]
        }
      ]
    },
    {
      "cell_type": "code",
      "source": [
        "type(empregado)"
      ],
      "metadata": {
        "colab": {
          "base_uri": "https://localhost:8080/"
        },
        "id": "7byR5OP_3Jg1",
        "outputId": "1d2436c4-81b9-45f8-acb9-8699f9ffcfde"
      },
      "execution_count": null,
      "outputs": [
        {
          "output_type": "execute_result",
          "data": {
            "text/plain": [
              "int"
            ]
          },
          "metadata": {},
          "execution_count": 47
        }
      ]
    },
    {
      "cell_type": "code",
      "source": [
        "if empregado > 0:\n",
        "    score = 490*((idade/75)+(renda/10000))\n",
        "else:\n",
        "    score = 455*((idade/75)+(renda/10000))\n",
        "\n",
        "print(round(score,2))"
      ],
      "metadata": {
        "colab": {
          "base_uri": "https://localhost:8080/"
        },
        "id": "f0lHWcj92aCq",
        "outputId": "b8fe95f4-e381-4675-bb69-77c6f78a7112"
      },
      "execution_count": null,
      "outputs": [
        {
          "output_type": "stream",
          "name": "stdout",
          "text": [
            "329.93\n"
          ]
        }
      ]
    },
    {
      "cell_type": "code",
      "source": [
        "if score < 501:\n",
        "    print('Voce eh de alto risco')\n",
        "elif score < 800:\n",
        "    print('Voce eh de medio risco')\n",
        "else:\n",
        "    print('Voce eh de baixo risco')\n"
      ],
      "metadata": {
        "colab": {
          "base_uri": "https://localhost:8080/"
        },
        "id": "09inWire3tx1",
        "outputId": "ef172e84-41ee-4493-c48d-bc797be07db3"
      },
      "execution_count": null,
      "outputs": [
        {
          "output_type": "stream",
          "name": "stdout",
          "text": [
            "Voce eh de alto risco\n"
          ]
        }
      ]
    },
    {
      "cell_type": "code",
      "source": [
        "bairros = ['aflitos', 'gracas', 'viagem', 'areias']\n",
        "\n",
        "for bairro in bairros:\n",
        "    noss=bairro.count('s')\n",
        "    print(f'Na palavra {bairro} aparece {noss} vez(es) a letra O')"
      ],
      "metadata": {
        "colab": {
          "base_uri": "https://localhost:8080/"
        },
        "id": "NxC3lIIa7jHa",
        "outputId": "2cf53d40-a272-4d81-cc1a-7688a75c6b1f"
      },
      "execution_count": null,
      "outputs": [
        {
          "output_type": "stream",
          "name": "stdout",
          "text": [
            "Na palavra aflitos aparece 1 vez(es) a letra O\n",
            "Na palavra gracas aparece 1 vez(es) a letra O\n",
            "Na palavra viagem aparece 0 vez(es) a letra O\n",
            "Na palavra areias aparece 1 vez(es) a letra O\n"
          ]
        }
      ]
    },
    {
      "cell_type": "code",
      "source": [
        "for i in range(1,10,1):\n",
        "    print('*'*i)\n"
      ],
      "metadata": {
        "colab": {
          "base_uri": "https://localhost:8080/"
        },
        "id": "WtWRZaiWBaiy",
        "outputId": "25941beb-08a6-499f-f86b-2e2235fc0869"
      },
      "execution_count": null,
      "outputs": [
        {
          "output_type": "stream",
          "name": "stdout",
          "text": [
            "*\n",
            "**\n",
            "***\n",
            "****\n",
            "*****\n",
            "******\n",
            "*******\n",
            "********\n",
            "*********\n"
          ]
        }
      ]
    },
    {
      "cell_type": "code",
      "source": [
        "contador = 0\n",
        "while contador < 10:\n",
        "  print('x'*contador)\n",
        "  contador=contador+1"
      ],
      "metadata": {
        "colab": {
          "base_uri": "https://localhost:8080/"
        },
        "id": "Q2HjWMd0CtRH",
        "outputId": "83ca3470-1dd5-4e3d-cbd8-a992994d7d7b"
      },
      "execution_count": null,
      "outputs": [
        {
          "output_type": "stream",
          "name": "stdout",
          "text": [
            "\n",
            "x\n",
            "xx\n",
            "xxx\n",
            "xxxx\n",
            "xxxxx\n",
            "xxxxxx\n",
            "xxxxxxx\n",
            "xxxxxxxx\n",
            "xxxxxxxxx\n"
          ]
        }
      ]
    },
    {
      "cell_type": "code",
      "source": [
        "contador=0\n",
        "while True:\n",
        "  print('x'*contador)\n",
        "  contador=contador+1\n",
        "  if contador == 11:\n",
        "    break"
      ],
      "metadata": {
        "colab": {
          "base_uri": "https://localhost:8080/"
        },
        "id": "efjSUGQBC7tb",
        "outputId": "6bb5eec4-6484-4bda-fc97-a066397768dc"
      },
      "execution_count": null,
      "outputs": [
        {
          "output_type": "stream",
          "name": "stdout",
          "text": [
            "\n",
            "x\n",
            "xx\n",
            "xxx\n",
            "xxxx\n",
            "xxxxx\n",
            "xxxxxx\n",
            "xxxxxxx\n",
            "xxxxxxxx\n",
            "xxxxxxxxx\n",
            "xxxxxxxxxx\n"
          ]
        }
      ]
    },
    {
      "cell_type": "code",
      "source": [
        ""
      ],
      "metadata": {
        "id": "ZNls-RV6Dnjn"
      },
      "execution_count": null,
      "outputs": []
    },
    {
      "cell_type": "code",
      "source": [
        "contador = 0\n",
        "while contador <= 10:\n",
        "    contador += 1 \n",
        "    print('*' * contador)\n",
        "   \n",
        "else:\n",
        "    print('*')"
      ],
      "metadata": {
        "colab": {
          "base_uri": "https://localhost:8080/"
        },
        "id": "AIn-ZaTEEO6E",
        "outputId": "e59cde70-1c48-464f-8e6b-45cd8516be7a"
      },
      "execution_count": null,
      "outputs": [
        {
          "output_type": "stream",
          "name": "stdout",
          "text": [
            "*\n",
            "**\n",
            "***\n",
            "****\n",
            "*****\n",
            "******\n",
            "*******\n",
            "********\n",
            "*********\n",
            "**********\n",
            "***********\n",
            "*\n"
          ]
        }
      ]
    },
    {
      "cell_type": "code",
      "source": [
        "num=int(input('Digite um numero de 0 a 10: '))\n",
        "num1=num*1\n",
        "num2=num*2\n",
        "num3=num*3\n",
        "num4=num*4\n",
        "num5=num*5\n",
        "print(f'{num} vezes 1 eh igual a {num1}')\n",
        "print(f'{num} vezes 2 eh igual a {num2}')\n",
        "print(f'{num} vezes 3 eh igual a {num3}')\n",
        "print(f'{num} vezes 4 eh igual a {num4}')\n",
        "print(f'{num} vezes 5 eh igual a {num5}')"
      ],
      "metadata": {
        "colab": {
          "base_uri": "https://localhost:8080/"
        },
        "id": "B5OP5_EmEdVq",
        "outputId": "04118223-e20e-4b84-e5b1-8a498800460c"
      },
      "execution_count": null,
      "outputs": [
        {
          "output_type": "stream",
          "name": "stdout",
          "text": [
            "Digite um numero de 0 a 10: 3\n",
            "3 vezes 1 eh igual a 3\n",
            "3 vezes 2 eh igual a 6\n",
            "3 vezes 3 eh igual a 9\n",
            "3 vezes 4 eh igual a 12\n",
            "3 vezes 5 eh igual a 15\n"
          ]
        }
      ]
    },
    {
      "cell_type": "code",
      "source": [
        "num=int(input('Digite um numero de 0 a 10: '))\n",
        "for i in range(11):\n",
        "  print(f'{num} * {i} = {num*i}')"
      ],
      "metadata": {
        "colab": {
          "base_uri": "https://localhost:8080/"
        },
        "id": "IZZ0AxqnA4c_",
        "outputId": "b3ccd3b8-9d39-421d-d63e-ac22b4d01847"
      },
      "execution_count": null,
      "outputs": [
        {
          "output_type": "stream",
          "name": "stdout",
          "text": [
            "Digite um numero de 0 a 10: 8\n",
            "8 * 0 = 0\n",
            "8 * 1 = 8\n",
            "8 * 2 = 16\n",
            "8 * 3 = 24\n",
            "8 * 4 = 32\n",
            "8 * 5 = 40\n",
            "8 * 6 = 48\n",
            "8 * 7 = 56\n",
            "8 * 8 = 64\n",
            "8 * 9 = 72\n",
            "8 * 10 = 80\n"
          ]
        }
      ]
    },
    {
      "cell_type": "code",
      "source": [
        "frutas = ['maçã', 'limão', 'kiwi', 'tomate', 'banana','morango', 'abacate', 'abacaxi', 'mexirica', 'pera', 'uva']\n",
        "\n",
        "numa=0\n",
        "while numa<3:\n",
        "  for fruta in frutas:\n",
        "    numa=fruta.count('a')\n",
        "    if numa >= 3:\n",
        "      break\n",
        "    print(fruta)\n",
        "    print(numa)\n",
        "    "
      ],
      "metadata": {
        "colab": {
          "base_uri": "https://localhost:8080/"
        },
        "id": "eOL_kt88Fg1K",
        "outputId": "f40613f0-5067-45a4-8bcc-e00868e2557d"
      },
      "execution_count": null,
      "outputs": [
        {
          "output_type": "stream",
          "name": "stdout",
          "text": [
            "maçã\n",
            "1\n",
            "limão\n",
            "0\n",
            "kiwi\n",
            "0\n",
            "tomate\n",
            "1\n"
          ]
        }
      ]
    },
    {
      "cell_type": "code",
      "source": [
        "frutas = ['maçã', 'limão', 'kiwi', 'tomate', 'banana','morango', 'abacate', 'abacaxi', 'mexirica', 'pera', 'uva']\n",
        "\n",
        "numa=0\n",
        "lis=[]\n",
        "for fruta in frutas:\n",
        "  numa=len(fruta)\n",
        "  if numa >= 8:\n",
        "    break\n",
        "  else:\n",
        "    lis.append(fruta)\n",
        "print(lis)"
      ],
      "metadata": {
        "colab": {
          "base_uri": "https://localhost:8080/"
        },
        "id": "fMreYBlH_6J-",
        "outputId": "aa28e8a1-5614-4abe-d92f-95f29c173b55"
      },
      "execution_count": null,
      "outputs": [
        {
          "output_type": "stream",
          "name": "stdout",
          "text": [
            "['maçã', 'limão', 'kiwi', 'tomate', 'banana', 'morango', 'abacate', 'abacaxi']\n"
          ]
        }
      ]
    },
    {
      "cell_type": "code",
      "source": [
        "import random\n",
        "amostra = random.sample(range(1,11),5)\n",
        "print(amostra)"
      ],
      "metadata": {
        "colab": {
          "base_uri": "https://localhost:8080/"
        },
        "id": "pPm4koPoILxu",
        "outputId": "b985101e-17b3-493f-eb66-4651f7735ee8"
      },
      "execution_count": null,
      "outputs": [
        {
          "output_type": "stream",
          "name": "stdout",
          "text": [
            "[5, 6, 4, 1, 3]\n"
          ]
        }
      ]
    },
    {
      "cell_type": "code",
      "source": [
        "\n",
        "def tabuada(num):\n",
        "  num1=num*1\n",
        "  num2=num*2\n",
        "  num3=num*3\n",
        "  num4=num*4\n",
        "  num5=num*5\n",
        "  num6=num*6\n",
        "  num7=num*7\n",
        "  num8=num*8\n",
        "  num9=num*9\n",
        "  num10=num*10\n",
        "  print(f'{num} vezes 1 eh igual a {num1}')\n",
        "  print(f'{num} vezes 2 eh igual a {num2}')\n",
        "  print(f'{num} vezes 3 eh igual a {num3}')\n",
        "  print(f'{num} vezes 4 eh igual a {num4}')\n",
        "  print(f'{num} vezes 5 eh igual a {num5}')\n",
        "  print(f'{num} vezes 6 eh igual a {num6}')\n",
        "  print(f'{num} vezes 7 eh igual a {num7}')\n",
        "  print(f'{num} vezes 8 eh igual a {num8}')\n",
        "  print(f'{num} vezes 9 eh igual a {num9}')"
      ],
      "metadata": {
        "id": "Q4ZWZ8yoIlEe"
      },
      "execution_count": null,
      "outputs": []
    },
    {
      "cell_type": "code",
      "source": [
        "tabuada(3)"
      ],
      "metadata": {
        "colab": {
          "base_uri": "https://localhost:8080/"
        },
        "id": "Cbr2hFojJG6A",
        "outputId": "c0715e1b-fcf3-4509-c88e-1614b93e580a"
      },
      "execution_count": null,
      "outputs": [
        {
          "output_type": "stream",
          "name": "stdout",
          "text": [
            "3 vezes 1 eh igual a 3\n",
            "3 vezes 2 eh igual a 6\n",
            "3 vezes 3 eh igual a 9\n",
            "3 vezes 4 eh igual a 12\n",
            "3 vezes 5 eh igual a 15\n",
            "3 vezes 6 eh igual a 18\n",
            "3 vezes 7 eh igual a 21\n",
            "3 vezes 8 eh igual a 24\n",
            "3 vezes 9 eh igual a 27\n"
          ]
        }
      ]
    },
    {
      "cell_type": "code",
      "source": [
        "def somaqua(lista):\n",
        "  soma=0\n",
        "  for item in lista:\n",
        "    soma+=item**2\n",
        "  return soma"
      ],
      "metadata": {
        "id": "stBfSMiHJ5Do"
      },
      "execution_count": null,
      "outputs": []
    },
    {
      "cell_type": "code",
      "source": [
        "somaqua([1,2,3,4])"
      ],
      "metadata": {
        "colab": {
          "base_uri": "https://localhost:8080/"
        },
        "id": "XBhU-5HDKQP9",
        "outputId": "54d62aef-10db-4216-bf34-a632f047f681"
      },
      "execution_count": null,
      "outputs": [
        {
          "output_type": "execute_result",
          "data": {
            "text/plain": [
              "30"
            ]
          },
          "metadata": {},
          "execution_count": 47
        }
      ]
    },
    {
      "cell_type": "code",
      "source": [
        "\n",
        "\n"
      ],
      "metadata": {
        "id": "Og6uEUKCKbw6"
      },
      "execution_count": null,
      "outputs": []
    },
    {
      "cell_type": "code",
      "source": [
        "def somaqua(lista, pot):\n",
        "  soma=0\n",
        "  for item in lista:\n",
        "    soma+=item**pot\n",
        "  return soma"
      ],
      "metadata": {
        "id": "ojHqGJKFKdnW"
      },
      "execution_count": null,
      "outputs": []
    },
    {
      "cell_type": "code",
      "source": [
        "somaqua([1,2,3,4],pot=3)\n"
      ],
      "metadata": {
        "colab": {
          "base_uri": "https://localhost:8080/"
        },
        "id": "A-HSE4W4Khxh",
        "outputId": "94f36650-c77a-4b63-9a6f-4672da46a8ac"
      },
      "execution_count": null,
      "outputs": [
        {
          "output_type": "execute_result",
          "data": {
            "text/plain": [
              "100"
            ]
          },
          "metadata": {},
          "execution_count": 52
        }
      ]
    },
    {
      "cell_type": "code",
      "source": [
        "def jogatina(rep,rd,z):\n",
        "  import random\n",
        "\n",
        "  somadado=[]\n",
        "  for n in range(rep):\n",
        "    dado=random.sample(range(1,7),5)\n",
        "    somadado.append(round(sum(dado)))\n",
        "\n",
        "  print(somadado)\n",
        "\n",
        "  num20=somadado.count(20)\n",
        "  print(num20)\n",
        "  probabilidade=num20/rep\n",
        "  roundp=round(probabilidade,rd)\n",
        "  if z > 0:\n",
        "    probcem=100*probabilidade\n",
        "    probcem=round(probcem,rd)\n",
        "    print(f'a probabilibilidade eh de {probcem} %')\n",
        "  else:\n",
        "    print(f'a probabilibilidade eh de {roundp}')\n",
        "\n"
      ],
      "metadata": {
        "id": "Uv6iTjY8Mdz5"
      },
      "execution_count": null,
      "outputs": []
    },
    {
      "cell_type": "code",
      "source": [
        "jogatina(1000,2,0)"
      ],
      "metadata": {
        "colab": {
          "base_uri": "https://localhost:8080/"
        },
        "id": "DaUWL32lYzPQ",
        "outputId": "08eaec17-5a68-4905-f463-478f0a95c3ae"
      },
      "execution_count": null,
      "outputs": [
        {
          "output_type": "stream",
          "name": "stdout",
          "text": [
            "[20, 15, 20, 18, 17, 15, 16, 18, 15, 19, 18, 15, 20, 20, 19, 16, 19, 19, 19, 20, 19, 20, 20, 16, 16, 17, 15, 18, 16, 20, 15, 15, 15, 20, 17, 16, 17, 19, 19, 20, 17, 15, 20, 19, 15, 20, 19, 20, 17, 20, 20, 17, 18, 15, 20, 17, 17, 19, 19, 16, 20, 18, 19, 17, 20, 16, 17, 19, 18, 18, 19, 18, 16, 16, 15, 19, 19, 16, 15, 20, 17, 16, 15, 18, 17, 18, 17, 15, 15, 19, 20, 17, 16, 20, 18, 17, 15, 18, 18, 19, 15, 19, 19, 15, 20, 19, 19, 18, 16, 19, 18, 15, 18, 16, 18, 18, 18, 17, 17, 15, 15, 17, 19, 16, 16, 18, 19, 19, 20, 20, 17, 17, 19, 16, 15, 15, 16, 18, 19, 18, 16, 20, 19, 19, 20, 19, 20, 16, 18, 18, 17, 18, 15, 19, 16, 19, 20, 15, 18, 17, 17, 17, 17, 17, 16, 19, 18, 18, 17, 16, 16, 17, 18, 18, 17, 15, 19, 20, 15, 20, 20, 20, 19, 18, 20, 15, 15, 19, 20, 16, 17, 16, 18, 19, 20, 17, 16, 19, 20, 18, 15, 18, 17, 18, 19, 17, 16, 19, 16, 18, 19, 19, 15, 15, 19, 18, 18, 15, 15, 17, 18, 18, 15, 19, 17, 18, 20, 15, 20, 19, 18, 17, 17, 18, 19, 19, 20, 20, 16, 18, 18, 18, 18, 20, 17, 18, 20, 15, 17, 17, 16, 18, 16, 18, 17, 15, 19, 15, 16, 19, 19, 17, 16, 17, 19, 17, 16, 19, 17, 20, 16, 19, 17, 19, 18, 19, 19, 17, 15, 19, 18, 20, 17, 15, 17, 20, 17, 18, 17, 16, 15, 15, 15, 17, 17, 16, 17, 16, 19, 20, 15, 18, 20, 20, 20, 18, 17, 17, 15, 15, 16, 20, 17, 17, 19, 17, 16, 15, 17, 19, 15, 16, 15, 18, 16, 18, 19, 19, 19, 16, 19, 15, 19, 15, 20, 20, 19, 16, 18, 17, 18, 19, 17, 20, 17, 17, 15, 17, 17, 18, 15, 16, 16, 16, 15, 16, 16, 20, 15, 17, 16, 19, 19, 17, 20, 15, 15, 19, 15, 20, 16, 16, 16, 17, 16, 15, 19, 15, 15, 19, 19, 17, 17, 18, 18, 16, 20, 18, 17, 16, 19, 19, 19, 18, 20, 18, 15, 16, 19, 16, 18, 15, 19, 15, 20, 15, 19, 16, 18, 15, 15, 20, 20, 19, 19, 15, 15, 15, 18, 18, 19, 16, 20, 15, 19, 20, 20, 18, 19, 16, 20, 18, 16, 15, 17, 16, 15, 18, 19, 17, 20, 20, 17, 20, 18, 17, 19, 20, 20, 15, 17, 20, 20, 16, 15, 20, 19, 15, 17, 19, 16, 15, 15, 17, 16, 15, 17, 20, 20, 18, 15, 19, 15, 15, 20, 17, 15, 16, 16, 20, 18, 20, 18, 18, 15, 18, 20, 18, 20, 16, 15, 18, 17, 18, 16, 16, 18, 19, 18, 19, 17, 15, 17, 20, 15, 19, 18, 20, 17, 19, 17, 20, 17, 15, 16, 19, 18, 15, 19, 19, 15, 18, 17, 15, 17, 19, 18, 19, 16, 17, 17, 16, 17, 16, 15, 17, 20, 15, 18, 19, 16, 16, 19, 17, 16, 19, 18, 15, 17, 17, 20, 19, 16, 18, 16, 18, 17, 19, 19, 16, 18, 18, 17, 18, 16, 16, 18, 15, 15, 16, 16, 15, 16, 16, 17, 18, 18, 17, 19, 17, 17, 16, 16, 15, 15, 20, 20, 18, 16, 16, 16, 15, 17, 19, 16, 19, 20, 17, 19, 19, 17, 16, 20, 20, 16, 16, 16, 15, 20, 15, 19, 15, 19, 15, 18, 16, 17, 15, 18, 17, 19, 19, 18, 18, 17, 19, 19, 20, 20, 15, 20, 20, 20, 17, 15, 19, 18, 15, 17, 15, 16, 19, 19, 15, 20, 19, 15, 15, 20, 16, 16, 18, 18, 18, 16, 15, 20, 20, 16, 18, 18, 17, 20, 19, 19, 20, 17, 18, 17, 20, 18, 15, 18, 18, 17, 20, 19, 16, 17, 15, 19, 15, 18, 17, 20, 20, 20, 17, 20, 18, 18, 17, 19, 18, 16, 15, 16, 16, 17, 16, 18, 15, 17, 17, 20, 20, 20, 16, 20, 15, 19, 19, 20, 17, 17, 19, 18, 19, 18, 17, 18, 15, 17, 18, 16, 17, 16, 16, 20, 18, 16, 16, 19, 15, 16, 19, 19, 17, 15, 19, 17, 20, 17, 20, 15, 19, 18, 17, 17, 17, 16, 17, 15, 18, 19, 15, 18, 18, 16, 16, 16, 19, 15, 18, 19, 15, 16, 19, 15, 18, 18, 16, 18, 15, 19, 17, 16, 20, 16, 15, 16, 19, 15, 19, 15, 17, 20, 16, 16, 18, 18, 19, 16, 19, 19, 19, 15, 18, 17, 18, 15, 19, 18, 16, 19, 16, 17, 17, 15, 20, 16, 18, 15, 19, 18, 20, 15, 16, 17, 20, 16, 15, 15, 20, 17, 16, 16, 18, 18, 15, 18, 17, 16, 20, 19, 17, 18, 18, 17, 15, 16, 15, 16, 20, 20, 18, 19, 18, 17, 15, 17, 19, 18, 15, 19, 15, 16, 16, 15, 16, 20, 20, 19, 16, 19, 18, 15, 17, 17, 19, 17, 15, 15, 20, 15, 17, 20, 18, 17, 17, 19, 15, 19, 19, 17, 15, 16, 19, 19, 19, 19, 19, 17, 19, 20, 20, 16, 20, 18, 18, 17, 18, 17, 17, 19, 17, 18, 18, 20, 19, 16, 16, 17, 17, 15, 20, 20, 17, 16, 20, 15, 17, 20, 16, 15, 16, 17, 16, 19, 15, 17, 20, 20, 17, 18, 19, 18, 16, 17, 19, 20, 20, 20, 15, 17, 19, 15, 15, 18, 16, 17, 19, 20, 16, 19, 18, 15, 19, 19, 15, 15, 19, 20, 19, 18, 16, 15, 17, 17, 15, 20, 18, 15, 18, 17, 17, 19, 19, 15, 20, 20, 15, 17, 18, 16, 17, 18, 19, 17, 17, 20, 19, 15, 17, 18, 15, 20, 19, 18, 16]\n",
            "149\n",
            "a probabilibilidade eh de 0.15\n"
          ]
        }
      ]
    }
  ]
}