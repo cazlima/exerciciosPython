{
  "nbformat": 4,
  "nbformat_minor": 0,
  "metadata": {
    "colab": {
      "name": "Programacao Aula 14 e 15 - Carina.ipynb",
      "provenance": [],
      "authorship_tag": "ABX9TyPci/cmHKBhMpRcNHc3cP4Q",
      "include_colab_link": true
    },
    "kernelspec": {
      "name": "python3",
      "display_name": "Python 3"
    },
    "language_info": {
      "name": "python"
    }
  },
  "cells": [
    {
      "cell_type": "markdown",
      "metadata": {
        "id": "view-in-github",
        "colab_type": "text"
      },
      "source": [
        "<a href=\"https://colab.research.google.com/github/cazlima/exerciciosPython/blob/main/Programacao_Aula_14_e_15_Carina.ipynb\" target=\"_parent\"><img src=\"https://colab.research.google.com/assets/colab-badge.svg\" alt=\"Open In Colab\"/></a>"
      ]
    },
    {
      "cell_type": "markdown",
      "source": [
        "# Aula 14"
      ],
      "metadata": {
        "id": "Hnfjvsj0HSYn"
      }
    },
    {
      "cell_type": "code",
      "execution_count": 175,
      "metadata": {
        "id": "18fiJeUMUfI0"
      },
      "outputs": [],
      "source": [
        "import scipy.stats as ss"
      ]
    },
    {
      "cell_type": "code",
      "source": [
        "ss.uniform.pdf(0.5)"
      ],
      "metadata": {
        "colab": {
          "base_uri": "https://localhost:8080/"
        },
        "id": "O0eMw2c5VCnF",
        "outputId": "fe496e9a-fac7-42ee-c16b-59da0cf97212"
      },
      "execution_count": 176,
      "outputs": [
        {
          "output_type": "execute_result",
          "data": {
            "text/plain": [
              "1.0"
            ]
          },
          "metadata": {},
          "execution_count": 176
        }
      ]
    },
    {
      "cell_type": "code",
      "source": [
        "ss.uniform.pdf(1.3)"
      ],
      "metadata": {
        "colab": {
          "base_uri": "https://localhost:8080/"
        },
        "id": "NXZOdPJoVabb",
        "outputId": "11275768-ce74-4e58-89d4-8caf91afca51"
      },
      "execution_count": 177,
      "outputs": [
        {
          "output_type": "execute_result",
          "data": {
            "text/plain": [
              "0.0"
            ]
          },
          "metadata": {},
          "execution_count": 177
        }
      ]
    },
    {
      "cell_type": "code",
      "source": [
        "import numpy as np\n",
        "\n",
        "x = np.arange(-1,2,0.01)\n"
      ],
      "metadata": {
        "id": "O4tDPhacVkLn"
      },
      "execution_count": 178,
      "outputs": []
    },
    {
      "cell_type": "code",
      "source": [
        "ss.uniform.pdf(x)"
      ],
      "metadata": {
        "colab": {
          "base_uri": "https://localhost:8080/"
        },
        "id": "b66lzpyDV7qX",
        "outputId": "259a7da9-1c53-4b4b-87ed-fb8fc20d9b34"
      },
      "execution_count": 179,
      "outputs": [
        {
          "output_type": "execute_result",
          "data": {
            "text/plain": [
              "array([0., 0., 0., 0., 0., 0., 0., 0., 0., 0., 0., 0., 0., 0., 0., 0., 0.,\n",
              "       0., 0., 0., 0., 0., 0., 0., 0., 0., 0., 0., 0., 0., 0., 0., 0., 0.,\n",
              "       0., 0., 0., 0., 0., 0., 0., 0., 0., 0., 0., 0., 0., 0., 0., 0., 0.,\n",
              "       0., 0., 0., 0., 0., 0., 0., 0., 0., 0., 0., 0., 0., 0., 0., 0., 0.,\n",
              "       0., 0., 0., 0., 0., 0., 0., 0., 0., 0., 0., 0., 0., 0., 0., 0., 0.,\n",
              "       0., 0., 0., 0., 0., 0., 0., 0., 0., 0., 0., 0., 0., 0., 0., 1., 1.,\n",
              "       1., 1., 1., 1., 1., 1., 1., 1., 1., 1., 1., 1., 1., 1., 1., 1., 1.,\n",
              "       1., 1., 1., 1., 1., 1., 1., 1., 1., 1., 1., 1., 1., 1., 1., 1., 1.,\n",
              "       1., 1., 1., 1., 1., 1., 1., 1., 1., 1., 1., 1., 1., 1., 1., 1., 1.,\n",
              "       1., 1., 1., 1., 1., 1., 1., 1., 1., 1., 1., 1., 1., 1., 1., 1., 1.,\n",
              "       1., 1., 1., 1., 1., 1., 1., 1., 1., 1., 1., 1., 1., 1., 1., 1., 1.,\n",
              "       1., 1., 1., 1., 1., 1., 1., 1., 1., 1., 1., 1., 1., 0., 0., 0., 0.,\n",
              "       0., 0., 0., 0., 0., 0., 0., 0., 0., 0., 0., 0., 0., 0., 0., 0., 0.,\n",
              "       0., 0., 0., 0., 0., 0., 0., 0., 0., 0., 0., 0., 0., 0., 0., 0., 0.,\n",
              "       0., 0., 0., 0., 0., 0., 0., 0., 0., 0., 0., 0., 0., 0., 0., 0., 0.,\n",
              "       0., 0., 0., 0., 0., 0., 0., 0., 0., 0., 0., 0., 0., 0., 0., 0., 0.,\n",
              "       0., 0., 0., 0., 0., 0., 0., 0., 0., 0., 0., 0., 0., 0., 0., 0., 0.,\n",
              "       0., 0., 0., 0., 0., 0., 0., 0., 0., 0., 0.])"
            ]
          },
          "metadata": {},
          "execution_count": 179
        }
      ]
    },
    {
      "cell_type": "code",
      "source": [
        "import matplotlib.pyplot as plt\n"
      ],
      "metadata": {
        "id": "qkk9Te7jWI-s"
      },
      "execution_count": 180,
      "outputs": []
    },
    {
      "cell_type": "code",
      "source": [
        "y=ss.uniform.pdf(x)\n",
        "plt.plot(x,y)"
      ],
      "metadata": {
        "colab": {
          "base_uri": "https://localhost:8080/",
          "height": 283
        },
        "id": "9yKPZBcOWT62",
        "outputId": "29df7fe3-3394-4a61-ee42-44142f64400a"
      },
      "execution_count": 181,
      "outputs": [
        {
          "output_type": "execute_result",
          "data": {
            "text/plain": [
              "[<matplotlib.lines.Line2D at 0x7fccb3b01450>]"
            ]
          },
          "metadata": {},
          "execution_count": 181
        },
        {
          "output_type": "display_data",
          "data": {
            "text/plain": [
              "<Figure size 432x288 with 1 Axes>"
            ],
            "image/png": "[encoded data removed]"
          },
          "metadata": {
            "needs_background": "light"
          }
        }
      ]
    },
    {
      "cell_type": "code",
      "source": [
        "y=ss.uniform.pdf(x, loc=1, scale=2)\n",
        "plt.plot(x,y)"
      ],
      "metadata": {
        "colab": {
          "base_uri": "https://localhost:8080/",
          "height": 283
        },
        "id": "nrZGrRbfWpMo",
        "outputId": "842bc597-1584-42f8-e754-895fa502b096"
      },
      "execution_count": 182,
      "outputs": [
        {
          "output_type": "execute_result",
          "data": {
            "text/plain": [
              "[<matplotlib.lines.Line2D at 0x7fccb35ab310>]"
            ]
          },
          "metadata": {},
          "execution_count": 182
        },
        {
          "output_type": "display_data",
          "data": {
            "text/plain": [
              "<Figure size 432x288 with 1 Axes>"
            ],
            "image/png": "[encoded data removed]"
          },
          "metadata": {
            "needs_background": "light"
          }
        }
      ]
    },
    {
      "cell_type": "code",
      "source": [
        "x = np.arange(-1,4,0.01)\n",
        "y=ss.uniform.pdf(x, loc=1, scale=2)\n",
        "plt.plot(x,y)\n"
      ],
      "metadata": {
        "colab": {
          "base_uri": "https://localhost:8080/",
          "height": 283
        },
        "id": "YAbLk7YpW9k8",
        "outputId": "56c3c015-86bd-43af-e0c1-102f0cd7188f"
      },
      "execution_count": 183,
      "outputs": [
        {
          "output_type": "execute_result",
          "data": {
            "text/plain": [
              "[<matplotlib.lines.Line2D at 0x7fccb3586c50>]"
            ]
          },
          "metadata": {},
          "execution_count": 183
        },
        {
          "output_type": "display_data",
          "data": {
            "text/plain": [
              "<Figure size 432x288 with 1 Axes>"
            ],
            "image/png": "[encoded data removed]"
          },
          "metadata": {
            "needs_background": "light"
          }
        }
      ]
    },
    {
      "cell_type": "code",
      "source": [
        "x = np.arange(-1,4,0.01)\n",
        "y=ss.norm.pdf(x, loc=1, scale=1)\n",
        "plt.plot(x,y)"
      ],
      "metadata": {
        "colab": {
          "base_uri": "https://localhost:8080/",
          "height": 283
        },
        "id": "WwstvDynXg3-",
        "outputId": "e2c87c75-2cc9-4543-dd44-a76a9122ebcd"
      },
      "execution_count": 184,
      "outputs": [
        {
          "output_type": "execute_result",
          "data": {
            "text/plain": [
              "[<matplotlib.lines.Line2D at 0x7fccb34996d0>]"
            ]
          },
          "metadata": {},
          "execution_count": 184
        },
        {
          "output_type": "display_data",
          "data": {
            "text/plain": [
              "<Figure size 432x288 with 1 Axes>"
            ],
            "image/png": "[encoded data removed]"
          },
          "metadata": {
            "needs_background": "light"
          }
        }
      ]
    },
    {
      "cell_type": "code",
      "source": [
        "x = np.arange(-1,4,0.01)\n",
        "y = ss.expon.pdf(x, loc=2, scale=1)\n",
        "plt.plot(x,y)"
      ],
      "metadata": {
        "colab": {
          "base_uri": "https://localhost:8080/",
          "height": 283
        },
        "id": "_rJ8P28aYVI9",
        "outputId": "933a6aad-224c-4b32-e0b0-97721e2940d6"
      },
      "execution_count": 185,
      "outputs": [
        {
          "output_type": "execute_result",
          "data": {
            "text/plain": [
              "[<matplotlib.lines.Line2D at 0x7fccb348f290>]"
            ]
          },
          "metadata": {},
          "execution_count": 185
        },
        {
          "output_type": "display_data",
          "data": {
            "text/plain": [
              "<Figure size 432x288 with 1 Axes>"
            ],
            "image/png": "[encoded data removed]"
          },
          "metadata": {
            "needs_background": "light"
          }
        }
      ]
    },
    {
      "cell_type": "code",
      "source": [
        "#acumulada (cdf)\n",
        "\n",
        "y= ss.uniform.cdf(2)\n",
        "print(y)\n"
      ],
      "metadata": {
        "colab": {
          "base_uri": "https://localhost:8080/"
        },
        "id": "KxfzxaTB6T17",
        "outputId": "4c3481f5-3ed2-432a-862f-8ef052ce9568"
      },
      "execution_count": 186,
      "outputs": [
        {
          "output_type": "stream",
          "name": "stdout",
          "text": [
            "1.0\n"
          ]
        }
      ]
    },
    {
      "cell_type": "code",
      "source": [
        "y= ss.uniform.cdf(3)\n",
        "print(y)"
      ],
      "metadata": {
        "colab": {
          "base_uri": "https://localhost:8080/"
        },
        "id": "LemGeqNL_0_Z",
        "outputId": "9401ced6-5ce4-44de-c5aa-9a54127daaca"
      },
      "execution_count": 187,
      "outputs": [
        {
          "output_type": "stream",
          "name": "stdout",
          "text": [
            "1.0\n"
          ]
        }
      ]
    },
    {
      "cell_type": "code",
      "source": [
        "#acumulada (cdf)\n",
        "\n",
        "y= ss.norm.cdf(2)\n",
        "print(y)"
      ],
      "metadata": {
        "colab": {
          "base_uri": "https://localhost:8080/"
        },
        "id": "dzhzy42jBKpN",
        "outputId": "9135109e-4447-42cb-d5f8-ee5628e416ea"
      },
      "execution_count": 188,
      "outputs": [
        {
          "output_type": "stream",
          "name": "stdout",
          "text": [
            "0.9772498680518208\n"
          ]
        }
      ]
    },
    {
      "cell_type": "code",
      "source": [
        "y = ss.norm.pdf(x, loc=2, scale=1)\n",
        "\n",
        "plt.plot(x,y)"
      ],
      "metadata": {
        "colab": {
          "base_uri": "https://localhost:8080/",
          "height": 283
        },
        "id": "O61Vk20XBVbv",
        "outputId": "007d7909-39ad-43ae-d8ef-d927380d199f"
      },
      "execution_count": 189,
      "outputs": [
        {
          "output_type": "execute_result",
          "data": {
            "text/plain": [
              "[<matplotlib.lines.Line2D at 0x7fccb33ea090>]"
            ]
          },
          "metadata": {},
          "execution_count": 189
        },
        {
          "output_type": "display_data",
          "data": {
            "text/plain": [
              "<Figure size 432x288 with 1 Axes>"
            ],
            "image/png": "[encoded data removed]"
          },
          "metadata": {
            "needs_background": "light"
          }
        }
      ]
    },
    {
      "cell_type": "code",
      "source": [
        "y= ss.norm.cdf(0, loc=2)\n",
        "print(y)"
      ],
      "metadata": {
        "colab": {
          "base_uri": "https://localhost:8080/"
        },
        "id": "59P-ON1dBkMQ",
        "outputId": "c305e352-bda1-48e9-9ecd-3e1f93310764"
      },
      "execution_count": 190,
      "outputs": [
        {
          "output_type": "stream",
          "name": "stdout",
          "text": [
            "0.022750131948179195\n"
          ]
        }
      ]
    },
    {
      "cell_type": "code",
      "source": [
        "y= ss.expon.cdf(2.1, loc=2, scale=1)\n",
        "print(y)"
      ],
      "metadata": {
        "colab": {
          "base_uri": "https://localhost:8080/"
        },
        "id": "Y8X84B2MCj3g",
        "outputId": "2eeb6568-ec8d-4259-dcdf-76174b9f1c3d"
      },
      "execution_count": 191,
      "outputs": [
        {
          "output_type": "stream",
          "name": "stdout",
          "text": [
            "0.09516258196404051\n"
          ]
        }
      ]
    },
    {
      "cell_type": "code",
      "source": [
        "y = ss.expon.pdf(x, loc=2, scale=1)\n",
        "plt.plot(x,y)"
      ],
      "metadata": {
        "colab": {
          "base_uri": "https://localhost:8080/",
          "height": 283
        },
        "id": "38J64j4vDI9B",
        "outputId": "50474c76-da59-413e-f37d-83ccae75e082"
      },
      "execution_count": 192,
      "outputs": [
        {
          "output_type": "execute_result",
          "data": {
            "text/plain": [
              "[<matplotlib.lines.Line2D at 0x7fccb33640d0>]"
            ]
          },
          "metadata": {},
          "execution_count": 192
        },
        {
          "output_type": "display_data",
          "data": {
            "text/plain": [
              "<Figure size 432x288 with 1 Axes>"
            ],
            "image/png": "[encoded data removed]"
          },
          "metadata": {
            "needs_background": "light"
          }
        }
      ]
    },
    {
      "cell_type": "code",
      "source": [
        "# quantis (ppf)\n",
        "\n",
        "z = ss.expon.ppf(0.00002, loc=2, scale=1)\n",
        "print(z)"
      ],
      "metadata": {
        "colab": {
          "base_uri": "https://localhost:8080/"
        },
        "id": "cSPZ2h1eGLvA",
        "outputId": "47dd58ea-18aa-47da-a6d1-0721847d80bc"
      },
      "execution_count": 193,
      "outputs": [
        {
          "output_type": "stream",
          "name": "stdout",
          "text": [
            "2.000020000200003\n"
          ]
        }
      ]
    },
    {
      "cell_type": "code",
      "source": [
        "z = ss.norm.ppf(0.02275, loc=2, scale=1)\n",
        "print(z)"
      ],
      "metadata": {
        "colab": {
          "base_uri": "https://localhost:8080/"
        },
        "id": "-PZRbAiUGfu1",
        "outputId": "f61942e2-bc77-468f-d9c5-3d08a53fdd70"
      },
      "execution_count": 194,
      "outputs": [
        {
          "output_type": "stream",
          "name": "stdout",
          "text": [
            "-2.443899603576938e-06\n"
          ]
        }
      ]
    },
    {
      "cell_type": "code",
      "source": [
        "# numers aleatorios (rvs)\n",
        "\n",
        "x=ss.uniform.rvs(size=1000)\n",
        "plt.hist(x, edgecolor = 'white')"
      ],
      "metadata": {
        "colab": {
          "base_uri": "https://localhost:8080/",
          "height": 356
        },
        "id": "pUcodO-7HR9U",
        "outputId": "7b56c698-818d-4f18-8681-3427c1b98336"
      },
      "execution_count": 195,
      "outputs": [
        {
          "output_type": "execute_result",
          "data": {
            "text/plain": [
              "(array([107.,  89., 101., 111.,  97.,  96.,  94., 102.,  92., 111.]),\n",
              " array([2.04936626e-05, 1.00004382e-01, 1.99988271e-01, 2.99972159e-01,\n",
              "        3.99956048e-01, 4.99939937e-01, 5.99923825e-01, 6.99907714e-01,\n",
              "        7.99891602e-01, 8.99875491e-01, 9.99859379e-01]),\n",
              " <a list of 10 Patch objects>)"
            ]
          },
          "metadata": {},
          "execution_count": 195
        },
        {
          "output_type": "display_data",
          "data": {
            "text/plain": [
              "<Figure size 432x288 with 1 Axes>"
            ],
            "image/png": "[encoded data removed]"
          },
          "metadata": {
            "needs_background": "light"
          }
        }
      ]
    },
    {
      "cell_type": "code",
      "source": [
        "x = ss.expon.rvs(size=1000)\n",
        "plt.hist(x, edgecolor = 'white',bins=30)"
      ],
      "metadata": {
        "colab": {
          "base_uri": "https://localhost:8080/",
          "height": 484
        },
        "id": "rEcUAI_6Jx6t",
        "outputId": "f87a8a26-9fbe-4915-8952-1cf77e31c02f"
      },
      "execution_count": 196,
      "outputs": [
        {
          "output_type": "execute_result",
          "data": {
            "text/plain": [
              "(array([188., 151., 125., 117.,  78.,  55.,  41.,  49.,  31.,  30.,  20.,\n",
              "         21.,  16.,  10.,  17.,  18.,   6.,   5.,   5.,   6.,   2.,   1.,\n",
              "          0.,   1.,   2.,   0.,   2.,   2.,   0.,   1.]),\n",
              " array([2.43945283e-04, 1.98697159e-01, 3.97150373e-01, 5.95603586e-01,\n",
              "        7.94056800e-01, 9.92510014e-01, 1.19096323e+00, 1.38941644e+00,\n",
              "        1.58786965e+00, 1.78632287e+00, 1.98477608e+00, 2.18322930e+00,\n",
              "        2.38168251e+00, 2.58013572e+00, 2.77858894e+00, 2.97704215e+00,\n",
              "        3.17549536e+00, 3.37394858e+00, 3.57240179e+00, 3.77085500e+00,\n",
              "        3.96930822e+00, 4.16776143e+00, 4.36621465e+00, 4.56466786e+00,\n",
              "        4.76312107e+00, 4.96157429e+00, 5.16002750e+00, 5.35848071e+00,\n",
              "        5.55693393e+00, 5.75538714e+00, 5.95384035e+00]),\n",
              " <a list of 30 Patch objects>)"
            ]
          },
          "metadata": {},
          "execution_count": 196
        },
        {
          "output_type": "display_data",
          "data": {
            "text/plain": [
              "<Figure size 432x288 with 1 Axes>"
            ],
            "image/png": "[encoded data removed]"
          },
          "metadata": {
            "needs_background": "light"
          }
        }
      ]
    },
    {
      "cell_type": "code",
      "source": [
        "x = ss.norm.rvs(size=1000)\n",
        "plt.hist(x, edgecolor = 'white',bins=10)"
      ],
      "metadata": {
        "colab": {
          "base_uri": "https://localhost:8080/",
          "height": 356
        },
        "id": "2A2iNbszKnoY",
        "outputId": "75419ed1-188d-4647-89a3-35b45fa9bf2b"
      },
      "execution_count": 197,
      "outputs": [
        {
          "output_type": "execute_result",
          "data": {
            "text/plain": [
              "(array([  6.,  25.,  74., 160., 203., 222., 164.,  98.,  39.,   9.]),\n",
              " array([-2.94446839, -2.36710742, -1.78974644, -1.21238547, -0.63502449,\n",
              "        -0.05766352,  0.51969746,  1.09705843,  1.67441941,  2.25178038,\n",
              "         2.82914136]),\n",
              " <a list of 10 Patch objects>)"
            ]
          },
          "metadata": {},
          "execution_count": 197
        },
        {
          "output_type": "display_data",
          "data": {
            "text/plain": [
              "<Figure size 432x288 with 1 Axes>"
            ],
            "image/png": "[encoded data removed]"
          },
          "metadata": {
            "needs_background": "light"
          }
        }
      ]
    },
    {
      "cell_type": "code",
      "source": [
        "u = ss.uniform.rvs(size=1)\n",
        "print(u)"
      ],
      "metadata": {
        "colab": {
          "base_uri": "https://localhost:8080/"
        },
        "id": "rbk7FHaeKvt1",
        "outputId": "99478611-37e8-4e8b-d06c-5fb9f902983b"
      },
      "execution_count": 198,
      "outputs": [
        {
          "output_type": "stream",
          "name": "stdout",
          "text": [
            "[0.36433717]\n"
          ]
        }
      ]
    },
    {
      "cell_type": "code",
      "source": [
        "# statistics (stats)\n",
        "# media e variancia da distribuicao\n",
        "\n",
        "ss.uniform.stats()"
      ],
      "metadata": {
        "colab": {
          "base_uri": "https://localhost:8080/"
        },
        "id": "SgFYHBBKMFWR",
        "outputId": "5e0f3871-fb9f-436d-a111-14b20d86e5d6"
      },
      "execution_count": 199,
      "outputs": [
        {
          "output_type": "execute_result",
          "data": {
            "text/plain": [
              "(array(0.5), array(0.08333333))"
            ]
          },
          "metadata": {},
          "execution_count": 199
        }
      ]
    },
    {
      "cell_type": "code",
      "source": [
        "ss.norm.stats()"
      ],
      "metadata": {
        "colab": {
          "base_uri": "https://localhost:8080/"
        },
        "id": "zo3sRn9QMQri",
        "outputId": "1773358f-e6c0-44ab-876e-1ce22e7ea8d8"
      },
      "execution_count": 200,
      "outputs": [
        {
          "output_type": "execute_result",
          "data": {
            "text/plain": [
              "(array(0.), array(1.))"
            ]
          },
          "metadata": {},
          "execution_count": 200
        }
      ]
    },
    {
      "cell_type": "code",
      "source": [
        "ss.expon.stats()"
      ],
      "metadata": {
        "colab": {
          "base_uri": "https://localhost:8080/"
        },
        "id": "V8FlGwZyMUYw",
        "outputId": "47867a2a-9098-4d90-a2ad-f9b67bac2e9e"
      },
      "execution_count": 201,
      "outputs": [
        {
          "output_type": "execute_result",
          "data": {
            "text/plain": [
              "(array(1.), array(1.))"
            ]
          },
          "metadata": {},
          "execution_count": 201
        }
      ]
    },
    {
      "cell_type": "markdown",
      "source": [
        "# Exercicio Proposto - Resolucao"
      ],
      "metadata": {
        "id": "l3LzAf3USssB"
      }
    },
    {
      "cell_type": "code",
      "source": [
        "i=0\n",
        "final=[]\n",
        "\n",
        "for i in range (1000):\n",
        "  v = ss.expon.rvs(size=30)\n",
        "  media = sum(v)/30\n",
        "  final.append(media)\n",
        "\n",
        "plt.hist(final, edgecolor = 'white')\n",
        "print(final)"
      ],
      "metadata": {
        "colab": {
          "base_uri": "https://localhost:8080/",
          "height": 303
        },
        "id": "rdwsJj5oSckU",
        "outputId": "d29005a8-d07e-4a09-f459-b867cc8e40e2"
      },
      "execution_count": 202,
      "outputs": [
        {
          "output_type": "stream",
          "name": "stdout",
          "text": [
            "[0.8246639579372992, 1.025826983366276, 1.0580378601299498, 1.1802173072542945, 1.0180068310179795, 0.7876629809104219, 1.2225075925980737, 0.5843820968226635, 0.9599073140465602, 0.766388486846879, 1.0745085843937998, 0.8917558712776754, 0.6840589478423944, 1.1908254320659246, 0.7065482673378586, 0.918935770160476, 1.0900221664623744, 0.9573744839386327, 0.8868396134880242, 0.9535407051126029, 0.9539014876094808, 1.116251289898262, 1.3063528873518544, 1.1042154162419473, 1.026334606085674, 0.9369566602852775, 1.0423900033439415, 1.1232464536822466, 0.6600042150222675, 1.3406649762894285, 1.134575554204473, 0.926511410296812, 0.881538248630426, 0.968783028527062, 1.0515861177831616, 0.6863633145132195, 1.0822570882856346, 1.2079778055736317, 0.7945193452777854, 1.1088499872811761, 0.9473557891170178, 0.7970151157780713, 1.0151963178241397, 1.1858056770446168, 1.081611164198151, 1.1361058596237783, 1.1086497159915263, 1.421137001092051, 1.1197046013039718, 1.3984004018606322, 1.0483677197446528, 0.8275504245815587, 1.230637809362403, 0.9278621096355644, 0.8549437643528024, 0.6623587193002269, 0.8798298577708674, 0.8545932369111842, 1.234576579872853, 1.0876398695768483, 1.4703672316045415, 0.9688897543910379, 1.0892186362548568, 1.1032251977502445, 1.1992103637032454, 0.9139972910827135, 1.3597195715497645, 1.0077011745774163, 1.0580488433505892, 0.8354325316803813, 0.9346802308690211, 0.9124367209061078, 1.0637418237726102, 0.7417347272241773, 0.8385445366507476, 1.0001337879347767, 1.1004353532548443, 0.6637063031588972, 0.6782838308639508, 1.0633175750276884, 0.9908057805491641, 0.6920335252165367, 0.823003208255565, 0.8741283909600674, 0.5967247901433814, 1.2857402453672941, 0.915707694717501, 1.0035255900670303, 0.8289531758178901, 1.105419413974699, 1.0657618046895267, 1.1009478134082793, 0.9536370303732299, 1.2031248473603695, 1.3603654007816284, 0.9500726512864088, 0.8064938381278934, 1.1683983724234321, 1.1589755516464744, 1.1798262361950154, 1.312542803347442, 0.9981666634520002, 0.9565078937095578, 0.8354169284384155, 0.6758728872548276, 1.1226496649617563, 1.2565910416908703, 1.0182642799731034, 0.9112419272174767, 0.8486454265924067, 1.1348299709813874, 1.0911753012696321, 0.891799049848974, 0.9013789961395252, 0.827176497330271, 1.257500905427538, 1.2922902001839982, 0.9119834255598952, 1.1022097180893755, 1.0866667992025065, 1.1702740835050776, 0.689831046187011, 0.7457203788279507, 0.9748875378447586, 1.2547424220998784, 0.6197865818844049, 0.9998418223213392, 0.8724604534190351, 1.257663601962878, 1.2830377721719928, 0.7474436484463037, 1.0155442199915998, 0.9086735131549152, 0.874971143673389, 0.7818147264604806, 1.5363112681611213, 1.3704456783291579, 0.7946021666381716, 0.9626540171013609, 0.8788722235331113, 1.2031091259788718, 1.210182969610225, 0.7956271489886966, 0.8507415665275225, 0.8942544141763747, 0.7070636908976557, 0.8475029826141686, 1.115606971233118, 0.8882970475569603, 0.853367604764172, 0.9000806298973314, 0.8893607049073665, 0.9248580895861039, 1.1472707845957948, 1.0193205734878212, 0.7850009499541685, 0.9169435766352382, 0.9538145144038864, 0.8824138240922017, 0.81309523744488, 0.6625443113589023, 1.1683811807711266, 1.021982246941174, 0.7911166308245964, 1.048412920288377, 0.7809723950567451, 1.274580065418865, 1.2552501486442502, 1.0488041802826078, 1.3424328646650647, 1.1549404730432211, 1.0379100315744936, 0.9457310150046897, 1.1775073397720637, 1.1760407580831698, 0.822878963114752, 0.8272775095022641, 0.9108843637742512, 0.6904460161652196, 1.371565543996962, 1.4380750907138342, 0.9170395479151735, 0.8551259512973596, 1.1534608223313978, 0.8250763424121245, 0.853981343718729, 1.2187475549285893, 0.9644973287516808, 0.9871553670529895, 1.0097477089336233, 1.007071887336369, 1.3235160721439514, 1.1633947474626636, 1.0694902202219687, 1.1671742830224132, 0.8815893311700901, 0.9243761767549057, 1.5409994780524328, 1.0010886759280175, 0.7762804823046182, 0.9374990196710613, 0.8680285337319875, 0.9372512110892001, 1.2023467855096968, 1.0411511419871131, 0.8506318600445133, 0.645817407114966, 1.2818092088639448, 0.6671726913933108, 0.9252509395555798, 1.3977354511000095, 0.8077857883954935, 0.9176431152404388, 1.246838222951859, 0.9695564276510283, 0.8772888356238518, 1.1743147973286423, 1.3679650732381416, 0.8636679272490271, 0.9915373595744598, 1.2671616001851533, 0.900587722109487, 0.7978140301653572, 1.2906975818579516, 0.7656271617388429, 1.0694872283545358, 0.9808710833169559, 0.4921501784081459, 0.7498420262825235, 1.0562294391735632, 1.141936490135379, 1.1789805612855393, 1.015939406108792, 1.11934687787048, 1.106927311888626, 0.6357775499554613, 1.0523596182973882, 0.8465759350263168, 1.3552442695974702, 1.0475480917130935, 1.2113167728701149, 0.8154013023315959, 0.788766203317089, 1.0608921749961908, 1.0289939472593643, 0.763501589468705, 0.7055073167320776, 0.6446436483834315, 0.6125973441879251, 1.046854331995389, 1.0774044108971015, 0.8869763459309088, 0.7059145173092192, 0.781956321592618, 1.2311925940844841, 1.0996588010904167, 0.8467257603862148, 0.9440026196604064, 0.8487146678613224, 0.9410455847375212, 1.2871146660405808, 1.0681952654464482, 1.2254649956179615, 1.1077372353348878, 0.9352962032691828, 1.1651892291845676, 1.086777621246447, 1.0123179470706345, 1.0023628114473275, 0.9233732973713823, 0.622830861016281, 0.8517535947625383, 0.8273713037282765, 1.0040533045538191, 0.6402744158138841, 1.1183890572653539, 1.0452913818367346, 1.0312639776009387, 0.9087970175808324, 1.231162207953594, 1.013214057455019, 0.9577033306224887, 0.9818972183530303, 1.2568301100598114, 1.445179790685154, 1.0941786812387304, 1.030163294017938, 1.186527005762713, 1.284448631098503, 0.9772769656036862, 1.031297893249003, 0.8548071986659672, 1.0325441703742653, 0.8829228821612224, 1.1017518409906855, 1.1272074573531874, 0.9067710707028472, 1.3728068021694486, 0.8878833108235202, 0.9013836777918524, 1.2284619249222077, 0.7417610471183269, 1.0539054278746087, 1.0761831344984993, 0.9782292657644052, 1.0214647889495858, 1.142939796726118, 1.0937796318027642, 1.0075524374720055, 1.214911619301635, 0.8140048122159619, 0.8203562829183718, 0.8246853543167967, 1.073807605588838, 0.8217728362090891, 0.7976511036723208, 0.7638403827244852, 0.8939991861841567, 1.229720585391071, 0.8833235924774843, 0.9638599670580696, 0.9715347437287988, 1.0787189698742525, 0.981608446794212, 1.3281818976363515, 1.1033475540190314, 1.0659462989220694, 0.8897974632705085, 0.7749182698400287, 0.8368601790586024, 0.7624804429341518, 1.162523639338717, 0.6980250281557114, 1.2557048329575669, 0.9609995375290112, 1.2387449189714965, 1.2036981745081428, 0.6426102860135516, 0.9092217373647961, 0.9844724570974838, 1.251567407652751, 1.672084457761237, 1.1046721186965127, 0.9936896609149964, 1.1235939648506634, 0.9061653078445028, 0.835167363521146, 0.9009469128616996, 1.143584905611355, 0.6347196550841322, 1.1999221204403157, 1.0235700414328635, 0.9041433803277218, 1.1736275841993742, 1.0383196357354945, 1.1502392999577233, 1.1740461798453063, 1.207421562577999, 0.7555520282743274, 0.716718147963322, 1.0643286460588552, 1.1617029869360134, 1.042484371784178, 1.0946906313039293, 1.4962648289282903, 1.2359290985051026, 0.8001939321445126, 0.8816776784331706, 0.8935721614061333, 0.9115824728979462, 0.7376292370373493, 1.0730780876911725, 1.1008508011289668, 0.7270625947867881, 1.0175563927536508, 0.9502435050565784, 1.170883365132041, 0.9047195822846138, 0.9843669962175977, 1.1625114953930165, 0.9921163588067824, 1.0577192591946034, 0.916845623092988, 1.2379045534688173, 0.9464863714318158, 1.0511749847653835, 0.7395419501519067, 1.155299662277731, 0.8367793793587506, 1.2917649167763225, 1.0958044068222463, 1.0094064591507388, 1.2132453630065265, 1.060783525929893, 0.7700286711504101, 0.6576937303534923, 1.0124787916551192, 1.0229183124154178, 1.0957118850393022, 0.8041381818993975, 0.9220581692440312, 0.8645536641634611, 1.0274145737753964, 0.6285450642804854, 0.9780175241939976, 1.1924813663665639, 0.8707120413352304, 0.9439762522981681, 0.9816451937845309, 0.8522406756945746, 0.8976763438397967, 1.2238403875906723, 0.7939308910560057, 1.000950913227493, 0.9299457699364239, 1.0655328950937197, 0.758720924955864, 1.2018203805619267, 0.897053837770379, 1.0483653334874237, 0.7982359972602662, 1.4022691718992029, 0.8057457193457468, 1.127917857339657, 0.7526363008362372, 1.4034480265333005, 0.9362134149750054, 0.6864325309696374, 0.9043853426242008, 1.0906273428574593, 0.7608885675549207, 0.7796829406048575, 1.1594660818511426, 0.7584923907422051, 0.7665247411473007, 1.1901627049592094, 1.2857087720208242, 0.9832047942976729, 1.3121251085134369, 1.0815867806342407, 1.0207902797277733, 1.2357150609520082, 0.8899372474953368, 0.8181181178742695, 1.0063786619524122, 1.050873005746665, 1.5228756111514292, 0.8711872540298343, 0.8334311041546568, 0.960273353684544, 0.9945349626756477, 1.0661657706836882, 0.8136584820864088, 1.087179824934569, 0.8928375218690086, 0.9225942223801342, 1.2060444789875098, 1.1188020045409266, 0.8448503011775066, 0.9593351139707613, 1.3353225916811264, 1.0769839869719244, 0.9529415752607826, 1.1064748058493141, 0.8804990784853188, 1.0781113948073693, 0.7707846895345576, 1.1108748681986602, 1.0778260115735623, 1.2016627258312276, 1.079630686446155, 1.0226320585372952, 1.2620496157102947, 0.7068572064078046, 0.9407800007052395, 1.0038157374523613, 1.2208863208913558, 1.144070495046884, 1.0375112739883103, 1.1569155266956002, 1.2511455051608371, 1.041823394052844, 0.8524087494045719, 1.0233525950804394, 1.1077714310969922, 0.9868355298361994, 0.8448575111713557, 1.2133694023856676, 0.8553860974398165, 1.1808933918408648, 1.061965697574998, 1.0419282363729776, 1.0145788607111217, 0.9538769539501746, 0.789824256469405, 1.122384752496188, 0.9223396487574658, 0.8830211037738398, 0.8546934322522469, 0.8212218646074014, 1.1222947248175694, 0.9435193082067314, 0.9890486750445878, 0.8441939912177416, 0.9251951738705791, 0.9302521173369451, 0.550028179764315, 1.0745206289598934, 0.9357669552449183, 1.3008204477298706, 0.788486907964537, 1.0415693032413809, 1.3774933663654025, 1.1315493765696822, 0.9849058274367104, 0.9948263174545662, 0.9885349621990774, 1.0874192978295978, 0.8674467306206084, 0.7703443763226063, 0.9304688622886381, 1.1125856335066002, 0.9369458843505802, 1.0914425340324696, 1.3594821979458132, 0.7132226774111448, 0.7241180795874862, 1.181586758328487, 1.0892906562515108, 0.8982765517632826, 1.273574860207723, 1.006992678019389, 1.049773125295475, 1.3903468027699297, 1.2978561843960597, 0.9488450146069862, 1.0606159537163795, 1.0775826853164827, 1.1692812670462207, 0.6798325893544157, 1.6402585384091515, 0.8512420462486747, 0.7006997723577387, 0.6555658283489109, 1.744160010544176, 1.3462093703460065, 1.0249923877967069, 1.059249531136024, 1.0235077497710001, 0.9243743193314445, 0.8988615080671196, 0.9208117267457813, 0.9211050686135527, 1.0971025193206736, 1.0338710997792178, 0.9696299232601071, 0.82231145911764, 1.1380046791120673, 0.8303343016470514, 0.853673079440161, 0.9396390770099334, 1.1473557097440752, 0.9519581041733, 0.7412546269684746, 0.8655246288388765, 0.8973493820780983, 0.855737115296906, 0.9529240064778987, 0.8785248958944449, 1.0875486974763615, 1.1025061544011563, 0.820999861064226, 1.0966935100427078, 1.5439100777923753, 0.9593551567665423, 0.839526090510932, 0.8489499966899207, 1.2998665322577356, 0.9550179335773273, 0.8027709537125135, 1.049037537432271, 1.0378102963915103, 0.5038290259027469, 0.8989550770324701, 0.9491366818575719, 0.7604367480596456, 0.9118533875304886, 1.0660430327857058, 1.001596070860791, 0.8834428998661273, 1.184148998262999, 0.7701328938324323, 1.1957970670371953, 1.3673332193630339, 1.120875750822607, 0.9419578940928617, 1.0725719562821172, 1.0655549674463518, 1.2455105598043732, 0.8401863364267206, 1.0977028071458013, 1.2229858930462334, 1.3133632019712456, 1.1399975725147193, 1.0476231685257793, 1.186940565469759, 0.8895212022640318, 1.0282800876776312, 1.1391422764926153, 0.8589637715273298, 1.2236082251364542, 1.129858915672165, 0.6920158422387312, 0.9373169494183708, 1.1140251828190615, 1.2460301587453153, 0.9707670458198537, 0.8971652162993518, 0.9158716478980194, 1.1312947830317672, 1.2866058464460481, 1.1786800103587975, 1.176577886158376, 0.9208817305298808, 0.9361344500738008, 1.2141749666535149, 1.0464608211444557, 1.0224321694354874, 1.3389117936928814, 1.2325859530014367, 1.0571464495682856, 0.8568149182998751, 0.8453599298725712, 0.609003459313825, 1.4142958352608561, 0.7513204342029863, 0.8586573797754476, 1.1957073435349395, 1.1455520462661997, 1.0829216990997272, 0.8417336328894156, 1.0227960958832678, 1.2781314233827066, 1.0632154420308906, 0.9557878469981058, 0.6571346572231994, 1.210402920916013, 0.7135902311491419, 1.0495076396734657, 1.0423925147643578, 1.2544972798004161, 1.1428695383817398, 1.123814390503611, 1.1538046124509123, 1.081557914122748, 1.0428394587730831, 1.1530484968642627, 1.183286931371368, 0.9622776523434091, 0.7545883230729307, 0.9197439955447475, 1.0100207122070657, 1.0879932837647748, 1.1706272923751997, 0.682470409171446, 0.9997079497564678, 1.0129786396918905, 1.1661715091629317, 0.8517792571105941, 1.1898792623481047, 0.9190227342401529, 0.9334997310566828, 0.8272880793058636, 0.9286464234688268, 1.2007998507029969, 0.8685356560215863, 1.196322333043466, 0.8546353957265811, 0.9600060334134988, 0.8381088440831458, 1.0074880353125217, 0.7402080164724524, 0.9002374848752556, 0.9460483965010057, 0.8005239086926788, 1.146223290056214, 0.8909702840449311, 0.7578668980724643, 0.7046553701601971, 1.3463230206038828, 0.9653031772057346, 1.447563881069968, 1.1017867956949834, 1.0622353635900113, 1.0573593274656392, 0.9141571805375021, 1.0898265210651854, 0.7508071086776695, 0.7563605398836298, 0.984584562507083, 0.8011697555158688, 0.7334361030715565, 0.9668501559132615, 0.792228338862131, 0.9121708665884997, 1.0887272757773128, 0.9705741666228599, 0.6414557018528056, 0.8991466636927032, 0.9908444105231953, 0.9923131437051445, 1.359513983360832, 1.0984131852999062, 0.9656013686148409, 0.7763514451905594, 0.9535848163733713, 1.4879342872058139, 1.3339511984358177, 1.085829996759989, 0.8913090933680766, 1.104016975197996, 1.193097546684037, 1.1429926478814145, 0.8891931179040966, 0.8920650993291593, 1.0609088257084252, 1.045788826427026, 0.9080171970141304, 0.5821419262850659, 1.0703752012216348, 0.9123412016122382, 0.9485757832834968, 1.3164770624605595, 1.1674691103643697, 0.767177577638577, 1.0804365315569884, 1.2484447519430781, 1.1177607539902825, 1.0862581481261475, 0.7317126605422277, 1.044657606520297, 0.9183879128646116, 1.0570123255581003, 0.9974976449214501, 0.8203257461373661, 1.1921326204808362, 0.9068398155565779, 0.7785434655064165, 0.8570175689905175, 0.9626810882920736, 0.8310589072620739, 1.084359580374674, 0.8461083927327274, 1.0132729924260533, 0.9941757004991634, 1.2057520755904456, 0.98524748689013, 1.1545643876270926, 0.8819922042394807, 0.7491208257158705, 1.2199092416153003, 0.8588988045780096, 0.8616615004644205, 0.889553249624948, 0.9958070771722476, 0.6461715623883582, 0.9147363130610255, 1.0424293707304306, 1.042132297912608, 0.8015722427065135, 0.9217186621397481, 0.9552143502907964, 0.857494225797695, 1.1415876376266545, 0.7696788380266472, 1.1105583039754385, 1.2488136688194198, 0.786478684493969, 0.8012352023814839, 1.2064725510086352, 1.2462309088333183, 0.9372612512731907, 0.9144793194151204, 1.1961938905963305, 0.7927897635590467, 1.0447769071405886, 0.8739909619910708, 0.8984089880332374, 1.0776450682748575, 1.0923179937751069, 1.0669762209440086, 1.027510653948243, 0.9946857909464106, 1.186370933400688, 1.023237180905992, 0.9886182966189878, 1.0554032087746252, 1.1989329070501293, 0.9577623389270248, 1.1547158014629524, 1.191013321625703, 0.8521187948975509, 0.9354583901694713, 1.2068768257562772, 0.7412594022498321, 0.932193068097407, 1.2762075999727747, 0.9761825586274328, 0.8803232336242034, 0.9722450811940864, 0.7809825988421792, 0.8486884505664142, 0.8590686636586564, 0.8904616991281121, 0.9018559804485261, 0.9210599319019049, 1.0568767235180063, 0.8845729286695236, 1.0031366093682716, 1.0947944042517792, 1.0742789721914123, 0.9473206527061622, 1.1618193599342623, 0.8650587154014814, 0.978412948605726, 1.2508346490755249, 1.2123862129466383, 0.620279204149125, 1.5333002366959791, 0.7570336545498614, 1.1100476725800974, 0.9083291743479278, 1.042965656185786, 0.8049585394554375, 1.1002008145355127, 0.697180338661056, 0.822300922028606, 1.1978698319923105, 1.0471843299887316, 0.9175955024089486, 1.1859421878182053, 1.3663727810052528, 0.9827720657004894, 0.93382834373608, 0.8025374479982602, 1.2618465211056897, 0.9231499993784166, 0.805894535352033, 0.9864076535551589, 1.453644061950996, 1.1604249118018009, 1.272243175997033, 1.1090737601807141, 0.9768001258895299, 1.2884933998601416, 1.2701795307845862, 1.30144529856133, 0.7194456804144735, 1.1481649625617532, 0.5966989638401233, 1.0718766162330982, 1.0572859583044654, 1.0707262237517825, 0.8231853996726776, 0.8809169945714201, 1.1941968659990367, 0.9991261660194761, 0.7999208972854449, 1.1426238996743396, 1.0742477063212292, 1.2351995953950745, 0.7383091137247508, 0.9852201870252272, 0.7769156770190191, 1.0893569398396523, 1.1287421994548164, 0.9775741170597506, 0.8742557652259215, 1.1326224913678284, 1.2256312382970558, 0.956752806307867, 0.6936200489882108, 0.9218084270352492, 1.2381309580979558, 0.920038696503002, 0.9752369086656099, 0.9293469595433119, 0.9038974748996428, 1.1734427558285898, 1.366706004663764, 1.0764620637640447, 0.7025329484861252, 0.9151290225416826, 1.1016543040114821, 0.9119086944777907, 1.0477148424783096, 0.7198576145244316, 1.300389459301709, 1.3147703762234322, 0.7050932634185536, 0.9963356854101489, 0.9888967559791947, 0.9196870962360443, 1.29163515003631, 1.248354986917845, 0.8912051737617617, 1.0510581714486893, 1.1171668952312532, 0.9959086556702972, 0.9675668153083795, 1.2003783024472139, 0.8985381388715445, 1.1629305867113897, 1.0057951631995257, 0.9006403054442118, 1.0327798852413868, 1.3167628851594555, 1.2990038412975966, 0.8545264036881763, 0.9601395084505836, 1.1645138360911358, 1.2252937752308528, 1.0527800722437441, 1.3397743573527905, 0.8129015272498299, 1.0533702828043043, 0.9524711654258782, 1.1615365016477492, 0.6750841486266776, 0.9758762306891983, 1.0281422498451243, 0.9891051886098197, 0.7755360102631877, 1.0081823086001365, 0.9621789586581142, 1.3500205517568806, 0.9643250577726781, 0.9620908506295592, 1.032996118314906, 0.9617904928990898, 0.9500077166741269, 0.6679422331033145, 1.2355621349550427, 1.0260273047425952, 1.1798157904788877, 1.0291316714705236, 0.8034071071869913, 1.0362041451121784, 0.7262093753513181, 1.3260091029602046, 0.8458140129043051, 1.378395298097377, 0.909094017198995, 0.9957954758213065, 1.342843054400643, 0.9908607545899284, 1.1459520486325803, 1.1321107204114527, 0.961572122117723, 1.0783181864457652, 0.8014017878010428, 1.4152500911640682, 0.9729073223779109, 1.0895834302497742, 1.2882865908076842, 0.9421841756330008, 0.8403303264528704, 0.7102227579141805, 0.8107594669973835, 0.8580874927751528, 0.8988062955036252, 0.9587098558537032, 0.8644302311378256, 0.8693954122203039, 1.184492239627884, 0.9346111651942653, 1.2586799232491037, 1.030698325316113, 1.0412213710074891, 0.9142452076667271, 1.0114829342782687, 0.8395777886280053, 0.8173215903605295, 1.013395645479325, 0.994389435781184, 0.6177733487575074, 1.1116648574635881, 0.8375765562894482, 1.519915995892523, 0.9239461447417855, 1.1740513284002325, 0.9944160454122873, 1.3151136543184394, 1.0482245482607446, 1.2457555901586959, 0.923745760297138, 0.9506168994315569, 1.147410629126333, 0.8590520230045107, 1.3732264342536784]\n"
          ]
        },
        {
          "output_type": "display_data",
          "data": {
            "text/plain": [
              "<Figure size 432x288 with 1 Axes>"
            ],
            "image/png": "[encoded data removed]"
          },
          "metadata": {
            "needs_background": "light"
          }
        }
      ]
    },
    {
      "cell_type": "code",
      "source": [
        "i=0\n",
        "final=[]\n",
        "\n",
        "for i in range (1000):\n",
        "  v = ss.uniform.rvs(loc=0, scale=10,size=30)\n",
        "  media = sum(v)/30\n",
        "  final.append(media)\n",
        "\n",
        "plt.hist(final, edgecolor = 'white')\n",
        "print(final)"
      ],
      "metadata": {
        "colab": {
          "base_uri": "https://localhost:8080/",
          "height": 303
        },
        "id": "2jBdiojDUs1e",
        "outputId": "ea224c9a-5501-4aa0-bb28-2d4ed3898c96"
      },
      "execution_count": 203,
      "outputs": [
        {
          "output_type": "stream",
          "name": "stdout",
          "text": [
            "[4.688371674894389, 4.7188674552601695, 4.675304020244954, 4.596347794042638, 5.0370351087106355, 4.973321456353875, 5.35792087902693, 4.627262379444224, 4.033152581592188, 4.919824974910361, 5.223885255604208, 6.017840623766219, 4.6703000363715494, 5.450424423226561, 5.285280531187111, 5.575875033914935, 5.51452628796307, 4.991105052200441, 4.5226930793509705, 5.162827979510877, 4.638613153338223, 5.055516295699014, 4.941557377793331, 5.768712245421791, 5.94456714811463, 5.060669472844804, 5.107089810879399, 3.8715056182623013, 5.061903980308788, 5.090994992981764, 4.95157051908929, 4.8976646110857915, 4.626984432724263, 4.92235439190791, 4.967361700555179, 5.544492438393126, 5.2143735050384725, 5.4843744528204805, 6.1509615367876505, 4.636292756596157, 4.992269006100896, 5.480189387054411, 5.585726750863893, 4.962851576937522, 4.858203613593893, 4.790823649042112, 4.811339122305693, 4.652011856167912, 5.242873053276434, 5.825147230396477, 5.57265102463101, 5.015640546875785, 4.472336151539455, 5.18328512132734, 5.627326684707311, 5.4371350417078474, 4.874981708892504, 5.9053419907689495, 4.917743413800031, 5.306768612391198, 5.654271340938525, 5.302916554189489, 4.208720176913682, 5.026425864591749, 4.593309794471926, 4.427043199165014, 4.73572997297528, 5.4903631497443195, 4.563474529822249, 5.702883943287218, 4.79671214408437, 5.529156894247026, 4.69868750622482, 4.993007191948255, 5.283382642235083, 5.012784757103828, 5.08337851084103, 4.474631809934307, 5.131628662384133, 5.429990720058627, 5.491777966355326, 5.204389387427808, 5.619738882633788, 4.99574298638275, 4.242156250024508, 4.62989430668851, 4.7849353207045535, 5.1530135154440275, 5.019036837930063, 5.524347603703541, 4.639412595801349, 4.916164324286504, 5.872053089304151, 5.547773754510553, 4.999384702469284, 4.426577495372287, 4.951631290622496, 4.025040291310509, 4.989090920421522, 5.346020648058132, 4.395876128185491, 5.471316214084962, 4.885489772243536, 4.766153500625458, 5.541437303705343, 5.694156001075638, 4.6946268823614, 4.401201909079785, 4.776100230968511, 5.893680818548669, 5.7460111609009425, 4.545546666459794, 4.734057601524393, 5.063928901649902, 5.154792856937456, 4.86448055000208, 4.889551943100673, 4.715993234603294, 5.020404180732283, 4.30905110285819, 4.565447778049947, 4.924035586924304, 5.867686329876586, 4.949074531826979, 5.668704782737582, 4.302603451713288, 5.970293235733152, 3.9729387944619754, 5.054897471787776, 4.9601031495721, 5.258835296312483, 4.199012433979006, 5.584789382775256, 4.740839689513744, 5.185488502131608, 5.176540312236394, 4.8667413112987985, 4.670012696042665, 4.527479499361097, 5.734325183219898, 4.2524090676398165, 4.937311726014392, 5.317240091133119, 4.948123200335946, 5.240613011508597, 6.019617562297643, 5.167092131012021, 4.798552515110076, 5.911425792422791, 4.7131037972461325, 6.099199458557723, 5.576777417240883, 5.323434464889037, 5.138896483803887, 4.853077254437537, 4.715974353879425, 4.61257367776868, 5.014590837189846, 5.728688803778932, 4.501576833473123, 4.592155719698236, 4.7912681033346045, 4.642462217630363, 4.828390635531875, 4.888714838936937, 3.66417574720424, 4.600216691366159, 4.436273278348603, 5.525224844749175, 4.5934210232190145, 5.362641980166845, 5.203689152689212, 5.099459184688312, 4.793188629173424, 4.404860401069227, 4.227407015325777, 4.4968520535171, 5.415607022435551, 4.345639262437768, 5.181732375679137, 4.3188842046849265, 4.79117302960695, 6.2782627611616135, 5.259609465240476, 4.3956123723083325, 4.897709330729082, 4.582677719386587, 5.297197288157504, 5.610348268659694, 5.124488647631404, 5.987448281482546, 4.83121255215078, 4.543569534596774, 4.850461420038338, 4.596023190139504, 5.252489917410724, 4.611987585200259, 4.767862177662908, 5.597460759927404, 5.339698276899255, 5.772776884981807, 4.509993707784575, 5.386062341611608, 4.345322101735361, 5.727733749217256, 5.0388974385635485, 5.350219788471054, 4.635705394872556, 5.0424060953109695, 5.439232211831459, 4.173394961690906, 5.4940805181275865, 5.0164052914500115, 5.0142145763539165, 4.9900273318888635, 4.2345737308847715, 4.330400880994832, 4.4222839718778015, 4.938936033904198, 5.298817818387307, 4.688160245625708, 5.383419671215482, 4.9281535902346025, 4.270870144038081, 4.987084775373347, 5.727694867242087, 4.780335634509904, 5.952045286884172, 5.000386851830579, 5.084619990341377, 5.282560343121599, 4.580530980015613, 5.536669173127232, 4.778160988940801, 4.674713657232273, 5.019640796835838, 5.357668357721152, 4.922675176425476, 3.8419121027850536, 5.104076492859372, 5.047614211591722, 5.249537335988523, 5.049535713563297, 5.521980953300331, 4.735347804956279, 4.356365625397652, 4.881382653153657, 5.680471452364253, 5.870985420978405, 4.6712124375165835, 4.046158088983552, 5.539434581015411, 4.99883495253009, 5.279718384850117, 5.5055166192378, 5.109832330549754, 4.942734545224538, 4.611220597032841, 5.237761036185137, 5.7120618725642265, 5.754443854240994, 5.420847992082143, 3.9777562431381175, 5.115748345039086, 5.2699898448890945, 5.26595313711475, 4.477883122917262, 5.198275954349791, 5.027223244296721, 4.721992153985258, 4.053186719497208, 5.8242341309859045, 5.092506765875681, 4.732960615037687, 4.615966154850062, 4.995948628986691, 4.690334784938647, 5.720980325305171, 5.9599149511501155, 5.302484532290529, 5.842516919503655, 5.434640976502746, 5.475870873962494, 5.683037525494054, 5.385021425443512, 5.244294258913652, 6.095087997634084, 4.558676163915378, 5.034078463723387, 5.215609225446513, 5.020714168789187, 5.17993255346907, 5.67434531293218, 4.533166188846571, 4.393922363404192, 4.253619610379408, 4.188145917069408, 5.3041290337558, 5.886558965048541, 4.651007549000865, 5.458062881110679, 4.122954907776641, 3.9457379494563622, 5.229074457773562, 4.2023180720187385, 5.41185979140052, 5.489062042746254, 4.4177093159347, 5.753096148337565, 4.912796463864592, 4.822495368685651, 4.650642472223311, 5.205720332943291, 4.851711780084667, 4.009310708400647, 5.802433794590703, 4.750249176788144, 5.4875536098341495, 4.279085997198558, 4.030625531609285, 3.913432826707959, 4.851194000414479, 4.783676837784485, 5.195611370651095, 4.874122432769527, 5.81068721608871, 5.824171840678749, 4.375287656389611, 4.278443522739942, 4.61187446725645, 5.136969768296731, 5.010322399713897, 4.625842078162956, 4.361409292008111, 4.731936154811884, 4.995520972257612, 4.246332056523937, 4.7364533421843396, 5.393968888373923, 5.1635206728694305, 4.726222028051629, 5.234147165107675, 4.6158644731079885, 4.480198659511087, 4.231738634029088, 5.023430068724687, 5.413087364852777, 5.484800786658343, 5.2353643495839, 4.1473539429760145, 5.299262813877985, 5.263551268247478, 4.891111455420633, 5.425581163622984, 4.886295395035612, 4.535129006380668, 4.711443099321699, 5.438712886704257, 4.553224346110118, 4.484719233553381, 4.57025963236373, 4.261934277715863, 5.771411705203897, 5.016954484031435, 5.497589009329288, 5.31318065591105, 4.449009899340834, 5.032648186915571, 5.814297589641143, 5.164950672691419, 3.400082669900775, 4.365893997176936, 5.245302822041108, 4.789633565044507, 5.205118585759806, 5.39820991529946, 5.747028242720005, 4.095771708536633, 5.274705625339768, 5.249022107247994, 4.654284616532646, 5.361728233872485, 5.036497733328588, 3.8379968862349396, 5.252582162091025, 4.423108991845289, 5.358934155495499, 4.414893320146345, 3.8822195999746976, 5.021512396075735, 4.97557778721002, 5.112671531925616, 3.896101706947536, 5.288100827359051, 4.216032242942701, 4.177844657711929, 4.850820481248511, 4.4334095241029825, 5.893439238860254, 5.24799564774255, 5.2326086613153295, 4.6717367102219605, 4.493344652095055, 4.433319423379404, 5.077795899852197, 4.929122398317763, 5.588960838789052, 4.624637165375122, 4.572463295823034, 5.10505142889028, 4.233558340169198, 4.175836921044537, 4.5110755760084835, 5.204507002666108, 5.300360620724078, 4.994020294981609, 4.759339172223686, 4.772108234903439, 4.701902522670055, 5.74681322631044, 4.820925838762388, 5.581227356280771, 5.1177076981492835, 4.431389783468282, 4.953957601678145, 4.571840374755035, 4.718568682665458, 5.2083830953139545, 5.5295488522911915, 5.135667910343796, 5.574551660840166, 4.473041696264738, 5.554276108037864, 5.27783669830204, 4.740394344605593, 4.149691362539301, 4.775382700972873, 5.157811762167399, 4.266921427226186, 4.459125372784134, 5.029859615224371, 4.258821659142707, 5.056509101893741, 5.181791216708338, 4.187415212120247, 4.582746505062047, 4.036970213035744, 6.0056167175111685, 5.155393898016851, 4.365239180252306, 4.728060535532243, 4.397129212815951, 5.016649440568146, 4.902887915266089, 5.151412966022367, 4.17656406533201, 4.66314407593944, 5.0305929837084244, 5.644877794525556, 4.9294641929507765, 6.209921066319401, 4.686000240181689, 4.865657930625411, 5.787905816719426, 4.170118154651509, 5.096518666989465, 5.908694533555323, 4.39447583312342, 4.886405961192049, 4.277098394281976, 5.026118211891162, 4.6514211019630425, 5.139449906155552, 4.996247067710383, 5.230680946755512, 5.875202241608099, 4.923876339210449, 5.489045778489049, 5.339188548072057, 5.944166831889165, 6.203186011423181, 4.966168944399479, 5.426728611259461, 5.289306971115097, 4.834588985647207, 5.248588393460205, 5.095737532383592, 4.660078798241019, 4.7290525952783184, 5.2536183259163405, 5.570112299942533, 5.533735010729694, 5.367192211230519, 5.594959630861092, 5.096360088403843, 5.569369579853827, 4.6675069261751245, 4.979837884005474, 3.9148953150374757, 5.510670067427073, 4.699566218023413, 5.217073133624946, 6.346001066056678, 6.261744659918173, 5.283100577708099, 5.274990397612453, 3.8895359406003878, 5.473602940192462, 4.31813351469013, 4.573242823241092, 4.647428920631502, 4.854493961217331, 4.079186252005498, 4.4873220793386155, 4.93254919122501, 4.805606407929159, 4.681825928125693, 6.11132201085341, 4.078221008245724, 5.116761039951148, 4.653893113253285, 5.248983799305873, 4.94246858064588, 5.651462409371827, 5.002538898470433, 5.233074178201787, 5.796934640108895, 5.175358493512034, 4.683854840375788, 3.6929340453166906, 4.867180746594241, 5.246617446091245, 5.274585344815876, 5.621324422731373, 5.5513604324856045, 4.693335697251226, 5.318404610279206, 4.633913049485637, 5.059346886022059, 4.619852249060269, 6.04070642520748, 3.9741247926779066, 4.850003263402412, 5.82625088631927, 4.859232750299824, 5.4647513684553894, 5.40608607124092, 4.9442916463624424, 5.108746067645877, 4.900067107762151, 3.6819427257318353, 4.580515347942157, 4.931155335399726, 5.990766149900053, 4.170832163132285, 4.318515110540024, 4.710441298019879, 4.637435861578464, 4.9546629076623905, 4.806534397825439, 4.9475513082258225, 5.237748295624384, 5.376769466003677, 4.949081950283035, 5.242350626221377, 4.700356059814331, 4.471198998819199, 4.169115441483871, 3.951884471056621, 4.983344081629257, 4.192592110447083, 5.072759862060409, 4.9924304991522295, 5.243715023608147, 6.440715616636667, 5.4869432011393195, 4.399719235311794, 5.049011909103999, 4.8991519880368, 5.000251590487741, 4.999533022228267, 4.329616558165449, 4.3299307864668455, 4.920698008915189, 4.970669682709697, 5.076619525989059, 4.791039137794083, 5.789585055325017, 4.961086942774502, 5.966006346492905, 5.320563115844359, 4.755970481996501, 5.909747712112955, 5.435630238236232, 5.237274403818023, 4.353713885129137, 4.706180988840503, 4.507438290745209, 4.968794400803481, 5.328213819677045, 4.390137821161445, 4.938285229378526, 4.547618145176861, 5.695080962726439, 5.5152003312761515, 6.267890539865304, 5.140852565087367, 4.642042800257812, 4.6825331746013035, 4.296210981081392, 5.620405465482725, 4.88547343711251, 4.958052166026234, 4.853194223939846, 5.517573500966959, 5.165797885102029, 5.165677253499229, 5.219430327568376, 5.3879201931101095, 5.537444348688864, 4.93412422660871, 3.3053369677072433, 4.704431284375422, 4.54904083144302, 4.26973839195692, 4.81189489084169, 5.449185619997814, 4.5568713572463375, 4.290831147675087, 4.403139455378507, 4.694631114224175, 5.098784161848552, 4.495747595377086, 4.811613740387071, 4.483519353480064, 5.880975520293646, 3.7671747289818898, 4.7452539424505265, 5.377992803136271, 4.8566062878296234, 5.576455703222395, 5.284244033991219, 4.872477781195779, 4.636208680187672, 4.986181851593273, 5.599859551702835, 4.5980303575770565, 4.833661403744397, 4.582805153680377, 5.5359964628235145, 4.091647886538359, 4.8199999633875175, 4.81077471029364, 5.3216464010431395, 5.1102421478692355, 4.822179115434137, 4.126881289127491, 5.053073413065509, 4.809629713319984, 5.903094205364124, 5.05735146176919, 5.321226280264012, 4.1231473497574544, 4.935696945897748, 4.677519553316139, 4.864397814646041, 5.153254061207665, 5.513375648934602, 5.2464094232358915, 4.501958973934676, 4.507432503595582, 4.300725607616244, 6.0285331900026105, 5.413222313346131, 4.423553651589648, 3.986591090272526, 5.052809635362922, 4.3880744319815985, 4.655441623834322, 4.265320685396255, 5.402940641341797, 5.130184930728719, 5.654293480785697, 5.01524339761066, 4.817674909959308, 4.7829757640335036, 5.1345463864004115, 3.9898667184820655, 5.594183540308242, 4.686631345576384, 4.509164129755109, 5.517562901503675, 4.627481449384792, 5.409147817823818, 5.802254327043857, 5.609887623059214, 4.880071257958858, 4.926266400437988, 4.788981082181239, 5.263343076018456, 5.359827299709677, 6.401732283766804, 5.997747620975415, 4.432538329336802, 4.8215756209292975, 5.396382676043907, 4.412175123828211, 5.140482956376485, 5.477181227014601, 5.09060242723228, 4.236615227620534, 4.935697930950943, 4.016860312528454, 4.937320867737963, 5.259180612309094, 5.055298219876857, 4.482747950334086, 4.750176423437671, 4.685314941271708, 4.861725787441711, 5.552606323314951, 5.486813242323755, 5.117527323528234, 4.8631368875552825, 4.787871752420477, 4.6226877860669715, 5.333454922633678, 4.6222812211316775, 4.388837713937703, 4.045586797902931, 4.861346938892086, 4.686058127875956, 5.428972303469583, 5.435522885613298, 5.817967699648465, 5.109932803216036, 4.728817808087553, 4.711253228212653, 5.597350506768657, 4.78831024994657, 5.234243432176263, 4.422767571633211, 4.889623771099658, 4.39692418118931, 4.051463650172, 5.930807609673691, 5.208454805647918, 4.367068207548399, 4.62967320089949, 4.864222687666318, 5.251734348815636, 4.878748209580421, 5.39404952922504, 5.377269687362953, 5.030914171619778, 5.595115990595926, 4.669612598324558, 5.541909900591647, 5.99779185740342, 6.245994455183295, 4.830548272970018, 5.150751441411351, 4.007150492996983, 5.115387097558794, 5.128261380674462, 6.446053659506658, 5.405356325334927, 4.945862100095833, 3.8915803446811874, 5.190509356430821, 5.488522911595491, 5.7404257509893055, 4.341890597136965, 5.188920031608373, 4.777634141563244, 5.4635114929862745, 6.091205417721138, 3.961120068577601, 3.6259599308278143, 5.021765811660326, 5.710021843844392, 4.8014242146455395, 4.738890998923582, 5.019387385775634, 5.20589179889023, 4.908633837824204, 4.757862629098295, 5.385183079828065, 5.80386899550702, 4.934090190702111, 4.495853657875303, 4.783830649884322, 4.676419910072147, 5.114627811960213, 4.368449892327366, 5.373352332382769, 5.427160086089032, 5.066907660148505, 4.704921967364185, 4.873253543026368, 5.369211002481055, 4.843413484178613, 4.49340804125331, 5.169688554161892, 6.03662000676297, 4.55659309122326, 5.561483901459652, 4.712497088144466, 5.328237713980053, 6.268855129915848, 4.4366240678936295, 4.422521409904087, 4.322789314089656, 5.873508449798904, 5.4535581216287135, 4.510655209571391, 4.936951321964509, 4.730327326888672, 4.928187799192947, 5.276401163145688, 4.952038383976672, 5.452576687229896, 5.051302346850279, 4.139065505327988, 4.221580409737328, 4.9650876990232495, 4.7610030914585275, 5.177017892457676, 4.898254548155368, 4.9275509886842155, 4.213726550841674, 3.9766229711385246, 5.582230550152276, 5.04203736672668, 4.487009069403464, 4.703438335925454, 4.439351168424336, 5.492683084608199, 5.390322065714039, 5.670766017176563, 5.536042826284169, 4.119125634831216, 4.530391278505357, 4.793677119965799, 5.796092116369931, 4.137514880320881, 4.873097434611657, 5.217660866237176, 6.811851711660582, 4.302922225016795, 4.773423939216864, 3.881172029209138, 5.113252159283394, 4.552198588589564, 6.1102365663115465, 3.960764182388985, 3.8926718862813923, 4.593844984984274, 4.820916737439389, 5.341770287129161, 4.882887571305389, 4.222571622751587, 4.576363598540203, 4.24039923112685, 5.673252947415312, 5.207949661428463, 5.274395127045396, 4.606107003521329, 4.326710156750265, 4.833577323955508, 4.798758310398351, 5.046614949189279, 5.52298646960506, 5.375013731720941, 4.7033442606797395, 4.739924051393981, 5.295250456599822, 4.928850074785363, 4.991293738498595, 4.719316698984974, 5.066667215436984, 5.088153687670128, 5.591829542814567, 4.746630678110832, 4.8881286137397355, 5.760283473056608, 5.572618778088805, 4.560097248338585, 4.572356011960229, 4.676293101483371, 5.137540053369539, 5.463153911994494, 4.468633679762509, 5.712247261518726, 5.357668870955038, 5.703689998661917, 5.330351259238621, 5.343040591707328, 4.561738745398829, 5.0202647730095125, 5.18218549243686, 4.852476711981705, 4.421241088617442, 4.122468438894626, 5.031060978033772, 4.366488583562951, 5.2558496699952855, 5.066731427938263, 5.124934624055711, 5.628862657352909, 4.665032245808747, 5.402674720363411, 5.460187584611158, 5.631069726982556, 5.53019059055276, 5.078161521496988, 5.112971646694367, 4.775584719271339, 4.48365152643262, 4.248383921604315, 5.1241641466844765, 5.559967421277439, 4.472292146590129, 4.326186206576449, 5.66107589738122, 5.912224315920663, 5.638094573894636, 3.7907280770241933, 4.553231764847744, 4.68893011182111, 5.033735035908726, 4.986408757612295, 4.3939934674084045, 5.310763813321098, 4.99072273543631, 5.538837708578513, 4.752624654047148, 3.963381260868236, 4.375825223516551, 4.97180433184956, 4.807951882778367, 5.284951158057903, 5.458869441165073, 4.452207690206293, 5.516797721930207, 4.459953159658636, 4.426873015807615, 5.4770756091301624, 6.057177432217278, 4.016650475008527, 4.430212735376516, 4.180587827767487, 4.538405086327852, 5.187756383200059, 4.686993772864516, 4.112646715657489, 4.76664639306617, 5.691198725756859, 4.107890339637981, 5.053833885825456, 5.538556565181493, 5.487872846413792, 4.699903252770381, 4.244240814967555, 4.200879243785902, 5.553244571839335, 4.809685508453806, 4.9817305214398555, 4.938977938064596, 4.999189037310703, 4.912167344533249, 5.166702394624503, 4.8178660996060385, 4.8927203551230125, 4.922821047355233, 5.680091735328594, 5.605894442871544, 5.511567723849333, 5.299204443981455, 4.370235583672578, 5.004425228038635, 4.445816397186533, 4.84014474682335, 4.7766067243642, 4.455342470727859, 5.118327593234201, 4.931115467096709, 4.321404744916354, 4.809360648777753, 5.148607681695506, 4.20555886002089, 4.118978341978208, 5.780499366393082, 6.050465256615952, 4.658789654796087, 4.537492611293695, 5.437008530561557, 5.22799779210861, 4.480908766750304, 5.167078918680257]\n"
          ]
        },
        {
          "output_type": "display_data",
          "data": {
            "text/plain": [
              "<Figure size 432x288 with 1 Axes>"
            ],
            "image/png": "[encoded data removed]"
          },
          "metadata": {
            "needs_background": "light"
          }
        }
      ]
    },
    {
      "cell_type": "code",
      "source": [
        "i=0\n",
        "final=[]\n",
        "\n",
        "for i in range (1000):\n",
        "  v = ss.expon.rvs(loc=0, scale=5, size=30)\n",
        "  media = sum(v)/30\n",
        "  final.append(media)\n",
        "\n",
        "plt.hist(final, edgecolor = 'white')\n",
        "print(final)"
      ],
      "metadata": {
        "colab": {
          "base_uri": "https://localhost:8080/",
          "height": 303
        },
        "id": "11ovgszIVh72",
        "outputId": "fec58c85-a0fa-4436-e53d-cf5180ba9a28"
      },
      "execution_count": 204,
      "outputs": [
        {
          "output_type": "stream",
          "name": "stdout",
          "text": [
            "[7.078294340729473, 4.568426518854534, 6.2959058203692075, 5.938623201955449, 5.738989984870886, 4.548300217577853, 5.010583526272825, 5.2284669645838395, 4.032313274936169, 5.259248711704388, 5.813683300360328, 4.113794703677674, 5.902114569638309, 4.5021975708993445, 5.468476101240671, 4.481794211964342, 5.803345349699872, 5.442448832050011, 4.338847949775596, 5.948328455770592, 4.9928687944197785, 5.0886412357719495, 4.983616983209716, 5.10922962230103, 3.194103768751093, 4.696670423387604, 5.239919921148967, 4.207980004390094, 4.479353404776329, 4.4169486333964745, 6.342220337898731, 4.886450690491872, 4.673614206069684, 4.254178141730192, 4.263785481621963, 4.5101607022577985, 4.538698167228447, 3.52373173814386, 3.8405642310517503, 5.083934694550148, 5.623249133270084, 4.118790344262844, 5.746832621969444, 6.220667405606536, 5.381463585721856, 5.973710067031175, 5.395480421187555, 4.509689033375263, 6.213080630114708, 6.286012348180022, 5.395051067333916, 5.670768975198007, 6.933315618381601, 4.143333236362201, 3.6644726849095557, 5.03972924946621, 4.165562126020114, 4.163696775626321, 4.230536204915407, 6.498169470087388, 3.9845186546329714, 5.050568691812338, 4.391028873131743, 4.855396019541929, 4.976852675460784, 4.915313308064449, 5.9926959991198165, 4.176330240796938, 4.769615839248568, 3.926024520853453, 4.619559549264457, 4.146584237978248, 8.00104619342701, 4.137080527656227, 4.579691663247532, 4.786795936687934, 4.6732501568267395, 4.821406649346821, 4.819938869176559, 6.273667703167752, 4.214155259230898, 5.815326201463247, 4.598348083486206, 5.3024283403957595, 3.3052331055302755, 5.611911017721277, 5.235809866112005, 3.7742414018218122, 5.670671866243127, 5.179879192367617, 3.9508871226863347, 4.528547031250929, 4.758914101734641, 4.131321866619454, 3.9776137005001515, 4.540809753950225, 4.497970940360563, 3.3930503505744145, 7.121903718731088, 5.74296771791281, 6.31798443906767, 4.127270665615056, 4.147236091821117, 6.135044748327738, 3.2898351133715606, 5.86263455411559, 6.176780613258302, 4.537060242128887, 5.216800444447273, 5.666790732135966, 4.098182070620454, 4.032642182387501, 3.479828534870667, 4.728047324722245, 4.845172287905709, 4.525283009873617, 5.915806812070243, 5.5691335527863135, 6.180250416805509, 5.976266672100567, 5.011447877137619, 4.946133380949315, 4.302843789964905, 4.8842429167209, 3.3436509147346456, 4.304475306847502, 3.700872664257875, 5.69235789612746, 6.19939492311953, 5.740697152731658, 3.9377329793139935, 4.586371840770396, 5.396687239242131, 4.607523550584345, 3.9781355408730987, 4.697962724949014, 5.352806397999208, 4.964942037673831, 5.057862982219233, 4.097960572612051, 5.293339330933685, 6.031112786287883, 4.53309990575014, 4.895186045260762, 5.292213820830994, 5.044072913061777, 5.635667892560062, 5.276170473078878, 3.9005505022633917, 4.7033938618545035, 4.948431224755888, 4.998456368230157, 5.654603269623772, 7.122734620553179, 3.838785970319129, 4.175557318750227, 4.660730178698857, 3.522969157755512, 5.799707117416037, 5.1076843169518344, 5.448181648748197, 4.947301652021094, 3.760428840084575, 4.6834398241844974, 4.5243189448873595, 5.454984293464197, 5.127500221038567, 4.334206629407282, 5.771438418802274, 6.9480523760007395, 4.318295031090029, 5.794112344145149, 5.780653116040854, 5.679465613918618, 7.289689275965778, 6.645308651500472, 5.5497742655439914, 5.9337759340395255, 4.734860415528718, 6.241670998310648, 5.099872926795492, 7.104392358337493, 5.132343871617819, 5.421063267620636, 4.143409816103019, 4.1968205422608005, 5.547517591997104, 5.695920753044325, 3.754044889111827, 5.493592384027354, 3.96876906099488, 5.594359022544399, 5.868134770573162, 6.411015222387855, 4.803324322938581, 5.047028680614454, 4.6466383878827475, 4.630024145066794, 5.623582621650031, 5.104676119893684, 5.66378303399331, 5.765434332170615, 3.54178356852793, 5.732183233271198, 5.355687895706824, 3.9970579400564077, 4.3264795542626615, 3.975688132692287, 4.834378977490614, 4.607991548037097, 3.7893071934648104, 4.88609470817172, 4.678947068760143, 6.376152165611123, 7.613941151568438, 5.084278810629314, 4.892426676001365, 3.6769217451070295, 5.529363270648465, 5.844746299450508, 4.962200877113973, 2.4236540507687914, 4.8551826382709455, 4.727546527408632, 4.597227518303021, 4.47584417325497, 6.3900240096093155, 4.664120636723316, 4.686361867461804, 4.348280010008722, 5.187842145479588, 4.316521189116452, 4.9447479585758165, 5.878429935925829, 4.183959737005546, 4.040904470805495, 3.926136862569443, 5.884563807823784, 4.769964410170183, 4.07927598841998, 3.6730999088854093, 4.56858107775877, 3.751500097543709, 5.714645649357284, 3.4915470061956544, 6.169422400410615, 5.019262225423064, 5.511532412449412, 6.319471107164814, 5.6036640819805825, 6.11789890028298, 6.722678041181772, 3.8386326841833815, 4.683928825135053, 4.756108202874247, 4.041582382030038, 4.578484078167402, 4.719350193430673, 5.87404644695003, 4.845752864599029, 3.370859467754303, 5.649913426996773, 3.9168148846133457, 6.215978942254437, 4.81432768439067, 6.575705483512089, 6.1456225301824485, 4.860797683913416, 3.522396030406317, 7.685771622998445, 5.303834793947843, 4.815958162466728, 4.610962157137002, 4.827034419450221, 4.301961911723726, 5.434833699885951, 4.557180296339103, 4.555512102192219, 3.619600515996828, 4.582418056112017, 5.308317107271992, 5.403742538153237, 5.138672171303636, 4.423143688235372, 4.700435471353652, 5.696520388401848, 4.390827954052184, 4.3573318795959, 4.897854688526012, 3.9262726046598946, 4.729641564414743, 4.312639649609182, 4.297253463002407, 5.65448403589038, 6.02578194605226, 5.383610055624962, 3.4259714665478254, 5.931396911939527, 4.369497307143216, 4.207381525249578, 6.058127590878879, 4.617101079373095, 3.799453733968821, 4.300793715553905, 5.450629893144468, 5.106891577314219, 5.538996694826762, 4.231087569804854, 7.633185746138551, 4.762242368676721, 4.158169839958455, 3.708730464211904, 5.43347721216978, 3.5856375008200376, 3.825878765464031, 3.241747862183327, 3.581235880987997, 6.427954761864502, 6.1814487252318795, 3.418657517975911, 5.3119595518110065, 4.187488590403284, 4.7568289059919655, 5.813313682877405, 4.317377533622422, 5.049079271145462, 5.286890912919502, 5.428837829467937, 4.23437145583686, 5.597468540554085, 4.422411819647911, 4.310773930572868, 3.88997324485796, 5.488605269581414, 5.516111901777322, 3.725614260863934, 4.465163590484907, 6.004490296725504, 3.73357118004366, 5.751206585882005, 4.626080197389683, 6.984332604518099, 5.286444324478583, 6.0165344328243275, 5.116778797333407, 3.976217465867343, 4.834245744374408, 5.2218252118418, 4.681024169465289, 4.818328853081806, 4.467343580688845, 5.549674467733552, 5.491417814030874, 6.677393836402449, 6.8558149858530895, 5.487047762755312, 5.794730375364731, 4.797228014412797, 6.228892555085301, 4.37277271708987, 6.692434568809121, 4.181751873626138, 5.103638652289152, 4.931329168271329, 4.333919406956365, 4.574658067010417, 5.592006535117983, 4.884893113024895, 4.805255229127419, 4.69335148639288, 5.782561919997071, 5.014103415506871, 4.066261360755126, 6.434602887579669, 5.29720364208471, 5.801643544900473, 7.328873552468793, 5.503432786883189, 5.03969780972699, 4.503628330824051, 5.027576931225242, 4.871803603974886, 3.569344395801716, 5.408279639682709, 4.897800273612506, 5.682145704032537, 5.270629509319311, 4.533400162158134, 4.441219025827816, 3.6880718929180287, 3.5047122319097275, 5.318005030947987, 7.323607003341479, 5.352710189635673, 4.664119682309162, 5.446398701764613, 6.551727861518988, 5.604005542045991, 5.463150826196255, 4.677856555285979, 5.613415849628175, 4.033891690100121, 5.1199811294560345, 4.619401505439757, 5.837774475599805, 5.6483415795867, 4.601899299783565, 4.944793418241357, 4.086073939920825, 3.4222843962767633, 5.313020033938679, 4.258629622051224, 5.070909618967415, 7.329538840878017, 5.468695278071619, 4.475925856762137, 4.8739619623016965, 5.72809822963065, 4.785580189490529, 4.572510607182874, 5.832180772670753, 6.126534397016059, 4.3567787104236775, 4.963632048008664, 6.370893945441947, 5.787340362521166, 5.052604314070324, 6.638261128737011, 5.358916478145287, 4.692815843860271, 3.945148257014054, 4.438135578640793, 4.5182105712382015, 4.120578614316658, 6.844218257491729, 4.617768840258877, 4.224650485768238, 5.186870627191762, 5.346939778866602, 6.079611587040579, 4.932734477616216, 4.9104224338847775, 3.96219780622494, 4.702201896083144, 4.113868568484556, 4.600272623467878, 5.348342210670165, 4.944793724021272, 4.58440016314834, 3.9270808593033144, 3.5736960162348104, 5.100580710376778, 5.145543667995412, 4.207901229506892, 6.022360753939647, 5.343258297804931, 4.077045233390227, 6.685523427104249, 4.896674323715135, 6.030195099771183, 3.8508649292526056, 5.099151345856206, 4.452286046947875, 6.110920129061965, 5.019219704918045, 6.054122245217191, 4.0217291753223146, 4.456860490588482, 6.458255006224187, 5.235171909767936, 7.040631870928973, 5.421494449038973, 5.962312838389409, 5.51148409204785, 6.183752172510265, 5.963169911466749, 4.1566774732639225, 4.9214933198736865, 4.013111926821666, 3.804910257820744, 5.056534727083654, 3.8470249137445376, 5.1138040243191565, 5.792203222011006, 4.42381442413975, 4.849106792153259, 5.101923530614643, 5.48322094304726, 4.590907604633459, 6.90996744475265, 4.168272310425794, 4.535951590867302, 6.976590163920565, 5.8376584905067075, 5.884471082927191, 3.288630251360096, 5.177895773246505, 4.710860503366748, 4.311192986847488, 4.474861699925998, 4.884147672647962, 4.931528688918638, 4.4540616783349725, 3.7095332240718566, 4.400843608394289, 4.254573557752885, 4.593679602204699, 3.6977991831982058, 4.311953093932603, 3.948020032155911, 4.842131316795001, 5.771509406579097, 5.283123857471594, 4.061596267678696, 5.561586851314005, 4.62295807760448, 3.9595918571501474, 8.372880372157745, 7.293217891778045, 4.889510042782189, 4.442419942550627, 4.5787612951934715, 5.448984410232578, 5.434486968081065, 5.045691329582736, 3.028553194667604, 4.526066987231284, 3.8914991236221104, 4.051118174478343, 4.448250977238258, 3.9276657801573434, 3.3434589050915013, 4.688485219325489, 5.126123387454926, 3.1264286967953043, 4.285957919681461, 5.924494500261787, 6.005046267964458, 4.412565535026603, 5.156258158187882, 5.840834835023264, 4.246615608782182, 7.177116548702261, 4.610445168488586, 6.028408678569572, 5.082824141705597, 5.288052287703206, 6.636482778724561, 5.04723004226096, 4.918835397614656, 4.708916320713593, 4.391850886277255, 5.144597855319104, 4.95379312030295, 4.036154284462576, 5.650085763480465, 4.880678973379113, 4.510592105825266, 4.138315266144837, 4.556491984711441, 4.938363838834604, 6.296054743323354, 5.563790399249296, 5.685985081684984, 6.089109093479406, 3.618682660868749, 5.083944342402373, 4.394280113088679, 3.939228670156998, 5.207136079542475, 6.221221225413973, 4.489870488269124, 4.183001272165852, 4.420032925835713, 4.542249423841196, 4.374333468075756, 5.319904512365927, 3.570239116284949, 5.8285138026473735, 6.194328190715796, 4.535520654837684, 5.593799669619032, 3.897448170062798, 6.6584052282200785, 4.484214090280383, 4.167859323523721, 4.797632142541096, 4.674001387912463, 4.622571440764789, 4.851660600183722, 5.090026206936702, 4.25372882931453, 3.329608796799092, 3.415201283996985, 4.464998185166949, 6.449618058113473, 5.281015815998568, 4.90278565868005, 4.795060879441411, 4.844133094815694, 5.047018463266426, 5.537040395618252, 5.302893451191354, 5.3028565982033395, 7.068347913622973, 4.92511983979544, 4.1583638935378495, 3.6688908605251886, 5.947250323471128, 4.480067678619618, 5.238425695558953, 4.723070232486237, 4.626543439309299, 4.136220153640723, 5.09649990123294, 5.551084428795822, 4.6592212452721276, 4.844522475683843, 3.4670100202938943, 4.955249083578939, 4.404347889985979, 4.739354586372687, 5.405103023888424, 4.616337931985669, 3.4895465353655437, 4.1939311679738935, 4.043438007184579, 3.8608794293339903, 6.330822919274548, 5.690892644258786, 5.9216672683879645, 5.256526974278984, 4.715757453076039, 5.230722485918193, 4.075872808376122, 4.178266868676854, 4.2417279843079765, 4.801620740655099, 6.242640036633026, 4.309026775643793, 5.135731498594554, 5.489050858447282, 5.728658571981025, 5.361670754583755, 4.754663985933456, 4.345226197377596, 4.50929054982045, 4.664783773420623, 3.176387682304184, 4.1697032569998544, 5.216097070385823, 4.402542544713067, 4.350649997642033, 5.593722330273176, 5.714501236922147, 5.180546952786939, 4.316566518643341, 3.9755312254478956, 5.346249030374568, 6.984846828712327, 5.027446640833305, 6.337592525041453, 5.200263529117162, 4.047852733539929, 6.645787831502839, 4.985696919183482, 5.009362915488361, 3.7195713492324103, 3.838933684892594, 6.215745232081, 6.7872165644046225, 4.99745539888265, 5.161811340028461, 4.474639841543335, 6.324056523711236, 4.722189214296324, 5.622330447211087, 4.388969983769854, 3.962195569693642, 4.187777785702604, 5.299570391668175, 4.151807143834349, 6.173800178341527, 6.591533889271084, 5.886917765580459, 4.913921975779784, 4.967590142056311, 3.593156645433251, 4.752839742841069, 4.947221654736788, 4.5423387034499765, 4.582899857486631, 5.208340168570275, 3.9170572644183257, 6.5763081344694445, 4.989697427448994, 3.5691833701008795, 5.05814330662015, 4.901258466415871, 5.55216538348349, 5.2765493163321935, 6.635770066238578, 4.1626785282154035, 4.160073015982147, 4.8216840457038375, 5.31289294153053, 5.297266695756452, 4.165910850316736, 5.310844563340733, 3.500383487059885, 4.552447412487666, 5.016192008479892, 4.845473336002739, 4.782056464339533, 5.374630609333369, 4.080513497275026, 4.623554667558229, 4.260620490838241, 5.6870585334247625, 4.2103050454136906, 4.969843344650156, 3.8990017018218555, 4.692299240271752, 4.754527428052485, 3.8060262238745435, 5.1123410441053165, 5.336738508679725, 5.274427144113994, 4.550638035907629, 5.130283521073251, 5.267640280889506, 5.534066520938749, 3.769244463814741, 5.520003428598469, 5.268957066400633, 8.38936245365645, 4.909014326347893, 3.9852091230792, 5.0205903064334905, 4.948028225016142, 5.897511735993905, 5.655974494941735, 4.183335278091969, 5.661498666116811, 5.2292178510745995, 5.800121201703433, 5.808065122360153, 5.562262592702073, 5.243623670603358, 4.801582518146394, 5.182711670456907, 5.910667685803804, 3.6991565707163465, 3.8547344667678956, 6.286630380066205, 4.3651576477467495, 7.079042618124913, 4.086743998065816, 4.658226734087756, 6.554692009020681, 3.8393716965296822, 4.930575216835073, 4.16248134932629, 6.076898589580839, 3.4322424531722495, 5.757012682148026, 5.6171101045704, 4.459616228940282, 3.313880624228082, 5.595919059297078, 5.548334556232748, 4.9414196893021405, 5.915878908099812, 5.48891017249991, 6.38468998007218, 4.759584880102466, 4.255164274349813, 4.7983952989197585, 4.654555401248879, 5.186737509092936, 5.285019734203946, 7.483951094723716, 4.943870220196599, 3.9475904775369144, 4.707814981499057, 5.095778427698951, 3.8457440622596653, 5.889457556790938, 4.804340948067093, 5.440952772931046, 5.742997226141141, 6.622469022707202, 4.0288815888380345, 3.2045222154190065, 5.24746533305601, 5.364036827943883, 5.388968269401429, 5.792028789515272, 5.494086820739602, 5.450648670714072, 4.144100861824721, 6.183452507955966, 6.95702012839836, 4.366531547044061, 3.6051376712009016, 5.255672848650025, 4.374352345232868, 4.014219263420512, 4.904485696360506, 4.768271663391008, 4.367012118076073, 4.186693494923151, 3.850207974719176, 6.539348055387209, 4.981578806183305, 4.918254871783196, 5.792331280114146, 5.252383144890154, 4.8868083779097775, 5.218786619827542, 4.214013819980945, 4.901108294602685, 3.991563930503436, 5.710078026072185, 6.617392777543922, 3.777665859957116, 5.214887528380967, 4.8283885533513375, 6.0453102443819695, 4.499321297227694, 4.317173835182214, 5.153509469350724, 4.877048032463761, 5.582800570197938, 5.1844733431372285, 5.670951000013619, 5.479848106800802, 5.350911866767548, 4.712577758182221, 5.612944239529929, 6.525415504076019, 4.630692856893816, 5.276905081322748, 4.943109524277899, 5.822392500966075, 6.131635692678537, 4.771013767428874, 4.503373951559809, 6.032890571541184, 5.179533808510345, 3.748284915636565, 5.585707453398489, 5.766520977913384, 4.64293810606101, 5.379735426081756, 4.789389973498826, 6.607538489528591, 4.6772305512224115, 5.079267845679198, 5.516999880221307, 4.140981336729745, 3.9195690347376524, 4.029434489995753, 6.129610345762999, 6.080739835269122, 4.572404599763412, 5.951638737420859, 5.935199229787163, 5.4962054331784485, 6.659127261332853, 4.57650172467333, 6.8705183017278175, 4.441044551515422, 4.373539862822624, 5.387705461359028, 4.860014115416513, 5.408376661100083, 6.166234327476663, 4.825095402263502, 3.7950553290111504, 6.40214467699104, 5.883645816309089, 4.267779770954032, 3.5933309391799764, 6.212285696645909, 5.266886179276403, 6.4203919019511355, 3.903790788444122, 3.8168097423307867, 4.9515249839752755, 4.993884710324825, 5.992043822691034, 6.243726654585347, 4.332836238365932, 6.636608709116591, 4.721469176522763, 5.507856793941111, 4.436409783349745, 4.70203001548856, 6.576317339763412, 5.338785519600396, 4.62836870308457, 4.6402436238466, 3.3172787127770533, 4.2247125449966445, 3.104453456479099, 4.7667894229657914, 4.368682948031406, 4.3601073301107105, 5.086389857298128, 4.46998756913849, 4.871120897535707, 4.156840155146196, 5.027946632821776, 5.955860335508247, 7.179360007023551, 4.6930289721697935, 4.339799825370529, 3.6670521667895657, 4.870664456835074, 4.830090341578178, 5.284555429201453, 6.554898370295887, 5.205184046166088, 4.479408751387491, 5.827196176039536, 6.771944640198507, 4.83160275099968, 5.2955115523049106, 3.886524254758156, 4.697615969402153, 6.414236112500384, 5.180896883780158, 6.434266113812055, 5.800055778433937, 4.748887097880366, 4.446622343803843, 4.394155132273153, 4.690962983745012, 2.7402716345421667, 4.257920913874043, 3.391036307289032, 5.41836128970165, 4.0963856974460615, 5.388280921347865, 4.782113623811572, 4.633815651153266, 5.745088513067199, 4.734839565192136, 3.637485793061589, 4.864768427197819, 4.425220887699904, 3.9143639546529916, 4.250036964394906, 3.4067608651748627, 6.035562117819036, 5.146310459178378, 5.723823371382697, 6.2681878593375195, 5.905668627759389, 4.48528955049618, 4.433646706862963, 5.469382239644095, 4.09412950845763, 4.556912823573823, 5.560808486521844, 5.402784034900259, 4.790847353462962, 3.545156742765326, 4.9149460285982824, 6.344736839528794, 6.29195134483511, 4.548923629681297, 4.280765163417186, 6.5341543842455065, 2.873436679169134, 5.711099744923689, 4.369614496114353, 4.682563904487835, 5.0497737262407485, 6.027027716253343, 5.143622231951451, 5.248607543562167, 5.667789723323659, 5.772446126212144, 5.97987968225236, 3.689467521051661, 5.656456010713414, 6.5649162023132, 6.452859120415771, 3.921950880979811, 4.625668116374519, 4.88812389890196, 4.848882881879628, 4.92031869882179, 4.486683931359339, 3.9179661482312187, 4.457330197156433, 5.955313831549833, 5.628668198693324]\n"
          ]
        },
        {
          "output_type": "display_data",
          "data": {
            "text/plain": [
              "<Figure size 432x288 with 1 Axes>"
            ],
            "image/png": "[encoded data removed]"
          },
          "metadata": {
            "needs_background": "light"
          }
        }
      ]
    },
    {
      "cell_type": "code",
      "source": [
        "i=0\n",
        "final=[]\n",
        "\n",
        "for i in range (1000):\n",
        "  v = ss.norm.rvs(loc=5, scale=7, size=30)\n",
        "  media = sum(v)/30\n",
        "  final.append(media)\n",
        "\n",
        "plt.hist(final, edgecolor = 'white')\n",
        "print(final)"
      ],
      "metadata": {
        "colab": {
          "base_uri": "https://localhost:8080/",
          "height": 303
        },
        "id": "cnC-L9tzVo2N",
        "outputId": "22d8f4ca-c562-43a0-c861-c1f3cc87a421"
      },
      "execution_count": 205,
      "outputs": [
        {
          "output_type": "stream",
          "name": "stdout",
          "text": [
            "[5.755455605807109, 4.856332375610293, 4.162806641648767, 3.59134413441421, 4.699205192349599, 4.8230575756024665, 3.933674754792757, 2.774062117176011, 5.286745897934324, 3.6746374627743688, 5.151293907890734, 8.475010722358263, 3.8812338116075455, 5.380413994281409, 5.027122157937198, 6.2569711079254375, 4.137969812507775, 5.596653136517281, 5.527360031145809, 5.412171359647356, 5.091170065636701, 6.806782710545769, 3.2611159474884652, 4.472945648060618, 6.923621783838239, 7.465083698410752, 6.234853950936949, 7.014792457477983, 6.9445916014400035, 4.692371332875728, 4.789590595302544, 4.703843235087527, 2.9232083544875196, 3.975958908812564, 4.068854538911764, 4.7027377442628575, 4.563391400811969, 6.868570905888634, 7.371062862347302, 3.872894122672269, 4.602316526804689, 5.545414632489972, 5.927753365271424, 5.247479043987017, 5.078198619573084, 4.300029888733549, 6.498923797633594, 4.428589314570191, 7.107911564650417, 5.048336528755192, 5.273171578302685, 5.671098828639076, 5.531372951473595, 4.834211152272019, 4.8537773309471595, 5.051457742516953, 6.096626272114967, 3.5679083133643266, 6.07346782410728, 6.096027657325361, 8.081248076137845, 6.091350301916979, 7.082818052133627, 5.112601440625288, 6.935593692390396, 5.01101903585928, 5.789224962991332, 6.952596969453818, 7.166667312020261, 5.130872686376524, 4.493714581783249, 4.7923371414836184, 3.4355251252233985, 3.1922986491162746, 4.403080082132474, 3.152102075585607, 3.11584694774012, 3.7457704527597326, 7.133976820882097, 5.133886231875356, 5.7503912179625045, 3.681212597543087, 5.777033173088992, 2.921329517173869, 3.6433762244754018, 4.421740165498682, 4.8914482114218325, 5.027487035827099, 4.645289942181592, 3.933963507350142, 7.056330269648691, 4.453735715059941, 5.90863141631518, 5.038404268130607, 4.948214286272611, 4.484682579944465, 5.145561089602024, 6.68770520657893, 5.405402176334122, 3.2004925402608815, 3.151984488725434, 4.046053021826853, 5.9428675573805405, 7.137054310136446, 6.056217847800256, 6.5477020254251554, 2.534396505711633, 2.9059081797596047, 3.4050877285351087, 6.587837025932741, 4.716191808494423, 4.380028228082721, 4.328142374552075, 3.370548331479739, 7.187482135927061, 2.8082633147208376, 4.746305245038654, 4.380847657417946, 3.7033530141926656, 5.560506121067052, 6.483070847118074, 5.674360542297458, 7.38700567223322, 7.416620232170027, 5.973157037447139, 5.386810468703376, 4.965897595447291, 2.877065720565692, 1.8482835882914772, 5.614960628921027, 4.50108036664958, 4.214966829967256, 3.6165089108482595, 5.889295122599407, 3.955767715205862, 4.746933022435213, 4.422375020429441, 5.854528974502545, 4.327285383183832, 6.871557294490581, 4.941607556874115, 3.2101579232996547, 3.935617417001665, 6.73405270766557, 5.162051770333421, 5.758662393086135, 5.103094186652505, 3.0658251150691527, 5.086733179260205, 4.419257638348112, 5.0397209802798635, 4.861874122793243, 6.020406068756388, 6.650037716067681, 4.263433908695754, 3.0773447525811433, 6.121701655913797, 6.155088707301331, 3.703463416904869, 4.289817791507395, 4.283454180920414, 4.157603702583451, 5.50547607925904, 3.9455510612744478, 5.745827401490077, 5.934861091268732, 4.438281398760936, 4.896047453075494, 5.61305964170794, 0.7873095905961855, 6.247109403018421, 5.93343362010018, 4.801764277294324, 4.064954618000075, 4.964556133105035, 3.3951071732052283, 2.7335024888100623, 5.411508312064101, 7.083033666861648, 6.221855390187008, 6.531841778473247, 4.764245261449079, 4.63745869875179, 5.808285967722339, 6.1949180952917375, 3.9642164202699917, 3.586081253186389, 6.050292694051862, 5.5604703375581375, 4.8122778918820295, 5.846968096412518, 4.26040338381008, 5.840100597868686, 5.454397419310729, 6.812880336317818, 3.861911510530906, 4.951772667099372, 5.746612149458086, 2.7205191153688535, 4.7912795979058895, 1.8422282295388583, 4.352561522684709, 6.9567509989653065, 6.142267045607804, 3.61139817587135, 6.292203916904331, 4.211653389331795, 5.125646751000324, 6.518119572283779, 5.164688583461729, 5.306489295485671, 3.7693219016479897, 6.0099308371754345, 7.1284986231321, 5.854758290260568, 8.028829077499392, 3.6514455884393344, 3.328721204493102, 5.49013275803265, 4.632102193966129, 6.018106690679871, 5.886121917211537, 5.7369929115209635, 4.427572528530512, 3.7492065797552594, 4.076728184910705, 6.755315745426046, 2.7317227053203825, 3.735177941015892, 4.492251495958792, 4.1332584775895, 4.716775543851177, 4.650232190114181, 5.050565977358433, 4.205149232225239, 4.774588065392704, 3.4934159201166484, 4.394489170752537, 4.597146562826457, 5.861217202461663, 5.200173885476548, 4.068927915387715, 6.000482501616051, 3.1835824024606847, 4.935553051307383, 5.079704501695096, 7.261311844168362, 5.803665761988401, 6.184970007738486, 2.7112044127041077, 4.830425214017859, 5.2199115995749725, 3.6123463303787333, 6.658541211847142, 5.560382973023865, 5.965298608695348, 4.556611392994154, 1.8164904219365672, 4.807141269076397, 3.160232468076846, 5.452410907815361, 4.792143346417232, 3.5263175824707624, 6.461764277426204, 4.798800858388032, 5.151433651079797, 3.2965635876154336, 5.959494087759107, 4.161131707094269, 7.588299098552967, 4.571979854258157, 4.655708089993763, 4.938791364863028, 5.059407303903809, 4.026695905383428, 8.065278241097959, 2.9110339519891215, 5.8908357418868835, 5.269152835192685, 3.4280643499810854, 4.94159043181188, 4.686808638780573, 3.75961636581256, 5.964081552331568, 4.629796338388153, 4.140458039705851, 3.533552964254988, 6.347675770250732, 5.917897422075578, 4.1487334148415504, 8.067490715778046, 6.073902480132659, 4.358973968531425, 5.255717763303295, 4.822985244045967, 3.9186113030391665, 7.380232739717358, 6.452392766928143, 5.206497658624674, 5.281648856961168, 3.6911313185223196, 4.859010644714059, 5.939556773970335, 4.980675740287675, 3.8714175416067653, 6.2371462790339, 2.3047635228996564, 6.117604795081985, 7.228046593764576, 6.392685050157918, 4.411001006617486, 3.4367488486305353, 4.165196772207164, 4.206897260597606, 4.87337132874158, 2.321307955811553, 6.280447267722885, 5.368755955505169, 2.879473486992418, 4.656382308112324, 3.653118509058386, 6.098413829269288, 5.3427475928518415, 2.2142967473014297, 5.018786081228625, 4.039984193609445, 5.7034844246385665, 5.607639558009785, 5.203254151261593, 3.574545115993456, 7.252486439448688, 4.947091052337533, 4.657975463708275, 8.805972458810828, 5.744148606180122, 6.500725770039967, 5.0483711120479935, 4.541353522495155, 3.0956239275224253, 5.955342112548949, 5.029617393026782, 5.572046587553924, 4.494755982048678, 4.383790177129479, 6.192985019252488, 4.7721508803096935, 4.434329719063531, 4.034639166330723, 5.425828800018399, 6.276216681232808, 3.85167763164677, 3.180417472506315, 4.3251902320481275, 3.9215036712464855, 5.267751916384165, 4.862255363740291, 4.049742665294064, 4.971855624312438, 3.5164401760788304, 2.660551935494, 7.116719234140643, 7.916008235220446, 6.222729012224058, 4.73375856741571, 3.8982051223206438, 5.375001495847878, 5.140450541711742, 5.209448335651732, 5.091682992113784, 2.49813179181916, 6.633248151398662, 5.558648523618988, 4.3769882180249065, 2.078583339672917, 6.085828379006167, 4.406682594992896, 4.5175914791219025, 4.701158682934769, 4.413321829585028, 5.33644723884095, 5.01224009710523, 5.474235336903029, 7.324126096843439, 4.360619438832291, 4.358846574163991, 5.888425422639295, 3.6230572480412433, 3.6744763103680995, 1.827257987058899, 3.660493858179735, 5.443478429658317, 7.344536284487489, 3.956319672126003, 5.3358766927758206, 6.0459305446294715, 3.1557571626643455, 6.644511271550882, 5.43265728682084, 4.8765608542993135, 4.823747808501583, 4.6401754119987135, 5.248301046645082, 5.0659667924856935, 5.2672231291959015, 8.061642066296699, 6.441107610519201, 6.602759047168382, 2.6215069254636356, 6.609302027536118, 3.8148543866348255, 5.030818721168233, 5.895626306555638, 5.7248396606892875, 5.041484411071845, 7.85675786884446, 4.643782518117178, 5.5649803283814565, 3.739948245618662, 3.5252982821070287, 5.071496921657034, 5.225300135143379, 6.201866260083174, 4.051545900343192, 4.672732541027663, 5.832959745921372, 6.176982648758401, 7.409828471518519, 7.890254885780442, 5.767934483936377, 3.3065560175731856, 2.7773806261350273, 4.090154781798004, 3.488291300387652, 5.225797428339458, 5.487264840908806, 5.761345684318142, 6.032641857249394, 5.148422280996452, 4.695707916901484, 3.0506214243148007, 4.468397748110651, 6.911471949753549, 6.030853438827702, 5.332825345392253, 4.258443408218094, 4.716766598709288, 6.879373350733677, 5.869230978021447, 3.9991164277814866, 5.9274262886464975, 4.916296012598651, 7.077736344238728, 6.97785798300616, 6.417100469056583, 3.7309797850694517, 3.576051487432238, 4.891348726028609, 5.359940067509295, 3.4628572561604405, 6.3484868308032665, 5.1083831806129485, 6.086451013416809, 4.895683522414597, 5.4066322929351704, 2.225330073458866, 3.6546398875737096, 2.8309589648838265, 6.814216727877065, 6.111597565038902, 4.033897980908713, 3.7171312718662795, 5.318131164634837, 5.544319306071588, 5.012086739372417, 5.958764778276668, 5.694155110353045, 4.639369154034346, 4.263301911151929, 5.500698176285903, 2.195376578332274, 2.928341741555801, 5.792533683595195, 6.635140628306834, 4.430299961483477, 4.404385324497866, 4.717334234987506, 4.4373448003182485, 4.414246864285626, 5.078096975370455, 5.782999998516721, 5.379175030602422, 5.23253925501497, 4.646812333481303, 4.417418095634716, 2.8108006013880535, 4.867159680861858, 5.256961887115578, 3.0215977029603107, 5.265928918817656, 4.732055587531491, 5.916221142834401, 4.455797495437266, 4.891306601677533, 4.850919455148668, 4.6422464614831656, 4.516679845364357, 6.033763609591042, 4.914962349557675, 6.574800485590226, 5.553054051085727, 4.648135046292495, 4.755049912319809, 3.4691854511841838, 6.265347448542227, 7.919271756389157, 4.2419862061956275, 6.135920328467892, 6.696436342475296, 5.200797454731352, 6.079379891342141, 4.8642467235249915, 6.096852452016511, 3.9701572989350193, 5.613233222578291, 5.901671366904258, 5.846095842261447, 6.80517666116446, 3.822762674780343, 5.292480522800487, 5.23742937740805, 6.515187203137265, 5.744358977722468, 5.731205707607819, 4.208853352618578, 5.812507633548181, 6.6282753595676205, 4.560232464066973, 6.258033592682498, 4.799362055211242, 5.539866811188099, 4.988256183457159, 6.83128517102853, 4.890944449900729, 4.317608805834856, 5.946427128793969, 3.335364380764799, 5.2217865883557595, 5.269049138943258, 4.707263366812751, 4.848985940486141, 4.845402142314105, 4.8060901947251, 3.590626606122469, 7.2998402546719525, 4.698780222238697, 7.301488760524989, 4.9785017183368385, 7.212236366513114, 5.963457004854988, 4.353960086851341, 5.09475500219803, 3.9916577323932327, 5.053038133055935, 3.0628431652843564, 6.973035186741985, 4.532546619809323, 4.322056834391993, 4.0441482780132, 4.649796297990402, 3.1062200989076447, 4.636116564607482, 4.7052673066561574, 2.3101261031394773, 7.281088551934224, 5.157538986419638, 6.323873330136524, 5.786503396811065, 6.803654192910185, 6.7088644500447305, 4.912364751004327, 5.575374357981981, 4.6215964361841735, 3.9647822722361705, 3.5962063590467586, 5.683301502952971, 5.245034625167341, 4.676564244025063, 6.201221067275364, 6.375151968894263, 5.150129883549391, 3.629124578255546, 3.3351797743010065, 6.590273522942565, 5.338133760866586, 4.081054905537976, 5.709028182160094, 6.536608237316458, 4.2676642728331355, 4.153500909869252, 5.722357003832346, 5.057766067599206, 4.214465192297835, 4.3635303997792265, 6.849313322328249, 4.165268539371062, 2.2909846984987654, 8.523053356446388, 4.956640978776795, 5.463860936861462, 6.251116877771273, 4.015060677620778, 4.121791171357727, 6.575901108460487, 6.944022791026248, 4.176471297912982, 3.5457794754027034, 5.776288929010515, 6.115974873437247, 3.6677811647479266, 4.777083864835851, 5.087432955674312, 6.850192844103437, 5.747251282929722, 5.599866890261742, 3.879539274694982, 5.539372286774669, 5.207665073174611, 3.1467351546580247, 5.3305651319349145, 3.6830464245241727, 5.658323833656734, 3.683654025657388, 4.89308838814124, 5.051721442517253, 4.145915245797001, 4.408213132240937, 3.478947675640165, 3.5732755126586424, 5.999070159484058, 1.980668229508441, 4.61990053993427, 5.275165466214792, 3.9644096982877626, 5.4657271884908845, 3.5688910181416755, 5.079795352818563, 6.541298157021959, 6.868956292950333, 5.945137544045773, 6.125129101698671, 3.793478479289621, 5.285020945345625, 5.368560401459126, 3.228946643463447, 4.844464011529697, 5.133348121268048, 4.905076686427222, 3.9945004046200285, 6.403068849876609, 5.6155692523995295, 2.432275165772037, 5.546905288089883, 5.640707180792991, 4.57869926787326, 7.015794492010711, 6.091311087185894, 3.4412356063821288, 5.6274080974640475, 5.435677893870053, 5.062387219955208, 5.013341951346234, 6.67376065905252, 5.1899385585274755, 4.56921071731193, 4.125391038550614, 4.9914453801171605, 4.388960878899108, 2.3437634474284272, 5.184376294899442, 5.307948365205647, 5.48058306105331, 7.0099708968744405, 3.908618163558652, 4.106119195690868, 4.656776523920476, 6.983724912189962, 6.842325880401619, 3.090359954658864, 6.478659124783879, 2.4561808801570018, 5.811080991581578, 4.9362367063840304, 2.059977140157797, 5.416224440963665, 4.1512446004406485, 6.3347706320928365, 5.232286019072807, 5.128505028978389, 4.353631304976104, 3.131613548363036, 3.0944362659868885, 5.94163960716494, 5.994493330734526, 2.9495176877762455, 5.081820753451489, 6.546387903766301, 5.8255560578795755, 3.9043218602340395, 3.8305372154199064, 7.121348791322173, 6.220423097449518, 3.997791318332523, 5.192496912045223, 5.6092542750119145, 6.1687068780284315, 4.677875028429574, 3.7945152072458948, 4.227019316116402, 3.8439079391646263, 6.82932943414737, 4.456670490716513, 5.514265947819012, 5.012118614681742, 4.342195963626134, 3.062491578811488, 4.475722895905358, 5.529980535693562, 4.741497369424054, 4.711523988739627, 6.106292348419443, 3.770986954206595, 4.268309785524749, 5.591802638050746, 4.481773318643252, 6.6724924182314185, 4.917451945619891, 7.17282938614262, 4.76421358913046, 6.340557608290604, 6.963238759230275, 2.8075340237707995, 5.073440646888359, 6.8096125918107555, 6.240067956709136, 6.234113972643738, 3.9549148615657566, 6.042844864342279, 2.6846415628876468, 5.582406391130568, 5.426247055563412, 4.372720473621872, 5.458481425449037, 2.365280472413024, 4.076513389106574, 6.158382955025179, 4.190049216793896, 1.5480902318785354, 5.590662335016248, 4.066906222294242, 5.298536831912359, 5.514860205672995, 5.366096049140343, 2.8497779977038813, 4.891158164124207, 4.946454804559404, 5.721496276770948, 3.526743460747032, 7.256959783415808, 5.488492700834611, 2.8198866384528047, 5.067270781124359, 1.5335641234101431, 2.559918579232982, 6.85852614267422, 2.837852336608721, 3.5674289128878107, 6.659128486522683, 4.974121259782481, 6.162610869751024, 7.031723578206053, 3.2865868586885845, 6.0093535324536225, 7.33975280329408, 5.278706676626061, 5.745100813647517, 4.927334314223055, 5.588114467968612, 5.005102920542345, 5.891368611205462, 5.821185963928176, 4.683810464124853, 2.747197003082709, 7.818798554991318, 5.31774590091269, 3.5580920669117173, 6.933701231203739, 4.807123620620647, 4.292487375914911, 4.673023826665076, 6.016798741214832, 7.915636957982273, 3.5452114330630056, 5.334916157612383, 4.319090024819813, 3.0542332769250917, 5.3629725834126125, 4.124603512685602, 3.4748537219391995, 6.340041903818971, 5.8903091956311435, 1.6924364502796394, 5.324866730904816, 5.109962401267645, 3.9008797953118033, 6.572170261658444, 3.858297261843807, 6.459825213847456, 6.774768751839315, 5.617483699101184, 3.7546383275364326, 7.696848332514814, 5.356466570483032, 4.866150932047018, 4.9754779026258165, 5.565190882314071, 4.9613298892838325, 5.222073875766047, 5.393200102886506, 5.9202005075639486, 3.791898826978853, 5.740791165991272, 5.2982043266932175, 5.7301174000626185, 5.013431180737994, 6.4833963213210275, 6.605287314652889, 4.277412646391019, 2.3841776649819963, 4.173879955138656, 2.8237880334121623, 5.856811031606328, 3.973050024120646, 4.082064543530032, 5.9965451631235505, 5.682307402095075, 5.678513884984366, 2.891954870397598, 5.652168149277185, 5.625207806905885, 5.020252245927739, 5.000137593217814, 4.096790417647882, 4.128911393591239, 4.521912531915478, 3.295149789308958, 7.378055658608286, 4.6777934693602425, 7.225213548147689, 5.866739624409904, 3.71261458731555, 3.9861960717875564, 5.230762058420343, 4.765054650146359, 5.630204438984735, 4.414646267635179, 3.4606236037924663, 6.998603477083972, 5.108557678377252, 5.602947774627655, 5.944813706949598, 4.682156371373511, 5.7247439106502025, 5.354597403186416, 4.516085742018715, 3.8675106283900558, 5.4680246545520514, 3.562738841165688, 5.454032196782246, 5.9043855830175245, 5.303644286827424, 6.569614649770108, 6.813519063170961, 4.801273583814752, 5.568123040682087, 5.214498691988652, 5.886711563822118, 5.766881856462809, 5.9130138642271755, 4.085084407861739, 5.004864678704168, 4.501209950009673, 5.279098312376046, 5.84873630838266, 5.437962049783855, 4.810189048589249, 5.237736670987382, 4.745978790665076, 6.142065789306813, 3.019443177991293, 4.032837246421931, 5.725727494696695, 3.905134315112734, 4.1248404272014065, 3.5198761264621736, 4.733950688939487, 4.208316807193662, 4.369947557047335, 3.865167790555709, 8.217973981959137, 4.9096470156877965, 4.562977459334023, 7.123633238390645, 6.269256750733054, 2.3120761666318557, 4.337067897632988, 5.787341814150786, 4.470494217207057, 2.669131795619889, 4.5960954091664545, 5.919547336473657, 3.3856604294398256, 4.965788049729917, 5.563066093117329, 5.1616040854608345, 4.257470347254896, 4.077561803099482, 4.259640910002529, 4.9982666139625795, 3.131000203277932, 3.689911921172396, 7.152737909200392, 5.436272380581865, 4.997696954499443, 6.4790523416584005, 2.811710262807245, 6.594080124828953, 3.333413911706247, 3.3689730276123817, 2.47291917261925, 3.534451213435886, 4.954726131678011, 4.219001355578997, 6.10026351479757, 6.096919876913519, 3.6025364814406857, 6.6152863905316615, 2.8591448928101166, 2.7583406625743963, 5.206378271001981, 7.0841449277270945, 4.983724650032736, 3.2484467251075158, 4.448781384597515, 3.4804539738151457, 5.852837341288279, 6.086952507052862, 4.80924476760845, 3.7874060557406306, 4.417930115489315, 4.970627157486694, 4.146064969955538, 3.515344436252242, 4.536426085358424, 5.306510061498869, 3.992249434914264, 5.014047301812284, 3.251803653277336, 3.92994399509414, 1.4713919263276105, 3.8885596032132006, 6.650932386240762, 5.646533868786554, 4.424482114736035, 4.151294357748517, 5.982463770589792, 6.087156541434551, 4.035111582168709, 7.53207421248884, 5.598464783801101, 6.64920576312102, 6.388995095341416, 4.764276497337615, 4.656160637836646, 5.176379401636287, 6.867026256850169, 6.413723320148323, 3.4115531791129046, 4.951768168883427, 1.1726960465256482, 3.869396886162034, 4.905777010781546, 4.3248116562654255, 4.07860492715213, 6.202706920208519, 4.975979896372552, 5.636234835576723, 4.303955932634435, 5.989278188545195, 5.775419095816849, 5.7205356457093695]\n"
          ]
        },
        {
          "output_type": "display_data",
          "data": {
            "text/plain": [
              "<Figure size 432x288 with 1 Axes>"
            ],
            "image/png": "[encoded data removed]"
          },
          "metadata": {
            "needs_background": "light"
          }
        }
      ]
    },
    {
      "cell_type": "markdown",
      "source": [
        "# Aula 15"
      ],
      "metadata": {
        "id": "JaywjrtUHZel"
      }
    },
    {
      "cell_type": "code",
      "source": [
        "import numpy as np\n",
        "x = np.random.uniform(0,10,5)\n",
        "x"
      ],
      "metadata": {
        "colab": {
          "base_uri": "https://localhost:8080/"
        },
        "id": "56qtXIUqHhnu",
        "outputId": "6b85a472-86d7-4c9e-869d-143c633ae238"
      },
      "execution_count": 206,
      "outputs": [
        {
          "output_type": "execute_result",
          "data": {
            "text/plain": [
              "array([3.51563148, 8.25060591, 2.78127631, 7.7148262 , 6.26027514])"
            ]
          },
          "metadata": {},
          "execution_count": 206
        }
      ]
    },
    {
      "cell_type": "code",
      "source": [
        "import pandas as pd\n",
        "\n",
        "x = np.random.uniform(0,10,21)\n",
        "x"
      ],
      "metadata": {
        "colab": {
          "base_uri": "https://localhost:8080/"
        },
        "id": "vHGfXjMjJZLE",
        "outputId": "900416b8-bccf-47d8-c919-dd71da72fc39"
      },
      "execution_count": 207,
      "outputs": [
        {
          "output_type": "execute_result",
          "data": {
            "text/plain": [
              "array([2.19227115, 3.54379696, 3.34967016, 4.63140842, 2.08915823,\n",
              "       4.78590874, 0.16370527, 2.85147544, 6.01379535, 5.42293362,\n",
              "       1.49586408, 0.38696279, 6.41181001, 4.77017089, 4.85142332,\n",
              "       7.61095298, 8.74459261, 2.35728256, 2.64013   , 9.14461089,\n",
              "       4.02832802])"
            ]
          },
          "metadata": {},
          "execution_count": 207
        }
      ]
    },
    {
      "cell_type": "code",
      "source": [
        "\n",
        "x = np.random.uniform(0,10,21).reshape(7,3)\n",
        "nomes = ['Alice', 'Bruno', 'Carla', 'David', 'Emily', 'Fabio', 'Gloria']\n",
        "colunas = ['P1', 'P2', 'P3']\n",
        "notas=pd.DataFrame(x, index = nomes, columns = colunas).round()\n",
        "notas"
      ],
      "metadata": {
        "colab": {
          "base_uri": "https://localhost:8080/",
          "height": 269
        },
        "id": "ceIcS5KKH774",
        "outputId": "47f5bc5b-b707-4478-bfa7-f352eb942b7a"
      },
      "execution_count": 208,
      "outputs": [
        {
          "output_type": "execute_result",
          "data": {
            "text/plain": [
              "         P1   P2    P3\n",
              "Alice   2.0  5.0   8.0\n",
              "Bruno   7.0  2.0   6.0\n",
              "Carla   8.0  5.0   3.0\n",
              "David   3.0  8.0   8.0\n",
              "Emily   1.0  2.0  10.0\n",
              "Fabio   8.0  6.0   9.0\n",
              "Gloria  3.0  9.0   5.0"
            ],
            "text/html": [
              "\n",
              "  <div id=\"df-a828aed2-2d34-43ed-9545-926fbcd1e985\">\n",
              "    <div class=\"colab-df-container\">\n",
              "      <div>\n",
              "<style scoped>\n",
              "    .dataframe tbody tr th:only-of-type {\n",
              "        vertical-align: middle;\n",
              "    }\n",
              "\n",
              "    .dataframe tbody tr th {\n",
              "        vertical-align: top;\n",
              "    }\n",
              "\n",
              "    .dataframe thead th {\n",
              "        text-align: right;\n",
              "    }\n",
              "</style>\n",
              "<table border=\"1\" class=\"dataframe\">\n",
              "  <thead>\n",
              "    <tr style=\"text-align: right;\">\n",
              "      <th></th>\n",
              "      <th>P1</th>\n",
              "      <th>P2</th>\n",
              "      <th>P3</th>\n",
              "    </tr>\n",
              "  </thead>\n",
              "  <tbody>\n",
              "    <tr>\n",
              "      <th>Alice</th>\n",
              "      <td>2.0</td>\n",
              "      <td>5.0</td>\n",
              "      <td>8.0</td>\n",
              "    </tr>\n",
              "    <tr>\n",
              "      <th>Bruno</th>\n",
              "      <td>7.0</td>\n",
              "      <td>2.0</td>\n",
              "      <td>6.0</td>\n",
              "    </tr>\n",
              "    <tr>\n",
              "      <th>Carla</th>\n",
              "      <td>8.0</td>\n",
              "      <td>5.0</td>\n",
              "      <td>3.0</td>\n",
              "    </tr>\n",
              "    <tr>\n",
              "      <th>David</th>\n",
              "      <td>3.0</td>\n",
              "      <td>8.0</td>\n",
              "      <td>8.0</td>\n",
              "    </tr>\n",
              "    <tr>\n",
              "      <th>Emily</th>\n",
              "      <td>1.0</td>\n",
              "      <td>2.0</td>\n",
              "      <td>10.0</td>\n",
              "    </tr>\n",
              "    <tr>\n",
              "      <th>Fabio</th>\n",
              "      <td>8.0</td>\n",
              "      <td>6.0</td>\n",
              "      <td>9.0</td>\n",
              "    </tr>\n",
              "    <tr>\n",
              "      <th>Gloria</th>\n",
              "      <td>3.0</td>\n",
              "      <td>9.0</td>\n",
              "      <td>5.0</td>\n",
              "    </tr>\n",
              "  </tbody>\n",
              "</table>\n",
              "</div>\n",
              "      <button class=\"colab-df-convert\" onclick=\"convertToInteractive('df-a828aed2-2d34-43ed-9545-926fbcd1e985')\"\n",
              "              title=\"Convert this dataframe to an interactive table.\"\n",
              "              style=\"display:none;\">\n",
              "        \n",
              "  <svg xmlns=\"http://www.w3.org/2000/svg\" height=\"24px\"viewBox=\"0 0 24 24\"\n",
              "       width=\"24px\">\n",
              "    <path d=\"M0 0h24v24H0V0z\" fill=\"none\"/>\n",
              "    <path d=\"M18.56 5.44l.94 2.06.94-2.06 2.06-.94-2.06-.94-.94-2.06-.94 2.06-2.06.94zm-11 1L8.5 8.5l.94-2.06 2.06-.94-2.06-.94L8.5 2.5l-.94 2.06-2.06.94zm10 10l.94 2.06.94-2.06 2.06-.94-2.06-.94-.94-2.06-.94 2.06-2.06.94z\"/><path d=\"M17.41 7.96l-1.37-1.37c-.4-.4-.92-.59-1.43-.59-.52 0-1.04.2-1.43.59L10.3 9.45l-7.72 7.72c-.78.78-.78 2.05 0 2.83L4 21.41c.39.39.9.59 1.41.59.51 0 1.02-.2 1.41-.59l7.78-7.78 2.81-2.81c.8-.78.8-2.07 0-2.86zM5.41 20L4 18.59l7.72-7.72 1.47 1.35L5.41 20z\"/>\n",
              "  </svg>\n",
              "      </button>\n",
              "      \n",
              "  <style>\n",
              "    .colab-df-container {\n",
              "      display:flex;\n",
              "      flex-wrap:wrap;\n",
              "      gap: 12px;\n",
              "    }\n",
              "\n",
              "    .colab-df-convert {\n",
              "      background-color: #E8F0FE;\n",
              "      border: none;\n",
              "      border-radius: 50%;\n",
              "      cursor: pointer;\n",
              "      display: none;\n",
              "      fill: #1967D2;\n",
              "      height: 32px;\n",
              "      padding: 0 0 0 0;\n",
              "      width: 32px;\n",
              "    }\n",
              "\n",
              "    .colab-df-convert:hover {\n",
              "      background-color: #E2EBFA;\n",
              "      box-shadow: 0px 1px 2px rgba(60, 64, 67, 0.3), 0px 1px 3px 1px rgba(60, 64, 67, 0.15);\n",
              "      fill: #174EA6;\n",
              "    }\n",
              "\n",
              "    [theme=dark] .colab-df-convert {\n",
              "      background-color: #3B4455;\n",
              "      fill: #D2E3FC;\n",
              "    }\n",
              "\n",
              "    [theme=dark] .colab-df-convert:hover {\n",
              "      background-color: #434B5C;\n",
              "      box-shadow: 0px 1px 3px 1px rgba(0, 0, 0, 0.15);\n",
              "      filter: drop-shadow(0px 1px 2px rgba(0, 0, 0, 0.3));\n",
              "      fill: #FFFFFF;\n",
              "    }\n",
              "  </style>\n",
              "\n",
              "      <script>\n",
              "        const buttonEl =\n",
              "          document.querySelector('#df-a828aed2-2d34-43ed-9545-926fbcd1e985 button.colab-df-convert');\n",
              "        buttonEl.style.display =\n",
              "          google.colab.kernel.accessAllowed ? 'block' : 'none';\n",
              "\n",
              "        async function convertToInteractive(key) {\n",
              "          const element = document.querySelector('#df-a828aed2-2d34-43ed-9545-926fbcd1e985');\n",
              "          const dataTable =\n",
              "            await google.colab.kernel.invokeFunction('convertToInteractive',\n",
              "                                                     [key], {});\n",
              "          if (!dataTable) return;\n",
              "\n",
              "          const docLinkHtml = 'Like what you see? Visit the ' +\n",
              "            '<a target=\"_blank\" href=https://colab.research.google.com/notebooks/data_table.ipynb>data table notebook</a>'\n",
              "            + ' to learn more about interactive tables.';\n",
              "          element.innerHTML = '';\n",
              "          dataTable['output_type'] = 'display_data';\n",
              "          await google.colab.output.renderOutput(dataTable, element);\n",
              "          const docLink = document.createElement('div');\n",
              "          docLink.innerHTML = docLinkHtml;\n",
              "          element.appendChild(docLink);\n",
              "        }\n",
              "      </script>\n",
              "    </div>\n",
              "  </div>\n",
              "  "
            ]
          },
          "metadata": {},
          "execution_count": 208
        }
      ]
    },
    {
      "cell_type": "code",
      "source": [
        "type(notas)"
      ],
      "metadata": {
        "colab": {
          "base_uri": "https://localhost:8080/"
        },
        "id": "Ar5ggr7CJt5u",
        "outputId": "a87fd1ea-c0ce-474a-c491-bc838d5a72a2"
      },
      "execution_count": 209,
      "outputs": [
        {
          "output_type": "execute_result",
          "data": {
            "text/plain": [
              "pandas.core.frame.DataFrame"
            ]
          },
          "metadata": {},
          "execution_count": 209
        }
      ]
    },
    {
      "cell_type": "code",
      "source": [
        "notas.transpose()\n"
      ],
      "metadata": {
        "colab": {
          "base_uri": "https://localhost:8080/",
          "height": 143
        },
        "id": "wPoKwshmJ82H",
        "outputId": "743eac70-201a-4a1b-9a27-9e80d9dac6ca"
      },
      "execution_count": 210,
      "outputs": [
        {
          "output_type": "execute_result",
          "data": {
            "text/plain": [
              "    Alice  Bruno  Carla  David  Emily  Fabio  Gloria\n",
              "P1    2.0    7.0    8.0    3.0    1.0    8.0     3.0\n",
              "P2    5.0    2.0    5.0    8.0    2.0    6.0     9.0\n",
              "P3    8.0    6.0    3.0    8.0   10.0    9.0     5.0"
            ],
            "text/html": [
              "\n",
              "  <div id=\"df-454cb507-82df-498b-bd38-b93a440a0fd9\">\n",
              "    <div class=\"colab-df-container\">\n",
              "      <div>\n",
              "<style scoped>\n",
              "    .dataframe tbody tr th:only-of-type {\n",
              "        vertical-align: middle;\n",
              "    }\n",
              "\n",
              "    .dataframe tbody tr th {\n",
              "        vertical-align: top;\n",
              "    }\n",
              "\n",
              "    .dataframe thead th {\n",
              "        text-align: right;\n",
              "    }\n",
              "</style>\n",
              "<table border=\"1\" class=\"dataframe\">\n",
              "  <thead>\n",
              "    <tr style=\"text-align: right;\">\n",
              "      <th></th>\n",
              "      <th>Alice</th>\n",
              "      <th>Bruno</th>\n",
              "      <th>Carla</th>\n",
              "      <th>David</th>\n",
              "      <th>Emily</th>\n",
              "      <th>Fabio</th>\n",
              "      <th>Gloria</th>\n",
              "    </tr>\n",
              "  </thead>\n",
              "  <tbody>\n",
              "    <tr>\n",
              "      <th>P1</th>\n",
              "      <td>2.0</td>\n",
              "      <td>7.0</td>\n",
              "      <td>8.0</td>\n",
              "      <td>3.0</td>\n",
              "      <td>1.0</td>\n",
              "      <td>8.0</td>\n",
              "      <td>3.0</td>\n",
              "    </tr>\n",
              "    <tr>\n",
              "      <th>P2</th>\n",
              "      <td>5.0</td>\n",
              "      <td>2.0</td>\n",
              "      <td>5.0</td>\n",
              "      <td>8.0</td>\n",
              "      <td>2.0</td>\n",
              "      <td>6.0</td>\n",
              "      <td>9.0</td>\n",
              "    </tr>\n",
              "    <tr>\n",
              "      <th>P3</th>\n",
              "      <td>8.0</td>\n",
              "      <td>6.0</td>\n",
              "      <td>3.0</td>\n",
              "      <td>8.0</td>\n",
              "      <td>10.0</td>\n",
              "      <td>9.0</td>\n",
              "      <td>5.0</td>\n",
              "    </tr>\n",
              "  </tbody>\n",
              "</table>\n",
              "</div>\n",
              "      <button class=\"colab-df-convert\" onclick=\"convertToInteractive('df-454cb507-82df-498b-bd38-b93a440a0fd9')\"\n",
              "              title=\"Convert this dataframe to an interactive table.\"\n",
              "              style=\"display:none;\">\n",
              "        \n",
              "  <svg xmlns=\"http://www.w3.org/2000/svg\" height=\"24px\"viewBox=\"0 0 24 24\"\n",
              "       width=\"24px\">\n",
              "    <path d=\"M0 0h24v24H0V0z\" fill=\"none\"/>\n",
              "    <path d=\"M18.56 5.44l.94 2.06.94-2.06 2.06-.94-2.06-.94-.94-2.06-.94 2.06-2.06.94zm-11 1L8.5 8.5l.94-2.06 2.06-.94-2.06-.94L8.5 2.5l-.94 2.06-2.06.94zm10 10l.94 2.06.94-2.06 2.06-.94-2.06-.94-.94-2.06-.94 2.06-2.06.94z\"/><path d=\"M17.41 7.96l-1.37-1.37c-.4-.4-.92-.59-1.43-.59-.52 0-1.04.2-1.43.59L10.3 9.45l-7.72 7.72c-.78.78-.78 2.05 0 2.83L4 21.41c.39.39.9.59 1.41.59.51 0 1.02-.2 1.41-.59l7.78-7.78 2.81-2.81c.8-.78.8-2.07 0-2.86zM5.41 20L4 18.59l7.72-7.72 1.47 1.35L5.41 20z\"/>\n",
              "  </svg>\n",
              "      </button>\n",
              "      \n",
              "  <style>\n",
              "    .colab-df-container {\n",
              "      display:flex;\n",
              "      flex-wrap:wrap;\n",
              "      gap: 12px;\n",
              "    }\n",
              "\n",
              "    .colab-df-convert {\n",
              "      background-color: #E8F0FE;\n",
              "      border: none;\n",
              "      border-radius: 50%;\n",
              "      cursor: pointer;\n",
              "      display: none;\n",
              "      fill: #1967D2;\n",
              "      height: 32px;\n",
              "      padding: 0 0 0 0;\n",
              "      width: 32px;\n",
              "    }\n",
              "\n",
              "    .colab-df-convert:hover {\n",
              "      background-color: #E2EBFA;\n",
              "      box-shadow: 0px 1px 2px rgba(60, 64, 67, 0.3), 0px 1px 3px 1px rgba(60, 64, 67, 0.15);\n",
              "      fill: #174EA6;\n",
              "    }\n",
              "\n",
              "    [theme=dark] .colab-df-convert {\n",
              "      background-color: #3B4455;\n",
              "      fill: #D2E3FC;\n",
              "    }\n",
              "\n",
              "    [theme=dark] .colab-df-convert:hover {\n",
              "      background-color: #434B5C;\n",
              "      box-shadow: 0px 1px 3px 1px rgba(0, 0, 0, 0.15);\n",
              "      filter: drop-shadow(0px 1px 2px rgba(0, 0, 0, 0.3));\n",
              "      fill: #FFFFFF;\n",
              "    }\n",
              "  </style>\n",
              "\n",
              "      <script>\n",
              "        const buttonEl =\n",
              "          document.querySelector('#df-454cb507-82df-498b-bd38-b93a440a0fd9 button.colab-df-convert');\n",
              "        buttonEl.style.display =\n",
              "          google.colab.kernel.accessAllowed ? 'block' : 'none';\n",
              "\n",
              "        async function convertToInteractive(key) {\n",
              "          const element = document.querySelector('#df-454cb507-82df-498b-bd38-b93a440a0fd9');\n",
              "          const dataTable =\n",
              "            await google.colab.kernel.invokeFunction('convertToInteractive',\n",
              "                                                     [key], {});\n",
              "          if (!dataTable) return;\n",
              "\n",
              "          const docLinkHtml = 'Like what you see? Visit the ' +\n",
              "            '<a target=\"_blank\" href=https://colab.research.google.com/notebooks/data_table.ipynb>data table notebook</a>'\n",
              "            + ' to learn more about interactive tables.';\n",
              "          element.innerHTML = '';\n",
              "          dataTable['output_type'] = 'display_data';\n",
              "          await google.colab.output.renderOutput(dataTable, element);\n",
              "          const docLink = document.createElement('div');\n",
              "          docLink.innerHTML = docLinkHtml;\n",
              "          element.appendChild(docLink);\n",
              "        }\n",
              "      </script>\n",
              "    </div>\n",
              "  </div>\n",
              "  "
            ]
          },
          "metadata": {},
          "execution_count": 210
        }
      ]
    },
    {
      "cell_type": "code",
      "source": [
        "notas.T"
      ],
      "metadata": {
        "colab": {
          "base_uri": "https://localhost:8080/",
          "height": 143
        },
        "id": "EuCxs5dRKDzj",
        "outputId": "fb96c881-06be-432b-a7cd-975ea9048a43"
      },
      "execution_count": 211,
      "outputs": [
        {
          "output_type": "execute_result",
          "data": {
            "text/plain": [
              "    Alice  Bruno  Carla  David  Emily  Fabio  Gloria\n",
              "P1    2.0    7.0    8.0    3.0    1.0    8.0     3.0\n",
              "P2    5.0    2.0    5.0    8.0    2.0    6.0     9.0\n",
              "P3    8.0    6.0    3.0    8.0   10.0    9.0     5.0"
            ],
            "text/html": [
              "\n",
              "  <div id=\"df-ee0509b7-4db8-43b9-816b-2e3bad25a314\">\n",
              "    <div class=\"colab-df-container\">\n",
              "      <div>\n",
              "<style scoped>\n",
              "    .dataframe tbody tr th:only-of-type {\n",
              "        vertical-align: middle;\n",
              "    }\n",
              "\n",
              "    .dataframe tbody tr th {\n",
              "        vertical-align: top;\n",
              "    }\n",
              "\n",
              "    .dataframe thead th {\n",
              "        text-align: right;\n",
              "    }\n",
              "</style>\n",
              "<table border=\"1\" class=\"dataframe\">\n",
              "  <thead>\n",
              "    <tr style=\"text-align: right;\">\n",
              "      <th></th>\n",
              "      <th>Alice</th>\n",
              "      <th>Bruno</th>\n",
              "      <th>Carla</th>\n",
              "      <th>David</th>\n",
              "      <th>Emily</th>\n",
              "      <th>Fabio</th>\n",
              "      <th>Gloria</th>\n",
              "    </tr>\n",
              "  </thead>\n",
              "  <tbody>\n",
              "    <tr>\n",
              "      <th>P1</th>\n",
              "      <td>2.0</td>\n",
              "      <td>7.0</td>\n",
              "      <td>8.0</td>\n",
              "      <td>3.0</td>\n",
              "      <td>1.0</td>\n",
              "      <td>8.0</td>\n",
              "      <td>3.0</td>\n",
              "    </tr>\n",
              "    <tr>\n",
              "      <th>P2</th>\n",
              "      <td>5.0</td>\n",
              "      <td>2.0</td>\n",
              "      <td>5.0</td>\n",
              "      <td>8.0</td>\n",
              "      <td>2.0</td>\n",
              "      <td>6.0</td>\n",
              "      <td>9.0</td>\n",
              "    </tr>\n",
              "    <tr>\n",
              "      <th>P3</th>\n",
              "      <td>8.0</td>\n",
              "      <td>6.0</td>\n",
              "      <td>3.0</td>\n",
              "      <td>8.0</td>\n",
              "      <td>10.0</td>\n",
              "      <td>9.0</td>\n",
              "      <td>5.0</td>\n",
              "    </tr>\n",
              "  </tbody>\n",
              "</table>\n",
              "</div>\n",
              "      <button class=\"colab-df-convert\" onclick=\"convertToInteractive('df-ee0509b7-4db8-43b9-816b-2e3bad25a314')\"\n",
              "              title=\"Convert this dataframe to an interactive table.\"\n",
              "              style=\"display:none;\">\n",
              "        \n",
              "  <svg xmlns=\"http://www.w3.org/2000/svg\" height=\"24px\"viewBox=\"0 0 24 24\"\n",
              "       width=\"24px\">\n",
              "    <path d=\"M0 0h24v24H0V0z\" fill=\"none\"/>\n",
              "    <path d=\"M18.56 5.44l.94 2.06.94-2.06 2.06-.94-2.06-.94-.94-2.06-.94 2.06-2.06.94zm-11 1L8.5 8.5l.94-2.06 2.06-.94-2.06-.94L8.5 2.5l-.94 2.06-2.06.94zm10 10l.94 2.06.94-2.06 2.06-.94-2.06-.94-.94-2.06-.94 2.06-2.06.94z\"/><path d=\"M17.41 7.96l-1.37-1.37c-.4-.4-.92-.59-1.43-.59-.52 0-1.04.2-1.43.59L10.3 9.45l-7.72 7.72c-.78.78-.78 2.05 0 2.83L4 21.41c.39.39.9.59 1.41.59.51 0 1.02-.2 1.41-.59l7.78-7.78 2.81-2.81c.8-.78.8-2.07 0-2.86zM5.41 20L4 18.59l7.72-7.72 1.47 1.35L5.41 20z\"/>\n",
              "  </svg>\n",
              "      </button>\n",
              "      \n",
              "  <style>\n",
              "    .colab-df-container {\n",
              "      display:flex;\n",
              "      flex-wrap:wrap;\n",
              "      gap: 12px;\n",
              "    }\n",
              "\n",
              "    .colab-df-convert {\n",
              "      background-color: #E8F0FE;\n",
              "      border: none;\n",
              "      border-radius: 50%;\n",
              "      cursor: pointer;\n",
              "      display: none;\n",
              "      fill: #1967D2;\n",
              "      height: 32px;\n",
              "      padding: 0 0 0 0;\n",
              "      width: 32px;\n",
              "    }\n",
              "\n",
              "    .colab-df-convert:hover {\n",
              "      background-color: #E2EBFA;\n",
              "      box-shadow: 0px 1px 2px rgba(60, 64, 67, 0.3), 0px 1px 3px 1px rgba(60, 64, 67, 0.15);\n",
              "      fill: #174EA6;\n",
              "    }\n",
              "\n",
              "    [theme=dark] .colab-df-convert {\n",
              "      background-color: #3B4455;\n",
              "      fill: #D2E3FC;\n",
              "    }\n",
              "\n",
              "    [theme=dark] .colab-df-convert:hover {\n",
              "      background-color: #434B5C;\n",
              "      box-shadow: 0px 1px 3px 1px rgba(0, 0, 0, 0.15);\n",
              "      filter: drop-shadow(0px 1px 2px rgba(0, 0, 0, 0.3));\n",
              "      fill: #FFFFFF;\n",
              "    }\n",
              "  </style>\n",
              "\n",
              "      <script>\n",
              "        const buttonEl =\n",
              "          document.querySelector('#df-ee0509b7-4db8-43b9-816b-2e3bad25a314 button.colab-df-convert');\n",
              "        buttonEl.style.display =\n",
              "          google.colab.kernel.accessAllowed ? 'block' : 'none';\n",
              "\n",
              "        async function convertToInteractive(key) {\n",
              "          const element = document.querySelector('#df-ee0509b7-4db8-43b9-816b-2e3bad25a314');\n",
              "          const dataTable =\n",
              "            await google.colab.kernel.invokeFunction('convertToInteractive',\n",
              "                                                     [key], {});\n",
              "          if (!dataTable) return;\n",
              "\n",
              "          const docLinkHtml = 'Like what you see? Visit the ' +\n",
              "            '<a target=\"_blank\" href=https://colab.research.google.com/notebooks/data_table.ipynb>data table notebook</a>'\n",
              "            + ' to learn more about interactive tables.';\n",
              "          element.innerHTML = '';\n",
              "          dataTable['output_type'] = 'display_data';\n",
              "          await google.colab.output.renderOutput(dataTable, element);\n",
              "          const docLink = document.createElement('div');\n",
              "          docLink.innerHTML = docLinkHtml;\n",
              "          element.appendChild(docLink);\n",
              "        }\n",
              "      </script>\n",
              "    </div>\n",
              "  </div>\n",
              "  "
            ]
          },
          "metadata": {},
          "execution_count": 211
        }
      ]
    },
    {
      "cell_type": "code",
      "source": [
        "notas.info()"
      ],
      "metadata": {
        "colab": {
          "base_uri": "https://localhost:8080/"
        },
        "id": "vLG6NOYRKJxG",
        "outputId": "d1b603c9-77b2-4392-8c95-ad29aa3d27a4"
      },
      "execution_count": 212,
      "outputs": [
        {
          "output_type": "stream",
          "name": "stdout",
          "text": [
            "<class 'pandas.core.frame.DataFrame'>\n",
            "Index: 7 entries, Alice to Gloria\n",
            "Data columns (total 3 columns):\n",
            " #   Column  Non-Null Count  Dtype  \n",
            "---  ------  --------------  -----  \n",
            " 0   P1      7 non-null      float64\n",
            " 1   P2      7 non-null      float64\n",
            " 2   P3      7 non-null      float64\n",
            "dtypes: float64(3)\n",
            "memory usage: 524.0+ bytes\n"
          ]
        }
      ]
    },
    {
      "cell_type": "code",
      "source": [
        "notas.describe()\n"
      ],
      "metadata": {
        "colab": {
          "base_uri": "https://localhost:8080/",
          "height": 300
        },
        "id": "x7rwQwu0KOKH",
        "outputId": "1520657c-3900-4fb8-ac6c-cb06b4c0300b"
      },
      "execution_count": 213,
      "outputs": [
        {
          "output_type": "execute_result",
          "data": {
            "text/plain": [
              "             P1        P2        P3\n",
              "count  7.000000  7.000000   7.00000\n",
              "mean   4.571429  5.285714   7.00000\n",
              "std    2.992053  2.690371   2.44949\n",
              "min    1.000000  2.000000   3.00000\n",
              "25%    2.500000  3.500000   5.50000\n",
              "50%    3.000000  5.000000   8.00000\n",
              "75%    7.500000  7.000000   8.50000\n",
              "max    8.000000  9.000000  10.00000"
            ],
            "text/html": [
              "\n",
              "  <div id=\"df-0584e336-1a32-472b-8b2c-0718189963d7\">\n",
              "    <div class=\"colab-df-container\">\n",
              "      <div>\n",
              "<style scoped>\n",
              "    .dataframe tbody tr th:only-of-type {\n",
              "        vertical-align: middle;\n",
              "    }\n",
              "\n",
              "    .dataframe tbody tr th {\n",
              "        vertical-align: top;\n",
              "    }\n",
              "\n",
              "    .dataframe thead th {\n",
              "        text-align: right;\n",
              "    }\n",
              "</style>\n",
              "<table border=\"1\" class=\"dataframe\">\n",
              "  <thead>\n",
              "    <tr style=\"text-align: right;\">\n",
              "      <th></th>\n",
              "      <th>P1</th>\n",
              "      <th>P2</th>\n",
              "      <th>P3</th>\n",
              "    </tr>\n",
              "  </thead>\n",
              "  <tbody>\n",
              "    <tr>\n",
              "      <th>count</th>\n",
              "      <td>7.000000</td>\n",
              "      <td>7.000000</td>\n",
              "      <td>7.00000</td>\n",
              "    </tr>\n",
              "    <tr>\n",
              "      <th>mean</th>\n",
              "      <td>4.571429</td>\n",
              "      <td>5.285714</td>\n",
              "      <td>7.00000</td>\n",
              "    </tr>\n",
              "    <tr>\n",
              "      <th>std</th>\n",
              "      <td>2.992053</td>\n",
              "      <td>2.690371</td>\n",
              "      <td>2.44949</td>\n",
              "    </tr>\n",
              "    <tr>\n",
              "      <th>min</th>\n",
              "      <td>1.000000</td>\n",
              "      <td>2.000000</td>\n",
              "      <td>3.00000</td>\n",
              "    </tr>\n",
              "    <tr>\n",
              "      <th>25%</th>\n",
              "      <td>2.500000</td>\n",
              "      <td>3.500000</td>\n",
              "      <td>5.50000</td>\n",
              "    </tr>\n",
              "    <tr>\n",
              "      <th>50%</th>\n",
              "      <td>3.000000</td>\n",
              "      <td>5.000000</td>\n",
              "      <td>8.00000</td>\n",
              "    </tr>\n",
              "    <tr>\n",
              "      <th>75%</th>\n",
              "      <td>7.500000</td>\n",
              "      <td>7.000000</td>\n",
              "      <td>8.50000</td>\n",
              "    </tr>\n",
              "    <tr>\n",
              "      <th>max</th>\n",
              "      <td>8.000000</td>\n",
              "      <td>9.000000</td>\n",
              "      <td>10.00000</td>\n",
              "    </tr>\n",
              "  </tbody>\n",
              "</table>\n",
              "</div>\n",
              "      <button class=\"colab-df-convert\" onclick=\"convertToInteractive('df-0584e336-1a32-472b-8b2c-0718189963d7')\"\n",
              "              title=\"Convert this dataframe to an interactive table.\"\n",
              "              style=\"display:none;\">\n",
              "        \n",
              "  <svg xmlns=\"http://www.w3.org/2000/svg\" height=\"24px\"viewBox=\"0 0 24 24\"\n",
              "       width=\"24px\">\n",
              "    <path d=\"M0 0h24v24H0V0z\" fill=\"none\"/>\n",
              "    <path d=\"M18.56 5.44l.94 2.06.94-2.06 2.06-.94-2.06-.94-.94-2.06-.94 2.06-2.06.94zm-11 1L8.5 8.5l.94-2.06 2.06-.94-2.06-.94L8.5 2.5l-.94 2.06-2.06.94zm10 10l.94 2.06.94-2.06 2.06-.94-2.06-.94-.94-2.06-.94 2.06-2.06.94z\"/><path d=\"M17.41 7.96l-1.37-1.37c-.4-.4-.92-.59-1.43-.59-.52 0-1.04.2-1.43.59L10.3 9.45l-7.72 7.72c-.78.78-.78 2.05 0 2.83L4 21.41c.39.39.9.59 1.41.59.51 0 1.02-.2 1.41-.59l7.78-7.78 2.81-2.81c.8-.78.8-2.07 0-2.86zM5.41 20L4 18.59l7.72-7.72 1.47 1.35L5.41 20z\"/>\n",
              "  </svg>\n",
              "      </button>\n",
              "      \n",
              "  <style>\n",
              "    .colab-df-container {\n",
              "      display:flex;\n",
              "      flex-wrap:wrap;\n",
              "      gap: 12px;\n",
              "    }\n",
              "\n",
              "    .colab-df-convert {\n",
              "      background-color: #E8F0FE;\n",
              "      border: none;\n",
              "      border-radius: 50%;\n",
              "      cursor: pointer;\n",
              "      display: none;\n",
              "      fill: #1967D2;\n",
              "      height: 32px;\n",
              "      padding: 0 0 0 0;\n",
              "      width: 32px;\n",
              "    }\n",
              "\n",
              "    .colab-df-convert:hover {\n",
              "      background-color: #E2EBFA;\n",
              "      box-shadow: 0px 1px 2px rgba(60, 64, 67, 0.3), 0px 1px 3px 1px rgba(60, 64, 67, 0.15);\n",
              "      fill: #174EA6;\n",
              "    }\n",
              "\n",
              "    [theme=dark] .colab-df-convert {\n",
              "      background-color: #3B4455;\n",
              "      fill: #D2E3FC;\n",
              "    }\n",
              "\n",
              "    [theme=dark] .colab-df-convert:hover {\n",
              "      background-color: #434B5C;\n",
              "      box-shadow: 0px 1px 3px 1px rgba(0, 0, 0, 0.15);\n",
              "      filter: drop-shadow(0px 1px 2px rgba(0, 0, 0, 0.3));\n",
              "      fill: #FFFFFF;\n",
              "    }\n",
              "  </style>\n",
              "\n",
              "      <script>\n",
              "        const buttonEl =\n",
              "          document.querySelector('#df-0584e336-1a32-472b-8b2c-0718189963d7 button.colab-df-convert');\n",
              "        buttonEl.style.display =\n",
              "          google.colab.kernel.accessAllowed ? 'block' : 'none';\n",
              "\n",
              "        async function convertToInteractive(key) {\n",
              "          const element = document.querySelector('#df-0584e336-1a32-472b-8b2c-0718189963d7');\n",
              "          const dataTable =\n",
              "            await google.colab.kernel.invokeFunction('convertToInteractive',\n",
              "                                                     [key], {});\n",
              "          if (!dataTable) return;\n",
              "\n",
              "          const docLinkHtml = 'Like what you see? Visit the ' +\n",
              "            '<a target=\"_blank\" href=https://colab.research.google.com/notebooks/data_table.ipynb>data table notebook</a>'\n",
              "            + ' to learn more about interactive tables.';\n",
              "          element.innerHTML = '';\n",
              "          dataTable['output_type'] = 'display_data';\n",
              "          await google.colab.output.renderOutput(dataTable, element);\n",
              "          const docLink = document.createElement('div');\n",
              "          docLink.innerHTML = docLinkHtml;\n",
              "          element.appendChild(docLink);\n",
              "        }\n",
              "      </script>\n",
              "    </div>\n",
              "  </div>\n",
              "  "
            ]
          },
          "metadata": {},
          "execution_count": 213
        }
      ]
    },
    {
      "cell_type": "code",
      "source": [
        "notas.head()"
      ],
      "metadata": {
        "colab": {
          "base_uri": "https://localhost:8080/",
          "height": 206
        },
        "id": "aOX-63XTKmpj",
        "outputId": "3b1ef9c6-633a-4c4b-fb11-dc4c29a4b604"
      },
      "execution_count": 214,
      "outputs": [
        {
          "output_type": "execute_result",
          "data": {
            "text/plain": [
              "        P1   P2    P3\n",
              "Alice  2.0  5.0   8.0\n",
              "Bruno  7.0  2.0   6.0\n",
              "Carla  8.0  5.0   3.0\n",
              "David  3.0  8.0   8.0\n",
              "Emily  1.0  2.0  10.0"
            ],
            "text/html": [
              "\n",
              "  <div id=\"df-eb2cdf69-25aa-4b4e-a66f-94558bd436f0\">\n",
              "    <div class=\"colab-df-container\">\n",
              "      <div>\n",
              "<style scoped>\n",
              "    .dataframe tbody tr th:only-of-type {\n",
              "        vertical-align: middle;\n",
              "    }\n",
              "\n",
              "    .dataframe tbody tr th {\n",
              "        vertical-align: top;\n",
              "    }\n",
              "\n",
              "    .dataframe thead th {\n",
              "        text-align: right;\n",
              "    }\n",
              "</style>\n",
              "<table border=\"1\" class=\"dataframe\">\n",
              "  <thead>\n",
              "    <tr style=\"text-align: right;\">\n",
              "      <th></th>\n",
              "      <th>P1</th>\n",
              "      <th>P2</th>\n",
              "      <th>P3</th>\n",
              "    </tr>\n",
              "  </thead>\n",
              "  <tbody>\n",
              "    <tr>\n",
              "      <th>Alice</th>\n",
              "      <td>2.0</td>\n",
              "      <td>5.0</td>\n",
              "      <td>8.0</td>\n",
              "    </tr>\n",
              "    <tr>\n",
              "      <th>Bruno</th>\n",
              "      <td>7.0</td>\n",
              "      <td>2.0</td>\n",
              "      <td>6.0</td>\n",
              "    </tr>\n",
              "    <tr>\n",
              "      <th>Carla</th>\n",
              "      <td>8.0</td>\n",
              "      <td>5.0</td>\n",
              "      <td>3.0</td>\n",
              "    </tr>\n",
              "    <tr>\n",
              "      <th>David</th>\n",
              "      <td>3.0</td>\n",
              "      <td>8.0</td>\n",
              "      <td>8.0</td>\n",
              "    </tr>\n",
              "    <tr>\n",
              "      <th>Emily</th>\n",
              "      <td>1.0</td>\n",
              "      <td>2.0</td>\n",
              "      <td>10.0</td>\n",
              "    </tr>\n",
              "  </tbody>\n",
              "</table>\n",
              "</div>\n",
              "      <button class=\"colab-df-convert\" onclick=\"convertToInteractive('df-eb2cdf69-25aa-4b4e-a66f-94558bd436f0')\"\n",
              "              title=\"Convert this dataframe to an interactive table.\"\n",
              "              style=\"display:none;\">\n",
              "        \n",
              "  <svg xmlns=\"http://www.w3.org/2000/svg\" height=\"24px\"viewBox=\"0 0 24 24\"\n",
              "       width=\"24px\">\n",
              "    <path d=\"M0 0h24v24H0V0z\" fill=\"none\"/>\n",
              "    <path d=\"M18.56 5.44l.94 2.06.94-2.06 2.06-.94-2.06-.94-.94-2.06-.94 2.06-2.06.94zm-11 1L8.5 8.5l.94-2.06 2.06-.94-2.06-.94L8.5 2.5l-.94 2.06-2.06.94zm10 10l.94 2.06.94-2.06 2.06-.94-2.06-.94-.94-2.06-.94 2.06-2.06.94z\"/><path d=\"M17.41 7.96l-1.37-1.37c-.4-.4-.92-.59-1.43-.59-.52 0-1.04.2-1.43.59L10.3 9.45l-7.72 7.72c-.78.78-.78 2.05 0 2.83L4 21.41c.39.39.9.59 1.41.59.51 0 1.02-.2 1.41-.59l7.78-7.78 2.81-2.81c.8-.78.8-2.07 0-2.86zM5.41 20L4 18.59l7.72-7.72 1.47 1.35L5.41 20z\"/>\n",
              "  </svg>\n",
              "      </button>\n",
              "      \n",
              "  <style>\n",
              "    .colab-df-container {\n",
              "      display:flex;\n",
              "      flex-wrap:wrap;\n",
              "      gap: 12px;\n",
              "    }\n",
              "\n",
              "    .colab-df-convert {\n",
              "      background-color: #E8F0FE;\n",
              "      border: none;\n",
              "      border-radius: 50%;\n",
              "      cursor: pointer;\n",
              "      display: none;\n",
              "      fill: #1967D2;\n",
              "      height: 32px;\n",
              "      padding: 0 0 0 0;\n",
              "      width: 32px;\n",
              "    }\n",
              "\n",
              "    .colab-df-convert:hover {\n",
              "      background-color: #E2EBFA;\n",
              "      box-shadow: 0px 1px 2px rgba(60, 64, 67, 0.3), 0px 1px 3px 1px rgba(60, 64, 67, 0.15);\n",
              "      fill: #174EA6;\n",
              "    }\n",
              "\n",
              "    [theme=dark] .colab-df-convert {\n",
              "      background-color: #3B4455;\n",
              "      fill: #D2E3FC;\n",
              "    }\n",
              "\n",
              "    [theme=dark] .colab-df-convert:hover {\n",
              "      background-color: #434B5C;\n",
              "      box-shadow: 0px 1px 3px 1px rgba(0, 0, 0, 0.15);\n",
              "      filter: drop-shadow(0px 1px 2px rgba(0, 0, 0, 0.3));\n",
              "      fill: #FFFFFF;\n",
              "    }\n",
              "  </style>\n",
              "\n",
              "      <script>\n",
              "        const buttonEl =\n",
              "          document.querySelector('#df-eb2cdf69-25aa-4b4e-a66f-94558bd436f0 button.colab-df-convert');\n",
              "        buttonEl.style.display =\n",
              "          google.colab.kernel.accessAllowed ? 'block' : 'none';\n",
              "\n",
              "        async function convertToInteractive(key) {\n",
              "          const element = document.querySelector('#df-eb2cdf69-25aa-4b4e-a66f-94558bd436f0');\n",
              "          const dataTable =\n",
              "            await google.colab.kernel.invokeFunction('convertToInteractive',\n",
              "                                                     [key], {});\n",
              "          if (!dataTable) return;\n",
              "\n",
              "          const docLinkHtml = 'Like what you see? Visit the ' +\n",
              "            '<a target=\"_blank\" href=https://colab.research.google.com/notebooks/data_table.ipynb>data table notebook</a>'\n",
              "            + ' to learn more about interactive tables.';\n",
              "          element.innerHTML = '';\n",
              "          dataTable['output_type'] = 'display_data';\n",
              "          await google.colab.output.renderOutput(dataTable, element);\n",
              "          const docLink = document.createElement('div');\n",
              "          docLink.innerHTML = docLinkHtml;\n",
              "          element.appendChild(docLink);\n",
              "        }\n",
              "      </script>\n",
              "    </div>\n",
              "  </div>\n",
              "  "
            ]
          },
          "metadata": {},
          "execution_count": 214
        }
      ]
    },
    {
      "cell_type": "code",
      "source": [
        "notas.tail()"
      ],
      "metadata": {
        "colab": {
          "base_uri": "https://localhost:8080/",
          "height": 206
        },
        "id": "ZlHxB5ksKw68",
        "outputId": "528fc405-6564-4296-e91b-ca1265ed9330"
      },
      "execution_count": 215,
      "outputs": [
        {
          "output_type": "execute_result",
          "data": {
            "text/plain": [
              "         P1   P2    P3\n",
              "Carla   8.0  5.0   3.0\n",
              "David   3.0  8.0   8.0\n",
              "Emily   1.0  2.0  10.0\n",
              "Fabio   8.0  6.0   9.0\n",
              "Gloria  3.0  9.0   5.0"
            ],
            "text/html": [
              "\n",
              "  <div id=\"df-58f5d79c-bbb2-483a-a781-15f1313b0f1d\">\n",
              "    <div class=\"colab-df-container\">\n",
              "      <div>\n",
              "<style scoped>\n",
              "    .dataframe tbody tr th:only-of-type {\n",
              "        vertical-align: middle;\n",
              "    }\n",
              "\n",
              "    .dataframe tbody tr th {\n",
              "        vertical-align: top;\n",
              "    }\n",
              "\n",
              "    .dataframe thead th {\n",
              "        text-align: right;\n",
              "    }\n",
              "</style>\n",
              "<table border=\"1\" class=\"dataframe\">\n",
              "  <thead>\n",
              "    <tr style=\"text-align: right;\">\n",
              "      <th></th>\n",
              "      <th>P1</th>\n",
              "      <th>P2</th>\n",
              "      <th>P3</th>\n",
              "    </tr>\n",
              "  </thead>\n",
              "  <tbody>\n",
              "    <tr>\n",
              "      <th>Carla</th>\n",
              "      <td>8.0</td>\n",
              "      <td>5.0</td>\n",
              "      <td>3.0</td>\n",
              "    </tr>\n",
              "    <tr>\n",
              "      <th>David</th>\n",
              "      <td>3.0</td>\n",
              "      <td>8.0</td>\n",
              "      <td>8.0</td>\n",
              "    </tr>\n",
              "    <tr>\n",
              "      <th>Emily</th>\n",
              "      <td>1.0</td>\n",
              "      <td>2.0</td>\n",
              "      <td>10.0</td>\n",
              "    </tr>\n",
              "    <tr>\n",
              "      <th>Fabio</th>\n",
              "      <td>8.0</td>\n",
              "      <td>6.0</td>\n",
              "      <td>9.0</td>\n",
              "    </tr>\n",
              "    <tr>\n",
              "      <th>Gloria</th>\n",
              "      <td>3.0</td>\n",
              "      <td>9.0</td>\n",
              "      <td>5.0</td>\n",
              "    </tr>\n",
              "  </tbody>\n",
              "</table>\n",
              "</div>\n",
              "      <button class=\"colab-df-convert\" onclick=\"convertToInteractive('df-58f5d79c-bbb2-483a-a781-15f1313b0f1d')\"\n",
              "              title=\"Convert this dataframe to an interactive table.\"\n",
              "              style=\"display:none;\">\n",
              "        \n",
              "  <svg xmlns=\"http://www.w3.org/2000/svg\" height=\"24px\"viewBox=\"0 0 24 24\"\n",
              "       width=\"24px\">\n",
              "    <path d=\"M0 0h24v24H0V0z\" fill=\"none\"/>\n",
              "    <path d=\"M18.56 5.44l.94 2.06.94-2.06 2.06-.94-2.06-.94-.94-2.06-.94 2.06-2.06.94zm-11 1L8.5 8.5l.94-2.06 2.06-.94-2.06-.94L8.5 2.5l-.94 2.06-2.06.94zm10 10l.94 2.06.94-2.06 2.06-.94-2.06-.94-.94-2.06-.94 2.06-2.06.94z\"/><path d=\"M17.41 7.96l-1.37-1.37c-.4-.4-.92-.59-1.43-.59-.52 0-1.04.2-1.43.59L10.3 9.45l-7.72 7.72c-.78.78-.78 2.05 0 2.83L4 21.41c.39.39.9.59 1.41.59.51 0 1.02-.2 1.41-.59l7.78-7.78 2.81-2.81c.8-.78.8-2.07 0-2.86zM5.41 20L4 18.59l7.72-7.72 1.47 1.35L5.41 20z\"/>\n",
              "  </svg>\n",
              "      </button>\n",
              "      \n",
              "  <style>\n",
              "    .colab-df-container {\n",
              "      display:flex;\n",
              "      flex-wrap:wrap;\n",
              "      gap: 12px;\n",
              "    }\n",
              "\n",
              "    .colab-df-convert {\n",
              "      background-color: #E8F0FE;\n",
              "      border: none;\n",
              "      border-radius: 50%;\n",
              "      cursor: pointer;\n",
              "      display: none;\n",
              "      fill: #1967D2;\n",
              "      height: 32px;\n",
              "      padding: 0 0 0 0;\n",
              "      width: 32px;\n",
              "    }\n",
              "\n",
              "    .colab-df-convert:hover {\n",
              "      background-color: #E2EBFA;\n",
              "      box-shadow: 0px 1px 2px rgba(60, 64, 67, 0.3), 0px 1px 3px 1px rgba(60, 64, 67, 0.15);\n",
              "      fill: #174EA6;\n",
              "    }\n",
              "\n",
              "    [theme=dark] .colab-df-convert {\n",
              "      background-color: #3B4455;\n",
              "      fill: #D2E3FC;\n",
              "    }\n",
              "\n",
              "    [theme=dark] .colab-df-convert:hover {\n",
              "      background-color: #434B5C;\n",
              "      box-shadow: 0px 1px 3px 1px rgba(0, 0, 0, 0.15);\n",
              "      filter: drop-shadow(0px 1px 2px rgba(0, 0, 0, 0.3));\n",
              "      fill: #FFFFFF;\n",
              "    }\n",
              "  </style>\n",
              "\n",
              "      <script>\n",
              "        const buttonEl =\n",
              "          document.querySelector('#df-58f5d79c-bbb2-483a-a781-15f1313b0f1d button.colab-df-convert');\n",
              "        buttonEl.style.display =\n",
              "          google.colab.kernel.accessAllowed ? 'block' : 'none';\n",
              "\n",
              "        async function convertToInteractive(key) {\n",
              "          const element = document.querySelector('#df-58f5d79c-bbb2-483a-a781-15f1313b0f1d');\n",
              "          const dataTable =\n",
              "            await google.colab.kernel.invokeFunction('convertToInteractive',\n",
              "                                                     [key], {});\n",
              "          if (!dataTable) return;\n",
              "\n",
              "          const docLinkHtml = 'Like what you see? Visit the ' +\n",
              "            '<a target=\"_blank\" href=https://colab.research.google.com/notebooks/data_table.ipynb>data table notebook</a>'\n",
              "            + ' to learn more about interactive tables.';\n",
              "          element.innerHTML = '';\n",
              "          dataTable['output_type'] = 'display_data';\n",
              "          await google.colab.output.renderOutput(dataTable, element);\n",
              "          const docLink = document.createElement('div');\n",
              "          docLink.innerHTML = docLinkHtml;\n",
              "          element.appendChild(docLink);\n",
              "        }\n",
              "      </script>\n",
              "    </div>\n",
              "  </div>\n",
              "  "
            ]
          },
          "metadata": {},
          "execution_count": 215
        }
      ]
    },
    {
      "cell_type": "code",
      "source": [
        "notas.sample(3)"
      ],
      "metadata": {
        "colab": {
          "base_uri": "https://localhost:8080/",
          "height": 143
        },
        "id": "Z09maAaaK2z1",
        "outputId": "97be1c09-08b8-4c5f-e8d5-2df38a21d348"
      },
      "execution_count": 216,
      "outputs": [
        {
          "output_type": "execute_result",
          "data": {
            "text/plain": [
              "         P1   P2    P3\n",
              "Gloria  3.0  9.0   5.0\n",
              "Emily   1.0  2.0  10.0\n",
              "David   3.0  8.0   8.0"
            ],
            "text/html": [
              "\n",
              "  <div id=\"df-cf7a3e43-be0a-4f2d-9abe-a809124ebab6\">\n",
              "    <div class=\"colab-df-container\">\n",
              "      <div>\n",
              "<style scoped>\n",
              "    .dataframe tbody tr th:only-of-type {\n",
              "        vertical-align: middle;\n",
              "    }\n",
              "\n",
              "    .dataframe tbody tr th {\n",
              "        vertical-align: top;\n",
              "    }\n",
              "\n",
              "    .dataframe thead th {\n",
              "        text-align: right;\n",
              "    }\n",
              "</style>\n",
              "<table border=\"1\" class=\"dataframe\">\n",
              "  <thead>\n",
              "    <tr style=\"text-align: right;\">\n",
              "      <th></th>\n",
              "      <th>P1</th>\n",
              "      <th>P2</th>\n",
              "      <th>P3</th>\n",
              "    </tr>\n",
              "  </thead>\n",
              "  <tbody>\n",
              "    <tr>\n",
              "      <th>Gloria</th>\n",
              "      <td>3.0</td>\n",
              "      <td>9.0</td>\n",
              "      <td>5.0</td>\n",
              "    </tr>\n",
              "    <tr>\n",
              "      <th>Emily</th>\n",
              "      <td>1.0</td>\n",
              "      <td>2.0</td>\n",
              "      <td>10.0</td>\n",
              "    </tr>\n",
              "    <tr>\n",
              "      <th>David</th>\n",
              "      <td>3.0</td>\n",
              "      <td>8.0</td>\n",
              "      <td>8.0</td>\n",
              "    </tr>\n",
              "  </tbody>\n",
              "</table>\n",
              "</div>\n",
              "      <button class=\"colab-df-convert\" onclick=\"convertToInteractive('df-cf7a3e43-be0a-4f2d-9abe-a809124ebab6')\"\n",
              "              title=\"Convert this dataframe to an interactive table.\"\n",
              "              style=\"display:none;\">\n",
              "        \n",
              "  <svg xmlns=\"http://www.w3.org/2000/svg\" height=\"24px\"viewBox=\"0 0 24 24\"\n",
              "       width=\"24px\">\n",
              "    <path d=\"M0 0h24v24H0V0z\" fill=\"none\"/>\n",
              "    <path d=\"M18.56 5.44l.94 2.06.94-2.06 2.06-.94-2.06-.94-.94-2.06-.94 2.06-2.06.94zm-11 1L8.5 8.5l.94-2.06 2.06-.94-2.06-.94L8.5 2.5l-.94 2.06-2.06.94zm10 10l.94 2.06.94-2.06 2.06-.94-2.06-.94-.94-2.06-.94 2.06-2.06.94z\"/><path d=\"M17.41 7.96l-1.37-1.37c-.4-.4-.92-.59-1.43-.59-.52 0-1.04.2-1.43.59L10.3 9.45l-7.72 7.72c-.78.78-.78 2.05 0 2.83L4 21.41c.39.39.9.59 1.41.59.51 0 1.02-.2 1.41-.59l7.78-7.78 2.81-2.81c.8-.78.8-2.07 0-2.86zM5.41 20L4 18.59l7.72-7.72 1.47 1.35L5.41 20z\"/>\n",
              "  </svg>\n",
              "      </button>\n",
              "      \n",
              "  <style>\n",
              "    .colab-df-container {\n",
              "      display:flex;\n",
              "      flex-wrap:wrap;\n",
              "      gap: 12px;\n",
              "    }\n",
              "\n",
              "    .colab-df-convert {\n",
              "      background-color: #E8F0FE;\n",
              "      border: none;\n",
              "      border-radius: 50%;\n",
              "      cursor: pointer;\n",
              "      display: none;\n",
              "      fill: #1967D2;\n",
              "      height: 32px;\n",
              "      padding: 0 0 0 0;\n",
              "      width: 32px;\n",
              "    }\n",
              "\n",
              "    .colab-df-convert:hover {\n",
              "      background-color: #E2EBFA;\n",
              "      box-shadow: 0px 1px 2px rgba(60, 64, 67, 0.3), 0px 1px 3px 1px rgba(60, 64, 67, 0.15);\n",
              "      fill: #174EA6;\n",
              "    }\n",
              "\n",
              "    [theme=dark] .colab-df-convert {\n",
              "      background-color: #3B4455;\n",
              "      fill: #D2E3FC;\n",
              "    }\n",
              "\n",
              "    [theme=dark] .colab-df-convert:hover {\n",
              "      background-color: #434B5C;\n",
              "      box-shadow: 0px 1px 3px 1px rgba(0, 0, 0, 0.15);\n",
              "      filter: drop-shadow(0px 1px 2px rgba(0, 0, 0, 0.3));\n",
              "      fill: #FFFFFF;\n",
              "    }\n",
              "  </style>\n",
              "\n",
              "      <script>\n",
              "        const buttonEl =\n",
              "          document.querySelector('#df-cf7a3e43-be0a-4f2d-9abe-a809124ebab6 button.colab-df-convert');\n",
              "        buttonEl.style.display =\n",
              "          google.colab.kernel.accessAllowed ? 'block' : 'none';\n",
              "\n",
              "        async function convertToInteractive(key) {\n",
              "          const element = document.querySelector('#df-cf7a3e43-be0a-4f2d-9abe-a809124ebab6');\n",
              "          const dataTable =\n",
              "            await google.colab.kernel.invokeFunction('convertToInteractive',\n",
              "                                                     [key], {});\n",
              "          if (!dataTable) return;\n",
              "\n",
              "          const docLinkHtml = 'Like what you see? Visit the ' +\n",
              "            '<a target=\"_blank\" href=https://colab.research.google.com/notebooks/data_table.ipynb>data table notebook</a>'\n",
              "            + ' to learn more about interactive tables.';\n",
              "          element.innerHTML = '';\n",
              "          dataTable['output_type'] = 'display_data';\n",
              "          await google.colab.output.renderOutput(dataTable, element);\n",
              "          const docLink = document.createElement('div');\n",
              "          docLink.innerHTML = docLinkHtml;\n",
              "          element.appendChild(docLink);\n",
              "        }\n",
              "      </script>\n",
              "    </div>\n",
              "  </div>\n",
              "  "
            ]
          },
          "metadata": {},
          "execution_count": 216
        }
      ]
    },
    {
      "cell_type": "code",
      "source": [
        "notas.mean()"
      ],
      "metadata": {
        "colab": {
          "base_uri": "https://localhost:8080/"
        },
        "id": "oR_I8_aIK6sv",
        "outputId": "81db353d-f2ae-4cd8-a248-0ac47a790c13"
      },
      "execution_count": 217,
      "outputs": [
        {
          "output_type": "execute_result",
          "data": {
            "text/plain": [
              "P1    4.571429\n",
              "P2    5.285714\n",
              "P3    7.000000\n",
              "dtype: float64"
            ]
          },
          "metadata": {},
          "execution_count": 217
        }
      ]
    },
    {
      "cell_type": "code",
      "source": [
        "notas.mean(axis=1)"
      ],
      "metadata": {
        "colab": {
          "base_uri": "https://localhost:8080/"
        },
        "id": "kql2jQFdLAv2",
        "outputId": "05f3df82-30dc-4873-ea0d-f4f437bdfe48"
      },
      "execution_count": 218,
      "outputs": [
        {
          "output_type": "execute_result",
          "data": {
            "text/plain": [
              "Alice     5.000000\n",
              "Bruno     5.000000\n",
              "Carla     5.333333\n",
              "David     6.333333\n",
              "Emily     4.333333\n",
              "Fabio     7.666667\n",
              "Gloria    5.666667\n",
              "dtype: float64"
            ]
          },
          "metadata": {},
          "execution_count": 218
        }
      ]
    },
    {
      "cell_type": "code",
      "source": [
        "notas.mean(axis=1).round(1)"
      ],
      "metadata": {
        "colab": {
          "base_uri": "https://localhost:8080/"
        },
        "id": "La9zAM45LILS",
        "outputId": "c690a02c-88ea-443f-d6d8-712ae579a5b4"
      },
      "execution_count": 219,
      "outputs": [
        {
          "output_type": "execute_result",
          "data": {
            "text/plain": [
              "Alice     5.0\n",
              "Bruno     5.0\n",
              "Carla     5.3\n",
              "David     6.3\n",
              "Emily     4.3\n",
              "Fabio     7.7\n",
              "Gloria    5.7\n",
              "dtype: float64"
            ]
          },
          "metadata": {},
          "execution_count": 219
        }
      ]
    },
    {
      "cell_type": "code",
      "source": [
        "np.ceil(10*notas.mean(axis=1))/10"
      ],
      "metadata": {
        "colab": {
          "base_uri": "https://localhost:8080/"
        },
        "id": "Eed1avKKLOju",
        "outputId": "fd5fff26-8f30-45dd-98c5-a6ba4b12627b"
      },
      "execution_count": 220,
      "outputs": [
        {
          "output_type": "execute_result",
          "data": {
            "text/plain": [
              "Alice     5.0\n",
              "Bruno     5.0\n",
              "Carla     5.4\n",
              "David     6.4\n",
              "Emily     4.4\n",
              "Fabio     7.7\n",
              "Gloria    5.7\n",
              "dtype: float64"
            ]
          },
          "metadata": {},
          "execution_count": 220
        }
      ]
    },
    {
      "cell_type": "code",
      "source": [
        "notas['MF']=np.ceil(10*notas.mean(axis=1))/10\n",
        "notas"
      ],
      "metadata": {
        "colab": {
          "base_uri": "https://localhost:8080/",
          "height": 269
        },
        "id": "VFiMUiVgLVG5",
        "outputId": "58baa710-81f6-49b0-b73f-9d2d44ca4664"
      },
      "execution_count": 221,
      "outputs": [
        {
          "output_type": "execute_result",
          "data": {
            "text/plain": [
              "         P1   P2    P3   MF\n",
              "Alice   2.0  5.0   8.0  5.0\n",
              "Bruno   7.0  2.0   6.0  5.0\n",
              "Carla   8.0  5.0   3.0  5.4\n",
              "David   3.0  8.0   8.0  6.4\n",
              "Emily   1.0  2.0  10.0  4.4\n",
              "Fabio   8.0  6.0   9.0  7.7\n",
              "Gloria  3.0  9.0   5.0  5.7"
            ],
            "text/html": [
              "\n",
              "  <div id=\"df-de6fd36a-3814-494a-b78e-915b87c9736c\">\n",
              "    <div class=\"colab-df-container\">\n",
              "      <div>\n",
              "<style scoped>\n",
              "    .dataframe tbody tr th:only-of-type {\n",
              "        vertical-align: middle;\n",
              "    }\n",
              "\n",
              "    .dataframe tbody tr th {\n",
              "        vertical-align: top;\n",
              "    }\n",
              "\n",
              "    .dataframe thead th {\n",
              "        text-align: right;\n",
              "    }\n",
              "</style>\n",
              "<table border=\"1\" class=\"dataframe\">\n",
              "  <thead>\n",
              "    <tr style=\"text-align: right;\">\n",
              "      <th></th>\n",
              "      <th>P1</th>\n",
              "      <th>P2</th>\n",
              "      <th>P3</th>\n",
              "      <th>MF</th>\n",
              "    </tr>\n",
              "  </thead>\n",
              "  <tbody>\n",
              "    <tr>\n",
              "      <th>Alice</th>\n",
              "      <td>2.0</td>\n",
              "      <td>5.0</td>\n",
              "      <td>8.0</td>\n",
              "      <td>5.0</td>\n",
              "    </tr>\n",
              "    <tr>\n",
              "      <th>Bruno</th>\n",
              "      <td>7.0</td>\n",
              "      <td>2.0</td>\n",
              "      <td>6.0</td>\n",
              "      <td>5.0</td>\n",
              "    </tr>\n",
              "    <tr>\n",
              "      <th>Carla</th>\n",
              "      <td>8.0</td>\n",
              "      <td>5.0</td>\n",
              "      <td>3.0</td>\n",
              "      <td>5.4</td>\n",
              "    </tr>\n",
              "    <tr>\n",
              "      <th>David</th>\n",
              "      <td>3.0</td>\n",
              "      <td>8.0</td>\n",
              "      <td>8.0</td>\n",
              "      <td>6.4</td>\n",
              "    </tr>\n",
              "    <tr>\n",
              "      <th>Emily</th>\n",
              "      <td>1.0</td>\n",
              "      <td>2.0</td>\n",
              "      <td>10.0</td>\n",
              "      <td>4.4</td>\n",
              "    </tr>\n",
              "    <tr>\n",
              "      <th>Fabio</th>\n",
              "      <td>8.0</td>\n",
              "      <td>6.0</td>\n",
              "      <td>9.0</td>\n",
              "      <td>7.7</td>\n",
              "    </tr>\n",
              "    <tr>\n",
              "      <th>Gloria</th>\n",
              "      <td>3.0</td>\n",
              "      <td>9.0</td>\n",
              "      <td>5.0</td>\n",
              "      <td>5.7</td>\n",
              "    </tr>\n",
              "  </tbody>\n",
              "</table>\n",
              "</div>\n",
              "      <button class=\"colab-df-convert\" onclick=\"convertToInteractive('df-de6fd36a-3814-494a-b78e-915b87c9736c')\"\n",
              "              title=\"Convert this dataframe to an interactive table.\"\n",
              "              style=\"display:none;\">\n",
              "        \n",
              "  <svg xmlns=\"http://www.w3.org/2000/svg\" height=\"24px\"viewBox=\"0 0 24 24\"\n",
              "       width=\"24px\">\n",
              "    <path d=\"M0 0h24v24H0V0z\" fill=\"none\"/>\n",
              "    <path d=\"M18.56 5.44l.94 2.06.94-2.06 2.06-.94-2.06-.94-.94-2.06-.94 2.06-2.06.94zm-11 1L8.5 8.5l.94-2.06 2.06-.94-2.06-.94L8.5 2.5l-.94 2.06-2.06.94zm10 10l.94 2.06.94-2.06 2.06-.94-2.06-.94-.94-2.06-.94 2.06-2.06.94z\"/><path d=\"M17.41 7.96l-1.37-1.37c-.4-.4-.92-.59-1.43-.59-.52 0-1.04.2-1.43.59L10.3 9.45l-7.72 7.72c-.78.78-.78 2.05 0 2.83L4 21.41c.39.39.9.59 1.41.59.51 0 1.02-.2 1.41-.59l7.78-7.78 2.81-2.81c.8-.78.8-2.07 0-2.86zM5.41 20L4 18.59l7.72-7.72 1.47 1.35L5.41 20z\"/>\n",
              "  </svg>\n",
              "      </button>\n",
              "      \n",
              "  <style>\n",
              "    .colab-df-container {\n",
              "      display:flex;\n",
              "      flex-wrap:wrap;\n",
              "      gap: 12px;\n",
              "    }\n",
              "\n",
              "    .colab-df-convert {\n",
              "      background-color: #E8F0FE;\n",
              "      border: none;\n",
              "      border-radius: 50%;\n",
              "      cursor: pointer;\n",
              "      display: none;\n",
              "      fill: #1967D2;\n",
              "      height: 32px;\n",
              "      padding: 0 0 0 0;\n",
              "      width: 32px;\n",
              "    }\n",
              "\n",
              "    .colab-df-convert:hover {\n",
              "      background-color: #E2EBFA;\n",
              "      box-shadow: 0px 1px 2px rgba(60, 64, 67, 0.3), 0px 1px 3px 1px rgba(60, 64, 67, 0.15);\n",
              "      fill: #174EA6;\n",
              "    }\n",
              "\n",
              "    [theme=dark] .colab-df-convert {\n",
              "      background-color: #3B4455;\n",
              "      fill: #D2E3FC;\n",
              "    }\n",
              "\n",
              "    [theme=dark] .colab-df-convert:hover {\n",
              "      background-color: #434B5C;\n",
              "      box-shadow: 0px 1px 3px 1px rgba(0, 0, 0, 0.15);\n",
              "      filter: drop-shadow(0px 1px 2px rgba(0, 0, 0, 0.3));\n",
              "      fill: #FFFFFF;\n",
              "    }\n",
              "  </style>\n",
              "\n",
              "      <script>\n",
              "        const buttonEl =\n",
              "          document.querySelector('#df-de6fd36a-3814-494a-b78e-915b87c9736c button.colab-df-convert');\n",
              "        buttonEl.style.display =\n",
              "          google.colab.kernel.accessAllowed ? 'block' : 'none';\n",
              "\n",
              "        async function convertToInteractive(key) {\n",
              "          const element = document.querySelector('#df-de6fd36a-3814-494a-b78e-915b87c9736c');\n",
              "          const dataTable =\n",
              "            await google.colab.kernel.invokeFunction('convertToInteractive',\n",
              "                                                     [key], {});\n",
              "          if (!dataTable) return;\n",
              "\n",
              "          const docLinkHtml = 'Like what you see? Visit the ' +\n",
              "            '<a target=\"_blank\" href=https://colab.research.google.com/notebooks/data_table.ipynb>data table notebook</a>'\n",
              "            + ' to learn more about interactive tables.';\n",
              "          element.innerHTML = '';\n",
              "          dataTable['output_type'] = 'display_data';\n",
              "          await google.colab.output.renderOutput(dataTable, element);\n",
              "          const docLink = document.createElement('div');\n",
              "          docLink.innerHTML = docLinkHtml;\n",
              "          element.appendChild(docLink);\n",
              "        }\n",
              "      </script>\n",
              "    </div>\n",
              "  </div>\n",
              "  "
            ]
          },
          "metadata": {},
          "execution_count": 221
        }
      ]
    },
    {
      "cell_type": "code",
      "source": [
        "# o aluno eh considerado aprovado quando nota eh maior que 6\n",
        "\n",
        "def auxiliar(nota):\n",
        "  if nota >= 6:\n",
        "    saida = ['Aprovado']\n",
        "  else:\n",
        "    saida = ['Reprovado']\n",
        "  return saida\n",
        "\n",
        "notas['Situacao'] = notas['MF'].apply(auxiliar)\n",
        "notas"
      ],
      "metadata": {
        "colab": {
          "base_uri": "https://localhost:8080/",
          "height": 269
        },
        "id": "VyCBmB2mL5Rp",
        "outputId": "4bcf1987-f154-4623-afe7-9ca0b27bc2d5"
      },
      "execution_count": 222,
      "outputs": [
        {
          "output_type": "execute_result",
          "data": {
            "text/plain": [
              "         P1   P2    P3   MF     Situacao\n",
              "Alice   2.0  5.0   8.0  5.0  [Reprovado]\n",
              "Bruno   7.0  2.0   6.0  5.0  [Reprovado]\n",
              "Carla   8.0  5.0   3.0  5.4  [Reprovado]\n",
              "David   3.0  8.0   8.0  6.4   [Aprovado]\n",
              "Emily   1.0  2.0  10.0  4.4  [Reprovado]\n",
              "Fabio   8.0  6.0   9.0  7.7   [Aprovado]\n",
              "Gloria  3.0  9.0   5.0  5.7  [Reprovado]"
            ],
            "text/html": [
              "\n",
              "  <div id=\"df-9cf02fc0-1bc0-4267-ae5c-84d99775ce1a\">\n",
              "    <div class=\"colab-df-container\">\n",
              "      <div>\n",
              "<style scoped>\n",
              "    .dataframe tbody tr th:only-of-type {\n",
              "        vertical-align: middle;\n",
              "    }\n",
              "\n",
              "    .dataframe tbody tr th {\n",
              "        vertical-align: top;\n",
              "    }\n",
              "\n",
              "    .dataframe thead th {\n",
              "        text-align: right;\n",
              "    }\n",
              "</style>\n",
              "<table border=\"1\" class=\"dataframe\">\n",
              "  <thead>\n",
              "    <tr style=\"text-align: right;\">\n",
              "      <th></th>\n",
              "      <th>P1</th>\n",
              "      <th>P2</th>\n",
              "      <th>P3</th>\n",
              "      <th>MF</th>\n",
              "      <th>Situacao</th>\n",
              "    </tr>\n",
              "  </thead>\n",
              "  <tbody>\n",
              "    <tr>\n",
              "      <th>Alice</th>\n",
              "      <td>2.0</td>\n",
              "      <td>5.0</td>\n",
              "      <td>8.0</td>\n",
              "      <td>5.0</td>\n",
              "      <td>[Reprovado]</td>\n",
              "    </tr>\n",
              "    <tr>\n",
              "      <th>Bruno</th>\n",
              "      <td>7.0</td>\n",
              "      <td>2.0</td>\n",
              "      <td>6.0</td>\n",
              "      <td>5.0</td>\n",
              "      <td>[Reprovado]</td>\n",
              "    </tr>\n",
              "    <tr>\n",
              "      <th>Carla</th>\n",
              "      <td>8.0</td>\n",
              "      <td>5.0</td>\n",
              "      <td>3.0</td>\n",
              "      <td>5.4</td>\n",
              "      <td>[Reprovado]</td>\n",
              "    </tr>\n",
              "    <tr>\n",
              "      <th>David</th>\n",
              "      <td>3.0</td>\n",
              "      <td>8.0</td>\n",
              "      <td>8.0</td>\n",
              "      <td>6.4</td>\n",
              "      <td>[Aprovado]</td>\n",
              "    </tr>\n",
              "    <tr>\n",
              "      <th>Emily</th>\n",
              "      <td>1.0</td>\n",
              "      <td>2.0</td>\n",
              "      <td>10.0</td>\n",
              "      <td>4.4</td>\n",
              "      <td>[Reprovado]</td>\n",
              "    </tr>\n",
              "    <tr>\n",
              "      <th>Fabio</th>\n",
              "      <td>8.0</td>\n",
              "      <td>6.0</td>\n",
              "      <td>9.0</td>\n",
              "      <td>7.7</td>\n",
              "      <td>[Aprovado]</td>\n",
              "    </tr>\n",
              "    <tr>\n",
              "      <th>Gloria</th>\n",
              "      <td>3.0</td>\n",
              "      <td>9.0</td>\n",
              "      <td>5.0</td>\n",
              "      <td>5.7</td>\n",
              "      <td>[Reprovado]</td>\n",
              "    </tr>\n",
              "  </tbody>\n",
              "</table>\n",
              "</div>\n",
              "      <button class=\"colab-df-convert\" onclick=\"convertToInteractive('df-9cf02fc0-1bc0-4267-ae5c-84d99775ce1a')\"\n",
              "              title=\"Convert this dataframe to an interactive table.\"\n",
              "              style=\"display:none;\">\n",
              "        \n",
              "  <svg xmlns=\"http://www.w3.org/2000/svg\" height=\"24px\"viewBox=\"0 0 24 24\"\n",
              "       width=\"24px\">\n",
              "    <path d=\"M0 0h24v24H0V0z\" fill=\"none\"/>\n",
              "    <path d=\"M18.56 5.44l.94 2.06.94-2.06 2.06-.94-2.06-.94-.94-2.06-.94 2.06-2.06.94zm-11 1L8.5 8.5l.94-2.06 2.06-.94-2.06-.94L8.5 2.5l-.94 2.06-2.06.94zm10 10l.94 2.06.94-2.06 2.06-.94-2.06-.94-.94-2.06-.94 2.06-2.06.94z\"/><path d=\"M17.41 7.96l-1.37-1.37c-.4-.4-.92-.59-1.43-.59-.52 0-1.04.2-1.43.59L10.3 9.45l-7.72 7.72c-.78.78-.78 2.05 0 2.83L4 21.41c.39.39.9.59 1.41.59.51 0 1.02-.2 1.41-.59l7.78-7.78 2.81-2.81c.8-.78.8-2.07 0-2.86zM5.41 20L4 18.59l7.72-7.72 1.47 1.35L5.41 20z\"/>\n",
              "  </svg>\n",
              "      </button>\n",
              "      \n",
              "  <style>\n",
              "    .colab-df-container {\n",
              "      display:flex;\n",
              "      flex-wrap:wrap;\n",
              "      gap: 12px;\n",
              "    }\n",
              "\n",
              "    .colab-df-convert {\n",
              "      background-color: #E8F0FE;\n",
              "      border: none;\n",
              "      border-radius: 50%;\n",
              "      cursor: pointer;\n",
              "      display: none;\n",
              "      fill: #1967D2;\n",
              "      height: 32px;\n",
              "      padding: 0 0 0 0;\n",
              "      width: 32px;\n",
              "    }\n",
              "\n",
              "    .colab-df-convert:hover {\n",
              "      background-color: #E2EBFA;\n",
              "      box-shadow: 0px 1px 2px rgba(60, 64, 67, 0.3), 0px 1px 3px 1px rgba(60, 64, 67, 0.15);\n",
              "      fill: #174EA6;\n",
              "    }\n",
              "\n",
              "    [theme=dark] .colab-df-convert {\n",
              "      background-color: #3B4455;\n",
              "      fill: #D2E3FC;\n",
              "    }\n",
              "\n",
              "    [theme=dark] .colab-df-convert:hover {\n",
              "      background-color: #434B5C;\n",
              "      box-shadow: 0px 1px 3px 1px rgba(0, 0, 0, 0.15);\n",
              "      filter: drop-shadow(0px 1px 2px rgba(0, 0, 0, 0.3));\n",
              "      fill: #FFFFFF;\n",
              "    }\n",
              "  </style>\n",
              "\n",
              "      <script>\n",
              "        const buttonEl =\n",
              "          document.querySelector('#df-9cf02fc0-1bc0-4267-ae5c-84d99775ce1a button.colab-df-convert');\n",
              "        buttonEl.style.display =\n",
              "          google.colab.kernel.accessAllowed ? 'block' : 'none';\n",
              "\n",
              "        async function convertToInteractive(key) {\n",
              "          const element = document.querySelector('#df-9cf02fc0-1bc0-4267-ae5c-84d99775ce1a');\n",
              "          const dataTable =\n",
              "            await google.colab.kernel.invokeFunction('convertToInteractive',\n",
              "                                                     [key], {});\n",
              "          if (!dataTable) return;\n",
              "\n",
              "          const docLinkHtml = 'Like what you see? Visit the ' +\n",
              "            '<a target=\"_blank\" href=https://colab.research.google.com/notebooks/data_table.ipynb>data table notebook</a>'\n",
              "            + ' to learn more about interactive tables.';\n",
              "          element.innerHTML = '';\n",
              "          dataTable['output_type'] = 'display_data';\n",
              "          await google.colab.output.renderOutput(dataTable, element);\n",
              "          const docLink = document.createElement('div');\n",
              "          docLink.innerHTML = docLinkHtml;\n",
              "          element.appendChild(docLink);\n",
              "        }\n",
              "      </script>\n",
              "    </div>\n",
              "  </div>\n",
              "  "
            ]
          },
          "metadata": {},
          "execution_count": 222
        }
      ]
    },
    {
      "cell_type": "code",
      "source": [
        "notas.sort_values(by= 'MF', ascending = False)"
      ],
      "metadata": {
        "colab": {
          "base_uri": "https://localhost:8080/",
          "height": 269
        },
        "id": "A0DwjeRGNi01",
        "outputId": "1b8f9706-d935-49ca-ec08-6ef34691ed2c"
      },
      "execution_count": 223,
      "outputs": [
        {
          "output_type": "execute_result",
          "data": {
            "text/plain": [
              "         P1   P2    P3   MF     Situacao\n",
              "Fabio   8.0  6.0   9.0  7.7   [Aprovado]\n",
              "David   3.0  8.0   8.0  6.4   [Aprovado]\n",
              "Gloria  3.0  9.0   5.0  5.7  [Reprovado]\n",
              "Carla   8.0  5.0   3.0  5.4  [Reprovado]\n",
              "Alice   2.0  5.0   8.0  5.0  [Reprovado]\n",
              "Bruno   7.0  2.0   6.0  5.0  [Reprovado]\n",
              "Emily   1.0  2.0  10.0  4.4  [Reprovado]"
            ],
            "text/html": [
              "\n",
              "  <div id=\"df-76677b80-8aa6-4cef-a6d1-a21acaa18172\">\n",
              "    <div class=\"colab-df-container\">\n",
              "      <div>\n",
              "<style scoped>\n",
              "    .dataframe tbody tr th:only-of-type {\n",
              "        vertical-align: middle;\n",
              "    }\n",
              "\n",
              "    .dataframe tbody tr th {\n",
              "        vertical-align: top;\n",
              "    }\n",
              "\n",
              "    .dataframe thead th {\n",
              "        text-align: right;\n",
              "    }\n",
              "</style>\n",
              "<table border=\"1\" class=\"dataframe\">\n",
              "  <thead>\n",
              "    <tr style=\"text-align: right;\">\n",
              "      <th></th>\n",
              "      <th>P1</th>\n",
              "      <th>P2</th>\n",
              "      <th>P3</th>\n",
              "      <th>MF</th>\n",
              "      <th>Situacao</th>\n",
              "    </tr>\n",
              "  </thead>\n",
              "  <tbody>\n",
              "    <tr>\n",
              "      <th>Fabio</th>\n",
              "      <td>8.0</td>\n",
              "      <td>6.0</td>\n",
              "      <td>9.0</td>\n",
              "      <td>7.7</td>\n",
              "      <td>[Aprovado]</td>\n",
              "    </tr>\n",
              "    <tr>\n",
              "      <th>David</th>\n",
              "      <td>3.0</td>\n",
              "      <td>8.0</td>\n",
              "      <td>8.0</td>\n",
              "      <td>6.4</td>\n",
              "      <td>[Aprovado]</td>\n",
              "    </tr>\n",
              "    <tr>\n",
              "      <th>Gloria</th>\n",
              "      <td>3.0</td>\n",
              "      <td>9.0</td>\n",
              "      <td>5.0</td>\n",
              "      <td>5.7</td>\n",
              "      <td>[Reprovado]</td>\n",
              "    </tr>\n",
              "    <tr>\n",
              "      <th>Carla</th>\n",
              "      <td>8.0</td>\n",
              "      <td>5.0</td>\n",
              "      <td>3.0</td>\n",
              "      <td>5.4</td>\n",
              "      <td>[Reprovado]</td>\n",
              "    </tr>\n",
              "    <tr>\n",
              "      <th>Alice</th>\n",
              "      <td>2.0</td>\n",
              "      <td>5.0</td>\n",
              "      <td>8.0</td>\n",
              "      <td>5.0</td>\n",
              "      <td>[Reprovado]</td>\n",
              "    </tr>\n",
              "    <tr>\n",
              "      <th>Bruno</th>\n",
              "      <td>7.0</td>\n",
              "      <td>2.0</td>\n",
              "      <td>6.0</td>\n",
              "      <td>5.0</td>\n",
              "      <td>[Reprovado]</td>\n",
              "    </tr>\n",
              "    <tr>\n",
              "      <th>Emily</th>\n",
              "      <td>1.0</td>\n",
              "      <td>2.0</td>\n",
              "      <td>10.0</td>\n",
              "      <td>4.4</td>\n",
              "      <td>[Reprovado]</td>\n",
              "    </tr>\n",
              "  </tbody>\n",
              "</table>\n",
              "</div>\n",
              "      <button class=\"colab-df-convert\" onclick=\"convertToInteractive('df-76677b80-8aa6-4cef-a6d1-a21acaa18172')\"\n",
              "              title=\"Convert this dataframe to an interactive table.\"\n",
              "              style=\"display:none;\">\n",
              "        \n",
              "  <svg xmlns=\"http://www.w3.org/2000/svg\" height=\"24px\"viewBox=\"0 0 24 24\"\n",
              "       width=\"24px\">\n",
              "    <path d=\"M0 0h24v24H0V0z\" fill=\"none\"/>\n",
              "    <path d=\"M18.56 5.44l.94 2.06.94-2.06 2.06-.94-2.06-.94-.94-2.06-.94 2.06-2.06.94zm-11 1L8.5 8.5l.94-2.06 2.06-.94-2.06-.94L8.5 2.5l-.94 2.06-2.06.94zm10 10l.94 2.06.94-2.06 2.06-.94-2.06-.94-.94-2.06-.94 2.06-2.06.94z\"/><path d=\"M17.41 7.96l-1.37-1.37c-.4-.4-.92-.59-1.43-.59-.52 0-1.04.2-1.43.59L10.3 9.45l-7.72 7.72c-.78.78-.78 2.05 0 2.83L4 21.41c.39.39.9.59 1.41.59.51 0 1.02-.2 1.41-.59l7.78-7.78 2.81-2.81c.8-.78.8-2.07 0-2.86zM5.41 20L4 18.59l7.72-7.72 1.47 1.35L5.41 20z\"/>\n",
              "  </svg>\n",
              "      </button>\n",
              "      \n",
              "  <style>\n",
              "    .colab-df-container {\n",
              "      display:flex;\n",
              "      flex-wrap:wrap;\n",
              "      gap: 12px;\n",
              "    }\n",
              "\n",
              "    .colab-df-convert {\n",
              "      background-color: #E8F0FE;\n",
              "      border: none;\n",
              "      border-radius: 50%;\n",
              "      cursor: pointer;\n",
              "      display: none;\n",
              "      fill: #1967D2;\n",
              "      height: 32px;\n",
              "      padding: 0 0 0 0;\n",
              "      width: 32px;\n",
              "    }\n",
              "\n",
              "    .colab-df-convert:hover {\n",
              "      background-color: #E2EBFA;\n",
              "      box-shadow: 0px 1px 2px rgba(60, 64, 67, 0.3), 0px 1px 3px 1px rgba(60, 64, 67, 0.15);\n",
              "      fill: #174EA6;\n",
              "    }\n",
              "\n",
              "    [theme=dark] .colab-df-convert {\n",
              "      background-color: #3B4455;\n",
              "      fill: #D2E3FC;\n",
              "    }\n",
              "\n",
              "    [theme=dark] .colab-df-convert:hover {\n",
              "      background-color: #434B5C;\n",
              "      box-shadow: 0px 1px 3px 1px rgba(0, 0, 0, 0.15);\n",
              "      filter: drop-shadow(0px 1px 2px rgba(0, 0, 0, 0.3));\n",
              "      fill: #FFFFFF;\n",
              "    }\n",
              "  </style>\n",
              "\n",
              "      <script>\n",
              "        const buttonEl =\n",
              "          document.querySelector('#df-76677b80-8aa6-4cef-a6d1-a21acaa18172 button.colab-df-convert');\n",
              "        buttonEl.style.display =\n",
              "          google.colab.kernel.accessAllowed ? 'block' : 'none';\n",
              "\n",
              "        async function convertToInteractive(key) {\n",
              "          const element = document.querySelector('#df-76677b80-8aa6-4cef-a6d1-a21acaa18172');\n",
              "          const dataTable =\n",
              "            await google.colab.kernel.invokeFunction('convertToInteractive',\n",
              "                                                     [key], {});\n",
              "          if (!dataTable) return;\n",
              "\n",
              "          const docLinkHtml = 'Like what you see? Visit the ' +\n",
              "            '<a target=\"_blank\" href=https://colab.research.google.com/notebooks/data_table.ipynb>data table notebook</a>'\n",
              "            + ' to learn more about interactive tables.';\n",
              "          element.innerHTML = '';\n",
              "          dataTable['output_type'] = 'display_data';\n",
              "          await google.colab.output.renderOutput(dataTable, element);\n",
              "          const docLink = document.createElement('div');\n",
              "          docLink.innerHTML = docLinkHtml;\n",
              "          element.appendChild(docLink);\n",
              "        }\n",
              "      </script>\n",
              "    </div>\n",
              "  </div>\n",
              "  "
            ]
          },
          "metadata": {},
          "execution_count": 223
        }
      ]
    },
    {
      "cell_type": "code",
      "source": [
        "notas"
      ],
      "metadata": {
        "colab": {
          "base_uri": "https://localhost:8080/",
          "height": 269
        },
        "id": "zeWDEfFtNumt",
        "outputId": "686eaa44-d26a-4e43-b51f-4224e0ea00b5"
      },
      "execution_count": 224,
      "outputs": [
        {
          "output_type": "execute_result",
          "data": {
            "text/plain": [
              "         P1   P2    P3   MF     Situacao\n",
              "Alice   2.0  5.0   8.0  5.0  [Reprovado]\n",
              "Bruno   7.0  2.0   6.0  5.0  [Reprovado]\n",
              "Carla   8.0  5.0   3.0  5.4  [Reprovado]\n",
              "David   3.0  8.0   8.0  6.4   [Aprovado]\n",
              "Emily   1.0  2.0  10.0  4.4  [Reprovado]\n",
              "Fabio   8.0  6.0   9.0  7.7   [Aprovado]\n",
              "Gloria  3.0  9.0   5.0  5.7  [Reprovado]"
            ],
            "text/html": [
              "\n",
              "  <div id=\"df-d9f3ad42-0636-458e-b103-5f67634cda44\">\n",
              "    <div class=\"colab-df-container\">\n",
              "      <div>\n",
              "<style scoped>\n",
              "    .dataframe tbody tr th:only-of-type {\n",
              "        vertical-align: middle;\n",
              "    }\n",
              "\n",
              "    .dataframe tbody tr th {\n",
              "        vertical-align: top;\n",
              "    }\n",
              "\n",
              "    .dataframe thead th {\n",
              "        text-align: right;\n",
              "    }\n",
              "</style>\n",
              "<table border=\"1\" class=\"dataframe\">\n",
              "  <thead>\n",
              "    <tr style=\"text-align: right;\">\n",
              "      <th></th>\n",
              "      <th>P1</th>\n",
              "      <th>P2</th>\n",
              "      <th>P3</th>\n",
              "      <th>MF</th>\n",
              "      <th>Situacao</th>\n",
              "    </tr>\n",
              "  </thead>\n",
              "  <tbody>\n",
              "    <tr>\n",
              "      <th>Alice</th>\n",
              "      <td>2.0</td>\n",
              "      <td>5.0</td>\n",
              "      <td>8.0</td>\n",
              "      <td>5.0</td>\n",
              "      <td>[Reprovado]</td>\n",
              "    </tr>\n",
              "    <tr>\n",
              "      <th>Bruno</th>\n",
              "      <td>7.0</td>\n",
              "      <td>2.0</td>\n",
              "      <td>6.0</td>\n",
              "      <td>5.0</td>\n",
              "      <td>[Reprovado]</td>\n",
              "    </tr>\n",
              "    <tr>\n",
              "      <th>Carla</th>\n",
              "      <td>8.0</td>\n",
              "      <td>5.0</td>\n",
              "      <td>3.0</td>\n",
              "      <td>5.4</td>\n",
              "      <td>[Reprovado]</td>\n",
              "    </tr>\n",
              "    <tr>\n",
              "      <th>David</th>\n",
              "      <td>3.0</td>\n",
              "      <td>8.0</td>\n",
              "      <td>8.0</td>\n",
              "      <td>6.4</td>\n",
              "      <td>[Aprovado]</td>\n",
              "    </tr>\n",
              "    <tr>\n",
              "      <th>Emily</th>\n",
              "      <td>1.0</td>\n",
              "      <td>2.0</td>\n",
              "      <td>10.0</td>\n",
              "      <td>4.4</td>\n",
              "      <td>[Reprovado]</td>\n",
              "    </tr>\n",
              "    <tr>\n",
              "      <th>Fabio</th>\n",
              "      <td>8.0</td>\n",
              "      <td>6.0</td>\n",
              "      <td>9.0</td>\n",
              "      <td>7.7</td>\n",
              "      <td>[Aprovado]</td>\n",
              "    </tr>\n",
              "    <tr>\n",
              "      <th>Gloria</th>\n",
              "      <td>3.0</td>\n",
              "      <td>9.0</td>\n",
              "      <td>5.0</td>\n",
              "      <td>5.7</td>\n",
              "      <td>[Reprovado]</td>\n",
              "    </tr>\n",
              "  </tbody>\n",
              "</table>\n",
              "</div>\n",
              "      <button class=\"colab-df-convert\" onclick=\"convertToInteractive('df-d9f3ad42-0636-458e-b103-5f67634cda44')\"\n",
              "              title=\"Convert this dataframe to an interactive table.\"\n",
              "              style=\"display:none;\">\n",
              "        \n",
              "  <svg xmlns=\"http://www.w3.org/2000/svg\" height=\"24px\"viewBox=\"0 0 24 24\"\n",
              "       width=\"24px\">\n",
              "    <path d=\"M0 0h24v24H0V0z\" fill=\"none\"/>\n",
              "    <path d=\"M18.56 5.44l.94 2.06.94-2.06 2.06-.94-2.06-.94-.94-2.06-.94 2.06-2.06.94zm-11 1L8.5 8.5l.94-2.06 2.06-.94-2.06-.94L8.5 2.5l-.94 2.06-2.06.94zm10 10l.94 2.06.94-2.06 2.06-.94-2.06-.94-.94-2.06-.94 2.06-2.06.94z\"/><path d=\"M17.41 7.96l-1.37-1.37c-.4-.4-.92-.59-1.43-.59-.52 0-1.04.2-1.43.59L10.3 9.45l-7.72 7.72c-.78.78-.78 2.05 0 2.83L4 21.41c.39.39.9.59 1.41.59.51 0 1.02-.2 1.41-.59l7.78-7.78 2.81-2.81c.8-.78.8-2.07 0-2.86zM5.41 20L4 18.59l7.72-7.72 1.47 1.35L5.41 20z\"/>\n",
              "  </svg>\n",
              "      </button>\n",
              "      \n",
              "  <style>\n",
              "    .colab-df-container {\n",
              "      display:flex;\n",
              "      flex-wrap:wrap;\n",
              "      gap: 12px;\n",
              "    }\n",
              "\n",
              "    .colab-df-convert {\n",
              "      background-color: #E8F0FE;\n",
              "      border: none;\n",
              "      border-radius: 50%;\n",
              "      cursor: pointer;\n",
              "      display: none;\n",
              "      fill: #1967D2;\n",
              "      height: 32px;\n",
              "      padding: 0 0 0 0;\n",
              "      width: 32px;\n",
              "    }\n",
              "\n",
              "    .colab-df-convert:hover {\n",
              "      background-color: #E2EBFA;\n",
              "      box-shadow: 0px 1px 2px rgba(60, 64, 67, 0.3), 0px 1px 3px 1px rgba(60, 64, 67, 0.15);\n",
              "      fill: #174EA6;\n",
              "    }\n",
              "\n",
              "    [theme=dark] .colab-df-convert {\n",
              "      background-color: #3B4455;\n",
              "      fill: #D2E3FC;\n",
              "    }\n",
              "\n",
              "    [theme=dark] .colab-df-convert:hover {\n",
              "      background-color: #434B5C;\n",
              "      box-shadow: 0px 1px 3px 1px rgba(0, 0, 0, 0.15);\n",
              "      filter: drop-shadow(0px 1px 2px rgba(0, 0, 0, 0.3));\n",
              "      fill: #FFFFFF;\n",
              "    }\n",
              "  </style>\n",
              "\n",
              "      <script>\n",
              "        const buttonEl =\n",
              "          document.querySelector('#df-d9f3ad42-0636-458e-b103-5f67634cda44 button.colab-df-convert');\n",
              "        buttonEl.style.display =\n",
              "          google.colab.kernel.accessAllowed ? 'block' : 'none';\n",
              "\n",
              "        async function convertToInteractive(key) {\n",
              "          const element = document.querySelector('#df-d9f3ad42-0636-458e-b103-5f67634cda44');\n",
              "          const dataTable =\n",
              "            await google.colab.kernel.invokeFunction('convertToInteractive',\n",
              "                                                     [key], {});\n",
              "          if (!dataTable) return;\n",
              "\n",
              "          const docLinkHtml = 'Like what you see? Visit the ' +\n",
              "            '<a target=\"_blank\" href=https://colab.research.google.com/notebooks/data_table.ipynb>data table notebook</a>'\n",
              "            + ' to learn more about interactive tables.';\n",
              "          element.innerHTML = '';\n",
              "          dataTable['output_type'] = 'display_data';\n",
              "          await google.colab.output.renderOutput(dataTable, element);\n",
              "          const docLink = document.createElement('div');\n",
              "          docLink.innerHTML = docLinkHtml;\n",
              "          element.appendChild(docLink);\n",
              "        }\n",
              "      </script>\n",
              "    </div>\n",
              "  </div>\n",
              "  "
            ]
          },
          "metadata": {},
          "execution_count": 224
        }
      ]
    },
    {
      "cell_type": "code",
      "source": [
        "notas.sort_values(by= 'MF', ascending = False,inplace = True)"
      ],
      "metadata": {
        "id": "eJh9VMQ9Nx5v"
      },
      "execution_count": 225,
      "outputs": []
    },
    {
      "cell_type": "code",
      "source": [
        "notas"
      ],
      "metadata": {
        "colab": {
          "base_uri": "https://localhost:8080/",
          "height": 269
        },
        "id": "OE1RnGEzN1gZ",
        "outputId": "c9638d01-69ba-4f28-c2c2-6c8c586f8917"
      },
      "execution_count": 226,
      "outputs": [
        {
          "output_type": "execute_result",
          "data": {
            "text/plain": [
              "         P1   P2    P3   MF     Situacao\n",
              "Fabio   8.0  6.0   9.0  7.7   [Aprovado]\n",
              "David   3.0  8.0   8.0  6.4   [Aprovado]\n",
              "Gloria  3.0  9.0   5.0  5.7  [Reprovado]\n",
              "Carla   8.0  5.0   3.0  5.4  [Reprovado]\n",
              "Alice   2.0  5.0   8.0  5.0  [Reprovado]\n",
              "Bruno   7.0  2.0   6.0  5.0  [Reprovado]\n",
              "Emily   1.0  2.0  10.0  4.4  [Reprovado]"
            ],
            "text/html": [
              "\n",
              "  <div id=\"df-46cfd8d8-ac43-4d38-8266-91e7f38207b2\">\n",
              "    <div class=\"colab-df-container\">\n",
              "      <div>\n",
              "<style scoped>\n",
              "    .dataframe tbody tr th:only-of-type {\n",
              "        vertical-align: middle;\n",
              "    }\n",
              "\n",
              "    .dataframe tbody tr th {\n",
              "        vertical-align: top;\n",
              "    }\n",
              "\n",
              "    .dataframe thead th {\n",
              "        text-align: right;\n",
              "    }\n",
              "</style>\n",
              "<table border=\"1\" class=\"dataframe\">\n",
              "  <thead>\n",
              "    <tr style=\"text-align: right;\">\n",
              "      <th></th>\n",
              "      <th>P1</th>\n",
              "      <th>P2</th>\n",
              "      <th>P3</th>\n",
              "      <th>MF</th>\n",
              "      <th>Situacao</th>\n",
              "    </tr>\n",
              "  </thead>\n",
              "  <tbody>\n",
              "    <tr>\n",
              "      <th>Fabio</th>\n",
              "      <td>8.0</td>\n",
              "      <td>6.0</td>\n",
              "      <td>9.0</td>\n",
              "      <td>7.7</td>\n",
              "      <td>[Aprovado]</td>\n",
              "    </tr>\n",
              "    <tr>\n",
              "      <th>David</th>\n",
              "      <td>3.0</td>\n",
              "      <td>8.0</td>\n",
              "      <td>8.0</td>\n",
              "      <td>6.4</td>\n",
              "      <td>[Aprovado]</td>\n",
              "    </tr>\n",
              "    <tr>\n",
              "      <th>Gloria</th>\n",
              "      <td>3.0</td>\n",
              "      <td>9.0</td>\n",
              "      <td>5.0</td>\n",
              "      <td>5.7</td>\n",
              "      <td>[Reprovado]</td>\n",
              "    </tr>\n",
              "    <tr>\n",
              "      <th>Carla</th>\n",
              "      <td>8.0</td>\n",
              "      <td>5.0</td>\n",
              "      <td>3.0</td>\n",
              "      <td>5.4</td>\n",
              "      <td>[Reprovado]</td>\n",
              "    </tr>\n",
              "    <tr>\n",
              "      <th>Alice</th>\n",
              "      <td>2.0</td>\n",
              "      <td>5.0</td>\n",
              "      <td>8.0</td>\n",
              "      <td>5.0</td>\n",
              "      <td>[Reprovado]</td>\n",
              "    </tr>\n",
              "    <tr>\n",
              "      <th>Bruno</th>\n",
              "      <td>7.0</td>\n",
              "      <td>2.0</td>\n",
              "      <td>6.0</td>\n",
              "      <td>5.0</td>\n",
              "      <td>[Reprovado]</td>\n",
              "    </tr>\n",
              "    <tr>\n",
              "      <th>Emily</th>\n",
              "      <td>1.0</td>\n",
              "      <td>2.0</td>\n",
              "      <td>10.0</td>\n",
              "      <td>4.4</td>\n",
              "      <td>[Reprovado]</td>\n",
              "    </tr>\n",
              "  </tbody>\n",
              "</table>\n",
              "</div>\n",
              "      <button class=\"colab-df-convert\" onclick=\"convertToInteractive('df-46cfd8d8-ac43-4d38-8266-91e7f38207b2')\"\n",
              "              title=\"Convert this dataframe to an interactive table.\"\n",
              "              style=\"display:none;\">\n",
              "        \n",
              "  <svg xmlns=\"http://www.w3.org/2000/svg\" height=\"24px\"viewBox=\"0 0 24 24\"\n",
              "       width=\"24px\">\n",
              "    <path d=\"M0 0h24v24H0V0z\" fill=\"none\"/>\n",
              "    <path d=\"M18.56 5.44l.94 2.06.94-2.06 2.06-.94-2.06-.94-.94-2.06-.94 2.06-2.06.94zm-11 1L8.5 8.5l.94-2.06 2.06-.94-2.06-.94L8.5 2.5l-.94 2.06-2.06.94zm10 10l.94 2.06.94-2.06 2.06-.94-2.06-.94-.94-2.06-.94 2.06-2.06.94z\"/><path d=\"M17.41 7.96l-1.37-1.37c-.4-.4-.92-.59-1.43-.59-.52 0-1.04.2-1.43.59L10.3 9.45l-7.72 7.72c-.78.78-.78 2.05 0 2.83L4 21.41c.39.39.9.59 1.41.59.51 0 1.02-.2 1.41-.59l7.78-7.78 2.81-2.81c.8-.78.8-2.07 0-2.86zM5.41 20L4 18.59l7.72-7.72 1.47 1.35L5.41 20z\"/>\n",
              "  </svg>\n",
              "      </button>\n",
              "      \n",
              "  <style>\n",
              "    .colab-df-container {\n",
              "      display:flex;\n",
              "      flex-wrap:wrap;\n",
              "      gap: 12px;\n",
              "    }\n",
              "\n",
              "    .colab-df-convert {\n",
              "      background-color: #E8F0FE;\n",
              "      border: none;\n",
              "      border-radius: 50%;\n",
              "      cursor: pointer;\n",
              "      display: none;\n",
              "      fill: #1967D2;\n",
              "      height: 32px;\n",
              "      padding: 0 0 0 0;\n",
              "      width: 32px;\n",
              "    }\n",
              "\n",
              "    .colab-df-convert:hover {\n",
              "      background-color: #E2EBFA;\n",
              "      box-shadow: 0px 1px 2px rgba(60, 64, 67, 0.3), 0px 1px 3px 1px rgba(60, 64, 67, 0.15);\n",
              "      fill: #174EA6;\n",
              "    }\n",
              "\n",
              "    [theme=dark] .colab-df-convert {\n",
              "      background-color: #3B4455;\n",
              "      fill: #D2E3FC;\n",
              "    }\n",
              "\n",
              "    [theme=dark] .colab-df-convert:hover {\n",
              "      background-color: #434B5C;\n",
              "      box-shadow: 0px 1px 3px 1px rgba(0, 0, 0, 0.15);\n",
              "      filter: drop-shadow(0px 1px 2px rgba(0, 0, 0, 0.3));\n",
              "      fill: #FFFFFF;\n",
              "    }\n",
              "  </style>\n",
              "\n",
              "      <script>\n",
              "        const buttonEl =\n",
              "          document.querySelector('#df-46cfd8d8-ac43-4d38-8266-91e7f38207b2 button.colab-df-convert');\n",
              "        buttonEl.style.display =\n",
              "          google.colab.kernel.accessAllowed ? 'block' : 'none';\n",
              "\n",
              "        async function convertToInteractive(key) {\n",
              "          const element = document.querySelector('#df-46cfd8d8-ac43-4d38-8266-91e7f38207b2');\n",
              "          const dataTable =\n",
              "            await google.colab.kernel.invokeFunction('convertToInteractive',\n",
              "                                                     [key], {});\n",
              "          if (!dataTable) return;\n",
              "\n",
              "          const docLinkHtml = 'Like what you see? Visit the ' +\n",
              "            '<a target=\"_blank\" href=https://colab.research.google.com/notebooks/data_table.ipynb>data table notebook</a>'\n",
              "            + ' to learn more about interactive tables.';\n",
              "          element.innerHTML = '';\n",
              "          dataTable['output_type'] = 'display_data';\n",
              "          await google.colab.output.renderOutput(dataTable, element);\n",
              "          const docLink = document.createElement('div');\n",
              "          docLink.innerHTML = docLinkHtml;\n",
              "          element.appendChild(docLink);\n",
              "        }\n",
              "      </script>\n",
              "    </div>\n",
              "  </div>\n",
              "  "
            ]
          },
          "metadata": {},
          "execution_count": 226
        }
      ]
    },
    {
      "cell_type": "code",
      "source": [
        "notas.index"
      ],
      "metadata": {
        "colab": {
          "base_uri": "https://localhost:8080/"
        },
        "id": "KVAKO4QrN09H",
        "outputId": "d6f6b25c-a316-41aa-ebd3-52c769496aae"
      },
      "execution_count": 227,
      "outputs": [
        {
          "output_type": "execute_result",
          "data": {
            "text/plain": [
              "Index(['Fabio', 'David', 'Gloria', 'Carla', 'Alice', 'Bruno', 'Emily'], dtype='object')"
            ]
          },
          "metadata": {},
          "execution_count": 227
        }
      ]
    },
    {
      "cell_type": "code",
      "source": [
        "notas.columns"
      ],
      "metadata": {
        "colab": {
          "base_uri": "https://localhost:8080/"
        },
        "id": "SAMsFbHON02d",
        "outputId": "6cd5f9bf-849b-40ac-9180-f1965881b5eb"
      },
      "execution_count": 228,
      "outputs": [
        {
          "output_type": "execute_result",
          "data": {
            "text/plain": [
              "Index(['P1', 'P2', 'P3', 'MF', 'Situacao'], dtype='object')"
            ]
          },
          "metadata": {},
          "execution_count": 228
        }
      ]
    },
    {
      "cell_type": "code",
      "source": [
        "notas.drop(['Alice','Fabio'])"
      ],
      "metadata": {
        "colab": {
          "base_uri": "https://localhost:8080/",
          "height": 206
        },
        "id": "pUel3hDbODdh",
        "outputId": "e8e139c8-d2c5-461b-aac2-832fae744edb"
      },
      "execution_count": 229,
      "outputs": [
        {
          "output_type": "execute_result",
          "data": {
            "text/plain": [
              "         P1   P2    P3   MF     Situacao\n",
              "David   3.0  8.0   8.0  6.4   [Aprovado]\n",
              "Gloria  3.0  9.0   5.0  5.7  [Reprovado]\n",
              "Carla   8.0  5.0   3.0  5.4  [Reprovado]\n",
              "Bruno   7.0  2.0   6.0  5.0  [Reprovado]\n",
              "Emily   1.0  2.0  10.0  4.4  [Reprovado]"
            ],
            "text/html": [
              "\n",
              "  <div id=\"df-98bba0ca-3dc8-4c0e-9122-5838673f218b\">\n",
              "    <div class=\"colab-df-container\">\n",
              "      <div>\n",
              "<style scoped>\n",
              "    .dataframe tbody tr th:only-of-type {\n",
              "        vertical-align: middle;\n",
              "    }\n",
              "\n",
              "    .dataframe tbody tr th {\n",
              "        vertical-align: top;\n",
              "    }\n",
              "\n",
              "    .dataframe thead th {\n",
              "        text-align: right;\n",
              "    }\n",
              "</style>\n",
              "<table border=\"1\" class=\"dataframe\">\n",
              "  <thead>\n",
              "    <tr style=\"text-align: right;\">\n",
              "      <th></th>\n",
              "      <th>P1</th>\n",
              "      <th>P2</th>\n",
              "      <th>P3</th>\n",
              "      <th>MF</th>\n",
              "      <th>Situacao</th>\n",
              "    </tr>\n",
              "  </thead>\n",
              "  <tbody>\n",
              "    <tr>\n",
              "      <th>David</th>\n",
              "      <td>3.0</td>\n",
              "      <td>8.0</td>\n",
              "      <td>8.0</td>\n",
              "      <td>6.4</td>\n",
              "      <td>[Aprovado]</td>\n",
              "    </tr>\n",
              "    <tr>\n",
              "      <th>Gloria</th>\n",
              "      <td>3.0</td>\n",
              "      <td>9.0</td>\n",
              "      <td>5.0</td>\n",
              "      <td>5.7</td>\n",
              "      <td>[Reprovado]</td>\n",
              "    </tr>\n",
              "    <tr>\n",
              "      <th>Carla</th>\n",
              "      <td>8.0</td>\n",
              "      <td>5.0</td>\n",
              "      <td>3.0</td>\n",
              "      <td>5.4</td>\n",
              "      <td>[Reprovado]</td>\n",
              "    </tr>\n",
              "    <tr>\n",
              "      <th>Bruno</th>\n",
              "      <td>7.0</td>\n",
              "      <td>2.0</td>\n",
              "      <td>6.0</td>\n",
              "      <td>5.0</td>\n",
              "      <td>[Reprovado]</td>\n",
              "    </tr>\n",
              "    <tr>\n",
              "      <th>Emily</th>\n",
              "      <td>1.0</td>\n",
              "      <td>2.0</td>\n",
              "      <td>10.0</td>\n",
              "      <td>4.4</td>\n",
              "      <td>[Reprovado]</td>\n",
              "    </tr>\n",
              "  </tbody>\n",
              "</table>\n",
              "</div>\n",
              "      <button class=\"colab-df-convert\" onclick=\"convertToInteractive('df-98bba0ca-3dc8-4c0e-9122-5838673f218b')\"\n",
              "              title=\"Convert this dataframe to an interactive table.\"\n",
              "              style=\"display:none;\">\n",
              "        \n",
              "  <svg xmlns=\"http://www.w3.org/2000/svg\" height=\"24px\"viewBox=\"0 0 24 24\"\n",
              "       width=\"24px\">\n",
              "    <path d=\"M0 0h24v24H0V0z\" fill=\"none\"/>\n",
              "    <path d=\"M18.56 5.44l.94 2.06.94-2.06 2.06-.94-2.06-.94-.94-2.06-.94 2.06-2.06.94zm-11 1L8.5 8.5l.94-2.06 2.06-.94-2.06-.94L8.5 2.5l-.94 2.06-2.06.94zm10 10l.94 2.06.94-2.06 2.06-.94-2.06-.94-.94-2.06-.94 2.06-2.06.94z\"/><path d=\"M17.41 7.96l-1.37-1.37c-.4-.4-.92-.59-1.43-.59-.52 0-1.04.2-1.43.59L10.3 9.45l-7.72 7.72c-.78.78-.78 2.05 0 2.83L4 21.41c.39.39.9.59 1.41.59.51 0 1.02-.2 1.41-.59l7.78-7.78 2.81-2.81c.8-.78.8-2.07 0-2.86zM5.41 20L4 18.59l7.72-7.72 1.47 1.35L5.41 20z\"/>\n",
              "  </svg>\n",
              "      </button>\n",
              "      \n",
              "  <style>\n",
              "    .colab-df-container {\n",
              "      display:flex;\n",
              "      flex-wrap:wrap;\n",
              "      gap: 12px;\n",
              "    }\n",
              "\n",
              "    .colab-df-convert {\n",
              "      background-color: #E8F0FE;\n",
              "      border: none;\n",
              "      border-radius: 50%;\n",
              "      cursor: pointer;\n",
              "      display: none;\n",
              "      fill: #1967D2;\n",
              "      height: 32px;\n",
              "      padding: 0 0 0 0;\n",
              "      width: 32px;\n",
              "    }\n",
              "\n",
              "    .colab-df-convert:hover {\n",
              "      background-color: #E2EBFA;\n",
              "      box-shadow: 0px 1px 2px rgba(60, 64, 67, 0.3), 0px 1px 3px 1px rgba(60, 64, 67, 0.15);\n",
              "      fill: #174EA6;\n",
              "    }\n",
              "\n",
              "    [theme=dark] .colab-df-convert {\n",
              "      background-color: #3B4455;\n",
              "      fill: #D2E3FC;\n",
              "    }\n",
              "\n",
              "    [theme=dark] .colab-df-convert:hover {\n",
              "      background-color: #434B5C;\n",
              "      box-shadow: 0px 1px 3px 1px rgba(0, 0, 0, 0.15);\n",
              "      filter: drop-shadow(0px 1px 2px rgba(0, 0, 0, 0.3));\n",
              "      fill: #FFFFFF;\n",
              "    }\n",
              "  </style>\n",
              "\n",
              "      <script>\n",
              "        const buttonEl =\n",
              "          document.querySelector('#df-98bba0ca-3dc8-4c0e-9122-5838673f218b button.colab-df-convert');\n",
              "        buttonEl.style.display =\n",
              "          google.colab.kernel.accessAllowed ? 'block' : 'none';\n",
              "\n",
              "        async function convertToInteractive(key) {\n",
              "          const element = document.querySelector('#df-98bba0ca-3dc8-4c0e-9122-5838673f218b');\n",
              "          const dataTable =\n",
              "            await google.colab.kernel.invokeFunction('convertToInteractive',\n",
              "                                                     [key], {});\n",
              "          if (!dataTable) return;\n",
              "\n",
              "          const docLinkHtml = 'Like what you see? Visit the ' +\n",
              "            '<a target=\"_blank\" href=https://colab.research.google.com/notebooks/data_table.ipynb>data table notebook</a>'\n",
              "            + ' to learn more about interactive tables.';\n",
              "          element.innerHTML = '';\n",
              "          dataTable['output_type'] = 'display_data';\n",
              "          await google.colab.output.renderOutput(dataTable, element);\n",
              "          const docLink = document.createElement('div');\n",
              "          docLink.innerHTML = docLinkHtml;\n",
              "          element.appendChild(docLink);\n",
              "        }\n",
              "      </script>\n",
              "    </div>\n",
              "  </div>\n",
              "  "
            ]
          },
          "metadata": {},
          "execution_count": 229
        }
      ]
    },
    {
      "cell_type": "code",
      "source": [
        "notas"
      ],
      "metadata": {
        "colab": {
          "base_uri": "https://localhost:8080/",
          "height": 269
        },
        "id": "VcXpFut7OMa4",
        "outputId": "9b70cc4e-2277-4178-8418-5d5ab202be6d"
      },
      "execution_count": 230,
      "outputs": [
        {
          "output_type": "execute_result",
          "data": {
            "text/plain": [
              "         P1   P2    P3   MF     Situacao\n",
              "Fabio   8.0  6.0   9.0  7.7   [Aprovado]\n",
              "David   3.0  8.0   8.0  6.4   [Aprovado]\n",
              "Gloria  3.0  9.0   5.0  5.7  [Reprovado]\n",
              "Carla   8.0  5.0   3.0  5.4  [Reprovado]\n",
              "Alice   2.0  5.0   8.0  5.0  [Reprovado]\n",
              "Bruno   7.0  2.0   6.0  5.0  [Reprovado]\n",
              "Emily   1.0  2.0  10.0  4.4  [Reprovado]"
            ],
            "text/html": [
              "\n",
              "  <div id=\"df-7801fed8-9a75-450f-aca4-eb0b9a9926c9\">\n",
              "    <div class=\"colab-df-container\">\n",
              "      <div>\n",
              "<style scoped>\n",
              "    .dataframe tbody tr th:only-of-type {\n",
              "        vertical-align: middle;\n",
              "    }\n",
              "\n",
              "    .dataframe tbody tr th {\n",
              "        vertical-align: top;\n",
              "    }\n",
              "\n",
              "    .dataframe thead th {\n",
              "        text-align: right;\n",
              "    }\n",
              "</style>\n",
              "<table border=\"1\" class=\"dataframe\">\n",
              "  <thead>\n",
              "    <tr style=\"text-align: right;\">\n",
              "      <th></th>\n",
              "      <th>P1</th>\n",
              "      <th>P2</th>\n",
              "      <th>P3</th>\n",
              "      <th>MF</th>\n",
              "      <th>Situacao</th>\n",
              "    </tr>\n",
              "  </thead>\n",
              "  <tbody>\n",
              "    <tr>\n",
              "      <th>Fabio</th>\n",
              "      <td>8.0</td>\n",
              "      <td>6.0</td>\n",
              "      <td>9.0</td>\n",
              "      <td>7.7</td>\n",
              "      <td>[Aprovado]</td>\n",
              "    </tr>\n",
              "    <tr>\n",
              "      <th>David</th>\n",
              "      <td>3.0</td>\n",
              "      <td>8.0</td>\n",
              "      <td>8.0</td>\n",
              "      <td>6.4</td>\n",
              "      <td>[Aprovado]</td>\n",
              "    </tr>\n",
              "    <tr>\n",
              "      <th>Gloria</th>\n",
              "      <td>3.0</td>\n",
              "      <td>9.0</td>\n",
              "      <td>5.0</td>\n",
              "      <td>5.7</td>\n",
              "      <td>[Reprovado]</td>\n",
              "    </tr>\n",
              "    <tr>\n",
              "      <th>Carla</th>\n",
              "      <td>8.0</td>\n",
              "      <td>5.0</td>\n",
              "      <td>3.0</td>\n",
              "      <td>5.4</td>\n",
              "      <td>[Reprovado]</td>\n",
              "    </tr>\n",
              "    <tr>\n",
              "      <th>Alice</th>\n",
              "      <td>2.0</td>\n",
              "      <td>5.0</td>\n",
              "      <td>8.0</td>\n",
              "      <td>5.0</td>\n",
              "      <td>[Reprovado]</td>\n",
              "    </tr>\n",
              "    <tr>\n",
              "      <th>Bruno</th>\n",
              "      <td>7.0</td>\n",
              "      <td>2.0</td>\n",
              "      <td>6.0</td>\n",
              "      <td>5.0</td>\n",
              "      <td>[Reprovado]</td>\n",
              "    </tr>\n",
              "    <tr>\n",
              "      <th>Emily</th>\n",
              "      <td>1.0</td>\n",
              "      <td>2.0</td>\n",
              "      <td>10.0</td>\n",
              "      <td>4.4</td>\n",
              "      <td>[Reprovado]</td>\n",
              "    </tr>\n",
              "  </tbody>\n",
              "</table>\n",
              "</div>\n",
              "      <button class=\"colab-df-convert\" onclick=\"convertToInteractive('df-7801fed8-9a75-450f-aca4-eb0b9a9926c9')\"\n",
              "              title=\"Convert this dataframe to an interactive table.\"\n",
              "              style=\"display:none;\">\n",
              "        \n",
              "  <svg xmlns=\"http://www.w3.org/2000/svg\" height=\"24px\"viewBox=\"0 0 24 24\"\n",
              "       width=\"24px\">\n",
              "    <path d=\"M0 0h24v24H0V0z\" fill=\"none\"/>\n",
              "    <path d=\"M18.56 5.44l.94 2.06.94-2.06 2.06-.94-2.06-.94-.94-2.06-.94 2.06-2.06.94zm-11 1L8.5 8.5l.94-2.06 2.06-.94-2.06-.94L8.5 2.5l-.94 2.06-2.06.94zm10 10l.94 2.06.94-2.06 2.06-.94-2.06-.94-.94-2.06-.94 2.06-2.06.94z\"/><path d=\"M17.41 7.96l-1.37-1.37c-.4-.4-.92-.59-1.43-.59-.52 0-1.04.2-1.43.59L10.3 9.45l-7.72 7.72c-.78.78-.78 2.05 0 2.83L4 21.41c.39.39.9.59 1.41.59.51 0 1.02-.2 1.41-.59l7.78-7.78 2.81-2.81c.8-.78.8-2.07 0-2.86zM5.41 20L4 18.59l7.72-7.72 1.47 1.35L5.41 20z\"/>\n",
              "  </svg>\n",
              "      </button>\n",
              "      \n",
              "  <style>\n",
              "    .colab-df-container {\n",
              "      display:flex;\n",
              "      flex-wrap:wrap;\n",
              "      gap: 12px;\n",
              "    }\n",
              "\n",
              "    .colab-df-convert {\n",
              "      background-color: #E8F0FE;\n",
              "      border: none;\n",
              "      border-radius: 50%;\n",
              "      cursor: pointer;\n",
              "      display: none;\n",
              "      fill: #1967D2;\n",
              "      height: 32px;\n",
              "      padding: 0 0 0 0;\n",
              "      width: 32px;\n",
              "    }\n",
              "\n",
              "    .colab-df-convert:hover {\n",
              "      background-color: #E2EBFA;\n",
              "      box-shadow: 0px 1px 2px rgba(60, 64, 67, 0.3), 0px 1px 3px 1px rgba(60, 64, 67, 0.15);\n",
              "      fill: #174EA6;\n",
              "    }\n",
              "\n",
              "    [theme=dark] .colab-df-convert {\n",
              "      background-color: #3B4455;\n",
              "      fill: #D2E3FC;\n",
              "    }\n",
              "\n",
              "    [theme=dark] .colab-df-convert:hover {\n",
              "      background-color: #434B5C;\n",
              "      box-shadow: 0px 1px 3px 1px rgba(0, 0, 0, 0.15);\n",
              "      filter: drop-shadow(0px 1px 2px rgba(0, 0, 0, 0.3));\n",
              "      fill: #FFFFFF;\n",
              "    }\n",
              "  </style>\n",
              "\n",
              "      <script>\n",
              "        const buttonEl =\n",
              "          document.querySelector('#df-7801fed8-9a75-450f-aca4-eb0b9a9926c9 button.colab-df-convert');\n",
              "        buttonEl.style.display =\n",
              "          google.colab.kernel.accessAllowed ? 'block' : 'none';\n",
              "\n",
              "        async function convertToInteractive(key) {\n",
              "          const element = document.querySelector('#df-7801fed8-9a75-450f-aca4-eb0b9a9926c9');\n",
              "          const dataTable =\n",
              "            await google.colab.kernel.invokeFunction('convertToInteractive',\n",
              "                                                     [key], {});\n",
              "          if (!dataTable) return;\n",
              "\n",
              "          const docLinkHtml = 'Like what you see? Visit the ' +\n",
              "            '<a target=\"_blank\" href=https://colab.research.google.com/notebooks/data_table.ipynb>data table notebook</a>'\n",
              "            + ' to learn more about interactive tables.';\n",
              "          element.innerHTML = '';\n",
              "          dataTable['output_type'] = 'display_data';\n",
              "          await google.colab.output.renderOutput(dataTable, element);\n",
              "          const docLink = document.createElement('div');\n",
              "          docLink.innerHTML = docLinkHtml;\n",
              "          element.appendChild(docLink);\n",
              "        }\n",
              "      </script>\n",
              "    </div>\n",
              "  </div>\n",
              "  "
            ]
          },
          "metadata": {},
          "execution_count": 230
        }
      ]
    },
    {
      "cell_type": "code",
      "source": [
        "notas.drop(['P1', 'Situacao'],axis=1)"
      ],
      "metadata": {
        "colab": {
          "base_uri": "https://localhost:8080/",
          "height": 269
        },
        "id": "UIac0mr-OQ3c",
        "outputId": "1f1178b4-8f21-4e4e-861b-17b3ee10697a"
      },
      "execution_count": 231,
      "outputs": [
        {
          "output_type": "execute_result",
          "data": {
            "text/plain": [
              "         P2    P3   MF\n",
              "Fabio   6.0   9.0  7.7\n",
              "David   8.0   8.0  6.4\n",
              "Gloria  9.0   5.0  5.7\n",
              "Carla   5.0   3.0  5.4\n",
              "Alice   5.0   8.0  5.0\n",
              "Bruno   2.0   6.0  5.0\n",
              "Emily   2.0  10.0  4.4"
            ],
            "text/html": [
              "\n",
              "  <div id=\"df-0f5c60d9-b462-47d8-9247-98908305c4e6\">\n",
              "    <div class=\"colab-df-container\">\n",
              "      <div>\n",
              "<style scoped>\n",
              "    .dataframe tbody tr th:only-of-type {\n",
              "        vertical-align: middle;\n",
              "    }\n",
              "\n",
              "    .dataframe tbody tr th {\n",
              "        vertical-align: top;\n",
              "    }\n",
              "\n",
              "    .dataframe thead th {\n",
              "        text-align: right;\n",
              "    }\n",
              "</style>\n",
              "<table border=\"1\" class=\"dataframe\">\n",
              "  <thead>\n",
              "    <tr style=\"text-align: right;\">\n",
              "      <th></th>\n",
              "      <th>P2</th>\n",
              "      <th>P3</th>\n",
              "      <th>MF</th>\n",
              "    </tr>\n",
              "  </thead>\n",
              "  <tbody>\n",
              "    <tr>\n",
              "      <th>Fabio</th>\n",
              "      <td>6.0</td>\n",
              "      <td>9.0</td>\n",
              "      <td>7.7</td>\n",
              "    </tr>\n",
              "    <tr>\n",
              "      <th>David</th>\n",
              "      <td>8.0</td>\n",
              "      <td>8.0</td>\n",
              "      <td>6.4</td>\n",
              "    </tr>\n",
              "    <tr>\n",
              "      <th>Gloria</th>\n",
              "      <td>9.0</td>\n",
              "      <td>5.0</td>\n",
              "      <td>5.7</td>\n",
              "    </tr>\n",
              "    <tr>\n",
              "      <th>Carla</th>\n",
              "      <td>5.0</td>\n",
              "      <td>3.0</td>\n",
              "      <td>5.4</td>\n",
              "    </tr>\n",
              "    <tr>\n",
              "      <th>Alice</th>\n",
              "      <td>5.0</td>\n",
              "      <td>8.0</td>\n",
              "      <td>5.0</td>\n",
              "    </tr>\n",
              "    <tr>\n",
              "      <th>Bruno</th>\n",
              "      <td>2.0</td>\n",
              "      <td>6.0</td>\n",
              "      <td>5.0</td>\n",
              "    </tr>\n",
              "    <tr>\n",
              "      <th>Emily</th>\n",
              "      <td>2.0</td>\n",
              "      <td>10.0</td>\n",
              "      <td>4.4</td>\n",
              "    </tr>\n",
              "  </tbody>\n",
              "</table>\n",
              "</div>\n",
              "      <button class=\"colab-df-convert\" onclick=\"convertToInteractive('df-0f5c60d9-b462-47d8-9247-98908305c4e6')\"\n",
              "              title=\"Convert this dataframe to an interactive table.\"\n",
              "              style=\"display:none;\">\n",
              "        \n",
              "  <svg xmlns=\"http://www.w3.org/2000/svg\" height=\"24px\"viewBox=\"0 0 24 24\"\n",
              "       width=\"24px\">\n",
              "    <path d=\"M0 0h24v24H0V0z\" fill=\"none\"/>\n",
              "    <path d=\"M18.56 5.44l.94 2.06.94-2.06 2.06-.94-2.06-.94-.94-2.06-.94 2.06-2.06.94zm-11 1L8.5 8.5l.94-2.06 2.06-.94-2.06-.94L8.5 2.5l-.94 2.06-2.06.94zm10 10l.94 2.06.94-2.06 2.06-.94-2.06-.94-.94-2.06-.94 2.06-2.06.94z\"/><path d=\"M17.41 7.96l-1.37-1.37c-.4-.4-.92-.59-1.43-.59-.52 0-1.04.2-1.43.59L10.3 9.45l-7.72 7.72c-.78.78-.78 2.05 0 2.83L4 21.41c.39.39.9.59 1.41.59.51 0 1.02-.2 1.41-.59l7.78-7.78 2.81-2.81c.8-.78.8-2.07 0-2.86zM5.41 20L4 18.59l7.72-7.72 1.47 1.35L5.41 20z\"/>\n",
              "  </svg>\n",
              "      </button>\n",
              "      \n",
              "  <style>\n",
              "    .colab-df-container {\n",
              "      display:flex;\n",
              "      flex-wrap:wrap;\n",
              "      gap: 12px;\n",
              "    }\n",
              "\n",
              "    .colab-df-convert {\n",
              "      background-color: #E8F0FE;\n",
              "      border: none;\n",
              "      border-radius: 50%;\n",
              "      cursor: pointer;\n",
              "      display: none;\n",
              "      fill: #1967D2;\n",
              "      height: 32px;\n",
              "      padding: 0 0 0 0;\n",
              "      width: 32px;\n",
              "    }\n",
              "\n",
              "    .colab-df-convert:hover {\n",
              "      background-color: #E2EBFA;\n",
              "      box-shadow: 0px 1px 2px rgba(60, 64, 67, 0.3), 0px 1px 3px 1px rgba(60, 64, 67, 0.15);\n",
              "      fill: #174EA6;\n",
              "    }\n",
              "\n",
              "    [theme=dark] .colab-df-convert {\n",
              "      background-color: #3B4455;\n",
              "      fill: #D2E3FC;\n",
              "    }\n",
              "\n",
              "    [theme=dark] .colab-df-convert:hover {\n",
              "      background-color: #434B5C;\n",
              "      box-shadow: 0px 1px 3px 1px rgba(0, 0, 0, 0.15);\n",
              "      filter: drop-shadow(0px 1px 2px rgba(0, 0, 0, 0.3));\n",
              "      fill: #FFFFFF;\n",
              "    }\n",
              "  </style>\n",
              "\n",
              "      <script>\n",
              "        const buttonEl =\n",
              "          document.querySelector('#df-0f5c60d9-b462-47d8-9247-98908305c4e6 button.colab-df-convert');\n",
              "        buttonEl.style.display =\n",
              "          google.colab.kernel.accessAllowed ? 'block' : 'none';\n",
              "\n",
              "        async function convertToInteractive(key) {\n",
              "          const element = document.querySelector('#df-0f5c60d9-b462-47d8-9247-98908305c4e6');\n",
              "          const dataTable =\n",
              "            await google.colab.kernel.invokeFunction('convertToInteractive',\n",
              "                                                     [key], {});\n",
              "          if (!dataTable) return;\n",
              "\n",
              "          const docLinkHtml = 'Like what you see? Visit the ' +\n",
              "            '<a target=\"_blank\" href=https://colab.research.google.com/notebooks/data_table.ipynb>data table notebook</a>'\n",
              "            + ' to learn more about interactive tables.';\n",
              "          element.innerHTML = '';\n",
              "          dataTable['output_type'] = 'display_data';\n",
              "          await google.colab.output.renderOutput(dataTable, element);\n",
              "          const docLink = document.createElement('div');\n",
              "          docLink.innerHTML = docLinkHtml;\n",
              "          element.appendChild(docLink);\n",
              "        }\n",
              "      </script>\n",
              "    </div>\n",
              "  </div>\n",
              "  "
            ]
          },
          "metadata": {},
          "execution_count": 231
        }
      ]
    },
    {
      "cell_type": "code",
      "source": [
        "notas_divulgacao = notas.drop(colunas,axis=1)\n",
        "notas_divulgacao"
      ],
      "metadata": {
        "colab": {
          "base_uri": "https://localhost:8080/",
          "height": 269
        },
        "id": "Q9JE0equOda4",
        "outputId": "8d8197e7-6568-4513-c4c7-0e2c5349dc09"
      },
      "execution_count": 232,
      "outputs": [
        {
          "output_type": "execute_result",
          "data": {
            "text/plain": [
              "         MF     Situacao\n",
              "Fabio   7.7   [Aprovado]\n",
              "David   6.4   [Aprovado]\n",
              "Gloria  5.7  [Reprovado]\n",
              "Carla   5.4  [Reprovado]\n",
              "Alice   5.0  [Reprovado]\n",
              "Bruno   5.0  [Reprovado]\n",
              "Emily   4.4  [Reprovado]"
            ],
            "text/html": [
              "\n",
              "  <div id=\"df-1306cab7-9141-4b74-8ac0-3ed42504d634\">\n",
              "    <div class=\"colab-df-container\">\n",
              "      <div>\n",
              "<style scoped>\n",
              "    .dataframe tbody tr th:only-of-type {\n",
              "        vertical-align: middle;\n",
              "    }\n",
              "\n",
              "    .dataframe tbody tr th {\n",
              "        vertical-align: top;\n",
              "    }\n",
              "\n",
              "    .dataframe thead th {\n",
              "        text-align: right;\n",
              "    }\n",
              "</style>\n",
              "<table border=\"1\" class=\"dataframe\">\n",
              "  <thead>\n",
              "    <tr style=\"text-align: right;\">\n",
              "      <th></th>\n",
              "      <th>MF</th>\n",
              "      <th>Situacao</th>\n",
              "    </tr>\n",
              "  </thead>\n",
              "  <tbody>\n",
              "    <tr>\n",
              "      <th>Fabio</th>\n",
              "      <td>7.7</td>\n",
              "      <td>[Aprovado]</td>\n",
              "    </tr>\n",
              "    <tr>\n",
              "      <th>David</th>\n",
              "      <td>6.4</td>\n",
              "      <td>[Aprovado]</td>\n",
              "    </tr>\n",
              "    <tr>\n",
              "      <th>Gloria</th>\n",
              "      <td>5.7</td>\n",
              "      <td>[Reprovado]</td>\n",
              "    </tr>\n",
              "    <tr>\n",
              "      <th>Carla</th>\n",
              "      <td>5.4</td>\n",
              "      <td>[Reprovado]</td>\n",
              "    </tr>\n",
              "    <tr>\n",
              "      <th>Alice</th>\n",
              "      <td>5.0</td>\n",
              "      <td>[Reprovado]</td>\n",
              "    </tr>\n",
              "    <tr>\n",
              "      <th>Bruno</th>\n",
              "      <td>5.0</td>\n",
              "      <td>[Reprovado]</td>\n",
              "    </tr>\n",
              "    <tr>\n",
              "      <th>Emily</th>\n",
              "      <td>4.4</td>\n",
              "      <td>[Reprovado]</td>\n",
              "    </tr>\n",
              "  </tbody>\n",
              "</table>\n",
              "</div>\n",
              "      <button class=\"colab-df-convert\" onclick=\"convertToInteractive('df-1306cab7-9141-4b74-8ac0-3ed42504d634')\"\n",
              "              title=\"Convert this dataframe to an interactive table.\"\n",
              "              style=\"display:none;\">\n",
              "        \n",
              "  <svg xmlns=\"http://www.w3.org/2000/svg\" height=\"24px\"viewBox=\"0 0 24 24\"\n",
              "       width=\"24px\">\n",
              "    <path d=\"M0 0h24v24H0V0z\" fill=\"none\"/>\n",
              "    <path d=\"M18.56 5.44l.94 2.06.94-2.06 2.06-.94-2.06-.94-.94-2.06-.94 2.06-2.06.94zm-11 1L8.5 8.5l.94-2.06 2.06-.94-2.06-.94L8.5 2.5l-.94 2.06-2.06.94zm10 10l.94 2.06.94-2.06 2.06-.94-2.06-.94-.94-2.06-.94 2.06-2.06.94z\"/><path d=\"M17.41 7.96l-1.37-1.37c-.4-.4-.92-.59-1.43-.59-.52 0-1.04.2-1.43.59L10.3 9.45l-7.72 7.72c-.78.78-.78 2.05 0 2.83L4 21.41c.39.39.9.59 1.41.59.51 0 1.02-.2 1.41-.59l7.78-7.78 2.81-2.81c.8-.78.8-2.07 0-2.86zM5.41 20L4 18.59l7.72-7.72 1.47 1.35L5.41 20z\"/>\n",
              "  </svg>\n",
              "      </button>\n",
              "      \n",
              "  <style>\n",
              "    .colab-df-container {\n",
              "      display:flex;\n",
              "      flex-wrap:wrap;\n",
              "      gap: 12px;\n",
              "    }\n",
              "\n",
              "    .colab-df-convert {\n",
              "      background-color: #E8F0FE;\n",
              "      border: none;\n",
              "      border-radius: 50%;\n",
              "      cursor: pointer;\n",
              "      display: none;\n",
              "      fill: #1967D2;\n",
              "      height: 32px;\n",
              "      padding: 0 0 0 0;\n",
              "      width: 32px;\n",
              "    }\n",
              "\n",
              "    .colab-df-convert:hover {\n",
              "      background-color: #E2EBFA;\n",
              "      box-shadow: 0px 1px 2px rgba(60, 64, 67, 0.3), 0px 1px 3px 1px rgba(60, 64, 67, 0.15);\n",
              "      fill: #174EA6;\n",
              "    }\n",
              "\n",
              "    [theme=dark] .colab-df-convert {\n",
              "      background-color: #3B4455;\n",
              "      fill: #D2E3FC;\n",
              "    }\n",
              "\n",
              "    [theme=dark] .colab-df-convert:hover {\n",
              "      background-color: #434B5C;\n",
              "      box-shadow: 0px 1px 3px 1px rgba(0, 0, 0, 0.15);\n",
              "      filter: drop-shadow(0px 1px 2px rgba(0, 0, 0, 0.3));\n",
              "      fill: #FFFFFF;\n",
              "    }\n",
              "  </style>\n",
              "\n",
              "      <script>\n",
              "        const buttonEl =\n",
              "          document.querySelector('#df-1306cab7-9141-4b74-8ac0-3ed42504d634 button.colab-df-convert');\n",
              "        buttonEl.style.display =\n",
              "          google.colab.kernel.accessAllowed ? 'block' : 'none';\n",
              "\n",
              "        async function convertToInteractive(key) {\n",
              "          const element = document.querySelector('#df-1306cab7-9141-4b74-8ac0-3ed42504d634');\n",
              "          const dataTable =\n",
              "            await google.colab.kernel.invokeFunction('convertToInteractive',\n",
              "                                                     [key], {});\n",
              "          if (!dataTable) return;\n",
              "\n",
              "          const docLinkHtml = 'Like what you see? Visit the ' +\n",
              "            '<a target=\"_blank\" href=https://colab.research.google.com/notebooks/data_table.ipynb>data table notebook</a>'\n",
              "            + ' to learn more about interactive tables.';\n",
              "          element.innerHTML = '';\n",
              "          dataTable['output_type'] = 'display_data';\n",
              "          await google.colab.output.renderOutput(dataTable, element);\n",
              "          const docLink = document.createElement('div');\n",
              "          docLink.innerHTML = docLinkHtml;\n",
              "          element.appendChild(docLink);\n",
              "        }\n",
              "      </script>\n",
              "    </div>\n",
              "  </div>\n",
              "  "
            ]
          },
          "metadata": {},
          "execution_count": 232
        }
      ]
    },
    {
      "cell_type": "code",
      "source": [
        "notas_provas=notas.drop(['MF', 'Situacao'], axis=1)\n",
        "notas_provas"
      ],
      "metadata": {
        "colab": {
          "base_uri": "https://localhost:8080/",
          "height": 269
        },
        "id": "cLtTdXtTOrOs",
        "outputId": "bae768f5-df0e-46e7-f2f8-2fd5f404c737"
      },
      "execution_count": 233,
      "outputs": [
        {
          "output_type": "execute_result",
          "data": {
            "text/plain": [
              "         P1   P2    P3\n",
              "Fabio   8.0  6.0   9.0\n",
              "David   3.0  8.0   8.0\n",
              "Gloria  3.0  9.0   5.0\n",
              "Carla   8.0  5.0   3.0\n",
              "Alice   2.0  5.0   8.0\n",
              "Bruno   7.0  2.0   6.0\n",
              "Emily   1.0  2.0  10.0"
            ],
            "text/html": [
              "\n",
              "  <div id=\"df-17cfa7fc-29cb-4772-a345-89897159f99f\">\n",
              "    <div class=\"colab-df-container\">\n",
              "      <div>\n",
              "<style scoped>\n",
              "    .dataframe tbody tr th:only-of-type {\n",
              "        vertical-align: middle;\n",
              "    }\n",
              "\n",
              "    .dataframe tbody tr th {\n",
              "        vertical-align: top;\n",
              "    }\n",
              "\n",
              "    .dataframe thead th {\n",
              "        text-align: right;\n",
              "    }\n",
              "</style>\n",
              "<table border=\"1\" class=\"dataframe\">\n",
              "  <thead>\n",
              "    <tr style=\"text-align: right;\">\n",
              "      <th></th>\n",
              "      <th>P1</th>\n",
              "      <th>P2</th>\n",
              "      <th>P3</th>\n",
              "    </tr>\n",
              "  </thead>\n",
              "  <tbody>\n",
              "    <tr>\n",
              "      <th>Fabio</th>\n",
              "      <td>8.0</td>\n",
              "      <td>6.0</td>\n",
              "      <td>9.0</td>\n",
              "    </tr>\n",
              "    <tr>\n",
              "      <th>David</th>\n",
              "      <td>3.0</td>\n",
              "      <td>8.0</td>\n",
              "      <td>8.0</td>\n",
              "    </tr>\n",
              "    <tr>\n",
              "      <th>Gloria</th>\n",
              "      <td>3.0</td>\n",
              "      <td>9.0</td>\n",
              "      <td>5.0</td>\n",
              "    </tr>\n",
              "    <tr>\n",
              "      <th>Carla</th>\n",
              "      <td>8.0</td>\n",
              "      <td>5.0</td>\n",
              "      <td>3.0</td>\n",
              "    </tr>\n",
              "    <tr>\n",
              "      <th>Alice</th>\n",
              "      <td>2.0</td>\n",
              "      <td>5.0</td>\n",
              "      <td>8.0</td>\n",
              "    </tr>\n",
              "    <tr>\n",
              "      <th>Bruno</th>\n",
              "      <td>7.0</td>\n",
              "      <td>2.0</td>\n",
              "      <td>6.0</td>\n",
              "    </tr>\n",
              "    <tr>\n",
              "      <th>Emily</th>\n",
              "      <td>1.0</td>\n",
              "      <td>2.0</td>\n",
              "      <td>10.0</td>\n",
              "    </tr>\n",
              "  </tbody>\n",
              "</table>\n",
              "</div>\n",
              "      <button class=\"colab-df-convert\" onclick=\"convertToInteractive('df-17cfa7fc-29cb-4772-a345-89897159f99f')\"\n",
              "              title=\"Convert this dataframe to an interactive table.\"\n",
              "              style=\"display:none;\">\n",
              "        \n",
              "  <svg xmlns=\"http://www.w3.org/2000/svg\" height=\"24px\"viewBox=\"0 0 24 24\"\n",
              "       width=\"24px\">\n",
              "    <path d=\"M0 0h24v24H0V0z\" fill=\"none\"/>\n",
              "    <path d=\"M18.56 5.44l.94 2.06.94-2.06 2.06-.94-2.06-.94-.94-2.06-.94 2.06-2.06.94zm-11 1L8.5 8.5l.94-2.06 2.06-.94-2.06-.94L8.5 2.5l-.94 2.06-2.06.94zm10 10l.94 2.06.94-2.06 2.06-.94-2.06-.94-.94-2.06-.94 2.06-2.06.94z\"/><path d=\"M17.41 7.96l-1.37-1.37c-.4-.4-.92-.59-1.43-.59-.52 0-1.04.2-1.43.59L10.3 9.45l-7.72 7.72c-.78.78-.78 2.05 0 2.83L4 21.41c.39.39.9.59 1.41.59.51 0 1.02-.2 1.41-.59l7.78-7.78 2.81-2.81c.8-.78.8-2.07 0-2.86zM5.41 20L4 18.59l7.72-7.72 1.47 1.35L5.41 20z\"/>\n",
              "  </svg>\n",
              "      </button>\n",
              "      \n",
              "  <style>\n",
              "    .colab-df-container {\n",
              "      display:flex;\n",
              "      flex-wrap:wrap;\n",
              "      gap: 12px;\n",
              "    }\n",
              "\n",
              "    .colab-df-convert {\n",
              "      background-color: #E8F0FE;\n",
              "      border: none;\n",
              "      border-radius: 50%;\n",
              "      cursor: pointer;\n",
              "      display: none;\n",
              "      fill: #1967D2;\n",
              "      height: 32px;\n",
              "      padding: 0 0 0 0;\n",
              "      width: 32px;\n",
              "    }\n",
              "\n",
              "    .colab-df-convert:hover {\n",
              "      background-color: #E2EBFA;\n",
              "      box-shadow: 0px 1px 2px rgba(60, 64, 67, 0.3), 0px 1px 3px 1px rgba(60, 64, 67, 0.15);\n",
              "      fill: #174EA6;\n",
              "    }\n",
              "\n",
              "    [theme=dark] .colab-df-convert {\n",
              "      background-color: #3B4455;\n",
              "      fill: #D2E3FC;\n",
              "    }\n",
              "\n",
              "    [theme=dark] .colab-df-convert:hover {\n",
              "      background-color: #434B5C;\n",
              "      box-shadow: 0px 1px 3px 1px rgba(0, 0, 0, 0.15);\n",
              "      filter: drop-shadow(0px 1px 2px rgba(0, 0, 0, 0.3));\n",
              "      fill: #FFFFFF;\n",
              "    }\n",
              "  </style>\n",
              "\n",
              "      <script>\n",
              "        const buttonEl =\n",
              "          document.querySelector('#df-17cfa7fc-29cb-4772-a345-89897159f99f button.colab-df-convert');\n",
              "        buttonEl.style.display =\n",
              "          google.colab.kernel.accessAllowed ? 'block' : 'none';\n",
              "\n",
              "        async function convertToInteractive(key) {\n",
              "          const element = document.querySelector('#df-17cfa7fc-29cb-4772-a345-89897159f99f');\n",
              "          const dataTable =\n",
              "            await google.colab.kernel.invokeFunction('convertToInteractive',\n",
              "                                                     [key], {});\n",
              "          if (!dataTable) return;\n",
              "\n",
              "          const docLinkHtml = 'Like what you see? Visit the ' +\n",
              "            '<a target=\"_blank\" href=https://colab.research.google.com/notebooks/data_table.ipynb>data table notebook</a>'\n",
              "            + ' to learn more about interactive tables.';\n",
              "          element.innerHTML = '';\n",
              "          dataTable['output_type'] = 'display_data';\n",
              "          await google.colab.output.renderOutput(dataTable, element);\n",
              "          const docLink = document.createElement('div');\n",
              "          docLink.innerHTML = docLinkHtml;\n",
              "          element.appendChild(docLink);\n",
              "        }\n",
              "      </script>\n",
              "    </div>\n",
              "  </div>\n",
              "  "
            ]
          },
          "metadata": {},
          "execution_count": 233
        }
      ]
    },
    {
      "cell_type": "code",
      "source": [
        "# pip install names"
      ],
      "metadata": {
        "colab": {
          "base_uri": "https://localhost:8080/"
        },
        "id": "VDLFQpkNO5AP",
        "outputId": "b2daeddd-a76d-4ded-a3ec-8562a57dc0c1"
      },
      "execution_count": 234,
      "outputs": [
        {
          "output_type": "stream",
          "name": "stdout",
          "text": [
            "Looking in indexes: https://pypi.org/simple, https://us-python.pkg.dev/colab-wheels/public/simple/\n",
            "Requirement already satisfied: names in /usr/local/lib/python3.7/dist-packages (0.3.0)\n"
          ]
        }
      ]
    },
    {
      "cell_type": "code",
      "source": [
        "# import names\n",
        "\n",
        "# names = names.get_full_name()\n",
        "# print(names)"
      ],
      "metadata": {
        "colab": {
          "base_uri": "https://localhost:8080/"
        },
        "id": "eJ3yIruxO4Vw",
        "outputId": "f7ba8e2f-69ac-448d-b125-6ccbc80dfffc"
      },
      "execution_count": 235,
      "outputs": [
        {
          "output_type": "stream",
          "name": "stdout",
          "text": [
            "John Hodges\n"
          ]
        }
      ]
    },
    {
      "cell_type": "code",
      "source": [
        "# names.get_first_name()"
      ],
      "metadata": {
        "colab": {
          "base_uri": "https://localhost:8080/",
          "height": 171
        },
        "id": "5_ybAjagRfzJ",
        "outputId": "59455b25-9bcf-4585-c720-37e3229f5354"
      },
      "execution_count": 236,
      "outputs": [
        {
          "output_type": "error",
          "ename": "AttributeError",
          "evalue": "ignored",
          "traceback": [
            "\u001b[0;31m---------------------------------------------------------------------------\u001b[0m",
            "\u001b[0;31mAttributeError\u001b[0m                            Traceback (most recent call last)",
            "\u001b[0;32m<ipython-input-236-aef6c7572b61>\u001b[0m in \u001b[0;36m<module>\u001b[0;34m()\u001b[0m\n\u001b[0;32m----> 1\u001b[0;31m \u001b[0mnames\u001b[0m\u001b[0;34m.\u001b[0m\u001b[0mget_first_name\u001b[0m\u001b[0;34m(\u001b[0m\u001b[0;34m)\u001b[0m\u001b[0;34m\u001b[0m\u001b[0;34m\u001b[0m\u001b[0m\n\u001b[0m",
            "\u001b[0;31mAttributeError\u001b[0m: 'str' object has no attribute 'get_first_name'"
          ]
        }
      ]
    },
    {
      "cell_type": "code",
      "source": [
        "# names.get_first_name(gender = 'Female')"
      ],
      "metadata": {
        "id": "KFH3Rs6oRuN-"
      },
      "execution_count": null,
      "outputs": []
    },
    {
      "cell_type": "code",
      "source": [
        "# names.get_first_name(gender = 'male')"
      ],
      "metadata": {
        "id": "UjQqoh56R1Su"
      },
      "execution_count": null,
      "outputs": []
    },
    {
      "cell_type": "markdown",
      "source": [
        "# Exercicio Proposto\n",
        "\n",
        "Crie um conjunto com 1000 nomes (names), 3 variaveis aleatorias\n",
        "- nomes\n",
        "- renda anual: 50000+10000*u , u dist normal padrao\n",
        "- conclusao: u, u dist uniforme (0,1)\n",
        "\n",
        "acrescente: renda por mes\n",
        "faixa de conclusao\n",
        "tamanho do nome\n",
        "\n",
        "ordene por tamanho do nome"
      ],
      "metadata": {
        "id": "mjqdljPdNbY-"
      }
    },
    {
      "cell_type": "code",
      "source": [
        "# nomes\n",
        "\n",
        "!pip install names\n",
        "import names"
      ],
      "metadata": {
        "colab": {
          "base_uri": "https://localhost:8080/"
        },
        "id": "48J7FHTgOdl-",
        "outputId": "7b1fcc56-4ace-4958-928b-4ebe1a08243c"
      },
      "execution_count": 237,
      "outputs": [
        {
          "output_type": "stream",
          "name": "stdout",
          "text": [
            "Looking in indexes: https://pypi.org/simple, https://us-python.pkg.dev/colab-wheels/public/simple/\n",
            "Requirement already satisfied: names in /usr/local/lib/python3.7/dist-packages (0.3.0)\n"
          ]
        }
      ]
    },
    {
      "cell_type": "code",
      "source": [
        "# 1000 nomes\n",
        "\n",
        "names = [names.get_full_name() for i in range(1000)]"
      ],
      "metadata": {
        "id": "9z8Ev3RMOdbl"
      },
      "execution_count": 238,
      "outputs": []
    },
    {
      "cell_type": "code",
      "source": [
        "# renda anual\n",
        "\n",
        "import scipy.stats as ss\n",
        "\n",
        "u = ss.norm.rvs(size=1000)\n",
        "\n",
        "renda=50000+(10000*u)"
      ],
      "metadata": {
        "id": "RjwZQ1uEOMm2"
      },
      "execution_count": 239,
      "outputs": []
    },
    {
      "cell_type": "code",
      "source": [
        "# conclusao\n",
        "\n",
        "v = ss.uniform.rvs(size=1000)"
      ],
      "metadata": {
        "id": "k9zFVjowOaBV"
      },
      "execution_count": 240,
      "outputs": []
    },
    {
      "cell_type": "code",
      "source": [
        "import pandas as pd\n",
        "import numpy as np"
      ],
      "metadata": {
        "id": "MbY24_CNS6-d"
      },
      "execution_count": 241,
      "outputs": []
    },
    {
      "cell_type": "code",
      "source": [
        "data=np.concatenate((renda,v)).reshape(1000,2)"
      ],
      "metadata": {
        "id": "4YgINjprV6MX"
      },
      "execution_count": 242,
      "outputs": []
    },
    {
      "cell_type": "code",
      "source": [
        "titulo=['Renda Anual'] \n",
        "\n",
        "tabela=pd.DataFrame(renda, index = names, columns = titulo).round()\n",
        "tabela"
      ],
      "metadata": {
        "colab": {
          "base_uri": "https://localhost:8080/",
          "height": 424
        },
        "id": "n4UKWYRJTBFc",
        "outputId": "f1453750-22ba-46d9-d726-f16ef7dd050f"
      },
      "execution_count": 243,
      "outputs": [
        {
          "output_type": "execute_result",
          "data": {
            "text/plain": [
              "                   Renda Anual\n",
              "Craig Crane            39512.0\n",
              "Stanley Porcher        49772.0\n",
              "Berta Kaplan           55325.0\n",
              "Deloris Deberry        61863.0\n",
              "Sara Mcconnell         49937.0\n",
              "...                        ...\n",
              "Jessie Marquis         55066.0\n",
              "John Burgener          46624.0\n",
              "Lydia Mccarty          66958.0\n",
              "Patricia November      34052.0\n",
              "Julio Townsend         43609.0\n",
              "\n",
              "[1000 rows x 1 columns]"
            ],
            "text/html": [
              "\n",
              "  <div id=\"df-b172613c-daa0-4664-9641-dc0fbb7214f3\">\n",
              "    <div class=\"colab-df-container\">\n",
              "      <div>\n",
              "<style scoped>\n",
              "    .dataframe tbody tr th:only-of-type {\n",
              "        vertical-align: middle;\n",
              "    }\n",
              "\n",
              "    .dataframe tbody tr th {\n",
              "        vertical-align: top;\n",
              "    }\n",
              "\n",
              "    .dataframe thead th {\n",
              "        text-align: right;\n",
              "    }\n",
              "</style>\n",
              "<table border=\"1\" class=\"dataframe\">\n",
              "  <thead>\n",
              "    <tr style=\"text-align: right;\">\n",
              "      <th></th>\n",
              "      <th>Renda Anual</th>\n",
              "    </tr>\n",
              "  </thead>\n",
              "  <tbody>\n",
              "    <tr>\n",
              "      <th>Craig Crane</th>\n",
              "      <td>39512.0</td>\n",
              "    </tr>\n",
              "    <tr>\n",
              "      <th>Stanley Porcher</th>\n",
              "      <td>49772.0</td>\n",
              "    </tr>\n",
              "    <tr>\n",
              "      <th>Berta Kaplan</th>\n",
              "      <td>55325.0</td>\n",
              "    </tr>\n",
              "    <tr>\n",
              "      <th>Deloris Deberry</th>\n",
              "      <td>61863.0</td>\n",
              "    </tr>\n",
              "    <tr>\n",
              "      <th>Sara Mcconnell</th>\n",
              "      <td>49937.0</td>\n",
              "    </tr>\n",
              "    <tr>\n",
              "      <th>...</th>\n",
              "      <td>...</td>\n",
              "    </tr>\n",
              "    <tr>\n",
              "      <th>Jessie Marquis</th>\n",
              "      <td>55066.0</td>\n",
              "    </tr>\n",
              "    <tr>\n",
              "      <th>John Burgener</th>\n",
              "      <td>46624.0</td>\n",
              "    </tr>\n",
              "    <tr>\n",
              "      <th>Lydia Mccarty</th>\n",
              "      <td>66958.0</td>\n",
              "    </tr>\n",
              "    <tr>\n",
              "      <th>Patricia November</th>\n",
              "      <td>34052.0</td>\n",
              "    </tr>\n",
              "    <tr>\n",
              "      <th>Julio Townsend</th>\n",
              "      <td>43609.0</td>\n",
              "    </tr>\n",
              "  </tbody>\n",
              "</table>\n",
              "<p>1000 rows × 1 columns</p>\n",
              "</div>\n",
              "      <button class=\"colab-df-convert\" onclick=\"convertToInteractive('df-b172613c-daa0-4664-9641-dc0fbb7214f3')\"\n",
              "              title=\"Convert this dataframe to an interactive table.\"\n",
              "              style=\"display:none;\">\n",
              "        \n",
              "  <svg xmlns=\"http://www.w3.org/2000/svg\" height=\"24px\"viewBox=\"0 0 24 24\"\n",
              "       width=\"24px\">\n",
              "    <path d=\"M0 0h24v24H0V0z\" fill=\"none\"/>\n",
              "    <path d=\"M18.56 5.44l.94 2.06.94-2.06 2.06-.94-2.06-.94-.94-2.06-.94 2.06-2.06.94zm-11 1L8.5 8.5l.94-2.06 2.06-.94-2.06-.94L8.5 2.5l-.94 2.06-2.06.94zm10 10l.94 2.06.94-2.06 2.06-.94-2.06-.94-.94-2.06-.94 2.06-2.06.94z\"/><path d=\"M17.41 7.96l-1.37-1.37c-.4-.4-.92-.59-1.43-.59-.52 0-1.04.2-1.43.59L10.3 9.45l-7.72 7.72c-.78.78-.78 2.05 0 2.83L4 21.41c.39.39.9.59 1.41.59.51 0 1.02-.2 1.41-.59l7.78-7.78 2.81-2.81c.8-.78.8-2.07 0-2.86zM5.41 20L4 18.59l7.72-7.72 1.47 1.35L5.41 20z\"/>\n",
              "  </svg>\n",
              "      </button>\n",
              "      \n",
              "  <style>\n",
              "    .colab-df-container {\n",
              "      display:flex;\n",
              "      flex-wrap:wrap;\n",
              "      gap: 12px;\n",
              "    }\n",
              "\n",
              "    .colab-df-convert {\n",
              "      background-color: #E8F0FE;\n",
              "      border: none;\n",
              "      border-radius: 50%;\n",
              "      cursor: pointer;\n",
              "      display: none;\n",
              "      fill: #1967D2;\n",
              "      height: 32px;\n",
              "      padding: 0 0 0 0;\n",
              "      width: 32px;\n",
              "    }\n",
              "\n",
              "    .colab-df-convert:hover {\n",
              "      background-color: #E2EBFA;\n",
              "      box-shadow: 0px 1px 2px rgba(60, 64, 67, 0.3), 0px 1px 3px 1px rgba(60, 64, 67, 0.15);\n",
              "      fill: #174EA6;\n",
              "    }\n",
              "\n",
              "    [theme=dark] .colab-df-convert {\n",
              "      background-color: #3B4455;\n",
              "      fill: #D2E3FC;\n",
              "    }\n",
              "\n",
              "    [theme=dark] .colab-df-convert:hover {\n",
              "      background-color: #434B5C;\n",
              "      box-shadow: 0px 1px 3px 1px rgba(0, 0, 0, 0.15);\n",
              "      filter: drop-shadow(0px 1px 2px rgba(0, 0, 0, 0.3));\n",
              "      fill: #FFFFFF;\n",
              "    }\n",
              "  </style>\n",
              "\n",
              "      <script>\n",
              "        const buttonEl =\n",
              "          document.querySelector('#df-b172613c-daa0-4664-9641-dc0fbb7214f3 button.colab-df-convert');\n",
              "        buttonEl.style.display =\n",
              "          google.colab.kernel.accessAllowed ? 'block' : 'none';\n",
              "\n",
              "        async function convertToInteractive(key) {\n",
              "          const element = document.querySelector('#df-b172613c-daa0-4664-9641-dc0fbb7214f3');\n",
              "          const dataTable =\n",
              "            await google.colab.kernel.invokeFunction('convertToInteractive',\n",
              "                                                     [key], {});\n",
              "          if (!dataTable) return;\n",
              "\n",
              "          const docLinkHtml = 'Like what you see? Visit the ' +\n",
              "            '<a target=\"_blank\" href=https://colab.research.google.com/notebooks/data_table.ipynb>data table notebook</a>'\n",
              "            + ' to learn more about interactive tables.';\n",
              "          element.innerHTML = '';\n",
              "          dataTable['output_type'] = 'display_data';\n",
              "          await google.colab.output.renderOutput(dataTable, element);\n",
              "          const docLink = document.createElement('div');\n",
              "          docLink.innerHTML = docLinkHtml;\n",
              "          element.appendChild(docLink);\n",
              "        }\n",
              "      </script>\n",
              "    </div>\n",
              "  </div>\n",
              "  "
            ]
          },
          "metadata": {},
          "execution_count": 243
        }
      ]
    },
    {
      "cell_type": "code",
      "source": [
        "tabela['Conclusao']=v"
      ],
      "metadata": {
        "id": "UzglvD-9X9d5"
      },
      "execution_count": 244,
      "outputs": []
    },
    {
      "cell_type": "code",
      "source": [
        "tabela"
      ],
      "metadata": {
        "colab": {
          "base_uri": "https://localhost:8080/",
          "height": 424
        },
        "id": "7cuoDJ5QYSaB",
        "outputId": "6a235db4-3a23-4bb7-c154-8c6fca84d194"
      },
      "execution_count": 245,
      "outputs": [
        {
          "output_type": "execute_result",
          "data": {
            "text/plain": [
              "                   Renda Anual  Conclusao\n",
              "Craig Crane            39512.0   0.306321\n",
              "Stanley Porcher        49772.0   0.459319\n",
              "Berta Kaplan           55325.0   0.982710\n",
              "Deloris Deberry        61863.0   0.933624\n",
              "Sara Mcconnell         49937.0   0.926170\n",
              "...                        ...        ...\n",
              "Jessie Marquis         55066.0   0.472763\n",
              "John Burgener          46624.0   0.854622\n",
              "Lydia Mccarty          66958.0   0.192258\n",
              "Patricia November      34052.0   0.773656\n",
              "Julio Townsend         43609.0   0.765756\n",
              "\n",
              "[1000 rows x 2 columns]"
            ],
            "text/html": [
              "\n",
              "  <div id=\"df-5083765f-4dd6-4757-928c-62d0b795cb17\">\n",
              "    <div class=\"colab-df-container\">\n",
              "      <div>\n",
              "<style scoped>\n",
              "    .dataframe tbody tr th:only-of-type {\n",
              "        vertical-align: middle;\n",
              "    }\n",
              "\n",
              "    .dataframe tbody tr th {\n",
              "        vertical-align: top;\n",
              "    }\n",
              "\n",
              "    .dataframe thead th {\n",
              "        text-align: right;\n",
              "    }\n",
              "</style>\n",
              "<table border=\"1\" class=\"dataframe\">\n",
              "  <thead>\n",
              "    <tr style=\"text-align: right;\">\n",
              "      <th></th>\n",
              "      <th>Renda Anual</th>\n",
              "      <th>Conclusao</th>\n",
              "    </tr>\n",
              "  </thead>\n",
              "  <tbody>\n",
              "    <tr>\n",
              "      <th>Craig Crane</th>\n",
              "      <td>39512.0</td>\n",
              "      <td>0.306321</td>\n",
              "    </tr>\n",
              "    <tr>\n",
              "      <th>Stanley Porcher</th>\n",
              "      <td>49772.0</td>\n",
              "      <td>0.459319</td>\n",
              "    </tr>\n",
              "    <tr>\n",
              "      <th>Berta Kaplan</th>\n",
              "      <td>55325.0</td>\n",
              "      <td>0.982710</td>\n",
              "    </tr>\n",
              "    <tr>\n",
              "      <th>Deloris Deberry</th>\n",
              "      <td>61863.0</td>\n",
              "      <td>0.933624</td>\n",
              "    </tr>\n",
              "    <tr>\n",
              "      <th>Sara Mcconnell</th>\n",
              "      <td>49937.0</td>\n",
              "      <td>0.926170</td>\n",
              "    </tr>\n",
              "    <tr>\n",
              "      <th>...</th>\n",
              "      <td>...</td>\n",
              "      <td>...</td>\n",
              "    </tr>\n",
              "    <tr>\n",
              "      <th>Jessie Marquis</th>\n",
              "      <td>55066.0</td>\n",
              "      <td>0.472763</td>\n",
              "    </tr>\n",
              "    <tr>\n",
              "      <th>John Burgener</th>\n",
              "      <td>46624.0</td>\n",
              "      <td>0.854622</td>\n",
              "    </tr>\n",
              "    <tr>\n",
              "      <th>Lydia Mccarty</th>\n",
              "      <td>66958.0</td>\n",
              "      <td>0.192258</td>\n",
              "    </tr>\n",
              "    <tr>\n",
              "      <th>Patricia November</th>\n",
              "      <td>34052.0</td>\n",
              "      <td>0.773656</td>\n",
              "    </tr>\n",
              "    <tr>\n",
              "      <th>Julio Townsend</th>\n",
              "      <td>43609.0</td>\n",
              "      <td>0.765756</td>\n",
              "    </tr>\n",
              "  </tbody>\n",
              "</table>\n",
              "<p>1000 rows × 2 columns</p>\n",
              "</div>\n",
              "      <button class=\"colab-df-convert\" onclick=\"convertToInteractive('df-5083765f-4dd6-4757-928c-62d0b795cb17')\"\n",
              "              title=\"Convert this dataframe to an interactive table.\"\n",
              "              style=\"display:none;\">\n",
              "        \n",
              "  <svg xmlns=\"http://www.w3.org/2000/svg\" height=\"24px\"viewBox=\"0 0 24 24\"\n",
              "       width=\"24px\">\n",
              "    <path d=\"M0 0h24v24H0V0z\" fill=\"none\"/>\n",
              "    <path d=\"M18.56 5.44l.94 2.06.94-2.06 2.06-.94-2.06-.94-.94-2.06-.94 2.06-2.06.94zm-11 1L8.5 8.5l.94-2.06 2.06-.94-2.06-.94L8.5 2.5l-.94 2.06-2.06.94zm10 10l.94 2.06.94-2.06 2.06-.94-2.06-.94-.94-2.06-.94 2.06-2.06.94z\"/><path d=\"M17.41 7.96l-1.37-1.37c-.4-.4-.92-.59-1.43-.59-.52 0-1.04.2-1.43.59L10.3 9.45l-7.72 7.72c-.78.78-.78 2.05 0 2.83L4 21.41c.39.39.9.59 1.41.59.51 0 1.02-.2 1.41-.59l7.78-7.78 2.81-2.81c.8-.78.8-2.07 0-2.86zM5.41 20L4 18.59l7.72-7.72 1.47 1.35L5.41 20z\"/>\n",
              "  </svg>\n",
              "      </button>\n",
              "      \n",
              "  <style>\n",
              "    .colab-df-container {\n",
              "      display:flex;\n",
              "      flex-wrap:wrap;\n",
              "      gap: 12px;\n",
              "    }\n",
              "\n",
              "    .colab-df-convert {\n",
              "      background-color: #E8F0FE;\n",
              "      border: none;\n",
              "      border-radius: 50%;\n",
              "      cursor: pointer;\n",
              "      display: none;\n",
              "      fill: #1967D2;\n",
              "      height: 32px;\n",
              "      padding: 0 0 0 0;\n",
              "      width: 32px;\n",
              "    }\n",
              "\n",
              "    .colab-df-convert:hover {\n",
              "      background-color: #E2EBFA;\n",
              "      box-shadow: 0px 1px 2px rgba(60, 64, 67, 0.3), 0px 1px 3px 1px rgba(60, 64, 67, 0.15);\n",
              "      fill: #174EA6;\n",
              "    }\n",
              "\n",
              "    [theme=dark] .colab-df-convert {\n",
              "      background-color: #3B4455;\n",
              "      fill: #D2E3FC;\n",
              "    }\n",
              "\n",
              "    [theme=dark] .colab-df-convert:hover {\n",
              "      background-color: #434B5C;\n",
              "      box-shadow: 0px 1px 3px 1px rgba(0, 0, 0, 0.15);\n",
              "      filter: drop-shadow(0px 1px 2px rgba(0, 0, 0, 0.3));\n",
              "      fill: #FFFFFF;\n",
              "    }\n",
              "  </style>\n",
              "\n",
              "      <script>\n",
              "        const buttonEl =\n",
              "          document.querySelector('#df-5083765f-4dd6-4757-928c-62d0b795cb17 button.colab-df-convert');\n",
              "        buttonEl.style.display =\n",
              "          google.colab.kernel.accessAllowed ? 'block' : 'none';\n",
              "\n",
              "        async function convertToInteractive(key) {\n",
              "          const element = document.querySelector('#df-5083765f-4dd6-4757-928c-62d0b795cb17');\n",
              "          const dataTable =\n",
              "            await google.colab.kernel.invokeFunction('convertToInteractive',\n",
              "                                                     [key], {});\n",
              "          if (!dataTable) return;\n",
              "\n",
              "          const docLinkHtml = 'Like what you see? Visit the ' +\n",
              "            '<a target=\"_blank\" href=https://colab.research.google.com/notebooks/data_table.ipynb>data table notebook</a>'\n",
              "            + ' to learn more about interactive tables.';\n",
              "          element.innerHTML = '';\n",
              "          dataTable['output_type'] = 'display_data';\n",
              "          await google.colab.output.renderOutput(dataTable, element);\n",
              "          const docLink = document.createElement('div');\n",
              "          docLink.innerHTML = docLinkHtml;\n",
              "          element.appendChild(docLink);\n",
              "        }\n",
              "      </script>\n",
              "    </div>\n",
              "  </div>\n",
              "  "
            ]
          },
          "metadata": {},
          "execution_count": 245
        }
      ]
    },
    {
      "cell_type": "code",
      "source": [
        "mensal=renda/12\n",
        "tabela['Renda por mes']=np.ceil(10*mensal/10)\n",
        "tabela"
      ],
      "metadata": {
        "colab": {
          "base_uri": "https://localhost:8080/",
          "height": 424
        },
        "id": "h8p7cJcwYnvy",
        "outputId": "1961086c-7d6f-4681-fc84-3669f58996bd"
      },
      "execution_count": 246,
      "outputs": [
        {
          "output_type": "execute_result",
          "data": {
            "text/plain": [
              "                   Renda Anual  Conclusao  Renda por mes\n",
              "Craig Crane            39512.0   0.306321         3293.0\n",
              "Stanley Porcher        49772.0   0.459319         4148.0\n",
              "Berta Kaplan           55325.0   0.982710         4611.0\n",
              "Deloris Deberry        61863.0   0.933624         5156.0\n",
              "Sara Mcconnell         49937.0   0.926170         4162.0\n",
              "...                        ...        ...            ...\n",
              "Jessie Marquis         55066.0   0.472763         4589.0\n",
              "John Burgener          46624.0   0.854622         3886.0\n",
              "Lydia Mccarty          66958.0   0.192258         5580.0\n",
              "Patricia November      34052.0   0.773656         2838.0\n",
              "Julio Townsend         43609.0   0.765756         3635.0\n",
              "\n",
              "[1000 rows x 3 columns]"
            ],
            "text/html": [
              "\n",
              "  <div id=\"df-ac81206d-1480-4951-95ce-8288b6ee5afe\">\n",
              "    <div class=\"colab-df-container\">\n",
              "      <div>\n",
              "<style scoped>\n",
              "    .dataframe tbody tr th:only-of-type {\n",
              "        vertical-align: middle;\n",
              "    }\n",
              "\n",
              "    .dataframe tbody tr th {\n",
              "        vertical-align: top;\n",
              "    }\n",
              "\n",
              "    .dataframe thead th {\n",
              "        text-align: right;\n",
              "    }\n",
              "</style>\n",
              "<table border=\"1\" class=\"dataframe\">\n",
              "  <thead>\n",
              "    <tr style=\"text-align: right;\">\n",
              "      <th></th>\n",
              "      <th>Renda Anual</th>\n",
              "      <th>Conclusao</th>\n",
              "      <th>Renda por mes</th>\n",
              "    </tr>\n",
              "  </thead>\n",
              "  <tbody>\n",
              "    <tr>\n",
              "      <th>Craig Crane</th>\n",
              "      <td>39512.0</td>\n",
              "      <td>0.306321</td>\n",
              "      <td>3293.0</td>\n",
              "    </tr>\n",
              "    <tr>\n",
              "      <th>Stanley Porcher</th>\n",
              "      <td>49772.0</td>\n",
              "      <td>0.459319</td>\n",
              "      <td>4148.0</td>\n",
              "    </tr>\n",
              "    <tr>\n",
              "      <th>Berta Kaplan</th>\n",
              "      <td>55325.0</td>\n",
              "      <td>0.982710</td>\n",
              "      <td>4611.0</td>\n",
              "    </tr>\n",
              "    <tr>\n",
              "      <th>Deloris Deberry</th>\n",
              "      <td>61863.0</td>\n",
              "      <td>0.933624</td>\n",
              "      <td>5156.0</td>\n",
              "    </tr>\n",
              "    <tr>\n",
              "      <th>Sara Mcconnell</th>\n",
              "      <td>49937.0</td>\n",
              "      <td>0.926170</td>\n",
              "      <td>4162.0</td>\n",
              "    </tr>\n",
              "    <tr>\n",
              "      <th>...</th>\n",
              "      <td>...</td>\n",
              "      <td>...</td>\n",
              "      <td>...</td>\n",
              "    </tr>\n",
              "    <tr>\n",
              "      <th>Jessie Marquis</th>\n",
              "      <td>55066.0</td>\n",
              "      <td>0.472763</td>\n",
              "      <td>4589.0</td>\n",
              "    </tr>\n",
              "    <tr>\n",
              "      <th>John Burgener</th>\n",
              "      <td>46624.0</td>\n",
              "      <td>0.854622</td>\n",
              "      <td>3886.0</td>\n",
              "    </tr>\n",
              "    <tr>\n",
              "      <th>Lydia Mccarty</th>\n",
              "      <td>66958.0</td>\n",
              "      <td>0.192258</td>\n",
              "      <td>5580.0</td>\n",
              "    </tr>\n",
              "    <tr>\n",
              "      <th>Patricia November</th>\n",
              "      <td>34052.0</td>\n",
              "      <td>0.773656</td>\n",
              "      <td>2838.0</td>\n",
              "    </tr>\n",
              "    <tr>\n",
              "      <th>Julio Townsend</th>\n",
              "      <td>43609.0</td>\n",
              "      <td>0.765756</td>\n",
              "      <td>3635.0</td>\n",
              "    </tr>\n",
              "  </tbody>\n",
              "</table>\n",
              "<p>1000 rows × 3 columns</p>\n",
              "</div>\n",
              "      <button class=\"colab-df-convert\" onclick=\"convertToInteractive('df-ac81206d-1480-4951-95ce-8288b6ee5afe')\"\n",
              "              title=\"Convert this dataframe to an interactive table.\"\n",
              "              style=\"display:none;\">\n",
              "        \n",
              "  <svg xmlns=\"http://www.w3.org/2000/svg\" height=\"24px\"viewBox=\"0 0 24 24\"\n",
              "       width=\"24px\">\n",
              "    <path d=\"M0 0h24v24H0V0z\" fill=\"none\"/>\n",
              "    <path d=\"M18.56 5.44l.94 2.06.94-2.06 2.06-.94-2.06-.94-.94-2.06-.94 2.06-2.06.94zm-11 1L8.5 8.5l.94-2.06 2.06-.94-2.06-.94L8.5 2.5l-.94 2.06-2.06.94zm10 10l.94 2.06.94-2.06 2.06-.94-2.06-.94-.94-2.06-.94 2.06-2.06.94z\"/><path d=\"M17.41 7.96l-1.37-1.37c-.4-.4-.92-.59-1.43-.59-.52 0-1.04.2-1.43.59L10.3 9.45l-7.72 7.72c-.78.78-.78 2.05 0 2.83L4 21.41c.39.39.9.59 1.41.59.51 0 1.02-.2 1.41-.59l7.78-7.78 2.81-2.81c.8-.78.8-2.07 0-2.86zM5.41 20L4 18.59l7.72-7.72 1.47 1.35L5.41 20z\"/>\n",
              "  </svg>\n",
              "      </button>\n",
              "      \n",
              "  <style>\n",
              "    .colab-df-container {\n",
              "      display:flex;\n",
              "      flex-wrap:wrap;\n",
              "      gap: 12px;\n",
              "    }\n",
              "\n",
              "    .colab-df-convert {\n",
              "      background-color: #E8F0FE;\n",
              "      border: none;\n",
              "      border-radius: 50%;\n",
              "      cursor: pointer;\n",
              "      display: none;\n",
              "      fill: #1967D2;\n",
              "      height: 32px;\n",
              "      padding: 0 0 0 0;\n",
              "      width: 32px;\n",
              "    }\n",
              "\n",
              "    .colab-df-convert:hover {\n",
              "      background-color: #E2EBFA;\n",
              "      box-shadow: 0px 1px 2px rgba(60, 64, 67, 0.3), 0px 1px 3px 1px rgba(60, 64, 67, 0.15);\n",
              "      fill: #174EA6;\n",
              "    }\n",
              "\n",
              "    [theme=dark] .colab-df-convert {\n",
              "      background-color: #3B4455;\n",
              "      fill: #D2E3FC;\n",
              "    }\n",
              "\n",
              "    [theme=dark] .colab-df-convert:hover {\n",
              "      background-color: #434B5C;\n",
              "      box-shadow: 0px 1px 3px 1px rgba(0, 0, 0, 0.15);\n",
              "      filter: drop-shadow(0px 1px 2px rgba(0, 0, 0, 0.3));\n",
              "      fill: #FFFFFF;\n",
              "    }\n",
              "  </style>\n",
              "\n",
              "      <script>\n",
              "        const buttonEl =\n",
              "          document.querySelector('#df-ac81206d-1480-4951-95ce-8288b6ee5afe button.colab-df-convert');\n",
              "        buttonEl.style.display =\n",
              "          google.colab.kernel.accessAllowed ? 'block' : 'none';\n",
              "\n",
              "        async function convertToInteractive(key) {\n",
              "          const element = document.querySelector('#df-ac81206d-1480-4951-95ce-8288b6ee5afe');\n",
              "          const dataTable =\n",
              "            await google.colab.kernel.invokeFunction('convertToInteractive',\n",
              "                                                     [key], {});\n",
              "          if (!dataTable) return;\n",
              "\n",
              "          const docLinkHtml = 'Like what you see? Visit the ' +\n",
              "            '<a target=\"_blank\" href=https://colab.research.google.com/notebooks/data_table.ipynb>data table notebook</a>'\n",
              "            + ' to learn more about interactive tables.';\n",
              "          element.innerHTML = '';\n",
              "          dataTable['output_type'] = 'display_data';\n",
              "          await google.colab.output.renderOutput(dataTable, element);\n",
              "          const docLink = document.createElement('div');\n",
              "          docLink.innerHTML = docLinkHtml;\n",
              "          element.appendChild(docLink);\n",
              "        }\n",
              "      </script>\n",
              "    </div>\n",
              "  </div>\n",
              "  "
            ]
          },
          "metadata": {},
          "execution_count": 246
        }
      ]
    },
    {
      "cell_type": "code",
      "source": [
        "def conclusao(v):\n",
        "  saida=[]\n",
        "  for n in v:\n",
        "    if n>=0 and n<0.25:\n",
        "      saida.append('baixa')\n",
        "    elif n>=0.25 and n<0.5:\n",
        "      saida.append('media')\n",
        "    elif n>=0.5 and n<0.75:\n",
        "      saida.append('alta')\n",
        "    elif n>=0.75 and n<=1:\n",
        "      saida.append('excelente')\n",
        "  return saida"
      ],
      "metadata": {
        "id": "pesibTegZRJS"
      },
      "execution_count": 247,
      "outputs": []
    },
    {
      "cell_type": "code",
      "source": [
        "tabela['Faixa de Conclusao']=conclusao(v)\n",
        "tabela"
      ],
      "metadata": {
        "colab": {
          "base_uri": "https://localhost:8080/",
          "height": 424
        },
        "id": "9NKExW2ldKhj",
        "outputId": "2c07613c-5659-4885-87d8-005d9892d7a2"
      },
      "execution_count": 248,
      "outputs": [
        {
          "output_type": "execute_result",
          "data": {
            "text/plain": [
              "                   Renda Anual  Conclusao  Renda por mes Faixa de Conclusao\n",
              "Craig Crane            39512.0   0.306321         3293.0              media\n",
              "Stanley Porcher        49772.0   0.459319         4148.0              media\n",
              "Berta Kaplan           55325.0   0.982710         4611.0          excelente\n",
              "Deloris Deberry        61863.0   0.933624         5156.0          excelente\n",
              "Sara Mcconnell         49937.0   0.926170         4162.0          excelente\n",
              "...                        ...        ...            ...                ...\n",
              "Jessie Marquis         55066.0   0.472763         4589.0              media\n",
              "John Burgener          46624.0   0.854622         3886.0          excelente\n",
              "Lydia Mccarty          66958.0   0.192258         5580.0              baixa\n",
              "Patricia November      34052.0   0.773656         2838.0          excelente\n",
              "Julio Townsend         43609.0   0.765756         3635.0          excelente\n",
              "\n",
              "[1000 rows x 4 columns]"
            ],
            "text/html": [
              "\n",
              "  <div id=\"df-4a8b719c-31e3-4d09-b721-5259519cdc32\">\n",
              "    <div class=\"colab-df-container\">\n",
              "      <div>\n",
              "<style scoped>\n",
              "    .dataframe tbody tr th:only-of-type {\n",
              "        vertical-align: middle;\n",
              "    }\n",
              "\n",
              "    .dataframe tbody tr th {\n",
              "        vertical-align: top;\n",
              "    }\n",
              "\n",
              "    .dataframe thead th {\n",
              "        text-align: right;\n",
              "    }\n",
              "</style>\n",
              "<table border=\"1\" class=\"dataframe\">\n",
              "  <thead>\n",
              "    <tr style=\"text-align: right;\">\n",
              "      <th></th>\n",
              "      <th>Renda Anual</th>\n",
              "      <th>Conclusao</th>\n",
              "      <th>Renda por mes</th>\n",
              "      <th>Faixa de Conclusao</th>\n",
              "    </tr>\n",
              "  </thead>\n",
              "  <tbody>\n",
              "    <tr>\n",
              "      <th>Craig Crane</th>\n",
              "      <td>39512.0</td>\n",
              "      <td>0.306321</td>\n",
              "      <td>3293.0</td>\n",
              "      <td>media</td>\n",
              "    </tr>\n",
              "    <tr>\n",
              "      <th>Stanley Porcher</th>\n",
              "      <td>49772.0</td>\n",
              "      <td>0.459319</td>\n",
              "      <td>4148.0</td>\n",
              "      <td>media</td>\n",
              "    </tr>\n",
              "    <tr>\n",
              "      <th>Berta Kaplan</th>\n",
              "      <td>55325.0</td>\n",
              "      <td>0.982710</td>\n",
              "      <td>4611.0</td>\n",
              "      <td>excelente</td>\n",
              "    </tr>\n",
              "    <tr>\n",
              "      <th>Deloris Deberry</th>\n",
              "      <td>61863.0</td>\n",
              "      <td>0.933624</td>\n",
              "      <td>5156.0</td>\n",
              "      <td>excelente</td>\n",
              "    </tr>\n",
              "    <tr>\n",
              "      <th>Sara Mcconnell</th>\n",
              "      <td>49937.0</td>\n",
              "      <td>0.926170</td>\n",
              "      <td>4162.0</td>\n",
              "      <td>excelente</td>\n",
              "    </tr>\n",
              "    <tr>\n",
              "      <th>...</th>\n",
              "      <td>...</td>\n",
              "      <td>...</td>\n",
              "      <td>...</td>\n",
              "      <td>...</td>\n",
              "    </tr>\n",
              "    <tr>\n",
              "      <th>Jessie Marquis</th>\n",
              "      <td>55066.0</td>\n",
              "      <td>0.472763</td>\n",
              "      <td>4589.0</td>\n",
              "      <td>media</td>\n",
              "    </tr>\n",
              "    <tr>\n",
              "      <th>John Burgener</th>\n",
              "      <td>46624.0</td>\n",
              "      <td>0.854622</td>\n",
              "      <td>3886.0</td>\n",
              "      <td>excelente</td>\n",
              "    </tr>\n",
              "    <tr>\n",
              "      <th>Lydia Mccarty</th>\n",
              "      <td>66958.0</td>\n",
              "      <td>0.192258</td>\n",
              "      <td>5580.0</td>\n",
              "      <td>baixa</td>\n",
              "    </tr>\n",
              "    <tr>\n",
              "      <th>Patricia November</th>\n",
              "      <td>34052.0</td>\n",
              "      <td>0.773656</td>\n",
              "      <td>2838.0</td>\n",
              "      <td>excelente</td>\n",
              "    </tr>\n",
              "    <tr>\n",
              "      <th>Julio Townsend</th>\n",
              "      <td>43609.0</td>\n",
              "      <td>0.765756</td>\n",
              "      <td>3635.0</td>\n",
              "      <td>excelente</td>\n",
              "    </tr>\n",
              "  </tbody>\n",
              "</table>\n",
              "<p>1000 rows × 4 columns</p>\n",
              "</div>\n",
              "      <button class=\"colab-df-convert\" onclick=\"convertToInteractive('df-4a8b719c-31e3-4d09-b721-5259519cdc32')\"\n",
              "              title=\"Convert this dataframe to an interactive table.\"\n",
              "              style=\"display:none;\">\n",
              "        \n",
              "  <svg xmlns=\"http://www.w3.org/2000/svg\" height=\"24px\"viewBox=\"0 0 24 24\"\n",
              "       width=\"24px\">\n",
              "    <path d=\"M0 0h24v24H0V0z\" fill=\"none\"/>\n",
              "    <path d=\"M18.56 5.44l.94 2.06.94-2.06 2.06-.94-2.06-.94-.94-2.06-.94 2.06-2.06.94zm-11 1L8.5 8.5l.94-2.06 2.06-.94-2.06-.94L8.5 2.5l-.94 2.06-2.06.94zm10 10l.94 2.06.94-2.06 2.06-.94-2.06-.94-.94-2.06-.94 2.06-2.06.94z\"/><path d=\"M17.41 7.96l-1.37-1.37c-.4-.4-.92-.59-1.43-.59-.52 0-1.04.2-1.43.59L10.3 9.45l-7.72 7.72c-.78.78-.78 2.05 0 2.83L4 21.41c.39.39.9.59 1.41.59.51 0 1.02-.2 1.41-.59l7.78-7.78 2.81-2.81c.8-.78.8-2.07 0-2.86zM5.41 20L4 18.59l7.72-7.72 1.47 1.35L5.41 20z\"/>\n",
              "  </svg>\n",
              "      </button>\n",
              "      \n",
              "  <style>\n",
              "    .colab-df-container {\n",
              "      display:flex;\n",
              "      flex-wrap:wrap;\n",
              "      gap: 12px;\n",
              "    }\n",
              "\n",
              "    .colab-df-convert {\n",
              "      background-color: #E8F0FE;\n",
              "      border: none;\n",
              "      border-radius: 50%;\n",
              "      cursor: pointer;\n",
              "      display: none;\n",
              "      fill: #1967D2;\n",
              "      height: 32px;\n",
              "      padding: 0 0 0 0;\n",
              "      width: 32px;\n",
              "    }\n",
              "\n",
              "    .colab-df-convert:hover {\n",
              "      background-color: #E2EBFA;\n",
              "      box-shadow: 0px 1px 2px rgba(60, 64, 67, 0.3), 0px 1px 3px 1px rgba(60, 64, 67, 0.15);\n",
              "      fill: #174EA6;\n",
              "    }\n",
              "\n",
              "    [theme=dark] .colab-df-convert {\n",
              "      background-color: #3B4455;\n",
              "      fill: #D2E3FC;\n",
              "    }\n",
              "\n",
              "    [theme=dark] .colab-df-convert:hover {\n",
              "      background-color: #434B5C;\n",
              "      box-shadow: 0px 1px 3px 1px rgba(0, 0, 0, 0.15);\n",
              "      filter: drop-shadow(0px 1px 2px rgba(0, 0, 0, 0.3));\n",
              "      fill: #FFFFFF;\n",
              "    }\n",
              "  </style>\n",
              "\n",
              "      <script>\n",
              "        const buttonEl =\n",
              "          document.querySelector('#df-4a8b719c-31e3-4d09-b721-5259519cdc32 button.colab-df-convert');\n",
              "        buttonEl.style.display =\n",
              "          google.colab.kernel.accessAllowed ? 'block' : 'none';\n",
              "\n",
              "        async function convertToInteractive(key) {\n",
              "          const element = document.querySelector('#df-4a8b719c-31e3-4d09-b721-5259519cdc32');\n",
              "          const dataTable =\n",
              "            await google.colab.kernel.invokeFunction('convertToInteractive',\n",
              "                                                     [key], {});\n",
              "          if (!dataTable) return;\n",
              "\n",
              "          const docLinkHtml = 'Like what you see? Visit the ' +\n",
              "            '<a target=\"_blank\" href=https://colab.research.google.com/notebooks/data_table.ipynb>data table notebook</a>'\n",
              "            + ' to learn more about interactive tables.';\n",
              "          element.innerHTML = '';\n",
              "          dataTable['output_type'] = 'display_data';\n",
              "          await google.colab.output.renderOutput(dataTable, element);\n",
              "          const docLink = document.createElement('div');\n",
              "          docLink.innerHTML = docLinkHtml;\n",
              "          element.appendChild(docLink);\n",
              "        }\n",
              "      </script>\n",
              "    </div>\n",
              "  </div>\n",
              "  "
            ]
          },
          "metadata": {},
          "execution_count": 248
        }
      ]
    },
    {
      "cell_type": "code",
      "source": [
        "def Tamanho(names):\n",
        "  tam=[]\n",
        "  for nome in names:\n",
        "    tam.append(len(nome))\n",
        "  return tam\n",
        "\n",
        "def manho(names):\n",
        "  manho=[]\n",
        "  for nome in names:\n",
        "    if len(nome)>14:\n",
        "      manho.append('grande')\n",
        "    else:\n",
        "      manho.append('pequeno')\n",
        "  return manho"
      ],
      "metadata": {
        "id": "2jMAw26EkZGc"
      },
      "execution_count": 249,
      "outputs": []
    },
    {
      "cell_type": "code",
      "source": [
        "tabela['Tamanho']=Tamanho(names)\n",
        "tabela['Tamanho do nome']=manho(names)"
      ],
      "metadata": {
        "id": "bvNGUtbbkMq4"
      },
      "execution_count": 250,
      "outputs": []
    },
    {
      "cell_type": "code",
      "source": [
        "tabela"
      ],
      "metadata": {
        "colab": {
          "base_uri": "https://localhost:8080/",
          "height": 424
        },
        "id": "ZiHP3aGQoNgV",
        "outputId": "db0e1f5f-1cab-4c16-e493-a275b25beadf"
      },
      "execution_count": 251,
      "outputs": [
        {
          "output_type": "execute_result",
          "data": {
            "text/plain": [
              "                   Renda Anual  Conclusao  Renda por mes Faixa de Conclusao  \\\n",
              "Craig Crane            39512.0   0.306321         3293.0              media   \n",
              "Stanley Porcher        49772.0   0.459319         4148.0              media   \n",
              "Berta Kaplan           55325.0   0.982710         4611.0          excelente   \n",
              "Deloris Deberry        61863.0   0.933624         5156.0          excelente   \n",
              "Sara Mcconnell         49937.0   0.926170         4162.0          excelente   \n",
              "...                        ...        ...            ...                ...   \n",
              "Jessie Marquis         55066.0   0.472763         4589.0              media   \n",
              "John Burgener          46624.0   0.854622         3886.0          excelente   \n",
              "Lydia Mccarty          66958.0   0.192258         5580.0              baixa   \n",
              "Patricia November      34052.0   0.773656         2838.0          excelente   \n",
              "Julio Townsend         43609.0   0.765756         3635.0          excelente   \n",
              "\n",
              "                   Tamanho Tamanho do nome  \n",
              "Craig Crane             11         pequeno  \n",
              "Stanley Porcher         15          grande  \n",
              "Berta Kaplan            12         pequeno  \n",
              "Deloris Deberry         15          grande  \n",
              "Sara Mcconnell          14         pequeno  \n",
              "...                    ...             ...  \n",
              "Jessie Marquis          14         pequeno  \n",
              "John Burgener           13         pequeno  \n",
              "Lydia Mccarty           13         pequeno  \n",
              "Patricia November       17          grande  \n",
              "Julio Townsend          14         pequeno  \n",
              "\n",
              "[1000 rows x 6 columns]"
            ],
            "text/html": [
              "\n",
              "  <div id=\"df-c2cf01ac-2f96-461c-b48e-7b26fdd08c78\">\n",
              "    <div class=\"colab-df-container\">\n",
              "      <div>\n",
              "<style scoped>\n",
              "    .dataframe tbody tr th:only-of-type {\n",
              "        vertical-align: middle;\n",
              "    }\n",
              "\n",
              "    .dataframe tbody tr th {\n",
              "        vertical-align: top;\n",
              "    }\n",
              "\n",
              "    .dataframe thead th {\n",
              "        text-align: right;\n",
              "    }\n",
              "</style>\n",
              "<table border=\"1\" class=\"dataframe\">\n",
              "  <thead>\n",
              "    <tr style=\"text-align: right;\">\n",
              "      <th></th>\n",
              "      <th>Renda Anual</th>\n",
              "      <th>Conclusao</th>\n",
              "      <th>Renda por mes</th>\n",
              "      <th>Faixa de Conclusao</th>\n",
              "      <th>Tamanho</th>\n",
              "      <th>Tamanho do nome</th>\n",
              "    </tr>\n",
              "  </thead>\n",
              "  <tbody>\n",
              "    <tr>\n",
              "      <th>Craig Crane</th>\n",
              "      <td>39512.0</td>\n",
              "      <td>0.306321</td>\n",
              "      <td>3293.0</td>\n",
              "      <td>media</td>\n",
              "      <td>11</td>\n",
              "      <td>pequeno</td>\n",
              "    </tr>\n",
              "    <tr>\n",
              "      <th>Stanley Porcher</th>\n",
              "      <td>49772.0</td>\n",
              "      <td>0.459319</td>\n",
              "      <td>4148.0</td>\n",
              "      <td>media</td>\n",
              "      <td>15</td>\n",
              "      <td>grande</td>\n",
              "    </tr>\n",
              "    <tr>\n",
              "      <th>Berta Kaplan</th>\n",
              "      <td>55325.0</td>\n",
              "      <td>0.982710</td>\n",
              "      <td>4611.0</td>\n",
              "      <td>excelente</td>\n",
              "      <td>12</td>\n",
              "      <td>pequeno</td>\n",
              "    </tr>\n",
              "    <tr>\n",
              "      <th>Deloris Deberry</th>\n",
              "      <td>61863.0</td>\n",
              "      <td>0.933624</td>\n",
              "      <td>5156.0</td>\n",
              "      <td>excelente</td>\n",
              "      <td>15</td>\n",
              "      <td>grande</td>\n",
              "    </tr>\n",
              "    <tr>\n",
              "      <th>Sara Mcconnell</th>\n",
              "      <td>49937.0</td>\n",
              "      <td>0.926170</td>\n",
              "      <td>4162.0</td>\n",
              "      <td>excelente</td>\n",
              "      <td>14</td>\n",
              "      <td>pequeno</td>\n",
              "    </tr>\n",
              "    <tr>\n",
              "      <th>...</th>\n",
              "      <td>...</td>\n",
              "      <td>...</td>\n",
              "      <td>...</td>\n",
              "      <td>...</td>\n",
              "      <td>...</td>\n",
              "      <td>...</td>\n",
              "    </tr>\n",
              "    <tr>\n",
              "      <th>Jessie Marquis</th>\n",
              "      <td>55066.0</td>\n",
              "      <td>0.472763</td>\n",
              "      <td>4589.0</td>\n",
              "      <td>media</td>\n",
              "      <td>14</td>\n",
              "      <td>pequeno</td>\n",
              "    </tr>\n",
              "    <tr>\n",
              "      <th>John Burgener</th>\n",
              "      <td>46624.0</td>\n",
              "      <td>0.854622</td>\n",
              "      <td>3886.0</td>\n",
              "      <td>excelente</td>\n",
              "      <td>13</td>\n",
              "      <td>pequeno</td>\n",
              "    </tr>\n",
              "    <tr>\n",
              "      <th>Lydia Mccarty</th>\n",
              "      <td>66958.0</td>\n",
              "      <td>0.192258</td>\n",
              "      <td>5580.0</td>\n",
              "      <td>baixa</td>\n",
              "      <td>13</td>\n",
              "      <td>pequeno</td>\n",
              "    </tr>\n",
              "    <tr>\n",
              "      <th>Patricia November</th>\n",
              "      <td>34052.0</td>\n",
              "      <td>0.773656</td>\n",
              "      <td>2838.0</td>\n",
              "      <td>excelente</td>\n",
              "      <td>17</td>\n",
              "      <td>grande</td>\n",
              "    </tr>\n",
              "    <tr>\n",
              "      <th>Julio Townsend</th>\n",
              "      <td>43609.0</td>\n",
              "      <td>0.765756</td>\n",
              "      <td>3635.0</td>\n",
              "      <td>excelente</td>\n",
              "      <td>14</td>\n",
              "      <td>pequeno</td>\n",
              "    </tr>\n",
              "  </tbody>\n",
              "</table>\n",
              "<p>1000 rows × 6 columns</p>\n",
              "</div>\n",
              "      <button class=\"colab-df-convert\" onclick=\"convertToInteractive('df-c2cf01ac-2f96-461c-b48e-7b26fdd08c78')\"\n",
              "              title=\"Convert this dataframe to an interactive table.\"\n",
              "              style=\"display:none;\">\n",
              "        \n",
              "  <svg xmlns=\"http://www.w3.org/2000/svg\" height=\"24px\"viewBox=\"0 0 24 24\"\n",
              "       width=\"24px\">\n",
              "    <path d=\"M0 0h24v24H0V0z\" fill=\"none\"/>\n",
              "    <path d=\"M18.56 5.44l.94 2.06.94-2.06 2.06-.94-2.06-.94-.94-2.06-.94 2.06-2.06.94zm-11 1L8.5 8.5l.94-2.06 2.06-.94-2.06-.94L8.5 2.5l-.94 2.06-2.06.94zm10 10l.94 2.06.94-2.06 2.06-.94-2.06-.94-.94-2.06-.94 2.06-2.06.94z\"/><path d=\"M17.41 7.96l-1.37-1.37c-.4-.4-.92-.59-1.43-.59-.52 0-1.04.2-1.43.59L10.3 9.45l-7.72 7.72c-.78.78-.78 2.05 0 2.83L4 21.41c.39.39.9.59 1.41.59.51 0 1.02-.2 1.41-.59l7.78-7.78 2.81-2.81c.8-.78.8-2.07 0-2.86zM5.41 20L4 18.59l7.72-7.72 1.47 1.35L5.41 20z\"/>\n",
              "  </svg>\n",
              "      </button>\n",
              "      \n",
              "  <style>\n",
              "    .colab-df-container {\n",
              "      display:flex;\n",
              "      flex-wrap:wrap;\n",
              "      gap: 12px;\n",
              "    }\n",
              "\n",
              "    .colab-df-convert {\n",
              "      background-color: #E8F0FE;\n",
              "      border: none;\n",
              "      border-radius: 50%;\n",
              "      cursor: pointer;\n",
              "      display: none;\n",
              "      fill: #1967D2;\n",
              "      height: 32px;\n",
              "      padding: 0 0 0 0;\n",
              "      width: 32px;\n",
              "    }\n",
              "\n",
              "    .colab-df-convert:hover {\n",
              "      background-color: #E2EBFA;\n",
              "      box-shadow: 0px 1px 2px rgba(60, 64, 67, 0.3), 0px 1px 3px 1px rgba(60, 64, 67, 0.15);\n",
              "      fill: #174EA6;\n",
              "    }\n",
              "\n",
              "    [theme=dark] .colab-df-convert {\n",
              "      background-color: #3B4455;\n",
              "      fill: #D2E3FC;\n",
              "    }\n",
              "\n",
              "    [theme=dark] .colab-df-convert:hover {\n",
              "      background-color: #434B5C;\n",
              "      box-shadow: 0px 1px 3px 1px rgba(0, 0, 0, 0.15);\n",
              "      filter: drop-shadow(0px 1px 2px rgba(0, 0, 0, 0.3));\n",
              "      fill: #FFFFFF;\n",
              "    }\n",
              "  </style>\n",
              "\n",
              "      <script>\n",
              "        const buttonEl =\n",
              "          document.querySelector('#df-c2cf01ac-2f96-461c-b48e-7b26fdd08c78 button.colab-df-convert');\n",
              "        buttonEl.style.display =\n",
              "          google.colab.kernel.accessAllowed ? 'block' : 'none';\n",
              "\n",
              "        async function convertToInteractive(key) {\n",
              "          const element = document.querySelector('#df-c2cf01ac-2f96-461c-b48e-7b26fdd08c78');\n",
              "          const dataTable =\n",
              "            await google.colab.kernel.invokeFunction('convertToInteractive',\n",
              "                                                     [key], {});\n",
              "          if (!dataTable) return;\n",
              "\n",
              "          const docLinkHtml = 'Like what you see? Visit the ' +\n",
              "            '<a target=\"_blank\" href=https://colab.research.google.com/notebooks/data_table.ipynb>data table notebook</a>'\n",
              "            + ' to learn more about interactive tables.';\n",
              "          element.innerHTML = '';\n",
              "          dataTable['output_type'] = 'display_data';\n",
              "          await google.colab.output.renderOutput(dataTable, element);\n",
              "          const docLink = document.createElement('div');\n",
              "          docLink.innerHTML = docLinkHtml;\n",
              "          element.appendChild(docLink);\n",
              "        }\n",
              "      </script>\n",
              "    </div>\n",
              "  </div>\n",
              "  "
            ]
          },
          "metadata": {},
          "execution_count": 251
        }
      ]
    },
    {
      "cell_type": "code",
      "source": [
        "tabela.sort_values(by= 'Tamanho', ascending = False)"
      ],
      "metadata": {
        "id": "9V3LeYYml37P",
        "colab": {
          "base_uri": "https://localhost:8080/",
          "height": 424
        },
        "outputId": "5f7d46d0-34b3-4e46-bf26-5f69f67a6e4f"
      },
      "execution_count": 252,
      "outputs": [
        {
          "output_type": "execute_result",
          "data": {
            "text/plain": [
              "                      Renda Anual  Conclusao  Renda por mes  \\\n",
              "Nathanael Conigliaro      67660.0   0.859872         5639.0   \n",
              "Jonathan Etherington      49682.0   0.152665         4141.0   \n",
              "Imogene Vandenheuvel      42463.0   0.268412         3539.0   \n",
              "Jeannette Henderson       42332.0   0.672965         3528.0   \n",
              "Christopher Whitton       47389.0   0.158718         3950.0   \n",
              "...                           ...        ...            ...   \n",
              "Dana Joy                  58492.0   0.832692         4875.0   \n",
              "Ed Nease                  50096.0   0.092552         4175.0   \n",
              "Edna Gay                  49973.0   0.821414         4165.0   \n",
              "Shay Yao                  63776.0   0.825103         5315.0   \n",
              "Jay Lee                   40511.0   0.773078         3376.0   \n",
              "\n",
              "                     Faixa de Conclusao  Tamanho Tamanho do nome  \n",
              "Nathanael Conigliaro          excelente       20          grande  \n",
              "Jonathan Etherington              baixa       20          grande  \n",
              "Imogene Vandenheuvel              media       20          grande  \n",
              "Jeannette Henderson                alta       19          grande  \n",
              "Christopher Whitton               baixa       19          grande  \n",
              "...                                 ...      ...             ...  \n",
              "Dana Joy                      excelente        8         pequeno  \n",
              "Ed Nease                          baixa        8         pequeno  \n",
              "Edna Gay                      excelente        8         pequeno  \n",
              "Shay Yao                      excelente        8         pequeno  \n",
              "Jay Lee                       excelente        7         pequeno  \n",
              "\n",
              "[1000 rows x 6 columns]"
            ],
            "text/html": [
              "\n",
              "  <div id=\"df-a9a2270b-0a68-4058-a66b-a04caa1ccfa2\">\n",
              "    <div class=\"colab-df-container\">\n",
              "      <div>\n",
              "<style scoped>\n",
              "    .dataframe tbody tr th:only-of-type {\n",
              "        vertical-align: middle;\n",
              "    }\n",
              "\n",
              "    .dataframe tbody tr th {\n",
              "        vertical-align: top;\n",
              "    }\n",
              "\n",
              "    .dataframe thead th {\n",
              "        text-align: right;\n",
              "    }\n",
              "</style>\n",
              "<table border=\"1\" class=\"dataframe\">\n",
              "  <thead>\n",
              "    <tr style=\"text-align: right;\">\n",
              "      <th></th>\n",
              "      <th>Renda Anual</th>\n",
              "      <th>Conclusao</th>\n",
              "      <th>Renda por mes</th>\n",
              "      <th>Faixa de Conclusao</th>\n",
              "      <th>Tamanho</th>\n",
              "      <th>Tamanho do nome</th>\n",
              "    </tr>\n",
              "  </thead>\n",
              "  <tbody>\n",
              "    <tr>\n",
              "      <th>Nathanael Conigliaro</th>\n",
              "      <td>67660.0</td>\n",
              "      <td>0.859872</td>\n",
              "      <td>5639.0</td>\n",
              "      <td>excelente</td>\n",
              "      <td>20</td>\n",
              "      <td>grande</td>\n",
              "    </tr>\n",
              "    <tr>\n",
              "      <th>Jonathan Etherington</th>\n",
              "      <td>49682.0</td>\n",
              "      <td>0.152665</td>\n",
              "      <td>4141.0</td>\n",
              "      <td>baixa</td>\n",
              "      <td>20</td>\n",
              "      <td>grande</td>\n",
              "    </tr>\n",
              "    <tr>\n",
              "      <th>Imogene Vandenheuvel</th>\n",
              "      <td>42463.0</td>\n",
              "      <td>0.268412</td>\n",
              "      <td>3539.0</td>\n",
              "      <td>media</td>\n",
              "      <td>20</td>\n",
              "      <td>grande</td>\n",
              "    </tr>\n",
              "    <tr>\n",
              "      <th>Jeannette Henderson</th>\n",
              "      <td>42332.0</td>\n",
              "      <td>0.672965</td>\n",
              "      <td>3528.0</td>\n",
              "      <td>alta</td>\n",
              "      <td>19</td>\n",
              "      <td>grande</td>\n",
              "    </tr>\n",
              "    <tr>\n",
              "      <th>Christopher Whitton</th>\n",
              "      <td>47389.0</td>\n",
              "      <td>0.158718</td>\n",
              "      <td>3950.0</td>\n",
              "      <td>baixa</td>\n",
              "      <td>19</td>\n",
              "      <td>grande</td>\n",
              "    </tr>\n",
              "    <tr>\n",
              "      <th>...</th>\n",
              "      <td>...</td>\n",
              "      <td>...</td>\n",
              "      <td>...</td>\n",
              "      <td>...</td>\n",
              "      <td>...</td>\n",
              "      <td>...</td>\n",
              "    </tr>\n",
              "    <tr>\n",
              "      <th>Dana Joy</th>\n",
              "      <td>58492.0</td>\n",
              "      <td>0.832692</td>\n",
              "      <td>4875.0</td>\n",
              "      <td>excelente</td>\n",
              "      <td>8</td>\n",
              "      <td>pequeno</td>\n",
              "    </tr>\n",
              "    <tr>\n",
              "      <th>Ed Nease</th>\n",
              "      <td>50096.0</td>\n",
              "      <td>0.092552</td>\n",
              "      <td>4175.0</td>\n",
              "      <td>baixa</td>\n",
              "      <td>8</td>\n",
              "      <td>pequeno</td>\n",
              "    </tr>\n",
              "    <tr>\n",
              "      <th>Edna Gay</th>\n",
              "      <td>49973.0</td>\n",
              "      <td>0.821414</td>\n",
              "      <td>4165.0</td>\n",
              "      <td>excelente</td>\n",
              "      <td>8</td>\n",
              "      <td>pequeno</td>\n",
              "    </tr>\n",
              "    <tr>\n",
              "      <th>Shay Yao</th>\n",
              "      <td>63776.0</td>\n",
              "      <td>0.825103</td>\n",
              "      <td>5315.0</td>\n",
              "      <td>excelente</td>\n",
              "      <td>8</td>\n",
              "      <td>pequeno</td>\n",
              "    </tr>\n",
              "    <tr>\n",
              "      <th>Jay Lee</th>\n",
              "      <td>40511.0</td>\n",
              "      <td>0.773078</td>\n",
              "      <td>3376.0</td>\n",
              "      <td>excelente</td>\n",
              "      <td>7</td>\n",
              "      <td>pequeno</td>\n",
              "    </tr>\n",
              "  </tbody>\n",
              "</table>\n",
              "<p>1000 rows × 6 columns</p>\n",
              "</div>\n",
              "      <button class=\"colab-df-convert\" onclick=\"convertToInteractive('df-a9a2270b-0a68-4058-a66b-a04caa1ccfa2')\"\n",
              "              title=\"Convert this dataframe to an interactive table.\"\n",
              "              style=\"display:none;\">\n",
              "        \n",
              "  <svg xmlns=\"http://www.w3.org/2000/svg\" height=\"24px\"viewBox=\"0 0 24 24\"\n",
              "       width=\"24px\">\n",
              "    <path d=\"M0 0h24v24H0V0z\" fill=\"none\"/>\n",
              "    <path d=\"M18.56 5.44l.94 2.06.94-2.06 2.06-.94-2.06-.94-.94-2.06-.94 2.06-2.06.94zm-11 1L8.5 8.5l.94-2.06 2.06-.94-2.06-.94L8.5 2.5l-.94 2.06-2.06.94zm10 10l.94 2.06.94-2.06 2.06-.94-2.06-.94-.94-2.06-.94 2.06-2.06.94z\"/><path d=\"M17.41 7.96l-1.37-1.37c-.4-.4-.92-.59-1.43-.59-.52 0-1.04.2-1.43.59L10.3 9.45l-7.72 7.72c-.78.78-.78 2.05 0 2.83L4 21.41c.39.39.9.59 1.41.59.51 0 1.02-.2 1.41-.59l7.78-7.78 2.81-2.81c.8-.78.8-2.07 0-2.86zM5.41 20L4 18.59l7.72-7.72 1.47 1.35L5.41 20z\"/>\n",
              "  </svg>\n",
              "      </button>\n",
              "      \n",
              "  <style>\n",
              "    .colab-df-container {\n",
              "      display:flex;\n",
              "      flex-wrap:wrap;\n",
              "      gap: 12px;\n",
              "    }\n",
              "\n",
              "    .colab-df-convert {\n",
              "      background-color: #E8F0FE;\n",
              "      border: none;\n",
              "      border-radius: 50%;\n",
              "      cursor: pointer;\n",
              "      display: none;\n",
              "      fill: #1967D2;\n",
              "      height: 32px;\n",
              "      padding: 0 0 0 0;\n",
              "      width: 32px;\n",
              "    }\n",
              "\n",
              "    .colab-df-convert:hover {\n",
              "      background-color: #E2EBFA;\n",
              "      box-shadow: 0px 1px 2px rgba(60, 64, 67, 0.3), 0px 1px 3px 1px rgba(60, 64, 67, 0.15);\n",
              "      fill: #174EA6;\n",
              "    }\n",
              "\n",
              "    [theme=dark] .colab-df-convert {\n",
              "      background-color: #3B4455;\n",
              "      fill: #D2E3FC;\n",
              "    }\n",
              "\n",
              "    [theme=dark] .colab-df-convert:hover {\n",
              "      background-color: #434B5C;\n",
              "      box-shadow: 0px 1px 3px 1px rgba(0, 0, 0, 0.15);\n",
              "      filter: drop-shadow(0px 1px 2px rgba(0, 0, 0, 0.3));\n",
              "      fill: #FFFFFF;\n",
              "    }\n",
              "  </style>\n",
              "\n",
              "      <script>\n",
              "        const buttonEl =\n",
              "          document.querySelector('#df-a9a2270b-0a68-4058-a66b-a04caa1ccfa2 button.colab-df-convert');\n",
              "        buttonEl.style.display =\n",
              "          google.colab.kernel.accessAllowed ? 'block' : 'none';\n",
              "\n",
              "        async function convertToInteractive(key) {\n",
              "          const element = document.querySelector('#df-a9a2270b-0a68-4058-a66b-a04caa1ccfa2');\n",
              "          const dataTable =\n",
              "            await google.colab.kernel.invokeFunction('convertToInteractive',\n",
              "                                                     [key], {});\n",
              "          if (!dataTable) return;\n",
              "\n",
              "          const docLinkHtml = 'Like what you see? Visit the ' +\n",
              "            '<a target=\"_blank\" href=https://colab.research.google.com/notebooks/data_table.ipynb>data table notebook</a>'\n",
              "            + ' to learn more about interactive tables.';\n",
              "          element.innerHTML = '';\n",
              "          dataTable['output_type'] = 'display_data';\n",
              "          await google.colab.output.renderOutput(dataTable, element);\n",
              "          const docLink = document.createElement('div');\n",
              "          docLink.innerHTML = docLinkHtml;\n",
              "          element.appendChild(docLink);\n",
              "        }\n",
              "      </script>\n",
              "    </div>\n",
              "  </div>\n",
              "  "
            ]
          },
          "metadata": {},
          "execution_count": 252
        }
      ]
    }
  ]
}